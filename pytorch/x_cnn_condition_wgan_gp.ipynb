{
 "cells": [
  {
   "cell_type": "code",
   "execution_count": 1,
   "metadata": {},
   "outputs": [],
   "source": [
    "import os\n",
    "from tqdm import tnrange, tqdm_notebook, tqdm\n",
    "import torch\n",
    "import torchvision\n",
    "from torch import nn, autograd, optim\n",
    "from torch.utils.data import DataLoader\n",
    "from torchvision import transforms, datasets\n",
    "from torchvision.utils import save_image, make_grid\n",
    "from torch.autograd import grad\n",
    "import numpy as np\n",
    "from PIL import Image\n",
    "import matplotlib.pyplot as plt\n",
    "from tensorboardX import SummaryWriter"
   ]
  },
  {
   "cell_type": "code",
   "execution_count": 2,
   "metadata": {},
   "outputs": [],
   "source": [
    "# os.environ['CUDA_VISIBLE_DEVICES'] = '1'"
   ]
  },
  {
   "cell_type": "code",
   "execution_count": 3,
   "metadata": {},
   "outputs": [],
   "source": [
    "from matplotlib import rcParams\n",
    "rcParams['figure.figsize'] = (12, 8)\n",
    "\n",
    "%matplotlib inline"
   ]
  },
  {
   "cell_type": "code",
   "execution_count": 4,
   "metadata": {},
   "outputs": [],
   "source": [
    "device = torch.device('cuda' if torch.cuda.is_available() else 'cpu')"
   ]
  },
  {
   "cell_type": "code",
   "execution_count": 5,
   "metadata": {},
   "outputs": [
    {
     "data": {
      "text/plain": [
       "True"
      ]
     },
     "execution_count": 5,
     "metadata": {},
     "output_type": "execute_result"
    }
   ],
   "source": [
    "torch.cuda.is_available()"
   ]
  },
  {
   "cell_type": "code",
   "execution_count": 6,
   "metadata": {},
   "outputs": [],
   "source": [
    "device_ids = [0]"
   ]
  },
  {
   "cell_type": "code",
   "execution_count": 7,
   "metadata": {},
   "outputs": [],
   "source": [
    "BATCH_SIZE = 128\n",
    "num_epochs = 100\n",
    "\n",
    "z_dimension = 100\n",
    "num_feature = 56 * 56"
   ]
  },
  {
   "cell_type": "code",
   "execution_count": 8,
   "metadata": {},
   "outputs": [],
   "source": [
    "img_transform = transforms.Compose([\n",
    "    transforms.ToTensor(),\n",
    "#     transforms.Normalize((.5, .5, .5), (.5, .5, .5))\n",
    "    transforms.Normalize((0.1307,), (0.3081,))\n",
    "])\n",
    "\n",
    "dataset = datasets.MNIST('/home/left5/datas/mnist', transform=img_transform) #, download=True)\n",
    "dataloader = DataLoader(dataset, batch_size=BATCH_SIZE, shuffle=True, num_workers=4)"
   ]
  },
  {
   "cell_type": "code",
   "execution_count": 9,
   "metadata": {},
   "outputs": [],
   "source": [
    "def normal_init(m, mean, std):\n",
    "    if isinstance(m, nn.ConvTranspose2d) or isinstance(m, nn.Conv2d):\n",
    "        m.weight.data.normal_(mean, std)\n",
    "        m.bias.data.zero_()"
   ]
  },
  {
   "cell_type": "code",
   "execution_count": 10,
   "metadata": {},
   "outputs": [],
   "source": [
    "def calc_gradient_penalty(netD, real_data, fake_data):\n",
    "    alpha = torch.rand(1, 1, 1, 1)\n",
    "    alpha = alpha.expand_as(real_data)\n",
    "    alpha = alpha.to(device)\n",
    "    \n",
    "    interpolates = alpha * real_data.detach() + ((1 - alpha) * fake_data.detach())\n",
    "\n",
    "    interpolates = interpolates.to(device)\n",
    "    interpolates.requires_grad_(True)\n",
    "\n",
    "    disc_interpolates, _ = netD(interpolates)\n",
    "\n",
    "    gradients = autograd.grad(outputs=disc_interpolates, inputs=interpolates,\n",
    "                              grad_outputs=torch.ones(disc_interpolates.size()).to(device),\n",
    "                              create_graph=True, retain_graph=True, only_inputs=True)[0]\n",
    "\n",
    "    gradients = gradients.view(gradients.size(0), -1)                              \n",
    "    gradient_penalty = ((gradients.norm(2, dim=1) - 1) ** 2).mean() * 10\n",
    "    return gradient_penalty"
   ]
  },
  {
   "cell_type": "code",
   "execution_count": 11,
   "metadata": {},
   "outputs": [],
   "source": [
    "def gen_noise_label(batch_size):\n",
    "    label = np.random.randint(0, 10, batch_size)\n",
    "    #prefix = np.zeros((batch_size, 10))\n",
    "    #prefix[:, label] = 1\n",
    "    return label # prefix"
   ]
  },
  {
   "cell_type": "code",
   "execution_count": 12,
   "metadata": {},
   "outputs": [],
   "source": [
    "def gen_noise(batch_size, label):\n",
    "    prefix = np.zeros((batch_size, 10))\n",
    "    prefix[np.arange(batch_size), label] = 1\n",
    "    z = np.random.normal(0, 1, (batch_size, z_dimension))\n",
    "    prefix = prefix / np.linalg.norm(prefix)\n",
    "    z[:, :10] + prefix\n",
    "    return torch.from_numpy(z).float().to(device)"
   ]
  },
  {
   "cell_type": "code",
   "execution_count": 13,
   "metadata": {},
   "outputs": [],
   "source": [
    "class Discriminator(nn.Module):\n",
    "    def __init__(self):\n",
    "        super(Discriminator, self).__init__()\n",
    "        \n",
    "        self.conv1 = nn.Sequential(\n",
    "            nn.Conv2d(1, 32, 3, padding=1),\n",
    "            nn.LeakyReLU(.2, True),\n",
    "            nn.AvgPool2d(2, 2), \n",
    "        ) # b 32 14 14\n",
    "        \n",
    "        self.conv2 = nn.Sequential(\n",
    "            nn.Conv2d(32, 64, 3, padding=1),\n",
    "            nn.LeakyReLU(.2, True),\n",
    "            nn.AvgPool2d(2, 2),\n",
    "        ) # b 64 7 7\n",
    "        \n",
    "        self.fc1 = nn.Sequential(\n",
    "            nn.Linear(64 * 7 * 7, 1024),\n",
    "            nn.LeakyReLU(.2, True),\n",
    "            nn.Linear(1024, 1),\n",
    "            nn.Sigmoid(),\n",
    "        ) # b 1\n",
    "        self.fc2 = nn.Sequential(\n",
    "            nn.Linear(64 * 7 * 7, 1024),\n",
    "            nn.LeakyReLU(.2, True),\n",
    "            nn.Linear(1024, 10),\n",
    "            nn.Sigmoid(),\n",
    "        ) # b 10\n",
    "    \n",
    "    def weight_init(self, mean, std):\n",
    "        for m in self._modules:\n",
    "            normal_init(self._modules[m], mean, std)\n",
    "            \n",
    "    def forward(self, x): # b 1 28 28\n",
    "        out = self.conv1(x)\n",
    "        out = self.conv2(out)\n",
    "        \n",
    "        out = out.view(x.size(0), -1)\n",
    "        img = self.fc1(out)\n",
    "        con = self.fc2(out)\n",
    "        return img, con"
   ]
  },
  {
   "cell_type": "code",
   "execution_count": 14,
   "metadata": {},
   "outputs": [],
   "source": [
    "class Generator(nn.Module):\n",
    "    def __init__(self, inp_dim, num_feature):\n",
    "        super(Generator, self).__init__()\n",
    "        \n",
    "        self.fc = nn.Sequential(\n",
    "            nn.Linear(inp_dim, num_feature),\n",
    "            nn.Sigmoid(),\n",
    "        ) # b h*w\n",
    "        self.br = nn.Sequential(\n",
    "            nn.BatchNorm2d(1),\n",
    "            nn.LeakyReLU(.2, True),\n",
    "        ) # b 1 56 56\n",
    "        \n",
    "        self.downsample1 = nn.Sequential(\n",
    "            nn.Conv2d(1, 64, 3, padding=1),\n",
    "            nn.BatchNorm2d(64),\n",
    "            nn.LeakyReLU(.2, True),\n",
    "        ) # b 64 56 56\n",
    "        \n",
    "        self.downsample2 = nn.Sequential(\n",
    "            nn.Conv2d(64, 32, 3, padding=1),\n",
    "            nn.BatchNorm2d(32),\n",
    "            nn.LeakyReLU(.2, True),\n",
    "        ) # b 32 56 56\n",
    "        \n",
    "        self.downsample3 = nn.Sequential(\n",
    "            nn.Conv2d(32, 1, 3, padding=1, stride=2),\n",
    "            nn.Tanh(),\n",
    "        ) # b 1 28 28\n",
    "        \n",
    "    def weight_init(self, mean, std):\n",
    "        for m in self._modules:\n",
    "            normal_init(self._modules[m], mean, std)\n",
    "            \n",
    "    def forward(self, x):\n",
    "        out = self.fc(x)\n",
    "        \n",
    "        out = out.view(x.size(0), 1, 56, 56)\n",
    "        out = self.br(out)\n",
    "        out = self.downsample1(out)\n",
    "        out = self.downsample2(out)\n",
    "        out = self.downsample3(out)\n",
    "        return out"
   ]
  },
  {
   "cell_type": "code",
   "execution_count": 15,
   "metadata": {},
   "outputs": [],
   "source": [
    "D = Discriminator().to(device)\n",
    "G = Generator(z_dimension, num_feature).to(device)\n",
    "\n",
    "D.weight_init(.0, 0.02)\n",
    "G.weight_init(.0, 0.02)\n",
    "\n",
    "D = nn.DataParallel(D, device_ids=device_ids).to(device)\n",
    "G = nn.DataParallel(G, device_ids=device_ids).to(device)\n",
    "\n",
    "criterion = nn.CrossEntropyLoss()\n",
    "\n",
    "d_optimezer = optim.Adam(D.parameters(), lr=2e-4, betas=(0, 0.9))\n",
    "g_optimezer = optim.Adam(G.parameters(), lr=2e-4, betas=(0, 0.9))\n",
    "\n",
    "one = torch.FloatTensor([1])\n",
    "mone = one * -1\n",
    "one = one.to(device)\n",
    "mone = mone.to(device)"
   ]
  },
  {
   "cell_type": "code",
   "execution_count": 16,
   "metadata": {},
   "outputs": [],
   "source": [
    "writer = SummaryWriter('./log/cnn_condition_wgan_gp')"
   ]
  },
  {
   "cell_type": "code",
   "execution_count": 17,
   "metadata": {},
   "outputs": [],
   "source": [
    "img_path = \"save_images/cnn_condition_wgan_img\"\n",
    "if not os.path.exists(img_path): os.makedirs(img_path)"
   ]
  },
  {
   "cell_type": "code",
   "execution_count": 18,
   "metadata": {},
   "outputs": [],
   "source": [
    "condition_label = np.arange(10)\n",
    "condition_noise = gen_noise(10, condition_label)"
   ]
  },
  {
   "cell_type": "code",
   "execution_count": 19,
   "metadata": {
    "scrolled": true
   },
   "outputs": [
    {
     "data": {
      "application/vnd.jupyter.widget-view+json": {
       "model_id": "5cfba0a0cfb5488f8896cca302aa7777",
       "version_major": 2,
       "version_minor": 0
      },
      "text/plain": [
       "HBox(children=(IntProgress(value=0), HTML(value='')))"
      ]
     },
     "metadata": {},
     "output_type": "display_data"
    },
    {
     "name": "stdout",
     "output_type": "stream",
     "text": [
      "  Epoch[1/100], Step:  38400, d_loss: 8.259698, g_loss: 1.444214 real_scores: 0.142815, fake_scores: 0.276604, W: 0.133789\n",
      "Finish Epoch [1/100], D Loss: 1017.347396, G Loss: 229.393289, W: 4.280875\n",
      "  Epoch[2/100], Step:  38400, d_loss: 4.765754, g_loss: 1.940057 real_scores: 0.713135, fake_scores: 0.843078, W: 0.129943\n",
      "Finish Epoch [2/100], D Loss: 347.586546, G Loss: 110.564107, W: 8.296914\n",
      "  Epoch[3/100], Step:  38400, d_loss: 2.172199, g_loss: 1.667095 real_scores: 0.453578, fake_scores: 0.614253, W: 0.160675\n",
      "Finish Epoch [3/100], D Loss: 158.532243, G Loss: 74.979116, W: 4.529366\n",
      "  Epoch[4/100], Step:  38400, d_loss: 1.617988, g_loss: 1.723138 real_scores: 0.571089, fake_scores: 0.607282, W: 0.036193\n",
      "Finish Epoch [4/100], D Loss: 85.619058, G Loss: 56.381026, W: 1.457834\n",
      "  Epoch[5/100], Step:  38400, d_loss: 1.594731, g_loss: 1.757991 real_scores: 0.439517, fake_scores: 0.432907, W: -0.006610\n",
      "Finish Epoch [5/100], D Loss: 58.816504, G Loss: 45.533549, W: 0.010470\n",
      "  Epoch[6/100], Step:  38400, d_loss: 1.531762, g_loss: 1.772416 real_scores: 0.550025, fake_scores: 0.534728, W: -0.015296\n",
      "Finish Epoch [6/100], D Loss: 44.045599, G Loss: 37.787855, W: -0.188378\n",
      "  Epoch[7/100], Step:  38400, d_loss: 1.447808, g_loss: 1.790986 real_scores: 0.640670, fake_scores: 0.584931, W: -0.055740\n",
      "Finish Epoch [7/100], D Loss: 35.328695, G Loss: 32.560940, W: -0.732055\n",
      "  Epoch[8/100], Step:  38400, d_loss: 1.432265, g_loss: 1.765150 real_scores: 0.583955, fake_scores: 0.496595, W: -0.087361\n",
      "Finish Epoch [8/100], D Loss: 30.161697, G Loss: 28.956772, W: -1.199931\n",
      "  Epoch[9/100], Step:  38400, d_loss: 1.391880, g_loss: 1.856202 real_scores: 0.577423, fake_scores: 0.472131, W: -0.105292\n",
      "Finish Epoch [9/100], D Loss: 26.025903, G Loss: 26.070125, W: -1.335381\n",
      "  Epoch[10/100], Step:  38400, d_loss: 1.418551, g_loss: 1.822376 real_scores: 0.594198, fake_scores: 0.475855, W: -0.118343\n",
      "Finish Epoch [10/100], D Loss: 22.282253, G Loss: 23.640853, W: -1.563341\n",
      "  Epoch[11/100], Step:  38400, d_loss: 1.385316, g_loss: 1.891987 real_scores: 0.588838, fake_scores: 0.454184, W: -0.134654\n",
      "Finish Epoch [11/100], D Loss: 19.809290, G Loss: 21.545199, W: -1.579204\n",
      "  Epoch[12/100], Step:  38400, d_loss: 1.549877, g_loss: 1.575922 real_scores: 0.729332, fake_scores: 0.622269, W: -0.107063\n",
      "Finish Epoch [12/100], D Loss: 18.045770, G Loss: 19.844834, W: -1.466265\n",
      "  Epoch[13/100], Step:  38400, d_loss: 4.183444, g_loss: 2.084304 real_scores: 0.909092, fake_scores: 0.853156, W: -0.055936\n",
      "Finish Epoch [13/100], D Loss: 15.943077, G Loss: 18.354775, W: -1.502696\n",
      "  Epoch[14/100], Step:  38400, d_loss: 1.821590, g_loss: 1.565259 real_scores: 0.474562, fake_scores: 0.610994, W: 0.136432\n",
      "Finish Epoch [14/100], D Loss: 15.524612, G Loss: 16.669334, W: -0.779633\n",
      "  Epoch[15/100], Step:  38400, d_loss: 1.363027, g_loss: 1.862260 real_scores: 0.607506, fake_scores: 0.461593, W: -0.145913\n",
      "Finish Epoch [15/100], D Loss: 14.164997, G Loss: 15.945516, W: -1.228811\n",
      "  Epoch[16/100], Step:  38400, d_loss: 1.840451, g_loss: 1.636158 real_scores: 0.374082, fake_scores: 0.223456, W: -0.150626\n",
      "Finish Epoch [16/100], D Loss: 12.785204, G Loss: 14.901967, W: -1.187526\n",
      "  Epoch[17/100], Step:  38400, d_loss: 1.298108, g_loss: 1.865115 real_scores: 0.628078, fake_scores: 0.430758, W: -0.197320\n",
      "Finish Epoch [17/100], D Loss: 11.918013, G Loss: 14.160735, W: -1.214097\n",
      "  Epoch[18/100], Step:  38400, d_loss: 1.303825, g_loss: 1.877526 real_scores: 0.630856, fake_scores: 0.447957, W: -0.182899\n",
      "Finish Epoch [18/100], D Loss: 11.184594, G Loss: 13.393817, W: -1.082624\n",
      "  Epoch[19/100], Step:  38400, d_loss: 1.325527, g_loss: 1.934193 real_scores: 0.593272, fake_scores: 0.426457, W: -0.166815\n",
      "Finish Epoch [19/100], D Loss: 10.412834, G Loss: 12.732959, W: -1.097624\n",
      "  Epoch[20/100], Step:  38400, d_loss: 1.281523, g_loss: 1.927874 real_scores: 0.616537, fake_scores: 0.406793, W: -0.209744\n",
      "Finish Epoch [20/100], D Loss: 9.699043, G Loss: 12.220944, W: -1.222344\n",
      "  Epoch[21/100], Step:  38400, d_loss: 1.395832, g_loss: 1.544059 real_scores: 0.536574, fake_scores: 0.324134, W: -0.212440\n",
      "Finish Epoch [21/100], D Loss: 9.345402, G Loss: 11.555708, W: -1.024693\n",
      "  Epoch[22/100], Step:  38400, d_loss: 1.414069, g_loss: 1.713637 real_scores: 0.762001, fake_scores: 0.604461, W: -0.157540\n",
      "Finish Epoch [22/100], D Loss: 8.831632, G Loss: 10.967119, W: -0.983052\n",
      "  Epoch[23/100], Step:  38400, d_loss: 1.316055, g_loss: 1.952475 real_scores: 0.611625, fake_scores: 0.416510, W: -0.195115\n",
      "Finish Epoch [23/100], D Loss: 8.247305, G Loss: 10.636681, W: -1.010079\n",
      "  Epoch[24/100], Step:  38400, d_loss: 1.408962, g_loss: 1.919396 real_scores: 0.730605, fake_scores: 0.540008, W: -0.190598\n",
      "Finish Epoch [24/100], D Loss: 7.955660, G Loss: 10.163926, W: -0.963254\n",
      "  Epoch[25/100], Step:  38400, d_loss: 1.843057, g_loss: 1.859997 real_scores: 0.310380, fake_scores: 0.155282, W: -0.155098\n",
      "Finish Epoch [25/100], D Loss: 7.542496, G Loss: 9.803146, W: -0.954897\n",
      "  Epoch[26/100], Step:  38400, d_loss: 1.452951, g_loss: 1.996002 real_scores: 0.815226, fake_scores: 0.653646, W: -0.161581\n",
      "Finish Epoch [26/100], D Loss: 7.224344, G Loss: 9.406286, W: -0.929853\n",
      "  Epoch[27/100], Step:  38400, d_loss: 1.265737, g_loss: 1.901201 real_scores: 0.719353, fake_scores: 0.499412, W: -0.219941\n",
      "Finish Epoch [27/100], D Loss: 6.860642, G Loss: 9.067001, W: -0.971668\n",
      "  Epoch[28/100], Step:  38400, d_loss: 1.295304, g_loss: 1.897041 real_scores: 0.611658, fake_scores: 0.404478, W: -0.207179\n",
      "Finish Epoch [28/100], D Loss: 6.505731, G Loss: 8.758124, W: -0.995530\n",
      "  Epoch[29/100], Step:  38400, d_loss: 1.238257, g_loss: 1.842459 real_scores: 0.655454, fake_scores: 0.374157, W: -0.281298\n",
      "Finish Epoch [29/100], D Loss: 6.209064, G Loss: 8.530048, W: -1.034379\n",
      "  Epoch[30/100], Step:  38400, d_loss: 1.244481, g_loss: 1.993195 real_scores: 0.735841, fake_scores: 0.474169, W: -0.261671\n",
      "Finish Epoch [30/100], D Loss: 5.948417, G Loss: 8.170087, W: -1.035080\n",
      "  Epoch[31/100], Step:  38400, d_loss: 2.141442, g_loss: 2.131302 real_scores: 0.934438, fake_scores: 0.807763, W: -0.126675\n",
      "Finish Epoch [31/100], D Loss: 5.717579, G Loss: 8.014957, W: -1.061608\n",
      "  Epoch[32/100], Step:  38400, d_loss: 1.425293, g_loss: 1.892730 real_scores: 0.881298, fake_scores: 0.694808, W: -0.186490\n",
      "Finish Epoch [32/100], D Loss: 5.578781, G Loss: 7.816043, W: -1.091190\n",
      "  Epoch[33/100], Step:  38400, d_loss: 1.179025, g_loss: 2.039545 real_scores: 0.675959, fake_scores: 0.372005, W: -0.303954\n",
      "Finish Epoch [33/100], D Loss: 5.331287, G Loss: 7.612875, W: -1.129043\n",
      "  Epoch[34/100], Step:  38400, d_loss: 1.554121, g_loss: 1.980984 real_scores: 0.389662, fake_scores: 0.271114, W: -0.118548\n",
      "Finish Epoch [34/100], D Loss: 5.118161, G Loss: 7.427883, W: -1.082786\n",
      "  Epoch[35/100], Step:  38400, d_loss: 1.385501, g_loss: 1.959685 real_scores: 0.493013, fake_scores: 0.394972, W: -0.098041\n",
      "Finish Epoch [35/100], D Loss: 5.187631, G Loss: 7.219355, W: -1.101807\n",
      "  Epoch[36/100], Step:  38400, d_loss: 1.211433, g_loss: 1.822281 real_scores: 0.912731, fake_scores: 0.622232, W: -0.290499\n",
      "Finish Epoch [36/100], D Loss: 5.352586, G Loss: 6.912021, W: -1.334807\n",
      "  Epoch[37/100], Step:  38400, d_loss: 1.024544, g_loss: 1.942185 real_scores: 0.881107, fake_scores: 0.421350, W: -0.459756\n",
      "Finish Epoch [37/100], D Loss: 5.011292, G Loss: 6.708273, W: -1.226767\n",
      "  Epoch[38/100], Step:  38400, d_loss: 1.053227, g_loss: 1.936657 real_scores: 0.864805, fake_scores: 0.434314, W: -0.430491\n",
      "Finish Epoch [38/100], D Loss: 4.795801, G Loss: 6.519545, W: -1.232585\n",
      "  Epoch[39/100], Step:  38400, d_loss: 1.297343, g_loss: 1.948227 real_scores: 0.598524, fake_scores: 0.422481, W: -0.176043\n",
      "Finish Epoch [39/100], D Loss: 4.372091, G Loss: 6.397522, W: -1.010659\n",
      "  Epoch[40/100], Step:  38400, d_loss: 1.234617, g_loss: 2.097400 real_scores: 0.537233, fake_scores: 0.288547, W: -0.248686\n",
      "Finish Epoch [40/100], D Loss: 4.212242, G Loss: 6.432662, W: -0.956662\n",
      "  Epoch[41/100], Step:  38400, d_loss: 1.115390, g_loss: 2.087896 real_scores: 0.764823, fake_scores: 0.386135, W: -0.378689\n",
      "Finish Epoch [41/100], D Loss: 4.077456, G Loss: 6.297605, W: -0.994666\n",
      "  Epoch[42/100], Step:  38400, d_loss: 1.365406, g_loss: 1.719567 real_scores: 0.737006, fake_scores: 0.342462, W: -0.394544\n"
     ]
    },
    {
     "name": "stdout",
     "output_type": "stream",
     "text": [
      "Finish Epoch [42/100], D Loss: 4.039067, G Loss: 6.118215, W: -0.926336\n",
      "  Epoch[43/100], Step:  38400, d_loss: 1.874704, g_loss: 1.858819 real_scores: 0.894054, fake_scores: 0.629035, W: -0.265019\n",
      "Finish Epoch [43/100], D Loss: 4.757601, G Loss: 5.771366, W: -0.894187\n",
      "  Epoch[44/100], Step:  38400, d_loss: 1.105657, g_loss: 1.908362 real_scores: 0.843785, fake_scores: 0.473643, W: -0.370142\n",
      "Finish Epoch [44/100], D Loss: 4.087737, G Loss: 5.694153, W: -1.249462\n",
      "  Epoch[45/100], Step:  38400, d_loss: 1.070058, g_loss: 1.958944 real_scores: 0.981956, fake_scores: 0.489106, W: -0.492850\n",
      "Finish Epoch [45/100], D Loss: 3.902771, G Loss: 5.523807, W: -1.215621\n",
      "  Epoch[46/100], Step:  38400, d_loss: 1.042051, g_loss: 1.965737 real_scores: 0.894946, fake_scores: 0.457300, W: -0.437646\n",
      "Finish Epoch [46/100], D Loss: 3.759232, G Loss: 5.476634, W: -1.077568\n",
      "  Epoch[47/100], Step:  38400, d_loss: 1.228853, g_loss: 1.905382 real_scores: 0.674760, fake_scores: 0.413236, W: -0.261524\n",
      "Finish Epoch [47/100], D Loss: 3.678998, G Loss: 5.344846, W: -1.180814\n",
      "  Epoch[48/100], Step:  38400, d_loss: 0.945178, g_loss: 2.034691 real_scores: 0.981661, fake_scores: 0.434470, W: -0.547191\n",
      "Finish Epoch [48/100], D Loss: 3.654582, G Loss: 5.181042, W: -1.232571\n",
      "  Epoch[49/100], Step:  38400, d_loss: 1.157464, g_loss: 2.040969 real_scores: 0.655773, fake_scores: 0.338780, W: -0.316994\n",
      "Finish Epoch [49/100], D Loss: 3.461019, G Loss: 5.183209, W: -0.846036\n",
      "  Epoch[50/100], Step:  38400, d_loss: 1.155664, g_loss: 2.039668 real_scores: 0.645668, fake_scores: 0.281142, W: -0.364526\n",
      "Finish Epoch [50/100], D Loss: 3.349142, G Loss: 5.201632, W: -0.840155\n",
      "  Epoch[51/100], Step:  38400, d_loss: 2.556779, g_loss: 1.955986 real_scores: 0.182755, fake_scores: 0.184749, W: 0.001994\n",
      "Finish Epoch [51/100], D Loss: 3.851390, G Loss: 4.778983, W: -0.747657\n",
      "  Epoch[52/100], Step:  38400, d_loss: 1.113192, g_loss: 2.009069 real_scores: 0.733055, fake_scores: 0.373866, W: -0.359190\n",
      "Finish Epoch [52/100], D Loss: 3.007553, G Loss: 4.920880, W: -1.001258\n",
      "  Epoch[53/100], Step:  38400, d_loss: 2.165155, g_loss: 2.299023 real_scores: 0.710491, fake_scores: 0.321496, W: -0.388995\n",
      "Finish Epoch [53/100], D Loss: 3.063818, G Loss: 4.917426, W: -0.830091\n",
      "  Epoch[54/100], Step:  38400, d_loss: 1.362740, g_loss: 1.930784 real_scores: 0.806052, fake_scores: 0.368134, W: -0.437917\n",
      "Finish Epoch [54/100], D Loss: 3.151559, G Loss: 4.687574, W: -0.868703\n",
      "  Epoch[55/100], Step:  38400, d_loss: 1.282584, g_loss: 1.944676 real_scores: 0.579044, fake_scores: 0.382723, W: -0.196321\n",
      "Finish Epoch [55/100], D Loss: 3.061972, G Loss: 4.602999, W: -1.118838\n",
      "  Epoch[56/100], Step:  38400, d_loss: 0.993854, g_loss: 1.978711 real_scores: 0.881041, fake_scores: 0.391743, W: -0.489298\n",
      "Finish Epoch [56/100], D Loss: 2.902061, G Loss: 4.475029, W: -1.055959\n",
      "  Epoch[57/100], Step:  38400, d_loss: 1.089482, g_loss: 1.981233 real_scores: 0.752282, fake_scores: 0.372302, W: -0.379980\n",
      "Finish Epoch [57/100], D Loss: 2.938072, G Loss: 4.357544, W: -1.009468\n",
      "  Epoch[58/100], Step:  38400, d_loss: 0.987196, g_loss: 1.969601 real_scores: 0.914610, fake_scores: 0.416869, W: -0.497742\n",
      "Finish Epoch [58/100], D Loss: 2.843354, G Loss: 4.335778, W: -0.919023\n",
      "  Epoch[59/100], Step:  38400, d_loss: 0.876716, g_loss: 1.960583 real_scores: 0.962557, fake_scores: 0.360244, W: -0.602313\n",
      "Finish Epoch [59/100], D Loss: 2.729886, G Loss: 4.214883, W: -1.053160\n",
      "  Epoch[60/100], Step:  38400, d_loss: 1.034593, g_loss: 1.860503 real_scores: 0.914362, fake_scores: 0.466511, W: -0.447850\n",
      "Finish Epoch [60/100], D Loss: 2.716643, G Loss: 4.140714, W: -1.100304\n",
      "  Epoch[61/100], Step:  38400, d_loss: 0.930196, g_loss: 1.959806 real_scores: 0.926892, fake_scores: 0.291531, W: -0.635361\n",
      "Finish Epoch [61/100], D Loss: 2.600491, G Loss: 4.062464, W: -1.030480\n",
      "  Epoch[62/100], Step:  38400, d_loss: 1.400708, g_loss: 2.122030 real_scores: 0.913359, fake_scores: 0.651561, W: -0.261798\n",
      "Finish Epoch [62/100], D Loss: 2.621841, G Loss: 4.180219, W: -0.723693\n",
      "  Epoch[63/100], Step:  38400, d_loss: 1.047901, g_loss: 2.080740 real_scores: 0.787541, fake_scores: 0.355190, W: -0.432351\n",
      "Finish Epoch [63/100], D Loss: 2.486120, G Loss: 4.110410, W: -0.753354\n",
      "  Epoch[64/100], Step:  38400, d_loss: 1.135234, g_loss: 1.963908 real_scores: 0.732869, fake_scores: 0.395130, W: -0.337739\n",
      "Finish Epoch [64/100], D Loss: 2.528699, G Loss: 4.061196, W: -0.714399\n",
      "  Epoch[65/100], Step:  38400, d_loss: 1.195583, g_loss: 2.062426 real_scores: 0.532595, fake_scores: 0.221632, W: -0.310963\n",
      "Finish Epoch [65/100], D Loss: 2.460920, G Loss: 3.985978, W: -0.710135\n",
      "  Epoch[66/100], Step:  38400, d_loss: 1.114195, g_loss: 2.088650 real_scores: 0.669138, fake_scores: 0.304391, W: -0.364746\n",
      "Finish Epoch [66/100], D Loss: 2.494793, G Loss: 3.905869, W: -0.692654\n",
      "  Epoch[67/100], Step:  38400, d_loss: 1.068469, g_loss: 1.987502 real_scores: 0.687961, fake_scores: 0.272115, W: -0.415845\n",
      "Finish Epoch [67/100], D Loss: 2.318946, G Loss: 3.887822, W: -0.710976\n",
      "  Epoch[68/100], Step:  38400, d_loss: 1.299797, g_loss: 1.697699 real_scores: 0.729753, fake_scores: 0.282528, W: -0.447225\n",
      "Finish Epoch [68/100], D Loss: 2.354606, G Loss: 3.814055, W: -0.693249\n",
      "  Epoch[69/100], Step:  38400, d_loss: 1.242806, g_loss: 2.165418 real_scores: 0.459881, fake_scores: 0.217448, W: -0.242433\n",
      "Finish Epoch [69/100], D Loss: 2.296577, G Loss: 3.737850, W: -0.703107\n",
      "  Epoch[70/100], Step:  38400, d_loss: 0.947919, g_loss: 2.027033 real_scores: 0.885337, fake_scores: 0.357084, W: -0.528253\n",
      "Finish Epoch [70/100], D Loss: 2.678313, G Loss: 3.589913, W: -0.643229\n",
      "  Epoch[71/100], Step:  38400, d_loss: 1.020749, g_loss: 1.902867 real_scores: 0.915479, fake_scores: 0.327188, W: -0.588291\n",
      "Finish Epoch [71/100], D Loss: 2.323528, G Loss: 3.483154, W: -0.887258\n",
      "  Epoch[72/100], Step:  38400, d_loss: 0.875847, g_loss: 1.943267 real_scores: 0.959901, fake_scores: 0.352633, W: -0.607268\n",
      "Finish Epoch [72/100], D Loss: 2.193399, G Loss: 3.451088, W: -0.927475\n",
      "  Epoch[73/100], Step:  38400, d_loss: 0.981094, g_loss: 1.914265 real_scores: 0.887172, fake_scores: 0.389598, W: -0.497574\n",
      "Finish Epoch [73/100], D Loss: 2.144528, G Loss: 3.411264, W: -0.909028\n",
      "  Epoch[74/100], Step:  38400, d_loss: 1.217484, g_loss: 2.053262 real_scores: 0.948892, fake_scores: 0.377658, W: -0.571234\n",
      "Finish Epoch [74/100], D Loss: 2.146456, G Loss: 3.345245, W: -0.871509\n",
      "  Epoch[75/100], Step:  38400, d_loss: 0.946456, g_loss: 1.949163 real_scores: 0.932418, fake_scores: 0.380881, W: -0.551537\n",
      "Finish Epoch [75/100], D Loss: 2.055482, G Loss: 3.308993, W: -0.925199\n",
      "  Epoch[76/100], Step:  38400, d_loss: 1.067635, g_loss: 1.777270 real_scores: 0.998186, fake_scores: 0.582991, W: -0.415195\n",
      "Finish Epoch [76/100], D Loss: 2.062601, G Loss: 3.259014, W: -0.884197\n",
      "  Epoch[77/100], Step:  38400, d_loss: 0.888384, g_loss: 1.985400 real_scores: 0.936721, fake_scores: 0.354837, W: -0.581884\n",
      "Finish Epoch [77/100], D Loss: 1.960527, G Loss: 3.185346, W: -0.903238\n",
      "  Epoch[78/100], Step:  38400, d_loss: 1.148644, g_loss: 1.937692 real_scores: 0.758810, fake_scores: 0.386982, W: -0.371828\n",
      "Finish Epoch [78/100], D Loss: 2.074738, G Loss: 3.178826, W: -0.880600\n",
      "  Epoch[79/100], Step:  38400, d_loss: 5.488853, g_loss: 1.979527 real_scores: 0.407604, fake_scores: 0.086613, W: -0.320992\n",
      "Finish Epoch [79/100], D Loss: 1.973545, G Loss: 3.178177, W: -0.864951\n",
      "  Epoch[80/100], Step:  38400, d_loss: 0.972614, g_loss: 2.035947 real_scores: 0.733212, fake_scores: 0.222462, W: -0.510750\n",
      "Finish Epoch [80/100], D Loss: 1.989353, G Loss: 3.187160, W: -0.612712\n",
      "  Epoch[81/100], Step:  38400, d_loss: 0.997623, g_loss: 2.125381 real_scores: 0.731789, fake_scores: 0.259022, W: -0.472767\n",
      "Finish Epoch [81/100], D Loss: 1.908180, G Loss: 3.215414, W: -0.607866\n",
      "  Epoch[82/100], Step:  38400, d_loss: 1.208546, g_loss: 1.925282 real_scores: 0.821828, fake_scores: 0.389270, W: -0.432558\n"
     ]
    },
    {
     "name": "stderr",
     "output_type": "stream",
     "text": [
      "Traceback (most recent call last):\n",
      "Traceback (most recent call last):\n",
      "  File \"/usr/lib/python3.5/multiprocessing/queues.py\", line 247, in _feed\n",
      "    send_bytes(obj)\n",
      "  File \"/usr/lib/python3.5/multiprocessing/connection.py\", line 200, in send_bytes\n",
      "    self._send_bytes(m[offset:offset + size])\n",
      "  File \"/usr/lib/python3.5/multiprocessing/connection.py\", line 404, in _send_bytes\n",
      "    self._send(header + buf)\n",
      "  File \"/usr/lib/python3.5/multiprocessing/connection.py\", line 368, in _send\n",
      "    n = write(self._handle, buf)\n",
      "BrokenPipeError: [Errno 32] Broken pipe\n",
      "  File \"/usr/lib/python3.5/multiprocessing/queues.py\", line 247, in _feed\n",
      "    send_bytes(obj)\n",
      "  File \"/usr/lib/python3.5/multiprocessing/connection.py\", line 200, in send_bytes\n",
      "    self._send_bytes(m[offset:offset + size])\n",
      "  File \"/usr/lib/python3.5/multiprocessing/connection.py\", line 404, in _send_bytes\n",
      "    self._send(header + buf)\n",
      "  File \"/usr/lib/python3.5/multiprocessing/connection.py\", line 368, in _send\n",
      "    n = write(self._handle, buf)\n",
      "BrokenPipeError: [Errno 32] Broken pipe\n"
     ]
    },
    {
     "ename": "KeyboardInterrupt",
     "evalue": "",
     "output_type": "error",
     "traceback": [
      "\u001b[0;31m---------------------------------------------------------------------------\u001b[0m",
      "\u001b[0;31mKeyboardInterrupt\u001b[0m                         Traceback (most recent call last)",
      "\u001b[0;32m<ipython-input-19-d511443ac893>\u001b[0m in \u001b[0;36m<module>\u001b[0;34m\u001b[0m\n\u001b[1;32m     64\u001b[0m         \u001b[0;31m#######################\u001b[0m\u001b[0;34m\u001b[0m\u001b[0;34m\u001b[0m\u001b[0m\n\u001b[1;32m     65\u001b[0m \u001b[0;34m\u001b[0m\u001b[0m\n\u001b[0;32m---> 66\u001b[0;31m         \u001b[0md_loss_total\u001b[0m \u001b[0;34m+=\u001b[0m \u001b[0md_loss\u001b[0m\u001b[0;34m.\u001b[0m\u001b[0mitem\u001b[0m\u001b[0;34m(\u001b[0m\u001b[0;34m)\u001b[0m \u001b[0;34m*\u001b[0m \u001b[0mimg\u001b[0m\u001b[0;34m.\u001b[0m\u001b[0msize\u001b[0m\u001b[0;34m(\u001b[0m\u001b[0;36m0\u001b[0m\u001b[0;34m)\u001b[0m\u001b[0;34m\u001b[0m\u001b[0m\n\u001b[0m\u001b[1;32m     67\u001b[0m         \u001b[0mg_loss_total\u001b[0m \u001b[0;34m+=\u001b[0m \u001b[0mg_loss\u001b[0m\u001b[0;34m.\u001b[0m\u001b[0mitem\u001b[0m\u001b[0;34m(\u001b[0m\u001b[0;34m)\u001b[0m \u001b[0;34m*\u001b[0m \u001b[0mimg\u001b[0m\u001b[0;34m.\u001b[0m\u001b[0msize\u001b[0m\u001b[0;34m(\u001b[0m\u001b[0;36m0\u001b[0m\u001b[0;34m)\u001b[0m\u001b[0;34m\u001b[0m\u001b[0m\n\u001b[1;32m     68\u001b[0m         \u001b[0mw_loss_total\u001b[0m \u001b[0;34m+=\u001b[0m \u001b[0mw_dist\u001b[0m \u001b[0;34m*\u001b[0m \u001b[0mimg\u001b[0m\u001b[0;34m.\u001b[0m\u001b[0msize\u001b[0m\u001b[0;34m(\u001b[0m\u001b[0;36m0\u001b[0m\u001b[0;34m)\u001b[0m\u001b[0;34m\u001b[0m\u001b[0m\n",
      "\u001b[0;31mKeyboardInterrupt\u001b[0m: "
     ]
    }
   ],
   "source": [
    "total_count = len(dataloader)\n",
    "for epoch in tqdm_notebook(range(num_epochs)):\n",
    "    _step = epoch * total_count\n",
    "    \n",
    "    d_loss_total = .0\n",
    "    g_loss_total = .0\n",
    "    w_loss_total = .0\n",
    "    for i, (img, lab) in enumerate(dataloader):\n",
    "        \n",
    "        \n",
    "        ########## D ##########\n",
    "        for p in D.parameters():\n",
    "            p.requires_grad_(True)\n",
    "            \n",
    "        label = gen_noise_label(img.size(0))\n",
    "        z = gen_noise(img.size(0), label)\n",
    "#         with torch.no_grad():\n",
    "#             zz = z\n",
    "        fake_img = G(z).detach() ###\n",
    "        \n",
    "        real_img = img.cuda()\n",
    "        real_lab = lab.cuda()\n",
    "        real_out, real_label = D(real_img)\n",
    "        real_lab_loss = criterion(real_label, real_lab)\n",
    "        d_loss_real_lab = real_lab_loss.mean()\n",
    "        d_loss_real = real_out.mean()\n",
    "        real_scores = real_out\n",
    "        \n",
    "        fake_img = G(z).detach()\n",
    "        fake_out, fake_label = D(fake_img)\n",
    "        d_loss_fake = fake_out.mean()\n",
    "        fake_scores = fake_out\n",
    "        \n",
    "        gradient_penalty = calc_gradient_penalty(D, real_img, fake_img)\n",
    "        \n",
    "        d_loss = d_loss_fake - d_loss_real + gradient_penalty + 1 * d_loss_real_lab\n",
    "        \n",
    "        d_optimezer.zero_grad()\n",
    "        d_loss.backward()\n",
    "        d_optimezer.step()\n",
    "        \n",
    "        #######################\n",
    "        w_dist = d_loss_fake - d_loss_real\n",
    "        \n",
    "        \n",
    "        ########## G ##########\n",
    "        for p in D.parameters():\n",
    "            p.requires_grad_(False)\n",
    "        \n",
    "        label = gen_noise_label(img.size(0))\n",
    "        z = gen_noise(img.size(0), label)\n",
    "        fake_img = G(z)\n",
    "        fake_out, fake_label = D(fake_img)\n",
    "\n",
    "        gen_label = torch.from_numpy(label).long().to(device)\n",
    "        gen_label_loss = criterion(fake_label, gen_label).mean()\n",
    "        gen_cost = -fake_out.mean()\n",
    "        g_loss = 1 * gen_label_loss + gen_cost\n",
    "\n",
    "        g_optimezer.zero_grad()\n",
    "        g_loss.backward()\n",
    "        g_optimezer.step()\n",
    "        \n",
    "        #######################\n",
    "        \n",
    "        d_loss_total += d_loss.item() * img.size(0)\n",
    "        g_loss_total += g_loss.item() * img.size(0)\n",
    "        w_loss_total += w_dist * img.size(0)\n",
    "        \n",
    "        step = _step + i + 1\n",
    "        \n",
    "        if (i + 1) % 100 == 0:\n",
    "            writer.add_scalar('Discriminator Real Loss', d_loss_real.item(), step)\n",
    "            writer.add_scalar('Discriminator Fake Loss', d_loss_fake.item(), step)\n",
    "            writer.add_scalar('Discriminator Loss', d_loss.item(), step)\n",
    "            writer.add_scalar('Generator Loss', g_loss.item(), step)\n",
    "            writer.add_scalar('Wasserstein Distance', w_dist.item(), step)\n",
    "        \n",
    "        \n",
    "        if (i + 1) % 300 == 0:\n",
    "            tqdm.write('  Epoch[{}/{}], Step: {:6d}, d_loss: {:.6f}, g_loss: {:.6f} real_scores: {:.6f}, fake_scores: {:.6f}, W: {:.6f}'.format(epoch+1, num_epochs, \n",
    "                                          (i+1) * BATCH_SIZE, \n",
    "                                          d_loss, g_loss, \n",
    "                                          real_scores.mean(), \n",
    "                                          fake_scores.mean(), w_dist))\n",
    "    \n",
    "    \n",
    "    setp = (epoch + 1) * total_count\n",
    "    _d_loss_total = d_loss_total / (total_count * (epoch + 1))\n",
    "    _g_loss_total = g_loss_total / (total_count * (epoch + 1))\n",
    "    _w_loss_total = w_loss_total / (total_count * (epoch + 1))\n",
    "    \n",
    "    writer.add_scalar('Discriminator Total Loss', _d_loss_total, step)\n",
    "    writer.add_scalar('Generator Total Loss', _g_loss_total, step)\n",
    "    \n",
    "    tqdm.write(\"Finish Epoch [{}/{}], D Loss: {:.6f}, G Loss: {:.6f}, W: {:.6f}\".format(epoch+1, \n",
    "                                                                             num_epochs, \n",
    "                                                                             _d_loss_total,\n",
    "                                                                             _g_loss_total,\n",
    "                                                                             _w_loss_total, ))\n",
    "    \n",
    "    writer.add_image('Generator Image', make_grid(fake_img.view(-1, 1, 28, 28).cpu().data, normalize=True, scale_each=True), step)\n",
    "    condition_img = G(condition_noise)\n",
    "    writer.add_image('Condition Generator Image', make_grid(condition_img.view(-1, 1, 28, 28).cpu().data, normalize=True, scale_each=True), step)\n",
    "    \n",
    "    if epoch == 0:\n",
    "        real_images = real_img.view(-1, 1, 28, 28).cpu().data\n",
    "        save_image(real_images, os.path.join(img_path, 'real_images.png'))\n",
    "    \n",
    "    \n",
    "    \n",
    "    fake_images = fake_img.view(-1, 1, 28, 28).cpu().data\n",
    "    save_image(fake_images, os.path.join(img_path, 'fake_images-{}.png'.format(epoch+1)))\n",
    "    save_image(condition_img, os.path.join(img_path, 'condition_images-{}.png'.format(epoch+1)))"
   ]
  },
  {
   "cell_type": "code",
   "execution_count": 20,
   "metadata": {},
   "outputs": [],
   "source": [
    "writer.close()"
   ]
  },
  {
   "cell_type": "code",
   "execution_count": 22,
   "metadata": {},
   "outputs": [],
   "source": [
    "torch.save(D.state_dict(), './ser/condition_wgan_gp_discriminator.pt')\n",
    "torch.save(G.state_dict(), './ser/condition_wgan_gp_generator.pt')"
   ]
  },
  {
   "cell_type": "code",
   "execution_count": null,
   "metadata": {},
   "outputs": [],
   "source": [
    "D.load_state_dict(torch.load('./ser/condition_wgan_gp_discriminator.pt'))\n",
    "G.load_state_dict(torch.load('./ser/condition_wgan_gp_generator.pt'))"
   ]
  },
  {
   "cell_type": "code",
   "execution_count": 25,
   "metadata": {},
   "outputs": [
    {
     "data": {
      "image/png": "[encoded data removed]",
      "text/plain": [
       "<Figure size 432x288 with 1 Axes>"
      ]
     },
     "metadata": {
      "needs_background": "light"
     },
     "output_type": "display_data"
    }
   ],
   "source": [
    "words = np.array([4,5,4,4,0])\n",
    "z = gen_noise(words.shape[0], words)\n",
    "images = G(z)\n",
    "# save_image(images, 'xx.png')\n",
    "plt.imshow(Image.fromarray(make_grid(images).mul(255).clamp(0, 255).byte().permute(1, 2, 0).cpu().numpy()))\n",
    "plt.show()"
   ]
  },
  {
   "cell_type": "code",
   "execution_count": null,
   "metadata": {},
   "outputs": [],
   "source": []
  }
 ],
 "metadata": {
  "kernelspec": {
   "display_name": "venv36",
   "language": "python",
   "name": "venv36"
  },
  "language_info": {
   "codemirror_mode": {
    "name": "ipython",
    "version": 3
   },
   "file_extension": ".py",
   "mimetype": "text/x-python",
   "name": "python",
   "nbconvert_exporter": "python",
   "pygments_lexer": "ipython3",
   "version": "3.6.8"
  },
  "varInspector": {
   "cols": {
    "lenName": 16,
    "lenType": 16,
    "lenVar": 40
   },
   "kernels_config": {
    "python": {
     "delete_cmd_postfix": "",
     "delete_cmd_prefix": "del ",
     "library": "var_list.py",
     "varRefreshCmd": "print(var_dic_list())"
    },
    "r": {
     "delete_cmd_postfix": ") ",
     "delete_cmd_prefix": "rm(",
     "library": "var_list.r",
     "varRefreshCmd": "cat(var_dic_list()) "
    }
   },
   "position": {
    "height": "556px",
    "left": "247px",
    "right": "398px",
    "top": "131px",
    "width": "752px"
   },
   "types_to_exclude": [
    "module",
    "function",
    "builtin_function_or_method",
    "instance",
    "_Feature"
   ],
   "window_display": false
  }
 },
 "nbformat": 4,
 "nbformat_minor": 2
}
