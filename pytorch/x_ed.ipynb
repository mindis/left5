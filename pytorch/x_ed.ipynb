{
 "cells": [
  {
   "cell_type": "code",
   "execution_count": 1,
   "metadata": {},
   "outputs": [],
   "source": [
    "import torch\n",
    "from torch import nn, optim\n",
    "from torch.utils.data import DataLoader\n",
    "from torchvision import transforms, datasets\n",
    "import numpy as np\n",
    "import matplotlib.pyplot as plt"
   ]
  },
  {
   "cell_type": "code",
   "execution_count": 2,
   "metadata": {},
   "outputs": [],
   "source": [
    "%matplotlib inline"
   ]
  },
  {
   "cell_type": "code",
   "execution_count": 3,
   "metadata": {},
   "outputs": [],
   "source": [
    "from matplotlib import rcParams\n",
    "# from jupyterthemes import jtplot\n",
    "# jtplot.reset()\n",
    "\n",
    "rcParams['figure.figsize'] = [12, 8]"
   ]
  },
  {
   "cell_type": "code",
   "execution_count": 4,
   "metadata": {},
   "outputs": [],
   "source": [
    "device = torch.device('cuda' if torch.cuda.is_available() else 'cpu')"
   ]
  },
  {
   "cell_type": "code",
   "execution_count": 5,
   "metadata": {},
   "outputs": [],
   "source": [
    "batch_size = 32\n",
    "\n",
    "learning_rate = 1e-3\n",
    "num_epochs = 5"
   ]
  },
  {
   "cell_type": "code",
   "execution_count": 6,
   "metadata": {},
   "outputs": [],
   "source": [
    "train_dataset = datasets.MNIST('./datas', train=True, transform=transforms.ToTensor())\n",
    "test_dataset = datasets.MNIST('./datas', train=False, transform=transforms.ToTensor())\n",
    "\n",
    "train_loader = DataLoader(train_dataset, batch_size=batch_size, shuffle=True)\n",
    "test_loader = DataLoader(test_dataset, batch_size=batch_size, shuffle=False)"
   ]
  },
  {
   "cell_type": "code",
   "execution_count": 7,
   "metadata": {},
   "outputs": [],
   "source": [
    "class Ea(nn.Module):\n",
    "    def __init__(self, inp_dim, out_dim): # 784 784\n",
    "        super(Ea, self).__init__()\n",
    "        \n",
    "        self.encoder = nn.Sequential(\n",
    "            nn.Linear(inp_dim, 1000),\n",
    "#             nn.ReLU(),\n",
    "            nn.Sigmoid(),\n",
    "            nn.Linear(1000, 500),\n",
    "#             nn.ReLU(),\n",
    "            nn.Sigmoid(),\n",
    "            nn.Linear(500, 250),\n",
    "#             nn.ReLU(),\n",
    "            nn.Sigmoid(),\n",
    "            nn.Linear(250, 2),\n",
    "        )\n",
    "        \n",
    "        self.decoder = nn.Sequential(\n",
    "            nn.Linear(2, 250),\n",
    "#             nn.ReLU(),\n",
    "            nn.Sigmoid(),\n",
    "            nn.Linear(250, 500),\n",
    "#             nn.ReLU(),\n",
    "            nn.Sigmoid(),\n",
    "            nn.Linear(500, 1000),\n",
    "#             nn.ReLU(),\n",
    "            nn.Sigmoid(),\n",
    "            nn.Linear(1000, out_dim),\n",
    "        )\n",
    "        \n",
    "    def forward(self, x):\n",
    "        outs = self.encoder(x)\n",
    "        return self.decoder(outs), outs\n",
    "        \n",
    "        \n",
    "        "
   ]
  },
  {
   "cell_type": "code",
   "execution_count": 8,
   "metadata": {},
   "outputs": [],
   "source": [
    "model = Ea(28 * 28, 28 * 28).to(device)\n",
    "\n",
    "criterion = nn.MSELoss().to(device)\n",
    "optimizer = optim.Adam(model.parameters(), lr=learning_rate)"
   ]
  },
  {
   "cell_type": "code",
   "execution_count": null,
   "metadata": {
    "scrolled": true
   },
   "outputs": [
    {
     "name": "stdout",
     "output_type": "stream",
     "text": [
      "Epoch: [1/5], Step [16000/60000], loss: 0.065519\n",
      "Epoch: [1/5], Step [32000/60000], loss: 0.060780\n",
      "Epoch: [1/5], Step [48000/60000], loss: 0.057794\n",
      "Finish Epoch: [1/5]: loss: 0.055788\n",
      "Epoch: [2/5], Step [16000/60000], loss: 0.045798\n",
      "Epoch: [2/5], Step [32000/60000], loss: 0.044976\n",
      "Epoch: [2/5], Step [48000/60000], loss: 0.044224\n",
      "Finish Epoch: [2/5]: loss: 0.043772\n",
      "Epoch: [3/5], Step [16000/60000], loss: 0.041475\n",
      "Epoch: [3/5], Step [32000/60000], loss: 0.041096\n",
      "Epoch: [3/5], Step [48000/60000], loss: 0.040765\n",
      "Finish Epoch: [3/5]: loss: 0.040498\n",
      "Epoch: [4/5], Step [16000/60000], loss: 0.039603\n",
      "Epoch: [4/5], Step [32000/60000], loss: 0.039431\n",
      "Epoch: [4/5], Step [48000/60000], loss: 0.039310\n",
      "Finish Epoch: [4/5]: loss: 0.039119\n",
      "Epoch: [5/5], Step [16000/60000], loss: 0.038664\n",
      "Epoch: [5/5], Step [32000/60000], loss: 0.038356\n"
     ]
    }
   ],
   "source": [
    "train_data_count = len(train_dataset)\n",
    "for epoch in range(num_epochs):\n",
    "    \n",
    "    running_loss = .0\n",
    "    for i, (images, labels) in enumerate(train_loader):\n",
    "#         images = images.view(batch_size, -1).to(device)\n",
    "        images = images.view(images.size(0), -1).to(device)\n",
    "        \n",
    "        outputs, encoders = model(images)\n",
    "        \n",
    "        loss = criterion(outputs, images)\n",
    "        \n",
    "        running_loss += loss.item() * batch_size\n",
    "        \n",
    "        optimizer.zero_grad()\n",
    "        loss.backward()\n",
    "        optimizer.step()\n",
    "        \n",
    "        if (i+1) % 500 == 0:\n",
    "            print \"Epoch: [{}/{}], Step [{}/{}], loss: {:.6f}\".format(epoch+1, num_epochs, \\\n",
    "                                                                      (i+1)*images.size(0), train_data_count, \\\n",
    "                                                                      running_loss / (batch_size * i))\n",
    "        \n",
    "    print \"Finish Epoch: [{}/{}]: loss: {:.6f}\".format(epoch+1, num_epochs, running_loss / len(train_dataset))\n",
    "        "
   ]
  },
  {
   "cell_type": "code",
   "execution_count": null,
   "metadata": {},
   "outputs": [],
   "source": [
    "all_encoder = []\n",
    "\n",
    "with torch.no_grad():\n",
    "    for images, labels in test_loader:\n",
    "        try:\n",
    "            images = images.view(images.size(0), -1).to(device)\n",
    "\n",
    "            outputs, encoders = model(images)\n",
    "\n",
    "            all_encoder.append([encoders.cpu().data.numpy(), labels.data.numpy()])\n",
    "        except:\n",
    "            print images.shape\n",
    "            \n",
    "            raise\n",
    "    \n",
    "all_encoder = np.asarray(all_encoder)"
   ]
  },
  {
   "cell_type": "code",
   "execution_count": null,
   "metadata": {},
   "outputs": [],
   "source": [
    "encoders = np.concatenate((np.vstack(all_encoder[:,0]), np.hstack(all_encoder[:, 1]).reshape((10000, -1))), axis=1)"
   ]
  },
  {
   "cell_type": "code",
   "execution_count": null,
   "metadata": {},
   "outputs": [],
   "source": [
    "fig = plt.figure()\n",
    "ax = fig.add_subplot(111)\n",
    "for i in range(10):\n",
    "    enc = encoders[encoders[:,2] == i]\n",
    "    ax.scatter(enc[:,0], enc[:,1], label='label: {}'.format(i), marker='.')\n",
    "    \n",
    "plt.legend()\n",
    "plt.show()"
   ]
  },
  {
   "cell_type": "code",
   "execution_count": null,
   "metadata": {},
   "outputs": [],
   "source": []
  }
 ],
 "metadata": {
  "kernelspec": {
   "display_name": "Python 2",
   "language": "python",
   "name": "python2"
  },
  "language_info": {
   "codemirror_mode": {
    "name": "ipython",
    "version": 2
   },
   "file_extension": ".py",
   "mimetype": "text/x-python",
   "name": "python",
   "nbconvert_exporter": "python",
   "pygments_lexer": "ipython2",
   "version": "2.7.12"
  },
  "varInspector": {
   "cols": {
    "lenName": 16,
    "lenType": 16,
    "lenVar": 40
   },
   "kernels_config": {
    "python": {
     "delete_cmd_postfix": "",
     "delete_cmd_prefix": "del ",
     "library": "var_list.py",
     "varRefreshCmd": "print(var_dic_list())"
    },
    "r": {
     "delete_cmd_postfix": ") ",
     "delete_cmd_prefix": "rm(",
     "library": "var_list.r",
     "varRefreshCmd": "cat(var_dic_list()) "
    }
   },
   "types_to_exclude": [
    "module",
    "function",
    "builtin_function_or_method",
    "instance",
    "_Feature"
   ],
   "window_display": false
  }
 },
 "nbformat": 4,
 "nbformat_minor": 2
}
