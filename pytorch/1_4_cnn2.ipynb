{
 "cells": [
  {
   "cell_type": "code",
   "execution_count": 22,
   "metadata": {},
   "outputs": [],
   "source": [
    "import torch\n",
    "from torch import nn, optim\n",
    "from torch.utils.data import DataLoader\n",
    "from torchvision import datasets, transforms\n",
    "import torchvision\n",
    "import numpy as np\n",
    "import matplotlib.pyplot as plt\n",
    "from tensorboardX import SummaryWriter\n",
    "import StringIO\n",
    "from PIL import Image\n",
    "import tensorflow as tf"
   ]
  },
  {
   "cell_type": "code",
   "execution_count": 2,
   "metadata": {},
   "outputs": [],
   "source": [
    "%matplotlib inline"
   ]
  },
  {
   "cell_type": "code",
   "execution_count": 3,
   "metadata": {},
   "outputs": [],
   "source": [
    "batch_size = 32\n",
    "learnning_rate = 1e-3\n",
    "num_epochs = 3"
   ]
  },
  {
   "cell_type": "code",
   "execution_count": 4,
   "metadata": {},
   "outputs": [],
   "source": [
    "train_dataset = datasets.MNIST('./datas', train=True, transform=transforms.ToTensor())\n",
    "test_dataset = datasets.MNIST('./datas', train=False, transform=transforms.ToTensor())\n",
    "\n",
    "train_load = DataLoader(train_dataset, batch_size=batch_size, shuffle=True)\n",
    "test_load = DataLoader(test_dataset, batch_size=batch_size, shuffle=False)"
   ]
  },
  {
   "cell_type": "code",
   "execution_count": 5,
   "metadata": {},
   "outputs": [],
   "source": [
    "class Cnn(nn.Module):\n",
    "    def __init__(self, in_dim, out_dim):\n",
    "        super(Cnn, self).__init__()\n",
    "        \n",
    "        self.conv1 = nn.Sequential(\n",
    "            nn.Conv2d(in_dim, 6, 3, stride=1, padding=1), # b 6 28 28\n",
    "            nn.ReLU(True),\n",
    "            nn.MaxPool2d(2, stride=2), # b 6 14 14\n",
    "        )\n",
    "        \n",
    "        self.deconv1 = nn.ConvTranspose2d(6, 1, 3, padding=1)\n",
    "        \n",
    "        self.conv2 = nn.Sequential(\n",
    "            nn.Conv2d(6, 16, 3, stride=1, padding=1), # b 16 14 14\n",
    "            nn.ReLU(True),\n",
    "            nn.MaxPool2d(2, 2), # b 16 7 7\n",
    "        )\n",
    "        \n",
    "        self.deconv2 = nn.ConvTranspose2d(16, 1, 3, padding=1)\n",
    "        \n",
    "        self.conv3 = nn.Sequential(\n",
    "            nn.Conv2d(16, 16, 3, stride=1), # b 16 5 5\n",
    "            nn.ReLU(True),\n",
    "        )\n",
    "        \n",
    "        self.deconv3 = nn.ConvTranspose2d(16, 1, 3, padding=1)\n",
    "        \n",
    "        \n",
    "        self.fc = nn.Sequential(\n",
    "            nn.Linear(400, 200),\n",
    "            nn.Linear(200, 100),\n",
    "            nn.Linear(100, out_dim),\n",
    "        )\n",
    "        \n",
    "    def forward(self, x):\n",
    "        out1 = self.conv1(x)\n",
    "        out2 = self.conv2(out1)\n",
    "        out3 = self.conv3(out2)\n",
    "        \n",
    "        deconv1 = self.deconv1(out1)\n",
    "        deconv2 = self.deconv2(out2)\n",
    "        deconv3 = self.deconv3(out3)\n",
    "        \n",
    "        out3 = out3.view(out3.size(0), -1)\n",
    "        return self.fc(out3), deconv1, deconv2, deconv3\n",
    "    "
   ]
  },
  {
   "cell_type": "code",
   "execution_count": 6,
   "metadata": {},
   "outputs": [],
   "source": [
    "model = Cnn(1, 10).cuda()\n",
    "\n",
    "criterion = nn.CrossEntropyLoss()\n",
    "optimizer = optim.Adam(model.parameters(), lr=learnning_rate)"
   ]
  },
  {
   "cell_type": "code",
   "execution_count": 7,
   "metadata": {},
   "outputs": [],
   "source": [
    "writer = SummaryWriter('./log/cnn2')"
   ]
  },
  {
   "cell_type": "code",
   "execution_count": 38,
   "metadata": {},
   "outputs": [],
   "source": [
    "# grid = make_grid(tensor, nrow=nrow, padding=padding, pad_value=pad_value,\n",
    "#                      normalize=normalize, range=range, scale_each=scale_each)\n",
    "# ndarr = grid.mul(255).clamp(0, 255).byte().permute(1, 2, 0).cpu().numpy()\n",
    "# im = Image.fromarray(ndarr)\n",
    "# im.save(filename)\n",
    "\n",
    "#####\n",
    "\n",
    "# def log_images(tag, images, step):\n",
    "#     im_summaries = []\n",
    "#     for nr, img in enumerate(images):\n",
    "#         s = StringIO.StringIO()\n",
    "#         plt.imsave(s, img, format='png')\n",
    "\n",
    "#         img_sum = tf.Summary.Image(encoded_image_string=s.getvalue(),\n",
    "#                                        height=img.shape[0],\n",
    "#                                        width=img.shape[1])\n",
    "#         im_summaries.append(tf.Summary.Value(tag='%s/%d' % (tag, nr),\n",
    "#                                                  image=img_sum))\n",
    "\n",
    "#     summary = tf.Summary(value=im_summaries)\n",
    "#     writer.add_summary(summary, step)\n",
    "\n",
    "\n",
    "# def log_images(tag, images, step):\n",
    "#     im_summaries = []\n",
    "#     for nr, img in enumerate(images):\n",
    "#         s = StringIO.StringIO()\n",
    "#         plt.imsave(s, img, format='png')\n",
    "\n",
    "#         img_sum = tf.Summary.Image(encoded_image_string=s.getvalue(),\n",
    "#                                        height=img.height,\n",
    "#                                        width=img.width)\n",
    "#         im_summaries.append(tf.Summary.Value(tag='%s/%d' % (tag, nr),\n",
    "#                                                  image=img_sum))\n",
    "\n",
    "#     summary = tf.Summary(value=im_summaries)\n",
    "#     writer.file_writer.add_summary(summary, step)\n",
    "\n",
    "def log_image(tag, image, step):\n",
    "    \n",
    "    Summary(value=[Summary.Value(tag=tag, image=image)])\n",
    "    \n",
    "    pass\n"
   ]
  },
  {
   "cell_type": "code",
   "execution_count": 28,
   "metadata": {},
   "outputs": [],
   "source": [
    "toimg_trans = transforms.ToPILImage()"
   ]
  },
  {
   "cell_type": "code",
   "execution_count": 41,
   "metadata": {
    "scrolled": true
   },
   "outputs": [
    {
     "ename": "RuntimeError",
     "evalue": "Can't call numpy() on Variable that requires grad. Use var.detach().numpy() instead.",
     "output_type": "error",
     "traceback": [
      "\u001b[0;31m\u001b[0m",
      "\u001b[0;31mRuntimeError\u001b[0mTraceback (most recent call last)",
      "\u001b[0;32m<ipython-input-41-7bf89bf730f5>\u001b[0m in \u001b[0;36m<module>\u001b[0;34m()\u001b[0m\n\u001b[1;32m     49\u001b[0m \u001b[0;31m#         _deconv1.abs_()\u001b[0m\u001b[0;34m\u001b[0m\u001b[0;34m\u001b[0m\u001b[0m\n\u001b[1;32m     50\u001b[0m \u001b[0;34m\u001b[0m\u001b[0m\n\u001b[0;32m---> 51\u001b[0;31m         \u001b[0mwriter\u001b[0m\u001b[0;34m.\u001b[0m\u001b[0madd_image\u001b[0m\u001b[0;34m(\u001b[0m\u001b[0;34m'deconv1'\u001b[0m\u001b[0;34m,\u001b[0m \u001b[0mtorchvision\u001b[0m\u001b[0;34m.\u001b[0m\u001b[0mutils\u001b[0m\u001b[0;34m.\u001b[0m\u001b[0mmake_grid\u001b[0m\u001b[0;34m(\u001b[0m\u001b[0mdeconv1\u001b[0m\u001b[0;34m.\u001b[0m\u001b[0mabs_\u001b[0m\u001b[0;34m(\u001b[0m\u001b[0;34m)\u001b[0m\u001b[0;34m,\u001b[0m \u001b[0mnormalize\u001b[0m\u001b[0;34m=\u001b[0m\u001b[0mTrue\u001b[0m\u001b[0;34m,\u001b[0m \u001b[0mscale_each\u001b[0m\u001b[0;34m=\u001b[0m\u001b[0mTrue\u001b[0m\u001b[0;34m)\u001b[0m\u001b[0;34m,\u001b[0m \u001b[0mstep\u001b[0m\u001b[0;34m)\u001b[0m\u001b[0;34m\u001b[0m\u001b[0m\n\u001b[0m\u001b[1;32m     52\u001b[0m \u001b[0;31m#         writer.add_image('deconv2', torchvision.utils.make_grid(deconv2 + img.mean()), step)\u001b[0m\u001b[0;34m\u001b[0m\u001b[0;34m\u001b[0m\u001b[0m\n\u001b[1;32m     53\u001b[0m \u001b[0;31m#         writer.add_image('deconv3', torchvision.utils.make_grid(deconv3 + img.mean()), step)\u001b[0m\u001b[0;34m\u001b[0m\u001b[0;34m\u001b[0m\u001b[0m\n",
      "\u001b[0;32m/usr/local/lib/python2.7/dist-packages/tensorboardX/writer.pyc\u001b[0m in \u001b[0;36madd_image\u001b[0;34m(self, tag, img_tensor, global_step)\u001b[0m\n\u001b[1;32m    275\u001b[0m             \u001b[0mimg_tensor\u001b[0m\u001b[0;34m:\u001b[0m \u001b[0;34m:\u001b[0m\u001b[0mmath\u001b[0m\u001b[0;34m:\u001b[0m\u001b[0;34m`\u001b[0m\u001b[0;34m(\u001b[0m\u001b[0;36m3\u001b[0m\u001b[0;34m,\u001b[0m \u001b[0mH\u001b[0m\u001b[0;34m,\u001b[0m \u001b[0mW\u001b[0m\u001b[0;34m)\u001b[0m\u001b[0;34m`\u001b[0m\u001b[0;34m.\u001b[0m \u001b[0mUse\u001b[0m \u001b[0;34m`\u001b[0m\u001b[0;34m`\u001b[0m\u001b[0mtorchvision\u001b[0m\u001b[0;34m.\u001b[0m\u001b[0mutils\u001b[0m\u001b[0;34m.\u001b[0m\u001b[0mmake_grid\u001b[0m\u001b[0;34m(\u001b[0m\u001b[0;34m)\u001b[0m\u001b[0;34m`\u001b[0m\u001b[0;34m`\u001b[0m \u001b[0mto\u001b[0m \u001b[0mprepare\u001b[0m \u001b[0mit\u001b[0m \u001b[0;32mis\u001b[0m \u001b[0ma\u001b[0m \u001b[0mgood\u001b[0m \u001b[0midea\u001b[0m\u001b[0;34m.\u001b[0m\u001b[0;34m\u001b[0m\u001b[0m\n\u001b[1;32m    276\u001b[0m         \"\"\"\n\u001b[0;32m--> 277\u001b[0;31m         \u001b[0mself\u001b[0m\u001b[0;34m.\u001b[0m\u001b[0mfile_writer\u001b[0m\u001b[0;34m.\u001b[0m\u001b[0madd_summary\u001b[0m\u001b[0;34m(\u001b[0m\u001b[0mimage\u001b[0m\u001b[0;34m(\u001b[0m\u001b[0mtag\u001b[0m\u001b[0;34m,\u001b[0m \u001b[0mimg_tensor\u001b[0m\u001b[0;34m)\u001b[0m\u001b[0;34m,\u001b[0m \u001b[0mglobal_step\u001b[0m\u001b[0;34m)\u001b[0m\u001b[0;34m\u001b[0m\u001b[0m\n\u001b[0m\u001b[1;32m    278\u001b[0m     \u001b[0;32mdef\u001b[0m \u001b[0madd_audio\u001b[0m\u001b[0;34m(\u001b[0m\u001b[0mself\u001b[0m\u001b[0;34m,\u001b[0m \u001b[0mtag\u001b[0m\u001b[0;34m,\u001b[0m \u001b[0msnd_tensor\u001b[0m\u001b[0;34m,\u001b[0m \u001b[0mglobal_step\u001b[0m\u001b[0;34m=\u001b[0m\u001b[0mNone\u001b[0m\u001b[0;34m)\u001b[0m\u001b[0;34m:\u001b[0m\u001b[0;34m\u001b[0m\u001b[0m\n\u001b[1;32m    279\u001b[0m         \"\"\"Add audio data to summary.\n",
      "\u001b[0;32m/usr/local/lib/python2.7/dist-packages/tensorboardX/summary.py\u001b[0m in \u001b[0;36mimage\u001b[0;34m(tag, tensor)\u001b[0m\n\u001b[1;32m    160\u001b[0m         \u001b[0;32mif\u001b[0m \u001b[0mtensor\u001b[0m\u001b[0;34m.\u001b[0m\u001b[0mdim\u001b[0m\u001b[0;34m(\u001b[0m\u001b[0;34m)\u001b[0m\u001b[0;34m==\u001b[0m\u001b[0;36m2\u001b[0m\u001b[0;34m:\u001b[0m\u001b[0;34m\u001b[0m\u001b[0m\n\u001b[1;32m    161\u001b[0m             \u001b[0mtensor\u001b[0m \u001b[0;34m=\u001b[0m \u001b[0mtensor\u001b[0m\u001b[0;34m.\u001b[0m\u001b[0munsqueeze\u001b[0m\u001b[0;34m(\u001b[0m\u001b[0;36m0\u001b[0m\u001b[0;34m)\u001b[0m\u001b[0;34m\u001b[0m\u001b[0m\n\u001b[0;32m--> 162\u001b[0;31m         \u001b[0mtensor\u001b[0m \u001b[0;34m=\u001b[0m \u001b[0mtensor\u001b[0m\u001b[0;34m.\u001b[0m\u001b[0mcpu\u001b[0m\u001b[0;34m(\u001b[0m\u001b[0;34m)\u001b[0m\u001b[0;34m.\u001b[0m\u001b[0mpermute\u001b[0m\u001b[0;34m(\u001b[0m\u001b[0;36m1\u001b[0m\u001b[0;34m,\u001b[0m\u001b[0;36m2\u001b[0m\u001b[0;34m,\u001b[0m\u001b[0;36m0\u001b[0m\u001b[0;34m)\u001b[0m\u001b[0;34m.\u001b[0m\u001b[0mnumpy\u001b[0m\u001b[0;34m(\u001b[0m\u001b[0;34m)\u001b[0m\u001b[0;34m\u001b[0m\u001b[0m\n\u001b[0m\u001b[1;32m    163\u001b[0m     \u001b[0;32melse\u001b[0m\u001b[0;34m:\u001b[0m\u001b[0;34m\u001b[0m\u001b[0m\n\u001b[1;32m    164\u001b[0m         \u001b[0mtensor\u001b[0m \u001b[0;34m=\u001b[0m \u001b[0mtensor\u001b[0m\u001b[0;34m.\u001b[0m\u001b[0mastype\u001b[0m\u001b[0;34m(\u001b[0m\u001b[0mnp\u001b[0m\u001b[0;34m.\u001b[0m\u001b[0mfloat32\u001b[0m\u001b[0;34m)\u001b[0m\u001b[0;34m\u001b[0m\u001b[0m\n",
      "\u001b[0;31mRuntimeError\u001b[0m: Can't call numpy() on Variable that requires grad. Use var.detach().numpy() instead."
     ]
    }
   ],
   "source": [
    "for epoch in range(num_epochs):\n",
    "    \n",
    "    running_loss = .0\n",
    "    running_acc = .0\n",
    "    for i, data in enumerate(train_load, 1):\n",
    "        img, label = data\n",
    "        img = img.cuda()\n",
    "        label = label.cuda()\n",
    "        \n",
    "        out, deconv1, deconv2, deconv3 = model(img)\n",
    "        loss = criterion(out, label)\n",
    "        \n",
    "        running_loss += loss.item() * batch_size\n",
    "        \n",
    "        _, pred = torch.max(out, 1)\n",
    "        running_acc += (pred == label).sum().item()\n",
    "        \n",
    "        \n",
    "        optimizer.zero_grad()\n",
    "        loss.backward()\n",
    "        optimizer.step()\n",
    "        \n",
    "        step = epoch * len(train_load) + i\n",
    "        accuracy = (pred == label).float().mean()\n",
    "        \n",
    "        writer.add_scalar('loss', loss.item(), step)\n",
    "        writer.add_scalar('accuracy', accuracy, step)\n",
    "        writer.add_image('images', torchvision.utils.make_grid(img), step)\n",
    "        \n",
    "#         torchvision.utils.save_image(torchvision.utils.make_grid(img), 'xxx.jpg')\n",
    "#         torchvision.utils.save_image(torchvision.utils.make_grid(deconv1 + img.mean()), 'xxx1.jpg')\n",
    "#         torchvision.utils.save_image(torchvision.utils.make_grid(deconv2 + img.mean()), 'xxx2.jpg')\n",
    "#         torchvision.utils.save_image(torchvision.utils.make_grid(deconv3 + img.mean()), 'xxx3.jpg')\n",
    "#         torchvision.utils.save_image(torchvision.utils.make_grid(img), 'xxx.jpg')\n",
    "#         torchvision.utils.save_image(torchvision.utils.make_grid(deconv1.abs_()), 'xxx1.jpg')\n",
    "#         torchvision.utils.save_image(torchvision.utils.make_grid(deconv2.abs_()), 'xxx2.jpg')\n",
    "#         torchvision.utils.save_image(torchvision.utils.make_grid(deconv3.abs_()), 'xxx3.jpg')\n",
    "\n",
    "#         _deconv1 = deconv1 + img.mean()\n",
    "    \n",
    "#         deconv1_img = StringIO.StringIO()\n",
    "#         deconv2_img = StringIO.StringIO()\n",
    "#         deconv3_img = StringIO.StringIO()\n",
    "        \n",
    "#         log_images('deconv1', deconv1.abs_(), step)\n",
    "        \n",
    "        \n",
    "#         _deconv1 = torch.tensor(deconv1 + img.mean())\n",
    "#         _deconv1.abs_()\n",
    "    \n",
    "        writer.add_image('deconv1', torchvision.utils.make_grid(deconv1.abs_()), step)\n",
    "#         writer.add_image('deconv2', torchvision.utils.make_grid(deconv2 + img.mean()), step)\n",
    "#         writer.add_image('deconv3', torchvision.utils.make_grid(deconv3 + img.mean()), step)\n",
    "            \n",
    "#         _img = toimg_trans(torchvision.utils.make_grid(deconv1.cpu()))\n",
    "#         log_images('deconv1', [_img], step)\n",
    "        \n",
    "        \n",
    "        if i % 100 == 0:\n",
    "            for tag, value in model.named_parameters():\n",
    "                tag = tag.replace('.', '/')\n",
    "                writer.add_histogram(tag, value.cpu().data.numpy(), step)\n",
    "                writer.add_histogram(tag + '/grad', value.grad.cpu().data.numpy(), step)\n",
    "        \n",
    "        if i % 500 == 0:\n",
    "            print 'Epoch: [{}/{}], Loss: {:.6f}, Acc: {:.6f}'.format(epoch + 1, num_epochs, \\\n",
    "                                                                    running_loss / (batch_size * i), \\\n",
    "                                                                    running_acc / (batch_size * i))\n",
    "            \n",
    "    print 'Finish {} Epoch, Loss: {:.6f}, Acc: {:.6f}'.format(epoch + 1, \\\n",
    "                                                             running_loss / len(train_dataset), \\\n",
    "                                                             running_acc / len(train_dataset))\n",
    "        \n",
    "    model.eval()\n",
    "    eval_loss = .0\n",
    "    eval_acc = .0\n",
    "    for data in test_load:\n",
    "        img, label = data\n",
    "        img = img.cuda()\n",
    "        label = label.cuda()\n",
    "        \n",
    "        out, deconv1, deconv2, deconv3 = model(img)\n",
    "        loss = criterion(out, label)\n",
    "        \n",
    "        eval_loss += loss.item() * batch_size\n",
    "        \n",
    "        _, pred = torch.max(out, 1)\n",
    "        eval_acc += (pred == label).sum().item()\n",
    "        \n",
    "    print 'Eval Loss: {:.6f}, Eval Acc: {:.6f}'.format(eval_loss / len(test_dataset), eval_acc / len(test_dataset))"
   ]
  },
  {
   "cell_type": "code",
   "execution_count": 27,
   "metadata": {},
   "outputs": [],
   "source": [
    "writer.close()"
   ]
  },
  {
   "cell_type": "code",
   "execution_count": null,
   "metadata": {},
   "outputs": [],
   "source": [
    "torch.save(model.state_dict, './ser/cnn.pth')"
   ]
  }
 ],
 "metadata": {
  "kernelspec": {
   "display_name": "Python 2",
   "language": "python",
   "name": "python2"
  },
  "language_info": {
   "codemirror_mode": {
    "name": "ipython",
    "version": 2
   },
   "file_extension": ".py",
   "mimetype": "text/x-python",
   "name": "python",
   "nbconvert_exporter": "python",
   "pygments_lexer": "ipython2",
   "version": "2.7.12"
  },
  "varInspector": {
   "cols": {
    "lenName": 16,
    "lenType": 16,
    "lenVar": 40
   },
   "kernels_config": {
    "python": {
     "delete_cmd_postfix": "",
     "delete_cmd_prefix": "del ",
     "library": "var_list.py",
     "varRefreshCmd": "print(var_dic_list())"
    },
    "r": {
     "delete_cmd_postfix": ") ",
     "delete_cmd_prefix": "rm(",
     "library": "var_list.r",
     "varRefreshCmd": "cat(var_dic_list()) "
    }
   },
   "types_to_exclude": [
    "module",
    "function",
    "builtin_function_or_method",
    "instance",
    "_Feature"
   ],
   "window_display": false
  }
 },
 "nbformat": 4,
 "nbformat_minor": 2
}
