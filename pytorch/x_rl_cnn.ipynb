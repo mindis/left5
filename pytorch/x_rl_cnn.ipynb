{
 "cells": [
  {
   "cell_type": "code",
   "execution_count": 34,
   "metadata": {},
   "outputs": [],
   "source": [
    "import torch\n",
    "from torch import nn, optim\n",
    "from torch.utils.data import DataLoader\n",
    "from torchvision import transforms, datasets\n",
    "from torchvision.utils import save_image, make_grid\n",
    "import numpy as np\n",
    "from PIL import Image\n",
    "import matplotlib.pyplot as plt"
   ]
  },
  {
   "cell_type": "code",
   "execution_count": 2,
   "metadata": {},
   "outputs": [],
   "source": [
    "from matplotlib import rcParams\n",
    "rcParams['figure.figsize'] = (12, 8)\n",
    "\n",
    "%matplotlib inline"
   ]
  },
  {
   "cell_type": "code",
   "execution_count": 3,
   "metadata": {},
   "outputs": [],
   "source": [
    "device = torch.device('cuda' if torch.cuda.is_available() else 'cpu')"
   ]
  },
  {
   "cell_type": "code",
   "execution_count": 4,
   "metadata": {},
   "outputs": [],
   "source": [
    "batch_size = 32\n",
    "num_epochs = 5\n",
    "\n",
    "z_dimension = 100\n",
    "num_feature = 56 * 56"
   ]
  },
  {
   "cell_type": "code",
   "execution_count": 5,
   "metadata": {},
   "outputs": [],
   "source": [
    "img_transform = transforms.Compose([\n",
    "    transforms.ToTensor(),\n",
    "    transforms.Normalize((.5, .5, .5), (.5, .5, .5))\n",
    "])\n",
    "\n",
    "dataset = datasets.MNIST('./datas', transform=img_transform)\n",
    "dataloader = DataLoader(dataset, batch_size=batch_size, shuffle=True, num_workers=4)"
   ]
  },
  {
   "cell_type": "code",
   "execution_count": 6,
   "metadata": {},
   "outputs": [],
   "source": [
    "class Discriminator(nn.Module):\n",
    "    def __init__(self):\n",
    "        super(Discriminator, self).__init__()\n",
    "        \n",
    "        self.conv1 = nn.Sequential(\n",
    "            nn.Conv2d(1, 32, 3, padding=1),\n",
    "            nn.LeakyReLU(.2, True),\n",
    "            nn.AvgPool2d(2, 2), \n",
    "        ) # b 32 14 14\n",
    "        \n",
    "        self.conv2 = nn.Sequential(\n",
    "            nn.Conv2d(32, 64, 3, padding=1),\n",
    "            nn.LeakyReLU(.2, True),\n",
    "            nn.AvgPool2d(2, 2),\n",
    "        ) # b 64 7 7\n",
    "        \n",
    "        self.fc = nn.Sequential(\n",
    "            nn.Linear(64 * 7 * 7, 1024),\n",
    "            nn.LeakyReLU(.2, True),\n",
    "            nn.Linear(1024, 1),\n",
    "            nn.Sigmoid(),\n",
    "        ) # b 1\n",
    "    \n",
    "    def forward(self, x): # b 1 28 28\n",
    "        out = self.conv1(x)\n",
    "        out = self.conv2(out)\n",
    "        \n",
    "        out = out.view(x.size(0), -1)\n",
    "        return self.fc(out)"
   ]
  },
  {
   "cell_type": "code",
   "execution_count": 7,
   "metadata": {},
   "outputs": [],
   "source": [
    "class Generator(nn.Module):\n",
    "    def __init__(self, inp_dim, num_feature):\n",
    "        super(Generator, self).__init__()\n",
    "        \n",
    "        self.fc = nn.Sequential(\n",
    "            nn.Linear(inp_dim, num_feature)\n",
    "        ) # b h*w\n",
    "        self.br = nn.Sequential(\n",
    "            nn.BatchNorm2d(1),\n",
    "            nn.LeakyReLU(.2, True),\n",
    "        ) # b 1 56 56\n",
    "        \n",
    "        self.downsample1 = nn.Sequential(\n",
    "            nn.Conv2d(1, 64, 3, padding=1),\n",
    "            nn.BatchNorm2d(64),\n",
    "            nn.LeakyReLU(.2, True),\n",
    "        ) # b 64 56 56\n",
    "        \n",
    "        self.downsample2 = nn.Sequential(\n",
    "            nn.Conv2d(64, 32, 3, padding=1),\n",
    "            nn.BatchNorm2d(32),\n",
    "            nn.LeakyReLU(.2, True),\n",
    "        ) # b 32 56 56\n",
    "        \n",
    "        self.downsample3 = nn.Sequential(\n",
    "            nn.Conv2d(32, 1, 3, padding=1, stride=2),\n",
    "            nn.Tanh(),\n",
    "        ) # b 1 28 28\n",
    "        \n",
    "    def forward(self, x):\n",
    "        out = self.fc(x)\n",
    "        \n",
    "        out = out.view(x.size(0), 1, 56, 56)\n",
    "        out = self.br(out)\n",
    "        out = self.downsample1(out)\n",
    "        out = self.downsample2(out)\n",
    "        out = self.downsample3(out)\n",
    "        return out"
   ]
  },
  {
   "cell_type": "code",
   "execution_count": 8,
   "metadata": {},
   "outputs": [],
   "source": [
    "d = Discriminator().to(device)\n",
    "g = Generator(z_dimension, num_feature).to(device)\n",
    "\n",
    "criterion = nn.BCELoss()\n",
    "\n",
    "d_optimezer = optim.Adam(d.parameters(), lr=1e-4)\n",
    "g_optimezer = optim.Adam(g.parameters(), lr=1e-4)"
   ]
  },
  {
   "cell_type": "code",
   "execution_count": 38,
   "metadata": {},
   "outputs": [
    {
     "name": "stdout",
     "output_type": "stream",
     "text": [
      "Epoch [1/5], Step: 9600, d_loss: 0.334150, g_loss: 2.909702, real_scores: 0.900529, fake_scores: 0.101913\n",
      "Epoch [1/5], Step: 19200, d_loss: 0.197517, g_loss: 1.981453, real_scores: 0.925055, fake_scores: 0.072451\n",
      "Epoch [1/5], Step: 28800, d_loss: 0.595374, g_loss: 1.973973, real_scores: 0.861711, fake_scores: 0.256981\n",
      "Epoch [1/5], Step: 38400, d_loss: 0.555540, g_loss: 2.527203, real_scores: 0.847758, fake_scores: 0.160152\n",
      "Epoch [1/5], Step: 48000, d_loss: 0.626434, g_loss: 2.823772, real_scores: 0.908310, fake_scores: 0.328955\n",
      "Epoch [1/5], Step: 57600, d_loss: 0.277810, g_loss: 3.012627, real_scores: 0.921219, fake_scores: 0.148798\n",
      "Epoch [2/5], Step: 9600, d_loss: 0.437052, g_loss: 1.909187, real_scores: 0.861107, fake_scores: 0.178785\n",
      "Epoch [2/5], Step: 19200, d_loss: 0.442610, g_loss: 3.235762, real_scores: 0.803004, fake_scores: 0.052169\n",
      "Epoch [2/5], Step: 28800, d_loss: 0.352433, g_loss: 3.098962, real_scores: 0.871268, fake_scores: 0.126655\n",
      "Epoch [2/5], Step: 38400, d_loss: 0.309200, g_loss: 3.745600, real_scores: 0.881324, fake_scores: 0.107780\n",
      "Epoch [2/5], Step: 48000, d_loss: 0.522631, g_loss: 3.520310, real_scores: 0.834865, fake_scores: 0.095078\n",
      "Epoch [2/5], Step: 57600, d_loss: 0.353265, g_loss: 2.711741, real_scores: 0.867335, fake_scores: 0.135251\n",
      "Epoch [3/5], Step: 9600, d_loss: 0.418122, g_loss: 1.998196, real_scores: 0.916078, fake_scores: 0.194889\n",
      "Epoch [3/5], Step: 19200, d_loss: 0.302483, g_loss: 3.618824, real_scores: 0.915338, fake_scores: 0.128665\n",
      "Epoch [3/5], Step: 28800, d_loss: 0.532261, g_loss: 2.998693, real_scores: 0.805879, fake_scores: 0.105673\n",
      "Epoch [3/5], Step: 38400, d_loss: 0.578431, g_loss: 3.169119, real_scores: 0.738537, fake_scores: 0.097520\n",
      "Epoch [3/5], Step: 48000, d_loss: 0.311683, g_loss: 3.161330, real_scores: 0.919288, fake_scores: 0.129215\n",
      "Epoch [3/5], Step: 57600, d_loss: 0.438917, g_loss: 1.862086, real_scores: 0.821499, fake_scores: 0.123405\n",
      "Epoch [4/5], Step: 9600, d_loss: 0.722162, g_loss: 2.762398, real_scores: 0.832153, fake_scores: 0.307535\n",
      "Epoch [4/5], Step: 19200, d_loss: 0.515210, g_loss: 2.540656, real_scores: 0.906906, fake_scores: 0.202466\n",
      "Epoch [4/5], Step: 28800, d_loss: 0.399359, g_loss: 2.160871, real_scores: 0.908808, fake_scores: 0.181601\n",
      "Epoch [4/5], Step: 38400, d_loss: 0.517737, g_loss: 1.958952, real_scores: 0.933378, fake_scores: 0.248282\n",
      "Epoch [4/5], Step: 48000, d_loss: 0.302506, g_loss: 2.576553, real_scores: 0.916445, fake_scores: 0.143404\n",
      "Epoch [4/5], Step: 57600, d_loss: 0.447746, g_loss: 3.255014, real_scores: 0.881602, fake_scores: 0.155895\n",
      "Epoch [5/5], Step: 9600, d_loss: 0.396844, g_loss: 2.142461, real_scores: 0.910948, fake_scores: 0.191839\n",
      "Epoch [5/5], Step: 19200, d_loss: 0.710544, g_loss: 2.794065, real_scores: 0.891140, fake_scores: 0.331874\n",
      "Epoch [5/5], Step: 28800, d_loss: 0.329825, g_loss: 2.008624, real_scores: 0.934518, fake_scores: 0.181144\n",
      "Epoch [5/5], Step: 38400, d_loss: 0.397771, g_loss: 3.051439, real_scores: 0.923149, fake_scores: 0.211059\n",
      "Epoch [5/5], Step: 48000, d_loss: 0.336818, g_loss: 3.573495, real_scores: 0.854119, fake_scores: 0.054158\n",
      "Epoch [5/5], Step: 57600, d_loss: 0.494392, g_loss: 2.716402, real_scores: 0.947549, fake_scores: 0.286219\n"
     ]
    }
   ],
   "source": [
    "for epoch in range(num_epochs):\n",
    "    for i, (img, _) in enumerate(dataloader):\n",
    "        \n",
    "        real_img = img.cuda()\n",
    "        real_labels = torch.ones(img.size(0), 1).cuda()\n",
    "        fake_labels = torch.zeros(img.size(0), 1).cuda()\n",
    "        \n",
    "        real_out = d(real_img)\n",
    "        d_loss_real = criterion(real_out, real_labels)\n",
    "        real_scores = real_out\n",
    "        \n",
    "        z = torch.randn(img.size(0), z_dimension).cuda()\n",
    "        fake_img = g(z)\n",
    "        fake_out = d(fake_img)\n",
    "        d_loss_fake = criterion(fake_out, fake_labels)\n",
    "        fake_scores = fake_out\n",
    "        \n",
    "        d_loss = d_loss_real + d_loss_fake\n",
    "        d_optimezer.zero_grad()\n",
    "        d_loss.backward()\n",
    "        d_optimezer.step()\n",
    "        \n",
    "        z = torch.randn(img.size(0), z_dimension).cuda()\n",
    "        fake_img = g(z)\n",
    "        fake_out = d(fake_img)\n",
    "        g_loss = criterion(fake_out, real_labels)\n",
    "        \n",
    "        g_optimezer.zero_grad()\n",
    "        g_loss.backward()\n",
    "        g_optimezer.step()\n",
    "        \n",
    "        if (i + 1) % 500 == 0:\n",
    "            print 'Epoch [{}/{}], Step: {:6d}, d_loss: {:.6f}, g_loss: {:.6f}, real_scores: {:.6f}' \\\n",
    "', fake_scores: {:.6f}'.format(epoch+1, num_epochs, (i+1) * batch_size, d_loss, g_loss, real_scores.mean(), fake_scores.mean())\n",
    "    \n",
    "    if epoch == 0:\n",
    "        real_images = real_img.view(-1, 1, 28, 28).cpu().data\n",
    "        save_image(real_images, './rl_cnn_img/real_images.png')\n",
    "\n",
    "    fake_images = fake_img.view(-1, 1, 28, 28).cpu().data\n",
    "    save_image(fake_images, './rl_cnn_img/fake_images-{}.png'.format(epoch+1))"
   ]
  },
  {
   "cell_type": "code",
   "execution_count": 39,
   "metadata": {},
   "outputs": [],
   "source": [
    "torch.save(d.state_dict(), './ser/discriminator.pkl')\n",
    "torch.save(g.state_dict(), './ser/generator.pkl')"
   ]
  },
  {
   "cell_type": "code",
   "execution_count": 56,
   "metadata": {},
   "outputs": [
    {
     "data": {
      "image/png": "[encoded data removed]",
      "text/plain": [
       "<matplotlib.figure.Figure at 0x7f07f4c4e3d0>"
      ]
     },
     "metadata": {},
     "output_type": "display_data"
    }
   ],
   "source": [
    "z = torch.randn(8, z_dimension).to(device)\n",
    "images = g(z)\n",
    "# save_image(images, 'xx.png')\n",
    "plt.imshow(Image.fromarray(make_grid(images).mul(255).clamp(0, 255).byte().permute(1, 2, 0).cpu().numpy()))\n",
    "plt.show()"
   ]
  },
  {
   "cell_type": "code",
   "execution_count": null,
   "metadata": {},
   "outputs": [],
   "source": []
  }
 ],
 "metadata": {
  "kernelspec": {
   "display_name": "Python 2",
   "language": "python",
   "name": "python2"
  },
  "language_info": {
   "codemirror_mode": {
    "name": "ipython",
    "version": 2
   },
   "file_extension": ".py",
   "mimetype": "text/x-python",
   "name": "python",
   "nbconvert_exporter": "python",
   "pygments_lexer": "ipython2",
   "version": "2.7.12"
  },
  "varInspector": {
   "cols": {
    "lenName": 16,
    "lenType": 16,
    "lenVar": 40
   },
   "kernels_config": {
    "python": {
     "delete_cmd_postfix": "",
     "delete_cmd_prefix": "del ",
     "library": "var_list.py",
     "varRefreshCmd": "print(var_dic_list())"
    },
    "r": {
     "delete_cmd_postfix": ") ",
     "delete_cmd_prefix": "rm(",
     "library": "var_list.r",
     "varRefreshCmd": "cat(var_dic_list()) "
    }
   },
   "types_to_exclude": [
    "module",
    "function",
    "builtin_function_or_method",
    "instance",
    "_Feature"
   ],
   "window_display": false
  }
 },
 "nbformat": 4,
 "nbformat_minor": 2
}
