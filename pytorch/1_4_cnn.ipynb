{
 "cells": [
  {
   "cell_type": "code",
   "execution_count": 15,
   "metadata": {},
   "outputs": [],
   "source": [
    "import torch\n",
    "from torch import nn, optim\n",
    "from torch.utils.data import DataLoader\n",
    "from torchvision import datasets, transforms\n",
    "import torchvision\n",
    "import numpy as np\n",
    "import matplotlib.pyplot as plt\n",
    "from tensorboardX import SummaryWriter\n",
    "# import scipy\n",
    "# import StringIO"
   ]
  },
  {
   "cell_type": "code",
   "execution_count": 2,
   "metadata": {},
   "outputs": [],
   "source": [
    "%matplotlib inline"
   ]
  },
  {
   "cell_type": "code",
   "execution_count": 3,
   "metadata": {},
   "outputs": [],
   "source": [
    "batch_size = 32\n",
    "learnning_rate = 1e-3\n",
    "num_epochs = 3"
   ]
  },
  {
   "cell_type": "code",
   "execution_count": 4,
   "metadata": {},
   "outputs": [],
   "source": [
    "train_dataset = datasets.MNIST('./datas', train=True, transform=transforms.ToTensor())\n",
    "test_dataset = datasets.MNIST('./datas', train=False, transform=transforms.ToTensor())\n",
    "\n",
    "train_load = DataLoader(train_dataset, batch_size=batch_size, shuffle=True)\n",
    "test_load = DataLoader(test_dataset, batch_size=batch_size, shuffle=False)"
   ]
  },
  {
   "cell_type": "code",
   "execution_count": 5,
   "metadata": {},
   "outputs": [],
   "source": [
    "class Cnn(nn.Module):\n",
    "    def __init__(self, in_dim, out_dim):\n",
    "        super(Cnn, self).__init__()\n",
    "        \n",
    "        self.conv = nn.Sequential(\n",
    "            nn.Conv2d(in_dim, 6, 3, stride=1, padding=1), # b 6 28 28\n",
    "            nn.ReLU(True),\n",
    "            nn.MaxPool2d(2, stride=2), # b 6 14 14\n",
    "            nn.Conv2d(6, 16, 3, stride=1, padding=1), # b 16 14 14\n",
    "            nn.ReLU(True),\n",
    "            nn.MaxPool2d(2, 2), # b 16 7 7\n",
    "            nn.Conv2d(16, 16, 3, stride=1), # b 32 5 5\n",
    "            nn.ReLU(True),\n",
    "        )\n",
    "        \n",
    "        self.fc = nn.Sequential(\n",
    "            nn.Linear(400, 200),\n",
    "            nn.Linear(200, 100),\n",
    "            nn.Linear(100, out_dim),\n",
    "        )\n",
    "        \n",
    "    def forward(self, x):\n",
    "        out = self.conv(x)\n",
    "        out = out.view(x.size(0), -1)\n",
    "        return self.fc(out)\n",
    "    "
   ]
  },
  {
   "cell_type": "code",
   "execution_count": 24,
   "metadata": {},
   "outputs": [],
   "source": [
    "model = Cnn(1, 10).cuda()\n",
    "\n",
    "criterion = nn.CrossEntropyLoss()\n",
    "optimizer = optim.Adam(model.parameters(), lr=learnning_rate)"
   ]
  },
  {
   "cell_type": "code",
   "execution_count": 25,
   "metadata": {},
   "outputs": [],
   "source": [
    "writer = SummaryWriter('./log/cnn')"
   ]
  },
  {
   "cell_type": "code",
   "execution_count": 26,
   "metadata": {
    "scrolled": true
   },
   "outputs": [
    {
     "name": "stdout",
     "output_type": "stream",
     "text": [
      "Epoch: [1/3], Loss: 0.439303, Acc: 0.855125\n",
      "Epoch: [1/3], Loss: 0.281763, Acc: 0.908188\n",
      "Epoch: [1/3], Loss: 0.221142, Acc: 0.928667\n",
      "Finish 1 Epoch, Loss: 0.193993, Acc: 0.937417\n",
      "Eval Loss: 0.056701, Eval Acc: 0.981100\n",
      "Epoch: [2/3], Loss: 0.069399, Acc: 0.978625\n",
      "Epoch: [2/3], Loss: 0.067727, Acc: 0.979031\n",
      "Epoch: [2/3], Loss: 0.066395, Acc: 0.979688\n",
      "Finish 2 Epoch, Loss: 0.064901, Acc: 0.979867\n",
      "Eval Loss: 0.039565, Eval Acc: 0.987900\n",
      "Epoch: [3/3], Loss: 0.052905, Acc: 0.983000\n",
      "Epoch: [3/3], Loss: 0.053167, Acc: 0.983187\n",
      "Epoch: [3/3], Loss: 0.053199, Acc: 0.983250\n",
      "Finish 3 Epoch, Loss: 0.052645, Acc: 0.983383\n",
      "Eval Loss: 0.057016, Eval Acc: 0.981400\n"
     ]
    }
   ],
   "source": [
    "for epoch in range(num_epochs):\n",
    "    \n",
    "    running_loss = .0\n",
    "    running_acc = .0\n",
    "    for i, data in enumerate(train_load, 1):\n",
    "        img, label = data\n",
    "        img = img.cuda()\n",
    "        label = label.cuda()\n",
    "        \n",
    "        out = model(img)\n",
    "        loss = criterion(out, label)\n",
    "        \n",
    "        running_loss += loss.item() * batch_size\n",
    "        \n",
    "        _, pred = torch.max(out, 1)\n",
    "        running_acc += (pred == label).sum().item()\n",
    "        \n",
    "        \n",
    "        optimizer.zero_grad()\n",
    "        loss.backward()\n",
    "        optimizer.step()\n",
    "        \n",
    "        step = epoch * len(train_load) + i\n",
    "        accuracy = (pred == label).float().mean()\n",
    "        \n",
    "        writer.add_scalar('loss', loss.item(), step)\n",
    "        writer.add_scalar('accuracy', accuracy, step)\n",
    "        writer.add_image('images', torchvision.utils.make_grid(img[:16]), step)\n",
    "        \n",
    "        model.conv.\n",
    "        \n",
    "        if i % 100 == 0:\n",
    "            for tag, value in model.named_parameters():\n",
    "                tag = tag.replace('.', '/')\n",
    "                writer.add_histogram(tag, value.cpu().data.numpy(), step)\n",
    "                writer.add_histogram(tag + '/grad', value.grad.cpu().data.numpy(), step)\n",
    "        \n",
    "        if i % 500 == 0:\n",
    "            print 'Epoch: [{}/{}], Loss: {:.6f}, Acc: {:.6f}'.format(epoch + 1, num_epochs, \\\n",
    "                                                                    running_loss / (batch_size * i), \\\n",
    "                                                                    running_acc / (batch_size * i))\n",
    "            \n",
    "    print 'Finish {} Epoch, Loss: {:.6f}, Acc: {:.6f}'.format(epoch + 1, \\\n",
    "                                                             running_loss / len(train_dataset), \\\n",
    "                                                             running_acc / len(train_dataset))\n",
    "        \n",
    "    model.eval()\n",
    "    eval_loss = .0\n",
    "    eval_acc = .0\n",
    "    for data in test_load:\n",
    "        img, label = data\n",
    "        img = img.cuda()\n",
    "        label = label.cuda()\n",
    "        \n",
    "        out = model(img)\n",
    "        loss = criterion(out, label)\n",
    "        \n",
    "        eval_loss += loss.item() * batch_size\n",
    "        \n",
    "        _, pred = torch.max(out, 1)\n",
    "        eval_acc += (pred == label).sum().item()\n",
    "        \n",
    "    print 'Eval Loss: {:.6f}, Eval Acc: {:.6f}'.format(eval_loss / len(test_dataset), eval_acc / len(test_dataset))"
   ]
  },
  {
   "cell_type": "code",
   "execution_count": 27,
   "metadata": {},
   "outputs": [],
   "source": [
    "writer.close()"
   ]
  },
  {
   "cell_type": "code",
   "execution_count": null,
   "metadata": {},
   "outputs": [],
   "source": [
    "torch.save(model.state_dict, './ser/cnn.pth')"
   ]
  }
 ],
 "metadata": {
  "kernelspec": {
   "display_name": "Python 2",
   "language": "python",
   "name": "python2"
  },
  "language_info": {
   "codemirror_mode": {
    "name": "ipython",
    "version": 2
   },
   "file_extension": ".py",
   "mimetype": "text/x-python",
   "name": "python",
   "nbconvert_exporter": "python",
   "pygments_lexer": "ipython2",
   "version": "2.7.12"
  },
  "varInspector": {
   "cols": {
    "lenName": 16,
    "lenType": 16,
    "lenVar": 40
   },
   "kernels_config": {
    "python": {
     "delete_cmd_postfix": "",
     "delete_cmd_prefix": "del ",
     "library": "var_list.py",
     "varRefreshCmd": "print(var_dic_list())"
    },
    "r": {
     "delete_cmd_postfix": ") ",
     "delete_cmd_prefix": "rm(",
     "library": "var_list.r",
     "varRefreshCmd": "cat(var_dic_list()) "
    }
   },
   "types_to_exclude": [
    "module",
    "function",
    "builtin_function_or_method",
    "instance",
    "_Feature"
   ],
   "window_display": false
  }
 },
 "nbformat": 4,
 "nbformat_minor": 2
}
