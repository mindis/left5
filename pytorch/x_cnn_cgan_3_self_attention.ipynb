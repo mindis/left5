{
 "cells": [
  {
   "cell_type": "code",
   "execution_count": 1,
   "metadata": {},
   "outputs": [],
   "source": [
    "import os\n",
    "from tqdm import tnrange, tqdm_notebook, tqdm\n",
    "import torch\n",
    "from torch import nn, optim\n",
    "from torch.utils.data import DataLoader\n",
    "from torchvision import transforms, datasets\n",
    "from torchvision.utils import save_image, make_grid\n",
    "from torch.autograd import Variable\n",
    "import numpy as np\n",
    "from PIL import Image\n",
    "import matplotlib.pyplot as plt\n",
    "from tensorboardX import SummaryWriter"
   ]
  },
  {
   "cell_type": "code",
   "execution_count": 2,
   "metadata": {},
   "outputs": [],
   "source": [
    "# os.environ['CUDA_VISIBLE_DEVICES'] = '1'"
   ]
  },
  {
   "cell_type": "code",
   "execution_count": 3,
   "metadata": {},
   "outputs": [],
   "source": [
    "from matplotlib import rcParams\n",
    "rcParams['figure.figsize'] = (12, 8)\n",
    "\n",
    "%matplotlib inline"
   ]
  },
  {
   "cell_type": "code",
   "execution_count": 4,
   "metadata": {},
   "outputs": [],
   "source": [
    "device = torch.device('cuda' if torch.cuda.is_available() else 'cpu')"
   ]
  },
  {
   "cell_type": "code",
   "execution_count": 5,
   "metadata": {},
   "outputs": [
    {
     "data": {
      "text/plain": [
       "True"
      ]
     },
     "execution_count": 5,
     "metadata": {},
     "output_type": "execute_result"
    }
   ],
   "source": [
    "torch.cuda.is_available()"
   ]
  },
  {
   "cell_type": "code",
   "execution_count": 6,
   "metadata": {},
   "outputs": [],
   "source": [
    "device_ids = [0]"
   ]
  },
  {
   "cell_type": "code",
   "execution_count": 7,
   "metadata": {},
   "outputs": [],
   "source": [
    "batch_size = 128\n",
    "num_epochs = 100\n",
    "\n",
    "z_dimension = 100\n",
    "num_feature = (32, 4, 4) # 64 * 64\n",
    "\n",
    "img_shape = (1, 32, 32)"
   ]
  },
  {
   "cell_type": "code",
   "execution_count": 8,
   "metadata": {},
   "outputs": [],
   "source": [
    "img_transform = transforms.Compose([\n",
    "    transforms.Resize(32),\n",
    "    transforms.ToTensor(),\n",
    "#     transforms.Normalize((.5, .5, .5), (.5, .5, .5))\n",
    "    transforms.Normalize((0.1307,), (0.3081,))\n",
    "])\n",
    "\n",
    "dataset = datasets.MNIST('~/data/mnist', transform=img_transform) #, download=True)\n",
    "dataloader = DataLoader(dataset, batch_size=batch_size, shuffle=True, num_workers=4)"
   ]
  },
  {
   "cell_type": "code",
   "execution_count": 9,
   "metadata": {},
   "outputs": [],
   "source": [
    "class SelfAttention(nn.Module):\n",
    "    \"\"\" Self attention Layer\"\"\"\n",
    "    def __init__(self, in_dim):\n",
    "        super(SelfAttention,self).__init__()\n",
    "        \n",
    "        self.query_conv = nn.Conv2d(in_channels=in_dim, out_channels=in_dim // 8, kernel_size=1)\n",
    "        self.key_conv = nn.Conv2d(in_channels=in_dim, out_channels=in_dim // 8, kernel_size=1)\n",
    "        self.value_conv = nn.Conv2d(in_channels=in_dim, out_channels=in_dim, kernel_size=1)\n",
    "        self.gamma = nn.Parameter(torch.zeros(1))\n",
    "\n",
    "        self.softmax  = nn.Softmax(dim=-1) #\n",
    "        \n",
    "    def forward(self, x):\n",
    "        \n",
    "        m_batchsize, C, width ,height = x.size()\n",
    "        proj_query = self.query_conv(x).view(m_batchsize, -1, width * height).permute(0, 2, 1) # B (N) C\n",
    "        proj_key = self.key_conv(x).view(m_batchsize, -1, width * height) # B C (N)\n",
    "        energy = torch.bmm(proj_query, proj_key) # transpose check\n",
    "        attention = self.softmax(energy) # B (N) (N) \n",
    "        proj_value = self.value_conv(x).view(m_batchsize, -1, width * height) # B C N\n",
    "\n",
    "        out = torch.bmm(proj_value, attention.permute(0, 2, 1)) # B C N\n",
    "        out = out.view(m_batchsize, C, width, height) # B C W H\n",
    "        \n",
    "        out = self.gamma * out + x\n",
    "        return out, attention"
   ]
  },
  {
   "cell_type": "code",
   "execution_count": 10,
   "metadata": {},
   "outputs": [],
   "source": [
    "def gen_noise(batch_size, label):\n",
    "    prefix = np.zeros((batch_size, 10))\n",
    "    prefix[np.arange(batch_size), label.cpu().numpy()] = 1\n",
    "    z = np.random.normal(0, 1, (batch_size, z_dimension))\n",
    "    prefix = prefix / np.linalg.norm(prefix)\n",
    "    z[:, :10] = prefix\n",
    "    return torch.from_numpy(z).float().to(device)"
   ]
  },
  {
   "cell_type": "code",
   "execution_count": 11,
   "metadata": {},
   "outputs": [],
   "source": [
    "def gen_label_one_hot(batch_size, label):\n",
    "    prefix = np.zeros((batch_size, 10))\n",
    "    prefix[np.arange(batch_size), label.cpu().numpy()] = 1\n",
    "    return torch.from_numpy(prefix).float().to(device)"
   ]
  },
  {
   "cell_type": "code",
   "execution_count": 12,
   "metadata": {},
   "outputs": [],
   "source": [
    "class Discriminator(nn.Module):\n",
    "    def __init__(self):\n",
    "        super(Discriminator, self).__init__()\n",
    "        \n",
    "#         self.label_embedding = nn.Linear(10, np.prod(img_shape))\n",
    "        \n",
    "        self.conv1 = nn.Sequential(\n",
    "            nn.utils.spectral_norm(nn.Conv2d(1, 32, 3, padding=1, stride=2)),\n",
    "            nn.BatchNorm2d(32),\n",
    "            nn.LeakyReLU(.2, True),\n",
    "#             nn.AvgPool2d(2, 2), \n",
    "        ) # b 16 16 16\n",
    "        \n",
    "        self.conv2 = nn.Sequential(\n",
    "            nn.utils.spectral_norm(nn.Conv2d(32, 64, 3, padding=1, stride=2)),\n",
    "            nn.BatchNorm2d(64),\n",
    "            nn.LeakyReLU(.2, True),\n",
    "#             nn.AvgPool2d(2, 2), \n",
    "        ) # b 32 8 8\n",
    "        \n",
    "        self.conv3 = nn.Sequential(\n",
    "            nn.utils.spectral_norm(nn.Conv2d(64, 128, 3, padding=1, stride=2)),\n",
    "            nn.BatchNorm2d(128),\n",
    "            nn.LeakyReLU(.2, True),\n",
    "#             nn.AvgPool2d(2, 2), \n",
    "        ) # b 64 4 4\n",
    "        \n",
    "        self.conv4 = nn.Sequential(\n",
    "            nn.utils.spectral_norm(nn.Conv2d(128, 256, 3, padding=1, stride=2)),\n",
    "            nn.BatchNorm2d(256),\n",
    "            nn.LeakyReLU(.2, True),\n",
    "#             nn.AvgPool2d(2, 2), \n",
    "        ) # b 128 2 2\n",
    "        \n",
    "        self.fc = nn.Sequential(\n",
    "            nn.Linear(256 * 2 * 2, 1024),\n",
    "            nn.LeakyReLU(.2, True),\n",
    "            nn.Linear(1024, 1),\n",
    "            nn.Sigmoid(),\n",
    "#             nn.Tanh(),\n",
    "        ) # b 1\n",
    "        \n",
    "        self.label = nn.Sequential(\n",
    "            nn.Linear(256 * 2 * 2, 10),\n",
    "            nn.Sigmoid(),\n",
    "#             nn.Tanh(),\n",
    "        )\n",
    "        \n",
    "        self.att1 = SelfAttention(128)\n",
    "        self.att2 = SelfAttention(256)\n",
    "\n",
    "    def forward(self, imgs): # b 1 32 32\n",
    "        \n",
    "#         _imgs = torch.cat((imgs, self.label_embedding(labels.reshape([imgs.size(0), -1])).reshape(imgs.size(0), *img_shape)), 1)\n",
    "\n",
    "        outs = self.conv1(imgs)\n",
    "        outs = self.conv2(outs)\n",
    "        outs = self.conv3(outs)\n",
    "        outs, p1 = self.att1(outs)\n",
    "        outs = self.conv4(outs)\n",
    "#         outs, p1 = self.att2(outs)\n",
    "        outs = outs.view(imgs.size(0), -1)\n",
    "        img = self.fc(outs)\n",
    "        lab = self.label(outs)\n",
    "        \n",
    "        return img, lab # b 1 1 1, b 10"
   ]
  },
  {
   "cell_type": "code",
   "execution_count": 13,
   "metadata": {},
   "outputs": [],
   "source": [
    "class Generator(nn.Module):\n",
    "    def __init__(self, inp_dim, num_feature):\n",
    "        super(Generator, self).__init__()\n",
    "\n",
    "#         self.label_emb = nn.Linear(10, 10)\n",
    "        \n",
    "        self.fc = nn.Sequential(\n",
    "            nn.Linear(inp_dim, np.prod(num_feature)),\n",
    "#             nn.Sigmoid(),\n",
    "        ) # b *num_feature  b 32 4 4\n",
    "        \n",
    "        self.upsample1 = nn.Sequential(\n",
    "#             nn.BatchNorm2d(128),\n",
    "            nn.utils.spectral_norm(nn.ConvTranspose2d(32, 64, 4, 2, 1)),\n",
    "#             nn.functional.interpolate(scale_factor=2),\n",
    "#             nn.Upsample(scale_factor=2),\n",
    "#             nn.Conv2d(32, 16, 3, padding=1),\n",
    "            nn.BatchNorm2d(64),\n",
    "            nn.LeakyReLU(.2, True),\n",
    "#             nn.ReLU(True),\n",
    "        ) # b 16 8 8\n",
    "        \n",
    "        self.upsample2 = nn.Sequential(\n",
    "#             nn.functional.interpolate(scale_factor=2),\n",
    "            nn.utils.spectral_norm(nn.ConvTranspose2d(64, 32, 4, 2, 1)),\n",
    "#             nn.Upsample(scale_factor=2),\n",
    "#             nn.Conv2d(16, 8, 3, padding=1),\n",
    "            nn.BatchNorm2d(32),\n",
    "            nn.LeakyReLU(.2, True),\n",
    "#             nn.ReLU(True),\n",
    "        ) # b 8 16 16\n",
    "        \n",
    "        self.upsample3 = nn.Sequential(\n",
    "            nn.utils.spectral_norm(nn.ConvTranspose2d(32, 16, 4, 2, 1)),\n",
    "#             nn.functional.interpolate(scale_factor=2),\n",
    "#             nn.Upsample(scale_factor=2),\n",
    "#             nn.Conv2d(8, 4, 3, padding=1, stride=1),\n",
    "            nn.BatchNorm2d(16),\n",
    "            nn.LeakyReLU(.2, True),\n",
    "#             nn.ReLU(True),\n",
    "        ) # b 4 32 32\n",
    "        \n",
    "        self.conv = nn.Sequential(\n",
    "#             nn.functional.interpolate(scale_factor=2),\n",
    "            nn.utils.spectral_norm(nn.Conv2d(16, 1, 3, padding=1, stride=1)),\n",
    "            nn.Tanh(),\n",
    "        ) # b 1 32 32\n",
    "        \n",
    "        self.att1 = SelfAttention(32)\n",
    "        self.att2 = SelfAttention(16)\n",
    "        \n",
    "        \n",
    "\n",
    "    def forward(self, noise):\n",
    "        \n",
    "#         gen_input = torch.cat((labels.reshape(noise.size(0), -1), noise), -1)\n",
    "#         gen_input = torch.cat((self.label_emb(labels.reshape([noise.size(0), -1])), noise), -1)\n",
    "        \n",
    "        outs = self.fc(noise)\n",
    "        outs = outs.view(noise.size(0), *num_feature)\n",
    "        outs = self.upsample1(outs)\n",
    "        outs = self.upsample2(outs)\n",
    "        outs, p1 = self.att1(outs)\n",
    "        outs = self.upsample3(outs)\n",
    "#         outs, p1 = self.att2(outs)\n",
    "        \n",
    "        outs = self.conv(outs)\n",
    "        \n",
    "        return outs\n"
   ]
  },
  {
   "cell_type": "code",
   "execution_count": 14,
   "metadata": {},
   "outputs": [],
   "source": [
    "D = Discriminator().to(device)\n",
    "G = Generator(z_dimension, num_feature).to(device)\n",
    "\n",
    "D = nn.DataParallel(D, device_ids=device_ids).to(device)\n",
    "G = nn.DataParallel(G, device_ids=device_ids).to(device)\n",
    "\n",
    "adversarial_loss = nn.MSELoss()\n",
    "auxiliary_loss = nn.CrossEntropyLoss()\n",
    "\n",
    "D_optimezer = optim.Adam(D.parameters(), lr=2e-4, betas=(0, 0.9))\n",
    "G_optimezer = optim.Adam(G.parameters(), lr=2e-4, betas=(0, 0.9))"
   ]
  },
  {
   "cell_type": "code",
   "execution_count": 15,
   "metadata": {},
   "outputs": [],
   "source": [
    "condition = torch.from_numpy(np.arange(10)).cuda()"
   ]
  },
  {
   "cell_type": "code",
   "execution_count": 16,
   "metadata": {},
   "outputs": [],
   "source": [
    "writer = SummaryWriter('./log/cnn_cgan_self_attention')"
   ]
  },
  {
   "cell_type": "code",
   "execution_count": 17,
   "metadata": {},
   "outputs": [],
   "source": [
    "img_path = \"save_images/cnn_cgan_self_attention\"\n",
    "if not os.path.exists(img_path): os.makedirs(img_path)"
   ]
  },
  {
   "cell_type": "code",
   "execution_count": null,
   "metadata": {
    "scrolled": true
   },
   "outputs": [
    {
     "data": {
      "application/vnd.jupyter.widget-view+json": {
       "model_id": "4a47422ea4d342d2864a0008f4794ba4",
       "version_major": 2,
       "version_minor": 0
      },
      "text/plain": [
       "HBox(children=(IntProgress(value=0), HTML(value='')))"
      ]
     },
     "metadata": {},
     "output_type": "display_data"
    },
    {
     "name": "stdout",
     "output_type": "stream",
     "text": [
      "Epoch [1/100], Step:  38400, d_loss: 8.811182, g_loss: 3.339332, real_scores: 0.805647, fake_scores: 0.000263\n",
      "Finish Epoch [1/100], D Loss: 1243.710517, G Loss: 375.096904\n",
      "Epoch [2/100], Step:  38400, d_loss: 9.793233, g_loss: 3.295992, real_scores: 0.913027, fake_scores: 0.036068\n",
      "Finish Epoch [2/100], D Loss: 605.359779, G Loss: 196.550961\n",
      "Epoch [3/100], Step:  38400, d_loss: 8.552980, g_loss: 3.401115, real_scores: 0.895378, fake_scores: 0.000000\n",
      "Finish Epoch [3/100], D Loss: 398.537447, G Loss: 139.032581\n",
      "Epoch [4/100], Step:  38400, d_loss: 9.737263, g_loss: 3.311111, real_scores: 0.906962, fake_scores: 0.000869\n",
      "Finish Epoch [4/100], D Loss: 296.434372, G Loss: 107.182145\n",
      "Epoch [5/100], Step:  38400, d_loss: 7.966341, g_loss: 3.383729, real_scores: 0.872667, fake_scores: 0.000191\n",
      "Finish Epoch [5/100], D Loss: 235.936297, G Loss: 86.890012\n",
      "Epoch [6/100], Step:  38400, d_loss: 8.213473, g_loss: 3.420268, real_scores: 0.862048, fake_scores: 0.006574\n",
      "Finish Epoch [6/100], D Loss: 196.000653, G Loss: 72.681293\n",
      "Epoch [7/100], Step:  38400, d_loss: 8.933863, g_loss: 3.411634, real_scores: 0.924352, fake_scores: 0.000000\n",
      "Finish Epoch [7/100], D Loss: 167.888151, G Loss: 62.297408\n",
      "Epoch [8/100], Step:  38400, d_loss: 10.085583, g_loss: 3.403843, real_scores: 0.890876, fake_scores: 0.000000\n",
      "Finish Epoch [8/100], D Loss: 146.945023, G Loss: 54.459906\n",
      "Epoch [9/100], Step:  38400, d_loss: 10.012547, g_loss: 3.302066, real_scores: 0.886051, fake_scores: 0.000000\n",
      "Finish Epoch [9/100], D Loss: 130.380580, G Loss: 48.543296\n",
      "Epoch [10/100], Step:  38400, d_loss: 8.920440, g_loss: 3.497221, real_scores: 0.898438, fake_scores: 0.000000\n",
      "Finish Epoch [10/100], D Loss: 117.368674, G Loss: 43.657902\n",
      "Epoch [11/100], Step:  38400, d_loss: 8.349937, g_loss: 3.372587, real_scores: 0.914067, fake_scores: 0.000000\n",
      "Finish Epoch [11/100], D Loss: 106.579786, G Loss: 39.726021\n",
      "Epoch [12/100], Step:  38400, d_loss: 8.263338, g_loss: 3.396216, real_scores: 0.859374, fake_scores: 0.000000\n",
      "Finish Epoch [12/100], D Loss: 97.684281, G Loss: 36.433241\n",
      "Epoch [13/100], Step:  38400, d_loss: 9.356039, g_loss: 3.388224, real_scores: 0.953121, fake_scores: 0.000000\n",
      "Finish Epoch [13/100], D Loss: 90.195100, G Loss: 33.658347\n",
      "Epoch [14/100], Step:  38400, d_loss: 9.577119, g_loss: 3.435863, real_scores: 0.875004, fake_scores: 0.000019\n",
      "Finish Epoch [14/100], D Loss: 83.634462, G Loss: 31.234066\n",
      "Epoch [15/100], Step:  38400, d_loss: 9.048743, g_loss: 3.403846, real_scores: 0.882942, fake_scores: 0.000000\n",
      "Finish Epoch [15/100], D Loss: 78.021001, G Loss: 29.155404\n",
      "Epoch [16/100], Step:  38400, d_loss: 9.194338, g_loss: 3.474264, real_scores: 0.927756, fake_scores: 0.000000\n",
      "Finish Epoch [16/100], D Loss: 73.135901, G Loss: 27.346668\n",
      "Epoch [17/100], Step:  38400, d_loss: 9.246389, g_loss: 3.421437, real_scores: 0.921888, fake_scores: 0.000150\n",
      "Finish Epoch [17/100], D Loss: 68.907865, G Loss: 25.697380\n",
      "Epoch [18/100], Step:  38400, d_loss: 8.438050, g_loss: 3.474097, real_scores: 0.867188, fake_scores: 0.000000\n",
      "Finish Epoch [18/100], D Loss: 65.002021, G Loss: 24.345508\n",
      "Epoch [19/100], Step:  38400, d_loss: 10.857254, g_loss: 3.474159, real_scores: 0.890625, fake_scores: 0.000000\n",
      "Finish Epoch [19/100], D Loss: 61.565975, G Loss: 23.070011\n",
      "Epoch [20/100], Step:  38400, d_loss: 9.754963, g_loss: 3.410231, real_scores: 0.898438, fake_scores: 0.000000\n",
      "Finish Epoch [20/100], D Loss: 58.503644, G Loss: 21.875207\n",
      "Epoch [21/100], Step:  38400, d_loss: 8.730274, g_loss: 3.442909, real_scores: 0.890625, fake_scores: 0.000000\n",
      "Finish Epoch [21/100], D Loss: 55.691238, G Loss: 20.854284\n",
      "Epoch [22/100], Step:  38400, d_loss: 8.622755, g_loss: 3.457548, real_scores: 0.882813, fake_scores: 0.000000\n",
      "Finish Epoch [22/100], D Loss: 53.102148, G Loss: 19.916472\n",
      "Epoch [23/100], Step:  38400, d_loss: 9.748621, g_loss: 3.411591, real_scores: 0.906250, fake_scores: 0.000000\n",
      "Finish Epoch [23/100], D Loss: 50.789518, G Loss: 19.058207\n",
      "Epoch [24/100], Step:  38400, d_loss: 8.575640, g_loss: 3.435063, real_scores: 0.906250, fake_scores: 0.000000\n",
      "Finish Epoch [24/100], D Loss: 48.664366, G Loss: 18.264180\n",
      "Epoch [25/100], Step:  38400, d_loss: 10.811705, g_loss: 3.505410, real_scores: 0.898438, fake_scores: 0.000000\n",
      "Finish Epoch [25/100], D Loss: 46.707003, G Loss: 17.544226\n",
      "Epoch [26/100], Step:  38400, d_loss: 9.082111, g_loss: 3.450713, real_scores: 0.867188, fake_scores: 0.000000\n",
      "Finish Epoch [26/100], D Loss: 44.906579, G Loss: 16.870451\n",
      "Epoch [27/100], Step:  38400, d_loss: 8.405341, g_loss: 3.450798, real_scores: 0.915843, fake_scores: 0.000000\n",
      "Finish Epoch [27/100], D Loss: 43.258556, G Loss: 16.230982\n",
      "Epoch [28/100], Step:  38400, d_loss: 9.263996, g_loss: 3.481972, real_scores: 0.883516, fake_scores: 0.000000\n",
      "Finish Epoch [28/100], D Loss: 41.702976, G Loss: 15.658317\n",
      "Epoch [29/100], Step:  38400, d_loss: 8.817907, g_loss: 3.450692, real_scores: 0.867188, fake_scores: 0.000000\n",
      "Finish Epoch [29/100], D Loss: 40.269044, G Loss: 15.113388\n",
      "Epoch [30/100], Step:  38400, d_loss: 8.815906, g_loss: 3.349154, real_scores: 0.867188, fake_scores: 0.000000\n",
      "Finish Epoch [30/100], D Loss: 38.926026, G Loss: 14.609641\n",
      "Epoch [31/100], Step:  38400, d_loss: 8.496296, g_loss: 3.434999, real_scores: 0.914061, fake_scores: 0.000000\n",
      "Finish Epoch [31/100], D Loss: 37.675200, G Loss: 14.133598\n",
      "Epoch [32/100], Step:  38400, d_loss: 9.383017, g_loss: 3.427284, real_scores: 0.914062, fake_scores: 0.000000\n",
      "Finish Epoch [32/100], D Loss: 36.490296, G Loss: 13.696261\n",
      "Epoch [33/100], Step:  38400, d_loss: 8.351099, g_loss: 3.403847, real_scores: 0.875000, fake_scores: 0.000000\n",
      "Finish Epoch [33/100], D Loss: 35.394962, G Loss: 13.270843\n",
      "Epoch [34/100], Step:  38400, d_loss: 9.350429, g_loss: 3.528799, real_scores: 0.914062, fake_scores: 0.000000\n",
      "Finish Epoch [34/100], D Loss: 34.349994, G Loss: 12.883898\n",
      "Epoch [35/100], Step:  38400, d_loss: 7.789561, g_loss: 3.466317, real_scores: 0.875000, fake_scores: 0.000000\n",
      "Finish Epoch [35/100], D Loss: 33.373063, G Loss: 12.509897\n",
      "Epoch [36/100], Step:  38400, d_loss: 8.108389, g_loss: 3.427284, real_scores: 0.867188, fake_scores: 0.000000\n",
      "Finish Epoch [36/100], D Loss: 32.439016, G Loss: 12.169800\n",
      "Epoch [37/100], Step:  38400, d_loss: 8.802862, g_loss: 3.435097, real_scores: 0.890625, fake_scores: 0.000000\n",
      "Finish Epoch [37/100], D Loss: 31.559624, G Loss: 11.842603\n",
      "Epoch [38/100], Step:  38400, d_loss: 8.908854, g_loss: 3.403847, real_scores: 0.921875, fake_scores: 0.000000\n",
      "Finish Epoch [38/100], D Loss: 30.728836, G Loss: 11.531331\n",
      "Epoch [39/100], Step:  38400, d_loss: 9.585330, g_loss: 3.388055, real_scores: 0.945312, fake_scores: 0.000000\n",
      "Finish Epoch [39/100], D Loss: 29.936705, G Loss: 11.240071\n",
      "Epoch [40/100], Step:  38400, d_loss: 9.410365, g_loss: 3.396036, real_scores: 0.906250, fake_scores: 0.000000\n",
      "Finish Epoch [40/100], D Loss: 29.190506, G Loss: 10.955388\n",
      "Epoch [41/100], Step:  38400, d_loss: 10.511010, g_loss: 3.435097, real_scores: 0.929688, fake_scores: 0.000000\n",
      "Finish Epoch [41/100], D Loss: 28.472266, G Loss: 10.694257\n"
     ]
    }
   ],
   "source": [
    "total_count = len(dataloader)\n",
    "for epoch in tqdm_notebook(range(num_epochs)):\n",
    "    _step = epoch * total_count\n",
    "    \n",
    "    d_loss_total = .0\n",
    "    g_loss_total = .0\n",
    "    for i, (imgs, labels) in enumerate(dataloader):\n",
    "        \n",
    "        real_imgs = imgs.cuda()\n",
    "        real_labels = labels.cuda()\n",
    "        \n",
    "#         real = torch.ones(imgs.size(0), 1).cuda()\n",
    "#         fake = torch.zeros(imgs.size(0), 1).cuda()\n",
    "        real = torch.ones(imgs.size(0), 1).cuda()\n",
    "        fake = torch.zeros(imgs.size(0), 1).cuda()\n",
    "        torch.random.rand\n",
    "        \n",
    "        fake_labels = torch.from_numpy(np.random.randint(0, 10, imgs.size(0))).cuda()\n",
    "        z = gen_noise(imgs.size(0), fake_labels)\n",
    "        \n",
    "        ########## G ##########\n",
    "        fake_imgs = G(z)\n",
    "        fake_out, fake_out_labels = D(fake_imgs)\n",
    "        g_loss = adversarial_loss(fake_out, real) + auxiliary_loss(fake_out_labels, fake_labels)\n",
    "        \n",
    "        D_optimezer.zero_grad()\n",
    "        G_optimezer.zero_grad()\n",
    "        g_loss.backward()\n",
    "        G_optimezer.step()\n",
    "        #######################\n",
    "        \n",
    "        ########## D ##########\n",
    "        real_out, real_out_label = D(real_imgs)\n",
    "        d_loss_real = adversarial_loss(real_out.view(imgs.size(0)), real_labels.float())\n",
    "        d_loss_real_label = auxiliary_loss(real_out_label, real_labels)\n",
    "        real_scores = real_out\n",
    "        \n",
    "        fake_out, fake_out_labels = D(fake_imgs.detach())\n",
    "        d_loss_fake = adversarial_loss(fake_out, fake)\n",
    "        d_loss_fake_label = auxiliary_loss(fake_out_labels, fake_labels)\n",
    "        fake_scores = fake_out\n",
    "        \n",
    "        d_loss = (d_loss_real + d_loss_fake) / 2 + d_loss_real_label - d_loss_fake_label\n",
    "        D_optimezer.zero_grad()\n",
    "        G_optimezer.zero_grad()\n",
    "        d_loss.backward()\n",
    "        D_optimezer.step()\n",
    "        #######################\n",
    "        \n",
    "        d_loss_total += d_loss.item() * imgs.size(0)\n",
    "        g_loss_total += g_loss.item() * imgs.size(0)\n",
    "        \n",
    "        step = _step + i + 1\n",
    "        \n",
    "        if (i + 1) % 100 == 0:\n",
    "            writer.add_scalar('Discriminator Real Loss', d_loss_real.item(), step)\n",
    "            writer.add_scalar('Discriminator Fake Loss', d_loss_fake.item(), step)\n",
    "            writer.add_scalar('Discriminator Loss', d_loss.item(), step)\n",
    "            writer.add_scalar('Generator Loss', g_loss.item(), step)\n",
    "        \n",
    "        if (i + 1) % 300 == 0:\n",
    "            tqdm.write('Epoch [{}/{}], Step: {:6d}, d_loss: {:.6f}, g_loss: {:.6f}, real_scores: {:.6f}' \\\n",
    "', fake_scores: {:.6f}'.format(epoch+1, num_epochs, (i+1) * batch_size, d_loss, g_loss, real_scores.mean(), fake_scores.mean()))\n",
    "    \n",
    "    setp = (epoch + 1) * total_count\n",
    "    _d_loss_total = d_loss_total / (total_count * (epoch + 1))\n",
    "    _g_loss_total = g_loss_total / (total_count * (epoch + 1))\n",
    "    \n",
    "    writer.add_scalar('Discriminator Total Loss', _d_loss_total, step)\n",
    "    writer.add_scalar('Generator Total Loss', _g_loss_total, step)\n",
    "    \n",
    "    tqdm.write(\"Finish Epoch [{}/{}], D Loss: {:.6f}, G Loss: {:.6f}\".format(epoch+1, \n",
    "                                                                             num_epochs, \n",
    "                                                                             _d_loss_total,\n",
    "                                                                             _g_loss_total, ))\n",
    "    \n",
    "    if epoch == 0:\n",
    "        real_images = real_imgs.view(-1, 1, 32, 32).cpu().data\n",
    "        save_image(real_images, os.path.join(img_path, 'real_images.png'))\n",
    "    \n",
    "    condition_noise = gen_noise(condition.shape[0], condition)\n",
    "    condition_images = G(condition_noise)\n",
    "    \n",
    "    writer.add_image('Generator Image', make_grid(fake_imgs.view(-1, 1, 32, 32).cpu().data, normalize=True, scale_each=True), step)\n",
    "    writer.add_image('Condition Generator Image', make_grid(condition_images.view(-1, 1, 32, 32).cpu().data, normalize=True, scale_each=True), step)\n",
    "    \n",
    "    fake_images = fake_imgs.view(-1, 1, 32, 32).cpu().data\n",
    "    save_image(fake_images, os.path.join(img_path, 'fake_images-{}.png'.format(epoch+1)))\n",
    "    save_image(condition_images, os.path.join(img_path, 'condition_images-{}.png'.format(epoch+1)))"
   ]
  },
  {
   "cell_type": "code",
   "execution_count": 22,
   "metadata": {},
   "outputs": [],
   "source": [
    "writer.close()"
   ]
  },
  {
   "cell_type": "code",
   "execution_count": 23,
   "metadata": {},
   "outputs": [],
   "source": [
    "torch.save(D.state_dict(), './ser/cgan_discriminator_3.pt')\n",
    "torch.save(G.state_dict(), './ser/cgan_generator_3.pt')"
   ]
  },
  {
   "cell_type": "code",
   "execution_count": 24,
   "metadata": {},
   "outputs": [],
   "source": [
    "D.load_state_dict(torch.load('./ser/cgan_discriminator_3.pt'))\n",
    "G.load_state_dict(torch.load('./ser/cgan_generator_3.pt'))"
   ]
  },
  {
   "cell_type": "code",
   "execution_count": 32,
   "metadata": {},
   "outputs": [
    {
     "data": {
      "image/png": "[encoded data removed]",
      "text/plain": [
       "<Figure size 432x288 with 1 Axes>"
      ]
     },
     "metadata": {
      "needs_background": "dark"
     },
     "output_type": "display_data"
    }
   ],
   "source": [
    "words = torch.from_numpy(np.arange(10)).to(device)\n",
    "words = gen_label_one_hot(words.shape[0], words)\n",
    "z = torch.randn(words.size(0), z_dimension).to(device)\n",
    "images = G(z, words)\n",
    "# save_image(images, 'xx.png')\n",
    "plt.imshow(Image.fromarray(make_grid(images).mul(255).clamp(0, 255).byte().permute(1, 2, 0).cpu().numpy()))\n",
    "plt.show()"
   ]
  },
  {
   "cell_type": "code",
   "execution_count": null,
   "metadata": {},
   "outputs": [],
   "source": []
  }
 ],
 "metadata": {
  "kernelspec": {
   "display_name": "venv36",
   "language": "python",
   "name": "venv36"
  },
  "language_info": {
   "codemirror_mode": {
    "name": "ipython",
    "version": 3
   },
   "file_extension": ".py",
   "mimetype": "text/x-python",
   "name": "python",
   "nbconvert_exporter": "python",
   "pygments_lexer": "ipython3",
   "version": "3.6.8"
  },
  "varInspector": {
   "cols": {
    "lenName": 16,
    "lenType": 16,
    "lenVar": 40
   },
   "kernels_config": {
    "python": {
     "delete_cmd_postfix": "",
     "delete_cmd_prefix": "del ",
     "library": "var_list.py",
     "varRefreshCmd": "print(var_dic_list())"
    },
    "r": {
     "delete_cmd_postfix": ") ",
     "delete_cmd_prefix": "rm(",
     "library": "var_list.r",
     "varRefreshCmd": "cat(var_dic_list()) "
    }
   },
   "position": {
    "height": "556px",
    "left": "247px",
    "right": "398px",
    "top": "131px",
    "width": "752px"
   },
   "types_to_exclude": [
    "module",
    "function",
    "builtin_function_or_method",
    "instance",
    "_Feature"
   ],
   "window_display": false
  }
 },
 "nbformat": 4,
 "nbformat_minor": 2
}
