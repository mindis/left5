{
 "cells": [
  {
   "cell_type": "code",
   "execution_count": 1,
   "metadata": {},
   "outputs": [],
   "source": [
    "import os, time\n",
    "from tqdm import tnrange, tqdm_notebook, tqdm\n",
    "import torch\n",
    "import torch.nn.functional as F\n",
    "from torch import nn, optim\n",
    "from torch.utils.data import DataLoader\n",
    "from torchvision import transforms, datasets\n",
    "from torchvision.utils import save_image, make_grid\n",
    "from torch.autograd import Variable\n",
    "import numpy as np\n",
    "from PIL import Image\n",
    "import matplotlib.pyplot as plt\n",
    "from tensorboardX import SummaryWriter"
   ]
  },
  {
   "cell_type": "code",
   "execution_count": 2,
   "metadata": {},
   "outputs": [],
   "source": [
    "now = int(time.time())"
   ]
  },
  {
   "cell_type": "code",
   "execution_count": 3,
   "metadata": {},
   "outputs": [],
   "source": [
    "# os.environ['CUDA_VISIBLE_DEVICES'] = '1'"
   ]
  },
  {
   "cell_type": "code",
   "execution_count": 4,
   "metadata": {},
   "outputs": [],
   "source": [
    "from matplotlib import rcParams\n",
    "rcParams['figure.figsize'] = (12, 8)\n",
    "\n",
    "%matplotlib inline"
   ]
  },
  {
   "cell_type": "code",
   "execution_count": 5,
   "metadata": {},
   "outputs": [],
   "source": [
    "device = torch.device('cuda' if torch.cuda.is_available() else 'cpu')"
   ]
  },
  {
   "cell_type": "code",
   "execution_count": 6,
   "metadata": {},
   "outputs": [
    {
     "data": {
      "text/plain": [
       "True"
      ]
     },
     "execution_count": 6,
     "metadata": {},
     "output_type": "execute_result"
    }
   ],
   "source": [
    "torch.cuda.is_available()"
   ]
  },
  {
   "cell_type": "code",
   "execution_count": 7,
   "metadata": {},
   "outputs": [],
   "source": [
    "device_ids = [0]"
   ]
  },
  {
   "cell_type": "code",
   "execution_count": 8,
   "metadata": {},
   "outputs": [],
   "source": [
    "batch_size = 128\n",
    "num_epochs = 100\n",
    "\n",
    "z_dimension = 100\n",
    "num_feature = (32, 4, 4) # 64 * 64\n",
    "\n",
    "img_shape = (1, 32, 32)"
   ]
  },
  {
   "cell_type": "code",
   "execution_count": 9,
   "metadata": {},
   "outputs": [],
   "source": [
    "img_transform = transforms.Compose([\n",
    "    transforms.Resize(32),\n",
    "    transforms.ToTensor(),\n",
    "#     transforms.Normalize((.5, .5, .5), (.5, .5, .5))\n",
    "#     transforms.Normalize((0.1307,), (0.3081,))\n",
    "    transforms.Normalize((0.5,), (0.5,))\n",
    "])\n",
    "\n",
    "dataset = datasets.MNIST('~/data/mnist', transform=img_transform) #, download=True)\n",
    "dataloader = DataLoader(dataset, batch_size=batch_size, shuffle=True, num_workers=4)"
   ]
  },
  {
   "cell_type": "code",
   "execution_count": 10,
   "metadata": {},
   "outputs": [],
   "source": [
    "class SelfAttention(nn.Module):\n",
    "    \"\"\" Self attention Layer\"\"\"\n",
    "    def __init__(self, in_dim):\n",
    "        super(SelfAttention,self).__init__()\n",
    "        \n",
    "        self.query_conv = nn.Conv2d(in_channels=in_dim, out_channels=in_dim // 8, kernel_size=1)\n",
    "        self.key_conv = nn.Conv2d(in_channels=in_dim, out_channels=in_dim // 8, kernel_size=1)\n",
    "        self.value_conv = nn.Conv2d(in_channels=in_dim, out_channels=in_dim, kernel_size=1)\n",
    "        self.gamma = nn.Parameter(torch.zeros(1))\n",
    "\n",
    "        self.softmax  = nn.Softmax(dim=-1) #\n",
    "        \n",
    "    def forward(self, x):\n",
    "        \n",
    "        m_batchsize, C, width ,height = x.size()\n",
    "        proj_query = self.query_conv(x).view(m_batchsize, -1, width * height).permute(0, 2, 1) # B (N) C\n",
    "        proj_key = self.key_conv(x).view(m_batchsize, -1, width * height) # B C (N)\n",
    "        energy = torch.bmm(proj_query, proj_key) # transpose check\n",
    "        attention = self.softmax(energy) # B (N) (N) \n",
    "        proj_value = self.value_conv(x).view(m_batchsize, -1, width * height) # B C N\n",
    "\n",
    "        out = torch.bmm(proj_value, attention.permute(0, 2, 1)) # B C N\n",
    "        out = out.view(m_batchsize, C, width, height) # B C W H\n",
    "        \n",
    "        out = self.gamma * out + x\n",
    "        return out, attention"
   ]
  },
  {
   "cell_type": "code",
   "execution_count": 11,
   "metadata": {},
   "outputs": [],
   "source": [
    "def gen_noise(batch_size, label):\n",
    "    prefix = np.zeros((batch_size, 10))\n",
    "    prefix[np.arange(batch_size), label.cpu().numpy()] = 1\n",
    "    z = np.random.normal(0, .3, (batch_size, z_dimension))\n",
    "#     prefix = prefix / np.linalg.norm(prefix)\n",
    "    z[:, :10] = prefix\n",
    "    return torch.from_numpy(z).float().reshape(batch_size, z_dimension, 1, 1).to(device)"
   ]
  },
  {
   "cell_type": "code",
   "execution_count": 12,
   "metadata": {},
   "outputs": [],
   "source": [
    "def gen_label_one_hot(batch_size, label):\n",
    "    prefix = np.zeros((batch_size, 10))\n",
    "    prefix[np.arange(batch_size), label.cpu().numpy()] = 1\n",
    "    return torch.from_numpy(prefix).float().to(device)"
   ]
  },
  {
   "cell_type": "code",
   "execution_count": 13,
   "metadata": {},
   "outputs": [],
   "source": [
    "# class Discriminator(nn.Module):\n",
    "#     def __init__(self):\n",
    "#         super(Discriminator, self).__init__()\n",
    "        \n",
    "# #         self.label_embedding = nn.Linear(10, np.prod(img_shape))\n",
    "        \n",
    "#         self.conv1 = nn.Sequential(\n",
    "#             nn.utils.spectral_norm(nn.Conv2d(1, 32, 3, padding=1, stride=2)),\n",
    "#             nn.BatchNorm2d(32),\n",
    "#             nn.LeakyReLU(.2, True),\n",
    "# #             nn.AvgPool2d(2, 2), \n",
    "#         ) # b 16 16 16\n",
    "        \n",
    "#         self.conv2 = nn.Sequential(\n",
    "#             nn.utils.spectral_norm(nn.Conv2d(32, 64, 3, padding=1, stride=2)),\n",
    "#             nn.BatchNorm2d(64),\n",
    "#             nn.LeakyReLU(.2, True),\n",
    "# #             nn.AvgPool2d(2, 2), \n",
    "#         ) # b 32 8 8\n",
    "        \n",
    "#         self.conv3 = nn.Sequential(\n",
    "#             nn.utils.spectral_norm(nn.Conv2d(64, 128, 3, padding=1, stride=2)),\n",
    "#             nn.BatchNorm2d(128),\n",
    "#             nn.LeakyReLU(.2, True),\n",
    "# #             nn.AvgPool2d(2, 2), \n",
    "#         ) # b 64 4 4\n",
    "        \n",
    "#         self.conv4 = nn.Sequential(\n",
    "#             nn.utils.spectral_norm(nn.Conv2d(128, 256, 3, padding=1, stride=2)),\n",
    "#             nn.BatchNorm2d(256),\n",
    "#             nn.LeakyReLU(.2, True),\n",
    "# #             nn.AvgPool2d(2, 2), \n",
    "#         ) # b 128 2 2\n",
    "        \n",
    "#         self.fc = nn.Sequential(\n",
    "#             nn.Linear(256 * 2 * 2, 1024),\n",
    "#             nn.LeakyReLU(.2, True),\n",
    "#             nn.Linear(1024, 1),\n",
    "#             nn.Sigmoid(),\n",
    "# #             nn.Tanh(),\n",
    "#         ) # b 1\n",
    "        \n",
    "#         self.label = nn.Sequential(\n",
    "#             nn.Linear(256 * 2 * 2, 10),\n",
    "#             nn.Sigmoid(),\n",
    "# #             nn.Tanh(),\n",
    "#         )\n",
    "        \n",
    "#         self.att1 = SelfAttention(128)\n",
    "#         self.att2 = SelfAttention(256)\n",
    "\n",
    "#     def forward(self, imgs): # b 1 32 32\n",
    "        \n",
    "# #         _imgs = torch.cat((imgs, self.label_embedding(labels.reshape([imgs.size(0), -1])).reshape(imgs.size(0), *img_shape)), 1)\n",
    "\n",
    "#         outs = self.conv1(imgs)\n",
    "#         outs = self.conv2(outs)\n",
    "#         outs = self.conv3(outs)\n",
    "#         outs, p1 = self.att1(outs)\n",
    "#         outs = self.conv4(outs)\n",
    "# #         outs, p1 = self.att2(outs)\n",
    "#         outs = outs.view(imgs.size(0), -1)\n",
    "#         img = self.fc(outs)\n",
    "#         lab = self.label(outs)\n",
    "        \n",
    "#         return img, lab # b 1 1 1, b 10\n",
    "\n",
    "\n",
    "class Discriminator(nn.Module):\n",
    "    def __init__(self, d=128):\n",
    "        super(Discriminator, self).__init__() # b d 32 32\n",
    "        \n",
    "        self.conv1 = nn.Sequential(\n",
    "            nn.utils.spectral_norm(nn.Conv2d(1, d, 4, 2, 1)),\n",
    "            nn.BatchNorm2d(d),\n",
    "            nn.LeakyReLU(.2, True),\n",
    "        ) # d 16 16\n",
    "        \n",
    "        self.conv2 = nn.Sequential(\n",
    "            nn.utils.spectral_norm(nn.Conv2d(d, d*2, 4, 2, 1)),\n",
    "            nn.BatchNorm2d(d*2),\n",
    "            nn.LeakyReLU(.2, True),\n",
    "        ) # d*2 8 8\n",
    "        \n",
    "        self.conv3 = nn.Sequential(\n",
    "            nn.utils.spectral_norm(nn.Conv2d(d*2, d*4, 4, 2, 1)),\n",
    "            nn.BatchNorm2d(d*4),\n",
    "            nn.LeakyReLU(.2, True),\n",
    "        ) # d*4 4 4\n",
    "        \n",
    "#         self.conv1 = nn.Conv2d(1, d, 4, 2, 1) # d 16 16\n",
    "#         self.conv2 = nn.Conv2d(d, d*2, 4, 2, 1) # d*2 8 8\n",
    "#         self.conv2_bn = nn.BatchNorm2d(d*2)\n",
    "#         self.conv3 = nn.Conv2d(d*2, d*4, 4, 2, 1) # d*4 4 4\n",
    "#         self.conv3_bn = nn.BatchNorm2d(d*4)\n",
    "        \n",
    "        \n",
    "        self.output = nn.Sequential(\n",
    "            nn.Conv2d(d*4, 1, 4, 2, 0),\n",
    "            nn.Sigmoid(),\n",
    "        ) # 1 1 1\n",
    "        \n",
    "        self.fc = nn.Sequential(\n",
    "            nn.Linear(d * 4 * 4 * 4, 10),\n",
    "            nn.Sigmoid(),\n",
    "        ) # b 10\n",
    "        \n",
    "        self.att1 = SelfAttention(d)\n",
    "#         self.att2 = SelfAttention(d*2)\n",
    "#         self.att3 = SelfAttention(d*4)\n",
    "    \n",
    "    def weight_init(self, mean, std):\n",
    "        for m in self._modules:\n",
    "            normal_init(self._modules[m], mean, std)\n",
    "            \n",
    "    def forward(self, x): # b 1 32 32\n",
    "        outs = self.conv1(x)\n",
    "        outs, p1 = self.att1(outs)\n",
    "        outs = self.conv2(outs)\n",
    "#         outs, p1 = self.att2(outs)\n",
    "        outs = self.conv3(outs)\n",
    "#         outs, p1 = self.att3(outs)\n",
    "\n",
    "        img = torch.sigmoid(self.output(outs)) # F.sigmoid\n",
    "        con = self.fc(outs.view(x.size(0), -1))\n",
    "        \n",
    "        return img, con"
   ]
  },
  {
   "cell_type": "code",
   "execution_count": 14,
   "metadata": {},
   "outputs": [],
   "source": [
    "# class Generator(nn.Module):\n",
    "#     def __init__(self, inp_dim, num_feature):\n",
    "#         super(Generator, self).__init__()\n",
    "\n",
    "# #         self.label_emb = nn.Linear(10, 10)\n",
    "        \n",
    "#         self.fc = nn.Sequential(\n",
    "#             nn.Linear(inp_dim, np.prod(num_feature)),\n",
    "# #             nn.Sigmoid(),\n",
    "#         ) # b *num_feature  b 32 4 4\n",
    "        \n",
    "#         self.upsample1 = nn.Sequential(\n",
    "# #             nn.BatchNorm2d(128),\n",
    "#             nn.utils.spectral_norm(nn.ConvTranspose2d(32, 64, 4, 2, 1)),\n",
    "# #             nn.functional.interpolate(scale_factor=2),\n",
    "# #             nn.Upsample(scale_factor=2),\n",
    "# #             nn.Conv2d(32, 16, 3, padding=1),\n",
    "#             nn.BatchNorm2d(64),\n",
    "#             nn.LeakyReLU(.2, True),\n",
    "# #             nn.ReLU(True),\n",
    "#         ) # b 16 8 8\n",
    "        \n",
    "#         self.upsample2 = nn.Sequential(\n",
    "# #             nn.functional.interpolate(scale_factor=2),\n",
    "#             nn.utils.spectral_norm(nn.ConvTranspose2d(64, 32, 4, 2, 1)),\n",
    "# #             nn.Upsample(scale_factor=2),\n",
    "# #             nn.Conv2d(16, 8, 3, padding=1),\n",
    "#             nn.BatchNorm2d(32),\n",
    "#             nn.LeakyReLU(.2, True),\n",
    "# #             nn.ReLU(True),\n",
    "#         ) # b 8 16 16\n",
    "        \n",
    "#         self.upsample3 = nn.Sequential(\n",
    "#             nn.utils.spectral_norm(nn.ConvTranspose2d(32, 16, 4, 2, 1)),\n",
    "# #             nn.functional.interpolate(scale_factor=2),\n",
    "# #             nn.Upsample(scale_factor=2),\n",
    "# #             nn.Conv2d(8, 4, 3, padding=1, stride=1),\n",
    "#             nn.BatchNorm2d(16),\n",
    "#             nn.LeakyReLU(.2, True),\n",
    "# #             nn.ReLU(True),\n",
    "#         ) # b 4 32 32\n",
    "        \n",
    "#         self.conv = nn.Sequential(\n",
    "# #             nn.functional.interpolate(scale_factor=2),\n",
    "#             nn.utils.spectral_norm(nn.Conv2d(16, 1, 3, padding=1, stride=1)),\n",
    "#             nn.Tanh(),\n",
    "#         ) # b 1 32 32\n",
    "        \n",
    "#         self.att1 = SelfAttention(32)\n",
    "#         self.att2 = SelfAttention(16)\n",
    "        \n",
    "        \n",
    "\n",
    "#     def forward(self, noise):\n",
    "        \n",
    "# #         gen_input = torch.cat((labels.reshape(noise.size(0), -1), noise), -1)\n",
    "# #         gen_input = torch.cat((self.label_emb(labels.reshape([noise.size(0), -1])), noise), -1)\n",
    "        \n",
    "#         outs = self.fc(noise)\n",
    "#         outs = outs.view(noise.size(0), *num_feature)\n",
    "#         outs = self.upsample1(outs)\n",
    "#         outs = self.upsample2(outs)\n",
    "#         outs, p1 = self.att1(outs)\n",
    "#         outs = self.upsample3(outs)\n",
    "# #         outs, p1 = self.att2(outs)\n",
    "        \n",
    "#         outs = self.conv(outs)\n",
    "        \n",
    "#         return outs\n",
    "\n",
    "\n",
    "class Generator(nn.Module):\n",
    "    def __init__(self, d=128):\n",
    "        super(Generator, self).__init__()\n",
    "        \n",
    "        self.deconv1 = nn.Sequential(\n",
    "            nn.utils.spectral_norm(nn.ConvTranspose2d(z_dimension, d*4, 4, 2, 0)),\n",
    "            nn.BatchNorm2d(d*4),\n",
    "            nn.ReLU(True),\n",
    "        ) # b d*4 4 4\n",
    "        \n",
    "        self.deconv2 = nn.Sequential(\n",
    "            nn.utils.spectral_norm(nn.ConvTranspose2d(d*4, d*2, 4, 2, 1)),\n",
    "            nn.BatchNorm2d(d*2),\n",
    "            nn.ReLU(True),\n",
    "        ) # b d*2 8 8\n",
    "        \n",
    "        self.deconv3 = nn.Sequential(\n",
    "            nn.utils.spectral_norm(nn.ConvTranspose2d(d*2, d, 4, 2, 1)),\n",
    "            nn.BatchNorm2d(d),\n",
    "            nn.ReLU(True),\n",
    "        ) # b d 16 16\n",
    "        \n",
    "#         self.deconv1 = nn.ConvTranspose2d(z_dimension, d*4, 4, 2, 0) # b d*8 2 2\n",
    "#         self.deconv1_bn = nn.BatchNorm2d(d*4)\n",
    "#         self.deconv2 = nn.ConvTranspose2d(d*4, d*2, 4, 2, 1) # b d*2 4 4\n",
    "#         self.deconv2_bn = nn.BatchNorm2d(d*2)\n",
    "#         self.deconv3 = nn.ConvTranspose2d(d*2, d, 4, 2, 1) # b d 8 8\n",
    "#         self.deconv3_bn = nn.BatchNorm2d(d)\n",
    "        \n",
    "        \n",
    "        self.output = nn.Sequential(\n",
    "            nn.ConvTranspose2d(d, 1, 4, 2, 1),\n",
    "            nn.Tanh(),\n",
    "        ) # b 1 32 32\n",
    "        \n",
    "#         self.att1 = SelfAttention(d*4)\n",
    "#         self.att2 = SelfAttention(d*2)\n",
    "        self.att3 = SelfAttention(d)\n",
    "        \n",
    "    def weight_init(self, mean, std):\n",
    "        for m in self._modules:\n",
    "            normal_init(self._modules[m], mean, std)\n",
    "            \n",
    "    def forward(self, x): # b 100 1 1\n",
    "        outs = self.deconv1(x)\n",
    "#         outs, p1 = self.att1(outs)\n",
    "        outs = self.deconv2(outs)\n",
    "#         outs, p1 = self.att2(outs)\n",
    "        outs = self.deconv3(outs)\n",
    "        outs, p1 = self.att3(outs)\n",
    "        \n",
    "        outs = self.output(outs)\n",
    "\n",
    "        return outs"
   ]
  },
  {
   "cell_type": "code",
   "execution_count": 15,
   "metadata": {},
   "outputs": [],
   "source": [
    "D = Discriminator(128).to(device)\n",
    "G = Generator(128).to(device)\n",
    "\n",
    "D = nn.DataParallel(D, device_ids=device_ids).to(device)\n",
    "G = nn.DataParallel(G, device_ids=device_ids).to(device)\n",
    "\n",
    "adversarial_loss = nn.MSELoss()\n",
    "auxiliary_loss = nn.CrossEntropyLoss()\n",
    "\n",
    "D_optimezer = optim.Adam(D.parameters(), lr=2e-4, betas=(0, 0.9))\n",
    "G_optimezer = optim.Adam(G.parameters(), lr=2e-4, betas=(0, 0.9))"
   ]
  },
  {
   "cell_type": "code",
   "execution_count": 16,
   "metadata": {},
   "outputs": [],
   "source": [
    "condition = torch.from_numpy(np.arange(10)).cuda()"
   ]
  },
  {
   "cell_type": "code",
   "execution_count": 17,
   "metadata": {},
   "outputs": [],
   "source": [
    "writer = SummaryWriter(os.path.join('./log/cnn_cgan_self_attention', str(now)))"
   ]
  },
  {
   "cell_type": "code",
   "execution_count": 18,
   "metadata": {},
   "outputs": [],
   "source": [
    "img_path = os.path.join(\"save_images/cnn_cgan_self_attention\", str(now))\n",
    "if not os.path.exists(img_path): os.makedirs(img_path)"
   ]
  },
  {
   "cell_type": "code",
   "execution_count": 19,
   "metadata": {
    "scrolled": true
   },
   "outputs": [
    {
     "data": {
      "application/vnd.jupyter.widget-view+json": {
       "model_id": "ff1df86607a841f78eab01a99a4b7ffb",
       "version_major": 2,
       "version_minor": 0
      },
      "text/plain": [
       "HBox(children=(IntProgress(value=0), HTML(value='')))"
      ]
     },
     "metadata": {},
     "output_type": "display_data"
    },
    {
     "name": "stdout",
     "output_type": "stream",
     "text": [
      "Epoch [1/100], Step:  38400, d_loss: 9.755344, g_loss: 2.656614, real_scores: 0.693999, fake_scores: 0.668387\n",
      "Finish Epoch [1/100], D Loss: 1347.842622, G Loss: 327.724140\n",
      "Epoch [2/100], Step:  38400, d_loss: 9.368597, g_loss: 2.288966, real_scores: 0.708189, fake_scores: 0.704836\n",
      "Finish Epoch [2/100], D Loss: 685.852835, G Loss: 159.086436\n",
      "Epoch [3/100], Step:  38400, d_loss: 11.519994, g_loss: 2.744350, real_scores: 0.711118, fake_scores: 0.621982\n",
      "Finish Epoch [3/100], D Loss: 454.123653, G Loss: 112.979136\n",
      "Epoch [4/100], Step:  38400, d_loss: 8.742670, g_loss: 2.886662, real_scores: 0.698946, fake_scores: 0.505592\n",
      "Finish Epoch [4/100], D Loss: 334.329773, G Loss: 86.073629\n",
      "Epoch [5/100], Step:  38400, d_loss: 8.551708, g_loss: 2.673651, real_scores: 0.705791, fake_scores: 0.500013\n",
      "Finish Epoch [5/100], D Loss: 265.838673, G Loss: 66.827299\n",
      "Epoch [6/100], Step:  38400, d_loss: 10.213568, g_loss: 2.725263, real_scores: 0.713735, fake_scores: 0.504141\n",
      "Finish Epoch [6/100], D Loss: 220.057017, G Loss: 56.626906\n",
      "Epoch [7/100], Step:  38400, d_loss: 9.780563, g_loss: 2.601866, real_scores: 0.716452, fake_scores: 0.500010\n",
      "Finish Epoch [7/100], D Loss: 188.254767, G Loss: 48.724729\n",
      "Epoch [8/100], Step:  38400, d_loss: 9.556519, g_loss: 2.731508, real_scores: 0.711628, fake_scores: 0.500181\n",
      "Finish Epoch [8/100], D Loss: 164.590399, G Loss: 42.683284\n",
      "Epoch [9/100], Step:  38400, d_loss: 10.915808, g_loss: 2.692907, real_scores: 0.712703, fake_scores: 0.500001\n",
      "Finish Epoch [9/100], D Loss: 146.139498, G Loss: 37.977072\n",
      "Epoch [10/100], Step:  38400, d_loss: 9.439528, g_loss: 2.606964, real_scores: 0.702112, fake_scores: 0.500001\n",
      "Finish Epoch [10/100], D Loss: 131.586367, G Loss: 34.159264\n",
      "Epoch [11/100], Step:  38400, d_loss: 10.404173, g_loss: 2.620729, real_scores: 0.710233, fake_scores: 0.530187\n",
      "Finish Epoch [11/100], D Loss: 119.455022, G Loss: 31.094299\n",
      "Epoch [12/100], Step:  38400, d_loss: 9.299297, g_loss: 2.716288, real_scores: 0.716629, fake_scores: 0.500024\n",
      "Finish Epoch [12/100], D Loss: 109.521954, G Loss: 28.516747\n",
      "Epoch [13/100], Step:  38400, d_loss: 9.671059, g_loss: 2.646026, real_scores: 0.709395, fake_scores: 0.500003\n",
      "Finish Epoch [13/100], D Loss: 101.066837, G Loss: 26.282782\n",
      "Epoch [14/100], Step:  38400, d_loss: 9.044849, g_loss: 2.630315, real_scores: 0.702419, fake_scores: 0.500022\n",
      "Finish Epoch [14/100], D Loss: 93.821429, G Loss: 24.418255\n",
      "Epoch [15/100], Step:  38400, d_loss: 9.926474, g_loss: 2.671884, real_scores: 0.709669, fake_scores: 0.504029\n",
      "Finish Epoch [15/100], D Loss: 87.566831, G Loss: 22.802786\n",
      "Epoch [16/100], Step:  38400, d_loss: 9.333477, g_loss: 2.614784, real_scores: 0.709308, fake_scores: 0.500000\n",
      "Finish Epoch [16/100], D Loss: 82.062408, G Loss: 21.383922\n",
      "Epoch [17/100], Step:  38400, d_loss: 11.587868, g_loss: 2.724157, real_scores: 0.709396, fake_scores: 0.500000\n",
      "Finish Epoch [17/100], D Loss: 77.225177, G Loss: 20.132392\n",
      "Epoch [18/100], Step:  38400, d_loss: 11.690104, g_loss: 2.669469, real_scores: 0.711302, fake_scores: 0.500000\n",
      "Finish Epoch [18/100], D Loss: 72.936475, G Loss: 19.005968\n",
      "Epoch [19/100], Step:  38400, d_loss: 10.795134, g_loss: 2.677281, real_scores: 0.712943, fake_scores: 0.500001\n",
      "Finish Epoch [19/100], D Loss: 69.090386, G Loss: 18.009440\n",
      "Epoch [20/100], Step:  38400, d_loss: 8.141232, g_loss: 2.685097, real_scores: 0.698127, fake_scores: 0.500000\n",
      "Finish Epoch [20/100], D Loss: 65.633436, G Loss: 17.099647\n",
      "Epoch [21/100], Step:  38400, d_loss: 11.841311, g_loss: 2.685097, real_scores: 0.707595, fake_scores: 0.500000\n",
      "Finish Epoch [21/100], D Loss: 62.511579, G Loss: 16.286854\n",
      "Epoch [22/100], Step:  38400, d_loss: 10.141018, g_loss: 2.716243, real_scores: 0.705780, fake_scores: 0.500049\n",
      "Finish Epoch [22/100], D Loss: 59.646821, G Loss: 15.559790\n",
      "Epoch [23/100], Step:  38400, d_loss: 11.583847, g_loss: 2.646030, real_scores: 0.713002, fake_scores: 0.500000\n",
      "Finish Epoch [23/100], D Loss: 57.075512, G Loss: 14.865062\n"
     ]
    },
    {
     "ename": "KeyboardInterrupt",
     "evalue": "",
     "output_type": "error",
     "traceback": [
      "\u001b[0;31m---------------------------------------------------------------------------\u001b[0m",
      "\u001b[0;31mKeyboardInterrupt\u001b[0m                         Traceback (most recent call last)",
      "\u001b[0;32m<ipython-input-19-33090c5a796c>\u001b[0m in \u001b[0;36m<module>\u001b[0;34m\u001b[0m\n\u001b[1;32m     44\u001b[0m         \u001b[0;31m#######################\u001b[0m\u001b[0;34m\u001b[0m\u001b[0;34m\u001b[0m\u001b[0;34m\u001b[0m\u001b[0m\n\u001b[1;32m     45\u001b[0m \u001b[0;34m\u001b[0m\u001b[0m\n\u001b[0;32m---> 46\u001b[0;31m         \u001b[0md_loss_total\u001b[0m \u001b[0;34m+=\u001b[0m \u001b[0md_loss\u001b[0m\u001b[0;34m.\u001b[0m\u001b[0mitem\u001b[0m\u001b[0;34m(\u001b[0m\u001b[0;34m)\u001b[0m \u001b[0;34m*\u001b[0m \u001b[0mimgs\u001b[0m\u001b[0;34m.\u001b[0m\u001b[0msize\u001b[0m\u001b[0;34m(\u001b[0m\u001b[0;36m0\u001b[0m\u001b[0;34m)\u001b[0m\u001b[0;34m\u001b[0m\u001b[0;34m\u001b[0m\u001b[0m\n\u001b[0m\u001b[1;32m     47\u001b[0m         \u001b[0mg_loss_total\u001b[0m \u001b[0;34m+=\u001b[0m \u001b[0mg_loss\u001b[0m\u001b[0;34m.\u001b[0m\u001b[0mitem\u001b[0m\u001b[0;34m(\u001b[0m\u001b[0;34m)\u001b[0m \u001b[0;34m*\u001b[0m \u001b[0mimgs\u001b[0m\u001b[0;34m.\u001b[0m\u001b[0msize\u001b[0m\u001b[0;34m(\u001b[0m\u001b[0;36m0\u001b[0m\u001b[0;34m)\u001b[0m\u001b[0;34m\u001b[0m\u001b[0;34m\u001b[0m\u001b[0m\n\u001b[1;32m     48\u001b[0m \u001b[0;34m\u001b[0m\u001b[0m\n",
      "\u001b[0;31mKeyboardInterrupt\u001b[0m: "
     ]
    }
   ],
   "source": [
    "total_count = len(dataloader)\n",
    "for epoch in tqdm_notebook(range(num_epochs)):\n",
    "    _step = epoch * total_count\n",
    "    \n",
    "    d_loss_total = .0\n",
    "    g_loss_total = .0\n",
    "    for i, (imgs, labels) in enumerate(dataloader):\n",
    "        \n",
    "        real_imgs = imgs.cuda()\n",
    "        real_labels = labels.cuda()\n",
    "        \n",
    "        real = torch.ones(imgs.size(0), 1).cuda()\n",
    "        fake = torch.zeros(imgs.size(0), 1).cuda()\n",
    "        \n",
    "        fake_labels = torch.from_numpy(np.random.randint(0, 10, imgs.size(0))).cuda()\n",
    "        z = gen_noise(imgs.size(0), fake_labels)\n",
    "        \n",
    "        ########## G ##########\n",
    "        fake_imgs = G(z)\n",
    "        fake_out, fake_out_labels = D(fake_imgs)\n",
    "        \n",
    "        g_loss = adversarial_loss(fake_out.view(imgs.size(0), 1), real) + auxiliary_loss(fake_out_labels, fake_labels)\n",
    "        \n",
    "        G_optimezer.zero_grad()\n",
    "        g_loss.backward()\n",
    "        G_optimezer.step()\n",
    "        #######################\n",
    "        \n",
    "        ########## D ##########\n",
    "        real_out, real_out_label = D(real_imgs)\n",
    "        d_loss_real = adversarial_loss(real_out.view(imgs.size(0), 1), real_labels.float().view(imgs.size(0), 1))\n",
    "        d_loss_real_label = auxiliary_loss(real_out_label, real_labels)\n",
    "        real_scores = real_out\n",
    "        \n",
    "        fake_out, fake_out_labels = D(fake_imgs.detach())\n",
    "        d_loss_fake = adversarial_loss(fake_out.view(imgs.size(0), 1), fake)\n",
    "        d_loss_fake_label = auxiliary_loss(fake_out_labels, fake_labels)\n",
    "        fake_scores = fake_out\n",
    "        \n",
    "        d_loss = (d_loss_real + d_loss_fake) / 2 + d_loss_real_label - d_loss_fake_label\n",
    "        D_optimezer.zero_grad()\n",
    "        d_loss.backward()\n",
    "        D_optimezer.step()\n",
    "        #######################\n",
    "        \n",
    "        d_loss_total += d_loss.item() * imgs.size(0)\n",
    "        g_loss_total += g_loss.item() * imgs.size(0)\n",
    "        \n",
    "        step = _step + i + 1\n",
    "        \n",
    "        if (i + 1) % 100 == 0:\n",
    "            writer.add_scalar('Discriminator Real Loss', d_loss_real.item(), step)\n",
    "            writer.add_scalar('Discriminator Fake Loss', d_loss_fake.item(), step)\n",
    "            writer.add_scalar('Discriminator Loss', d_loss.item(), step)\n",
    "            writer.add_scalar('Generator Loss', g_loss.item(), step)\n",
    "        \n",
    "        if (i + 1) % 300 == 0:\n",
    "            tqdm.write('Epoch [{}/{}], Step: {:6d}, d_loss: {:.6f}, g_loss: {:.6f}, real_scores: {:.6f}' \\\n",
    "', fake_scores: {:.6f}'.format(epoch+1, num_epochs, (i+1) * batch_size, d_loss, g_loss, real_scores.mean(), fake_scores.mean()))\n",
    "    \n",
    "    setp = (epoch + 1) * total_count\n",
    "    _d_loss_total = d_loss_total / (total_count * (epoch + 1))\n",
    "    _g_loss_total = g_loss_total / (total_count * (epoch + 1))\n",
    "    \n",
    "    writer.add_scalar('Discriminator Total Loss', _d_loss_total, step)\n",
    "    writer.add_scalar('Generator Total Loss', _g_loss_total, step)\n",
    "    \n",
    "    tqdm.write(\"Finish Epoch [{}/{}], Mean D Loss: {:.6f}, Mean G Loss: {:.6f}\".format(epoch+1, \n",
    "                                                                             num_epochs, \n",
    "                                                                             _d_loss_total,\n",
    "                                                                             _g_loss_total, ))\n",
    "    \n",
    "    if epoch == 0:\n",
    "        real_images = real_imgs.view(-1, 1, 32, 32).cpu().data\n",
    "        save_image(real_images, os.path.join(img_path, 'real_images.png'))\n",
    "    \n",
    "    condition_noise = gen_noise(condition.shape[0], condition)\n",
    "    condition_images = G(condition_noise)\n",
    "    \n",
    "    writer.add_image('Generator Image', make_grid(fake_imgs.view(-1, 1, 32, 32).cpu().data, normalize=True, scale_each=True), step)\n",
    "    writer.add_image('Condition Generator Image', make_grid(condition_images.view(-1, 1, 32, 32).cpu().data, normalize=True, scale_each=True), step)\n",
    "    \n",
    "    fake_images = fake_imgs.view(-1, 1, 32, 32).cpu().data\n",
    "    save_image(fake_images, os.path.join(img_path, 'fake_images-{}.png'.format(epoch+1)))\n",
    "    save_image(condition_images, os.path.join(img_path, 'condition_images-{}.png'.format(epoch+1)))"
   ]
  },
  {
   "cell_type": "code",
   "execution_count": 22,
   "metadata": {},
   "outputs": [],
   "source": [
    "writer.close()"
   ]
  },
  {
   "cell_type": "code",
   "execution_count": 24,
   "metadata": {},
   "outputs": [],
   "source": [
    "torch.save(D.state_dict(), './ser/cnn_cgan_3_self_attention_discriminator.pt')\n",
    "torch.save(G.state_dict(), './ser/cnn_cgan_3_self_attention_generator.pt')"
   ]
  },
  {
   "cell_type": "code",
   "execution_count": 24,
   "metadata": {},
   "outputs": [],
   "source": [
    "D.load_state_dict(torch.load('./ser/cnn_cgan_3_self_attention_discriminator.pt'))\n",
    "G.load_state_dict(torch.load('./ser/cnn_cgan_3_self_attention_generator.pt'))"
   ]
  },
  {
   "cell_type": "code",
   "execution_count": 25,
   "metadata": {},
   "outputs": [
    {
     "name": "stdout",
     "output_type": "stream",
     "text": [
      "tensor([5, 0, 6, 9, 4, 0, 1, 1, 7, 2, 3, 2, 9, 2, 8, 4], device='cuda:0')\n"
     ]
    },
    {
     "data": {
      "image/png": "[encoded data removed]",
      "text/plain": [
       "<Figure size 432x288 with 1 Axes>"
      ]
     },
     "metadata": {
      "needs_background": "dark"
     },
     "output_type": "display_data"
    }
   ],
   "source": [
    "fake_labels = torch.from_numpy(np.random.randint(0, 10, 16)).cuda()\n",
    "z = gen_noise(16, fake_labels)\n",
    "print(fake_labels)\n",
    "images = G(z)\n",
    "# save_image(images, 'xx.png')\n",
    "plt.imshow(Image.fromarray(make_grid(images).mul(255).clamp(0, 255).byte().permute(1, 2, 0).cpu().numpy()))\n",
    "plt.show()"
   ]
  },
  {
   "cell_type": "code",
   "execution_count": null,
   "metadata": {},
   "outputs": [],
   "source": []
  }
 ],
 "metadata": {
  "kernelspec": {
   "display_name": "venv36",
   "language": "python",
   "name": "venv36"
  },
  "language_info": {
   "codemirror_mode": {
    "name": "ipython",
    "version": 3
   },
   "file_extension": ".py",
   "mimetype": "text/x-python",
   "name": "python",
   "nbconvert_exporter": "python",
   "pygments_lexer": "ipython3",
   "version": "3.6.8"
  },
  "varInspector": {
   "cols": {
    "lenName": 16,
    "lenType": 16,
    "lenVar": 40
   },
   "kernels_config": {
    "python": {
     "delete_cmd_postfix": "",
     "delete_cmd_prefix": "del ",
     "library": "var_list.py",
     "varRefreshCmd": "print(var_dic_list())"
    },
    "r": {
     "delete_cmd_postfix": ") ",
     "delete_cmd_prefix": "rm(",
     "library": "var_list.r",
     "varRefreshCmd": "cat(var_dic_list()) "
    }
   },
   "position": {
    "height": "556px",
    "left": "247px",
    "right": "398px",
    "top": "131px",
    "width": "752px"
   },
   "types_to_exclude": [
    "module",
    "function",
    "builtin_function_or_method",
    "instance",
    "_Feature"
   ],
   "window_display": false
  }
 },
 "nbformat": 4,
 "nbformat_minor": 2
}
