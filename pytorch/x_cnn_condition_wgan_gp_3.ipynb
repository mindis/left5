{
 "cells": [
  {
   "cell_type": "code",
   "execution_count": 1,
   "metadata": {},
   "outputs": [],
   "source": [
    "import os\n",
    "from tqdm import tnrange, tqdm_notebook, tqdm\n",
    "import torch\n",
    "import torchvision\n",
    "from torch import nn, autograd, optim\n",
    "from torch.utils.data import DataLoader\n",
    "from torchvision import transforms, datasets\n",
    "from torchvision.utils import save_image, make_grid\n",
    "from torch.autograd import grad\n",
    "import numpy as np\n",
    "from PIL import Image\n",
    "import matplotlib.pyplot as plt\n",
    "from tensorboardX import SummaryWriter"
   ]
  },
  {
   "cell_type": "code",
   "execution_count": 2,
   "metadata": {},
   "outputs": [],
   "source": [
    "# os.environ['CUDA_VISIBLE_DEVICES'] = '1'"
   ]
  },
  {
   "cell_type": "code",
   "execution_count": 3,
   "metadata": {},
   "outputs": [],
   "source": [
    "from matplotlib import rcParams\n",
    "rcParams['figure.figsize'] = (12, 8)\n",
    "\n",
    "%matplotlib inline"
   ]
  },
  {
   "cell_type": "code",
   "execution_count": 4,
   "metadata": {},
   "outputs": [],
   "source": [
    "device = torch.device('cuda' if torch.cuda.is_available() else 'cpu')"
   ]
  },
  {
   "cell_type": "code",
   "execution_count": 5,
   "metadata": {},
   "outputs": [
    {
     "data": {
      "text/plain": [
       "True"
      ]
     },
     "execution_count": 5,
     "metadata": {},
     "output_type": "execute_result"
    }
   ],
   "source": [
    "torch.cuda.is_available()"
   ]
  },
  {
   "cell_type": "code",
   "execution_count": 6,
   "metadata": {},
   "outputs": [],
   "source": [
    "device_ids = [0]"
   ]
  },
  {
   "cell_type": "code",
   "execution_count": 7,
   "metadata": {},
   "outputs": [],
   "source": [
    "BATCH_SIZE = 128\n",
    "num_epochs = 100\n",
    "\n",
    "z_dimension = 100\n",
    "num_feature = (32, 4, 4)\n",
    "\n",
    "img_shape = (1, 32, 32)"
   ]
  },
  {
   "cell_type": "code",
   "execution_count": 8,
   "metadata": {},
   "outputs": [],
   "source": [
    "img_transform = transforms.Compose([\n",
    "    transforms.Resize(32),\n",
    "    transforms.ToTensor(),\n",
    "    transforms.Normalize((.5, .5, .5), (.5, .5, .5))\n",
    "])\n",
    "\n",
    "dataset = datasets.MNIST('/home/left5/datas/mnist', transform=img_transform) #, download=True)\n",
    "dataloader = DataLoader(dataset, batch_size=BATCH_SIZE, shuffle=True, num_workers=4)"
   ]
  },
  {
   "cell_type": "code",
   "execution_count": 9,
   "metadata": {},
   "outputs": [],
   "source": [
    "def normal_init(m, mean, std):\n",
    "    if isinstance(m, nn.ConvTranspose2d) or isinstance(m, nn.Conv2d):\n",
    "        m.weight.data.normal_(mean, std)\n",
    "        m.bias.data.zero_()"
   ]
  },
  {
   "cell_type": "code",
   "execution_count": 10,
   "metadata": {},
   "outputs": [],
   "source": [
    "def calc_gradient_penalty(netD, real_data, fake_data, real_labels, fake_labels):\n",
    "    alpha = torch.rand(1, 1, 1, 1)\n",
    "    alpha = alpha.expand_as(real_data)\n",
    "    alpha = alpha.to(device)\n",
    "    \n",
    "#     alpha_labs = torch.rand(1)\n",
    "#     alpha_labs = alpha_labs.expand_as(real_labels)\n",
    "#     alpha_labs = alpha_labs.to(device)\n",
    "    \n",
    "    interpolates = alpha * real_data.detach() + ((1 - alpha) * fake_data.detach())\n",
    "#     interpolates_labes = alpha_labs * real_labels.float().detach() + ((1 - alpha_labs) * fake_labels.float().detach())\n",
    "\n",
    "    interpolates = interpolates.to(device)\n",
    "    interpolates.requires_grad_(True)\n",
    "\n",
    "    disc_interpolates, _ = netD(interpolates, real_labels, fake_labels)\n",
    "\n",
    "    gradients = autograd.grad(outputs=disc_interpolates, inputs=interpolates,\n",
    "                              grad_outputs=torch.ones(disc_interpolates.size()).to(device),\n",
    "                              create_graph=True, retain_graph=True, only_inputs=True)[0]\n",
    "\n",
    "    gradients = gradients.view(gradients.size(0), -1)                              \n",
    "    gradient_penalty = ((gradients.norm(2, dim=1) - 1) ** 2).mean() * 10\n",
    "    return gradient_penalty"
   ]
  },
  {
   "cell_type": "code",
   "execution_count": 11,
   "metadata": {},
   "outputs": [],
   "source": [
    "def gen_noise_label(batch_size):\n",
    "    label = np.random.randint(0, 10, batch_size)\n",
    "    #prefix = np.zeros((batch_size, 10))\n",
    "    #prefix[:, label] = 1\n",
    "    return label # prefix"
   ]
  },
  {
   "cell_type": "code",
   "execution_count": 12,
   "metadata": {},
   "outputs": [],
   "source": [
    "def gen_noise(batch_size, label):\n",
    "    prefix = np.zeros((batch_size, 10))\n",
    "    prefix[np.arange(batch_size), label] = 1\n",
    "    z = np.random.normal(0, 1, (batch_size, z_dimension))\n",
    "#     prefix = prefix / np.linalg.norm(prefix)\n",
    "    z[:, :10] = prefix\n",
    "    return torch.from_numpy(z).float().to(device)"
   ]
  },
  {
   "cell_type": "code",
   "execution_count": 13,
   "metadata": {},
   "outputs": [],
   "source": [
    "class Discriminator(nn.Module):\n",
    "    def __init__(self):\n",
    "        super(Discriminator, self).__init__()\n",
    "        \n",
    "        self.label_embedding = nn.Embedding(10, np.prod(img_shape))\n",
    "        \n",
    "        self.conv1 = nn.Sequential(\n",
    "            nn.Conv2d(2, 16, 3, padding=1, stride=2),\n",
    "#             nn.BatchNorm2d(16),\n",
    "            nn.LeakyReLU(.2, True),\n",
    "#             nn.AvgPool2d(2, 2), \n",
    "        ) # b 16 16 16\n",
    "        \n",
    "        self.conv2 = nn.Sequential(\n",
    "            nn.Conv2d(16, 32, 3, padding=1, stride=2),\n",
    "#             nn.BatchNorm2d(32),\n",
    "            nn.LeakyReLU(.2, True),\n",
    "#             nn.AvgPool2d(2, 2), \n",
    "        ) # b 32 8 8\n",
    "        \n",
    "        self.conv3 = nn.Sequential(\n",
    "            nn.Conv2d(32, 64, 3, padding=1, stride=2),\n",
    "#             nn.BatchNorm2d(64),\n",
    "            nn.LeakyReLU(.2, True),\n",
    "#             nn.AvgPool2d(2, 2), \n",
    "        ) # b 64 4 4\n",
    "        \n",
    "        self.conv4 = nn.Sequential(\n",
    "            nn.Conv2d(64, 128, 3, padding=1, stride=2),\n",
    "#             nn.BatchNorm2d(128),\n",
    "            nn.LeakyReLU(.2, True),\n",
    "#             nn.AvgPool2d(2, 2), \n",
    "        ) # b 128 2 2\n",
    "        \n",
    "        self.fc = nn.Sequential(\n",
    "            nn.Linear(128 * 2 * 2, 1024),\n",
    "            nn.LeakyReLU(.2, True),\n",
    "            nn.Linear(1024, 1),\n",
    "            nn.Sigmoid(),\n",
    "        ) # b 1\n",
    "        \n",
    "        self.label = nn.Sequential(\n",
    "            nn.Linear(128 * 2 * 2, 10),\n",
    "            nn.Sigmoid()\n",
    "        )\n",
    "\n",
    "    def forward(self, imgs, real_labels, fake_labels=None): # b 1 32 32\n",
    "        \n",
    "        if(fake_labels is None):\n",
    "            _imgs = torch.cat((imgs, self.label_embedding(real_labels).reshape(imgs.size(0), *img_shape)), 1)\n",
    "        else:\n",
    "            _labs = self.label_embedding(real_labels).reshape(imgs.size(0), *img_shape) + self.label_embedding(real_labels).reshape(imgs.size(0), *img_shape)\n",
    "            _imgs = torch.cat((imgs, _labs), 1)\n",
    "\n",
    "        outs = self.conv1(_imgs)\n",
    "        outs = self.conv2(outs)\n",
    "        outs = self.conv3(outs)\n",
    "        outs = self.conv4(outs)\n",
    "        outs = outs.view(imgs.size(0), -1)\n",
    "        img = self.fc(outs)\n",
    "        lab = self.label(outs)\n",
    "        \n",
    "        return img, lab # b 1 1 1, b 10"
   ]
  },
  {
   "cell_type": "code",
   "execution_count": 14,
   "metadata": {},
   "outputs": [],
   "source": [
    "class Generator(nn.Module):\n",
    "    def __init__(self, inp_dim, num_feature):\n",
    "        super(Generator, self).__init__()\n",
    "\n",
    "        self.label_emb = nn.Embedding(10, 10)\n",
    "        \n",
    "        self.fc = nn.Sequential(\n",
    "            nn.Linear(inp_dim, np.prod(num_feature)),\n",
    "#             nn.Sigmoid(),\n",
    "        ) # b *num_feature  b 32 4 4\n",
    "        \n",
    "        self.upsample1 = nn.Sequential(\n",
    "#             nn.BatchNorm2d(128),\n",
    "            nn.ConvTranspose2d(32, 16, 4, 2, 1),\n",
    "#             nn.functional.interpolate(scale_factor=2),\n",
    "#             nn.Upsample(scale_factor=2),\n",
    "#             nn.Conv2d(32, 16, 3, padding=1),\n",
    "            nn.BatchNorm2d(16),\n",
    "            nn.LeakyReLU(.2, True),\n",
    "#             nn.ReLU(True),\n",
    "        ) # b 16 8 8\n",
    "        \n",
    "        self.upsample2 = nn.Sequential(\n",
    "#             nn.functional.interpolate(scale_factor=2),\n",
    "            nn.ConvTranspose2d(16, 8, 4, 2, 1, 0),\n",
    "#             nn.Upsample(scale_factor=2),\n",
    "#             nn.Conv2d(16, 8, 3, padding=1),\n",
    "            nn.BatchNorm2d(8),\n",
    "            nn.LeakyReLU(.2, True),\n",
    "#             nn.ReLU(True),\n",
    "        ) # b 8 16 16\n",
    "        \n",
    "        self.upsample3 = nn.Sequential(\n",
    "            nn.ConvTranspose2d(8, 4, 4, 2, 1),\n",
    "#             nn.functional.interpolate(scale_factor=2),\n",
    "#             nn.Upsample(scale_factor=2),\n",
    "#             nn.Conv2d(8, 4, 3, padding=1, stride=1),\n",
    "            nn.BatchNorm2d(4),\n",
    "            nn.LeakyReLU(.2, True),\n",
    "#             nn.ReLU(True),\n",
    "        ) # b 4 32 32\n",
    "        \n",
    "        self.conv = nn.Sequential(\n",
    "#             nn.functional.interpolate(scale_factor=2),\n",
    "            nn.Conv2d(4, 1, 3, padding=1, stride=1),\n",
    "            nn.Tanh(),\n",
    "        ) # b 1 32 32\n",
    "\n",
    "    def forward(self, noise, labels):\n",
    "        \n",
    "#         gen_input = torch.cat((labels.reshape(noise.size(0), -1), noise), -1)\n",
    "        gen_input = torch.cat((self.label_emb(labels), noise), -1)\n",
    "        \n",
    "        outs = self.fc(gen_input)\n",
    "        outs = outs.view(noise.size(0), *num_feature)\n",
    "        outs = self.upsample1(outs)\n",
    "        outs = self.upsample2(outs)\n",
    "        outs = self.upsample3(outs)\n",
    "\n",
    "        outs = self.conv(outs)\n",
    "        \n",
    "        return outs\n"
   ]
  },
  {
   "cell_type": "code",
   "execution_count": 15,
   "metadata": {},
   "outputs": [],
   "source": [
    "D = Discriminator().to(device)\n",
    "G = Generator(z_dimension + 10, num_feature).to(device)\n",
    "\n",
    "# D.weight_init(.0, 0.02)\n",
    "# G.weight_init(.0, 0.02)\n",
    "\n",
    "D = nn.DataParallel(D, device_ids=device_ids).to(device)\n",
    "G = nn.DataParallel(G, device_ids=device_ids).to(device)\n",
    "\n",
    "criterion = nn.CrossEntropyLoss()\n",
    "\n",
    "d_optimezer = optim.Adam(D.parameters(), lr=2e-4, betas=(0, 0.9))\n",
    "g_optimezer = optim.Adam(G.parameters(), lr=2e-4, betas=(0, 0.9))\n",
    "\n",
    "one = torch.FloatTensor([1])\n",
    "mone = one * -1\n",
    "one = one.to(device)\n",
    "mone = mone.to(device)"
   ]
  },
  {
   "cell_type": "code",
   "execution_count": 16,
   "metadata": {},
   "outputs": [],
   "source": [
    "writer = SummaryWriter('./log/cnn_condition_wgan_gp')"
   ]
  },
  {
   "cell_type": "code",
   "execution_count": 17,
   "metadata": {},
   "outputs": [],
   "source": [
    "img_path = \"save_images/cnn_condition_wgan_img\"\n",
    "if not os.path.exists(img_path): os.makedirs(img_path)"
   ]
  },
  {
   "cell_type": "code",
   "execution_count": 18,
   "metadata": {},
   "outputs": [],
   "source": [
    "condition_label = torch.from_numpy(np.arange(10)).cuda()\n",
    "condition_noise = torch.randn(condition_label.size(0), z_dimension).cuda()"
   ]
  },
  {
   "cell_type": "code",
   "execution_count": null,
   "metadata": {
    "scrolled": true
   },
   "outputs": [
    {
     "data": {
      "application/vnd.jupyter.widget-view+json": {
       "model_id": "3a2372a39afd429eae59e5d06be19347",
       "version_major": 2,
       "version_minor": 0
      },
      "text/plain": [
       "HBox(children=(IntProgress(value=0), HTML(value='')))"
      ]
     },
     "metadata": {},
     "output_type": "display_data"
    },
    {
     "name": "stdout",
     "output_type": "stream",
     "text": [
      "  Epoch[1/100], Step:  38400, d_loss: 6.659731, g_loss: -2.405984 real_scores: 0.977338, fake_scores: 0.000134, W: -0.977204\n",
      "Finish Epoch [1/100], D Loss: 1036.181602, G Loss: -303.931286, W: -115.501938\n",
      "  Epoch[2/100], Step:  38400, d_loss: 6.711418, g_loss: -2.884549 real_scores: 0.969192, fake_scores: 0.011140, W: -0.958052\n",
      "Finish Epoch [2/100], D Loss: 275.065069, G Loss: -183.098461, W: -60.461075\n",
      "  Epoch[3/100], Step:  38400, d_loss: 3.911788, g_loss: -2.947539 real_scores: 0.976729, fake_scores: 0.003988, W: -0.972741\n",
      "Finish Epoch [3/100], D Loss: 173.364819, G Loss: -125.794221, W: -41.606518\n",
      "  Epoch[4/100], Step:  38400, d_loss: 1.264363, g_loss: -3.040120 real_scores: 0.999990, fake_scores: 0.000071, W: -0.999918\n",
      "Finish Epoch [4/100], D Loss: 65.849335, G Loss: -97.234495, W: -31.825113\n",
      "  Epoch[5/100], Step:  38400, d_loss: 1.217317, g_loss: -3.062425 real_scores: 1.000000, fake_scores: 0.006896, W: -0.993105\n",
      "Finish Epoch [5/100], D Loss: 31.992197, G Loss: -78.518753, W: -25.525423\n",
      "  Epoch[6/100], Step:  38400, d_loss: 0.817222, g_loss: -3.093679 real_scores: 0.992187, fake_scores: 0.000108, W: -0.992079\n",
      "Finish Epoch [6/100], D Loss: 22.593636, G Loss: -65.855627, W: -21.265282\n",
      "  Epoch[7/100], Step:  38400, d_loss: 0.713616, g_loss: -3.092506 real_scores: 1.000000, fake_scores: 0.000244, W: -0.999756\n",
      "Finish Epoch [7/100], D Loss: 16.645330, G Loss: -56.520602, W: -18.232441\n",
      "  Epoch[8/100], Step:  38400, d_loss: 0.752084, g_loss: -3.103384 real_scores: 1.000000, fake_scores: 0.000996, W: -0.999004\n",
      "Finish Epoch [8/100], D Loss: 13.483041, G Loss: -49.498234, W: -15.961451\n",
      "  Epoch[9/100], Step:  38400, d_loss: 1.455736, g_loss: -3.114471 real_scores: 1.000000, fake_scores: 0.000960, W: -0.999040\n",
      "Finish Epoch [9/100], D Loss: 11.410472, G Loss: -44.118923, W: -14.182375\n",
      "  Epoch[10/100], Step:  38400, d_loss: 0.646558, g_loss: -3.106821 real_scores: 1.000000, fake_scores: 0.000437, W: -0.999563\n",
      "Finish Epoch [10/100], D Loss: 9.873025, G Loss: -39.767598, W: -12.760936\n",
      "  Epoch[11/100], Step:  38400, d_loss: 0.569865, g_loss: -3.112095 real_scores: 1.000000, fake_scores: 0.000827, W: -0.999173\n",
      "Finish Epoch [11/100], D Loss: 8.275471, G Loss: -36.182611, W: -11.607149\n",
      "  Epoch[12/100], Step:  38400, d_loss: 0.540558, g_loss: -3.107778 real_scores: 1.000000, fake_scores: 0.001044, W: -0.998956\n",
      "Finish Epoch [12/100], D Loss: 7.068428, G Loss: -33.203341, W: -10.636774\n",
      "  Epoch[13/100], Step:  38400, d_loss: 0.552632, g_loss: -3.138816 real_scores: 1.000000, fake_scores: 0.000356, W: -0.999644\n",
      "Finish Epoch [13/100], D Loss: 5.844539, G Loss: -30.774810, W: -9.820070\n",
      "  Epoch[14/100], Step:  38400, d_loss: 0.670185, g_loss: -3.139136 real_scores: 1.000000, fake_scores: 0.002370, W: -0.997630\n",
      "Finish Epoch [14/100], D Loss: 5.714997, G Loss: -28.638329, W: -9.120254\n",
      "  Epoch[15/100], Step:  38400, d_loss: 2.939693, g_loss: -3.138286 real_scores: 1.000000, fake_scores: 0.000402, W: -0.999598\n",
      "Finish Epoch [15/100], D Loss: 77.991546, G Loss: -26.706192, W: -8.511223\n",
      "  Epoch[16/100], Step:  38400, d_loss: 18.098873, g_loss: -3.130552 real_scores: 0.649292, fake_scores: 0.000174, W: -0.649117\n",
      "Finish Epoch [16/100], D Loss: 290.717176, G Loss: -25.009050, W: -6.084882\n",
      "  Epoch[17/100], Step:  38400, d_loss: 11.483893, g_loss: -3.146298 real_scores: 0.000000, fake_scores: 0.000000, W: 0.000000\n",
      "Finish Epoch [17/100], D Loss: 154.698730, G Loss: -23.651332, W: -0.404858\n",
      "  Epoch[18/100], Step:  38400, d_loss: 11.461144, g_loss: -3.150433 real_scores: 0.000000, fake_scores: 0.000000, W: 0.000000\n",
      "Finish Epoch [18/100], D Loss: 82.794802, G Loss: -22.319193, W: 0.000000\n",
      "  Epoch[19/100], Step:  38400, d_loss: 11.461151, g_loss: -3.140730 real_scores: 0.000000, fake_scores: 0.000000, W: 0.000000\n",
      "Finish Epoch [19/100], D Loss: 77.914588, G Loss: -21.147251, W: 0.000004\n",
      "  Epoch[20/100], Step:  38400, d_loss: 11.461151, g_loss: -3.138812 real_scores: 0.000000, fake_scores: 0.000000, W: 0.000000\n",
      "Finish Epoch [20/100], D Loss: 73.469618, G Loss: -20.087989, W: 0.000000\n",
      "  Epoch[21/100], Step:  38400, d_loss: 11.353554, g_loss: -3.137666 real_scores: 0.078122, fake_scores: 0.000000, W: -0.078122\n",
      "Finish Epoch [21/100], D Loss: 72.758449, G Loss: -19.113015, W: -0.325170\n",
      "  Epoch[22/100], Step:  38400, d_loss: 11.118744, g_loss: -3.136289 real_scores: 0.266504, fake_scores: 0.000115, W: -0.266389\n",
      "Finish Epoch [22/100], D Loss: 71.660404, G Loss: -18.236874, W: -1.413063\n",
      "  Epoch[23/100], Step:  38400, d_loss: 10.695272, g_loss: -3.144227 real_scores: 0.766001, fake_scores: 0.000122, W: -0.765878\n",
      "Finish Epoch [23/100], D Loss: 57.995597, G Loss: -17.467792, W: -3.857668\n",
      "  Epoch[24/100], Step:  38400, d_loss: 0.616351, g_loss: -3.164553 real_scores: 1.000000, fake_scores: 0.000092, W: -0.999909\n",
      "Finish Epoch [24/100], D Loss: 4.713212, G Loss: -16.839617, W: -5.325151\n",
      "  Epoch[25/100], Step:  38400, d_loss: 0.529967, g_loss: -3.161927 real_scores: 1.000000, fake_scores: 0.000103, W: -0.999897\n",
      "Finish Epoch [25/100], D Loss: 3.125966, G Loss: -16.215647, W: -5.114873\n",
      "  Epoch[26/100], Step:  38400, d_loss: 0.593396, g_loss: -3.170239 real_scores: 1.000000, fake_scores: 0.000122, W: -0.999878\n",
      "Finish Epoch [26/100], D Loss: 2.961871, G Loss: -15.601259, W: -4.917616\n",
      "  Epoch[27/100], Step:  38400, d_loss: 0.588046, g_loss: -3.172665 real_scores: 1.000000, fake_scores: 0.000062, W: -0.999938\n",
      "Finish Epoch [27/100], D Loss: 2.707549, G Loss: -15.025787, W: -4.735547\n"
     ]
    }
   ],
   "source": [
    "total_count = len(dataloader)\n",
    "for epoch in tqdm_notebook(range(num_epochs)):\n",
    "    _step = epoch * total_count\n",
    "    \n",
    "    d_loss_total = .0\n",
    "    g_loss_total = .0\n",
    "    w_loss_total = .0\n",
    "    for i, (imgs, labs) in enumerate(dataloader):\n",
    "        \n",
    "        real_imgs = imgs.cuda()\n",
    "        real_labs = labs.cuda()\n",
    "        \n",
    "        z = torch.randn(imgs.size(0), z_dimension).cuda()\n",
    "        fake_labels = torch.from_numpy(np.random.randint(0, 10, imgs.size(0))).cuda()\n",
    "        \n",
    "        ########## G ##########\n",
    "#         for p in D.parameters():\n",
    "#             p.requires_grad_(False)\n",
    "        \n",
    "        fake_imgs = G(z, fake_labels)\n",
    "        fake_out, fake_out_labels = D(fake_imgs, fake_labels)\n",
    "\n",
    "        fake_labels_loss = criterion(fake_out_labels, fake_labels).mean()\n",
    "        fake_cost = -fake_out.mean()\n",
    "        g_loss = 1 * fake_labels_loss + fake_cost\n",
    "#         g_loss = fake_out.mean()\n",
    "\n",
    "        g_optimezer.zero_grad()\n",
    "        g_loss.backward(mone)\n",
    "        g_loss = -g_loss\n",
    "        g_optimezer.step()\n",
    "        #######################\n",
    "        \n",
    "        \n",
    "        ########## D ##########\n",
    "#         for p in D.parameters():\n",
    "#             p.requires_grad_(True)\n",
    "        \n",
    "        real_out, real_labels = D(real_imgs, real_labs)\n",
    "        real_labels_loss = criterion(real_labels, real_labs)\n",
    "        d_loss_real_lab = real_labels_loss.mean()\n",
    "        d_loss_real = real_out.mean()\n",
    "        real_scores = real_out\n",
    "        \n",
    "        fake_out, fake_out_labels = D(fake_imgs.detach(), fake_labels)\n",
    "#         d_loss_fake_lab = criterion(fake_out_labels, fake_labels).mean()\n",
    "        d_loss_fake = fake_out.mean()\n",
    "        fake_scores = fake_out\n",
    "        \n",
    "        gradient_penalty = calc_gradient_penalty(D, real_imgs, fake_imgs, real_labs, fake_labels)\n",
    "        \n",
    "        d_loss = d_loss_fake - d_loss_real + gradient_penalty + 1 * d_loss_real_lab\n",
    "        \n",
    "        d_optimezer.zero_grad()\n",
    "        d_loss.backward()\n",
    "        d_optimezer.step()\n",
    "        #######################\n",
    "        \n",
    "        w_dist = d_loss_fake - d_loss_real\n",
    "        \n",
    "        d_loss_total += d_loss.item() * imgs.size(0)\n",
    "        g_loss_total += g_loss.item() * imgs.size(0)\n",
    "        w_loss_total += w_dist * imgs.size(0)\n",
    "        \n",
    "        step = _step + i + 1\n",
    "        \n",
    "        if (i + 1) % 100 == 0:\n",
    "            writer.add_scalar('Discriminator Real Loss', d_loss_real.item(), step)\n",
    "            writer.add_scalar('Discriminator Fake Loss', d_loss_fake.item(), step)\n",
    "            writer.add_scalar('Discriminator Loss', d_loss.item(), step)\n",
    "            writer.add_scalar('Generator Loss', g_loss.item(), step)\n",
    "            writer.add_scalar('Wasserstein Distance', w_dist.item(), step)\n",
    "        \n",
    "        \n",
    "        if (i + 1) % 300 == 0:\n",
    "            tqdm.write('  Epoch[{}/{}], Step: {:6d}, d_loss: {:.6f}, g_loss: {:.6f} real_scores: {:.6f}' \\\n",
    "', fake_scores: {:.6f}, W: {:.6f}'.format(epoch+1, num_epochs, \n",
    "                                          (i+1) * BATCH_SIZE, \n",
    "                                          d_loss, g_loss, \n",
    "                                          real_scores.mean(), \n",
    "                                          fake_scores.mean(), w_dist))\n",
    "    \n",
    "    \n",
    "    setp = (epoch + 1) * total_count\n",
    "    _d_loss_total = d_loss_total / (total_count * (epoch + 1))\n",
    "    _g_loss_total = g_loss_total / (total_count * (epoch + 1))\n",
    "    _w_loss_total = w_loss_total / (total_count * (epoch + 1))\n",
    "    \n",
    "    writer.add_scalar('Discriminator Total Loss', _d_loss_total, step)\n",
    "    writer.add_scalar('Generator Total Loss', _g_loss_total, step)\n",
    "    \n",
    "    tqdm.write(\"Finish Epoch [{}/{}], D Loss: {:.6f}, G Loss: {:.6f}, W: {:.6f}\".format(epoch+1, \n",
    "                                                                             num_epochs, \n",
    "                                                                             _d_loss_total,\n",
    "                                                                             _g_loss_total,\n",
    "                                                                             _w_loss_total, ))\n",
    "    \n",
    "    writer.add_image('Generator Image', make_grid(fake_imgs.view(-1, 1, 32, 32).cpu().data, normalize=True, scale_each=True), step)\n",
    "    condition_imgs = G(condition_noise, condition_label)\n",
    "    writer.add_image('Condition Generator Image', make_grid(condition_imgs.view(-1, 1, 32, 32).cpu().data, normalize=True, scale_each=True), step)\n",
    "    \n",
    "    if epoch == 0:\n",
    "        real_images = real_imgs.view(-1, 1, 32, 32).cpu().data\n",
    "        save_image(real_images, os.path.join(img_path, 'real_images.png'))\n",
    "    \n",
    "    \n",
    "    fake_images = fake_imgs.view(-1, 1, 32, 32).cpu().data\n",
    "    save_image(fake_images, os.path.join(img_path, 'fake_images-{}.png'.format(epoch+1)))\n",
    "    save_image(condition_imgs, os.path.join(img_path, 'condition_images-{}.png'.format(epoch+1)))"
   ]
  },
  {
   "cell_type": "code",
   "execution_count": 20,
   "metadata": {},
   "outputs": [],
   "source": [
    "writer.close()"
   ]
  },
  {
   "cell_type": "code",
   "execution_count": 21,
   "metadata": {},
   "outputs": [],
   "source": [
    "torch.save(D.state_dict(), './ser/condition_wgan_gp_discriminator_3.pt')\n",
    "torch.save(G.state_dict(), './ser/condition_wgan_gp_generator_3.pt')"
   ]
  },
  {
   "cell_type": "code",
   "execution_count": null,
   "metadata": {},
   "outputs": [],
   "source": [
    "D.load_state_dict(torch.load('./ser/condition_wgan_gp_discriminator_3.pt'))\n",
    "G.load_state_dict(torch.load('./ser/condition_wgan_gp_generator_3.pt'))"
   ]
  },
  {
   "cell_type": "code",
   "execution_count": 22,
   "metadata": {},
   "outputs": [
    {
     "data": {
      "image/png": "[encoded data removed]",
      "text/plain": [
       "<Figure size 432x288 with 1 Axes>"
      ]
     },
     "metadata": {
      "needs_background": "light"
     },
     "output_type": "display_data"
    }
   ],
   "source": [
    "clabel = np.arange(10)\n",
    "z = torch.randn(clabel.shape[0], z_dimension).cuda()\n",
    "images = G(z, torch.from_numpy(clabel).cuda())\n",
    "# save_image(images, 'xx.png')\n",
    "plt.imshow(Image.fromarray(make_grid(images).mul(255).clamp(0, 255).byte().permute(1, 2, 0).cpu().numpy()))\n",
    "plt.show()"
   ]
  },
  {
   "cell_type": "code",
   "execution_count": null,
   "metadata": {},
   "outputs": [],
   "source": []
  }
 ],
 "metadata": {
  "kernelspec": {
   "display_name": "Python 3",
   "language": "python",
   "name": "python3"
  },
  "language_info": {
   "codemirror_mode": {
    "name": "ipython",
    "version": 3
   },
   "file_extension": ".py",
   "mimetype": "text/x-python",
   "name": "python",
   "nbconvert_exporter": "python",
   "pygments_lexer": "ipython3",
   "version": "3.5.3"
  },
  "varInspector": {
   "cols": {
    "lenName": 16,
    "lenType": 16,
    "lenVar": 40
   },
   "kernels_config": {
    "python": {
     "delete_cmd_postfix": "",
     "delete_cmd_prefix": "del ",
     "library": "var_list.py",
     "varRefreshCmd": "print(var_dic_list())"
    },
    "r": {
     "delete_cmd_postfix": ") ",
     "delete_cmd_prefix": "rm(",
     "library": "var_list.r",
     "varRefreshCmd": "cat(var_dic_list()) "
    }
   },
   "position": {
    "height": "556px",
    "left": "247px",
    "right": "398px",
    "top": "131px",
    "width": "752px"
   },
   "types_to_exclude": [
    "module",
    "function",
    "builtin_function_or_method",
    "instance",
    "_Feature"
   ],
   "window_display": false
  }
 },
 "nbformat": 4,
 "nbformat_minor": 2
}
