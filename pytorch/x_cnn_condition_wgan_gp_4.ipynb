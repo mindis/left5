{
 "cells": [
  {
   "cell_type": "code",
   "execution_count": 1,
   "metadata": {},
   "outputs": [],
   "source": [
    "import os\n",
    "from tqdm import tnrange, tqdm_notebook, tqdm\n",
    "import torch\n",
    "import torchvision\n",
    "from torch import nn, autograd, optim\n",
    "from torch.utils.data import DataLoader\n",
    "from torchvision import transforms, datasets\n",
    "from torchvision.utils import save_image, make_grid\n",
    "from torch.autograd import grad\n",
    "import numpy as np\n",
    "from PIL import Image\n",
    "import matplotlib.pyplot as plt\n",
    "from tensorboardX import SummaryWriter"
   ]
  },
  {
   "cell_type": "code",
   "execution_count": 2,
   "metadata": {},
   "outputs": [],
   "source": [
    "# os.environ['CUDA_VISIBLE_DEVICES'] = '1'"
   ]
  },
  {
   "cell_type": "code",
   "execution_count": 3,
   "metadata": {},
   "outputs": [],
   "source": [
    "from matplotlib import rcParams\n",
    "rcParams['figure.figsize'] = (12, 8)\n",
    "\n",
    "%matplotlib inline"
   ]
  },
  {
   "cell_type": "code",
   "execution_count": 4,
   "metadata": {},
   "outputs": [],
   "source": [
    "device = torch.device('cuda' if torch.cuda.is_available() else 'cpu')"
   ]
  },
  {
   "cell_type": "code",
   "execution_count": 5,
   "metadata": {},
   "outputs": [
    {
     "data": {
      "text/plain": [
       "True"
      ]
     },
     "execution_count": 5,
     "metadata": {},
     "output_type": "execute_result"
    }
   ],
   "source": [
    "torch.cuda.is_available()"
   ]
  },
  {
   "cell_type": "code",
   "execution_count": 6,
   "metadata": {},
   "outputs": [],
   "source": [
    "device_ids = [0]"
   ]
  },
  {
   "cell_type": "code",
   "execution_count": 7,
   "metadata": {},
   "outputs": [],
   "source": [
    "BATCH_SIZE = 128\n",
    "num_epochs = 100\n",
    "\n",
    "z_dimension = 100\n",
    "num_feature = (32, 4, 4)\n",
    "\n",
    "img_shape = (1, 32, 32)"
   ]
  },
  {
   "cell_type": "code",
   "execution_count": 8,
   "metadata": {},
   "outputs": [],
   "source": [
    "img_transform = transforms.Compose([\n",
    "    transforms.Resize(32),\n",
    "    transforms.ToTensor(),\n",
    "    transforms.Normalize((.5, .5, .5), (.5, .5, .5))\n",
    "])\n",
    "\n",
    "dataset = datasets.MNIST('/home/left5/datas/mnist', transform=img_transform) #, download=True)\n",
    "dataloader = DataLoader(dataset, batch_size=BATCH_SIZE, shuffle=True, num_workers=4)"
   ]
  },
  {
   "cell_type": "code",
   "execution_count": 9,
   "metadata": {},
   "outputs": [],
   "source": [
    "def normal_init(m, mean, std):\n",
    "    if isinstance(m, nn.ConvTranspose2d) or isinstance(m, nn.Conv2d):\n",
    "        m.weight.data.normal_(mean, std)\n",
    "        m.bias.data.zero_()"
   ]
  },
  {
   "cell_type": "code",
   "execution_count": 10,
   "metadata": {},
   "outputs": [],
   "source": [
    "def calc_gradient_penalty(netD, real_data, fake_data):\n",
    "    alpha = torch.rand(1, 1, 1, 1)\n",
    "    alpha = alpha.expand_as(real_data)\n",
    "    alpha = alpha.to(device)\n",
    "    \n",
    "#     fake_data = fake_data.view(BATCH_SIZE, 3, DIM, DIM)\n",
    "    interpolates = alpha * real_data.detach() + ((1 - alpha) * fake_data.detach())\n",
    "\n",
    "    interpolates = interpolates.to(device)\n",
    "    interpolates.requires_grad_(True)\n",
    "\n",
    "    disc_interpolates, _ = netD(interpolates)\n",
    "    \n",
    "    gradients = autograd.grad(outputs=disc_interpolates, inputs=interpolates,\n",
    "                              grad_outputs=torch.ones(disc_interpolates.shape).to(device),\n",
    "                              create_graph=True, retain_graph=True, only_inputs=True)[0]\n",
    "\n",
    "    gradients = gradients.view(gradients.size(0), -1)                              \n",
    "    gradient_penalty = ((gradients.norm(2, dim=1) - 1) ** 2).mean() * 10\n",
    "    return gradient_penalty"
   ]
  },
  {
   "cell_type": "code",
   "execution_count": 11,
   "metadata": {},
   "outputs": [],
   "source": [
    "def gen_noise_label(batch_size):\n",
    "    label = np.random.randint(0, 10, batch_size)\n",
    "    #prefix = np.zeros((batch_size, 10))\n",
    "    #prefix[np.arange(batch_size), label] = 1\n",
    "    return label # prefix"
   ]
  },
  {
   "cell_type": "code",
   "execution_count": 12,
   "metadata": {},
   "outputs": [],
   "source": [
    "def gen_noise(batch_size, label):\n",
    "    prefix = np.zeros((batch_size, 10))\n",
    "    prefix[np.arange(batch_size), label] = 1\n",
    "    z = np.random.normal(0, 1, (batch_size, z_dimension))\n",
    "#     prefix = prefix / np.linalg.norm(prefix)\n",
    "    z[:, :10] = prefix\n",
    "    return torch.from_numpy(z).float().to(device)"
   ]
  },
  {
   "cell_type": "code",
   "execution_count": 13,
   "metadata": {},
   "outputs": [],
   "source": [
    "class Discriminator(nn.Module):\n",
    "    def __init__(self):\n",
    "        super(Discriminator, self).__init__()\n",
    "        \n",
    "#         self.label_embedding = nn.Embedding(10, np.prod(img_shape))\n",
    "        \n",
    "        self.conv1 = nn.Sequential(\n",
    "            nn.Conv2d(1, 16, 3, padding=1, stride=2),\n",
    "#             nn.BatchNorm2d(16),\n",
    "            nn.LeakyReLU(.2, True),\n",
    "#             nn.AvgPool2d(2, 2), \n",
    "        ) # b 16 16 16\n",
    "        \n",
    "        self.conv2 = nn.Sequential(\n",
    "            nn.Conv2d(16, 32, 3, padding=1, stride=2),\n",
    "#             nn.BatchNorm2d(32),\n",
    "            nn.LeakyReLU(.2, True),\n",
    "#             nn.AvgPool2d(2, 2), \n",
    "        ) # b 32 8 8\n",
    "        \n",
    "        self.conv3 = nn.Sequential(\n",
    "            nn.Conv2d(32, 64, 3, padding=1, stride=2),\n",
    "#             nn.BatchNorm2d(64),\n",
    "            nn.LeakyReLU(.2, True),\n",
    "#             nn.AvgPool2d(2, 2), \n",
    "        ) # b 64 4 4\n",
    "        \n",
    "        self.conv4 = nn.Sequential(\n",
    "            nn.Conv2d(64, 128, 3, padding=1, stride=2),\n",
    "#             nn.BatchNorm2d(128),\n",
    "            nn.LeakyReLU(.2, True),\n",
    "#             nn.AvgPool2d(2, 2), \n",
    "        ) # b 128 2 2\n",
    "        \n",
    "        self.fc = nn.Sequential(\n",
    "            nn.Linear(128 * 2 * 2, 1024),\n",
    "            nn.LeakyReLU(.2, True),\n",
    "            nn.Linear(1024, 1),\n",
    "#             nn.Sigmoid(),\n",
    "        ) # b 1\n",
    "        \n",
    "        self.label = nn.Sequential(\n",
    "            nn.Linear(128 * 2 * 2, 10),\n",
    "#             nn.Sigmoid()\n",
    "        )\n",
    "\n",
    "    def forward(self, imgs): # b 1 32 32\n",
    "        \n",
    "#         if(fake_labels is None):\n",
    "#             _imgs = torch.cat((imgs, self.label_embedding(real_labels).reshape(imgs.size(0), *img_shape)), 1)\n",
    "#         else:\n",
    "#             _labs = self.label_embedding(real_labels).reshape(imgs.size(0), *img_shape) + self.label_embedding(real_labels).reshape(imgs.size(0), *img_shape)\n",
    "#             _imgs = torch.cat((imgs, _labs), 1)\n",
    "\n",
    "        outs = self.conv1(imgs)\n",
    "        outs = self.conv2(outs)\n",
    "        outs = self.conv3(outs)\n",
    "        outs = self.conv4(outs)\n",
    "        outs = outs.view(imgs.size(0), -1)\n",
    "        img = self.fc(outs)\n",
    "        lab = self.label(outs)\n",
    "        \n",
    "        return img, lab # b 1 1 1, b 10"
   ]
  },
  {
   "cell_type": "code",
   "execution_count": 14,
   "metadata": {},
   "outputs": [],
   "source": [
    "class Generator(nn.Module):\n",
    "    def __init__(self, inp_dim, num_feature):\n",
    "        super(Generator, self).__init__()\n",
    "\n",
    "#         self.label_emb = nn.Embedding(inp_dim, inp_dim)\n",
    "        \n",
    "        self.fc = nn.Sequential(\n",
    "            nn.Linear(inp_dim, np.prod(num_feature)),\n",
    "#             nn.Sigmoid(),\n",
    "        ) # b *num_feature  b 32 4 4\n",
    "        \n",
    "        self.upsample1 = nn.Sequential(\n",
    "#             nn.BatchNorm2d(128),\n",
    "            nn.ConvTranspose2d(32, 16, 4, 2, 1),\n",
    "#             nn.functional.interpolate(scale_factor=2),\n",
    "#             nn.Upsample(scale_factor=2),\n",
    "#             nn.Conv2d(32, 16, 3, padding=1),\n",
    "            nn.BatchNorm2d(16),\n",
    "            nn.LeakyReLU(.2, True),\n",
    "#             nn.ReLU(True),\n",
    "        ) # b 16 8 8\n",
    "        \n",
    "        self.upsample2 = nn.Sequential(\n",
    "#             nn.functional.interpolate(scale_factor=2),\n",
    "            nn.ConvTranspose2d(16, 8, 4, 2, 1, 0),\n",
    "#             nn.Upsample(scale_factor=2),\n",
    "#             nn.Conv2d(16, 8, 3, padding=1),\n",
    "            nn.BatchNorm2d(8),\n",
    "            nn.LeakyReLU(.2, True),\n",
    "#             nn.ReLU(True),\n",
    "        ) # b 8 16 16\n",
    "        \n",
    "        self.upsample3 = nn.Sequential(\n",
    "            nn.ConvTranspose2d(8, 4, 4, 2, 1),\n",
    "#             nn.functional.interpolate(scale_factor=2),\n",
    "#             nn.Upsample(scale_factor=2),\n",
    "#             nn.Conv2d(8, 4, 3, padding=1, stride=1),\n",
    "            nn.BatchNorm2d(4),\n",
    "            nn.LeakyReLU(.2, True),\n",
    "#             nn.ReLU(True),\n",
    "        ) # b 4 32 32\n",
    "        \n",
    "        self.conv = nn.Sequential(\n",
    "#             nn.functional.interpolate(scale_factor=2),\n",
    "            nn.Conv2d(4, 1, 3, padding=1, stride=1),\n",
    "            nn.Tanh(),\n",
    "        ) # b 1 32 32\n",
    "\n",
    "    def forward(self, noise):\n",
    "        \n",
    "#         gen_input = torch.cat((labels.reshape(noise.size(0), -1), noise), -1)\n",
    "#         gen_input = torch.cat((self.label_emb(labels), noise), -1)\n",
    "#         gen_input = self.label_emb(noise)\n",
    "        \n",
    "        outs = self.fc(noise)\n",
    "        outs = outs.view(noise.size(0), *num_feature)\n",
    "        outs = self.upsample1(outs)\n",
    "        outs = self.upsample2(outs)\n",
    "        outs = self.upsample3(outs)\n",
    "\n",
    "        outs = self.conv(outs)\n",
    "        \n",
    "        return outs\n"
   ]
  },
  {
   "cell_type": "code",
   "execution_count": 45,
   "metadata": {},
   "outputs": [],
   "source": [
    "D = Discriminator().to(device)\n",
    "G = Generator(z_dimension, num_feature).to(device)\n",
    "\n",
    "# D.weight_init(.0, 0.02)\n",
    "# G.weight_init(.0, 0.02)\n",
    "\n",
    "D = nn.DataParallel(D, device_ids=device_ids).to(device)\n",
    "G = nn.DataParallel(G, device_ids=device_ids).to(device)\n",
    "\n",
    "criterion = nn.CrossEntropyLoss()\n",
    "\n",
    "d_optimezer = optim.Adam(D.parameters(), lr=2e-4, betas=(0, 0.9))\n",
    "g_optimezer = optim.Adam(G.parameters(), lr=2e-4, betas=(0, 0.9))\n",
    "\n",
    "one = torch.FloatTensor([1])\n",
    "mone = one * -1\n",
    "one = one.to(device)\n",
    "mone = mone.to(device)"
   ]
  },
  {
   "cell_type": "code",
   "execution_count": 16,
   "metadata": {},
   "outputs": [],
   "source": [
    "writer = SummaryWriter('./log/cnn_condition_wgan_gp')"
   ]
  },
  {
   "cell_type": "code",
   "execution_count": 17,
   "metadata": {},
   "outputs": [],
   "source": [
    "img_path = \"save_images/cnn_condition_wgan_img\"\n",
    "if not os.path.exists(img_path): os.makedirs(img_path)"
   ]
  },
  {
   "cell_type": "code",
   "execution_count": 18,
   "metadata": {},
   "outputs": [],
   "source": [
    "condition_label = np.arange(10)\n",
    "# condition_noise = np.random.randn(condition_label.shape[0], z_dimension)\n",
    "# condition_noise[:, 0] += condition_label\n",
    "# # condition_noise = condition_noise / np.linalg.norm(condition_noise)\n",
    "# condition_noise = torch.from_numpy(condition_noise).float()\n",
    "condition_noise = gen_noise(condition_label.shape[0], condition_label)"
   ]
  },
  {
   "cell_type": "code",
   "execution_count": 19,
   "metadata": {
    "scrolled": true
   },
   "outputs": [
    {
     "data": {
      "application/vnd.jupyter.widget-view+json": {
       "model_id": "00a782fdcb5a42ada923f03fee1e2362",
       "version_major": 2,
       "version_minor": 0
      },
      "text/plain": [
       "HBox(children=(IntProgress(value=0), HTML(value='')))"
      ]
     },
     "metadata": {},
     "output_type": "display_data"
    },
    {
     "name": "stdout",
     "output_type": "stream",
     "text": [
      "  Epoch[1/100], Step:  38400, d_loss: -24.439140, g_loss: -5.563826 real_scores: 36.079620, fake_scores: 3.222113, W: -32.857506\n",
      "Finish Epoch [1/100], D Loss: -3194.804839, G Loss: -1055.685354, W: -4347.951660\n",
      "  Epoch[2/100], Step:  38400, d_loss: -3.205382, g_loss: -9.857994 real_scores: 8.959982, fake_scores: 5.658109, W: -3.301873\n",
      "Finish Epoch [2/100], D Loss: -299.814335, G Loss: -1047.873349, W: -341.325562\n",
      "  Epoch[3/100], Step:  38400, d_loss: -2.028308, g_loss: -10.063818 real_scores: 5.834415, fake_scores: 3.497697, W: -2.336719\n",
      "Finish Epoch [3/100], D Loss: -95.044038, G Loss: -275.557041, W: -105.816803\n",
      "  Epoch[4/100], Step:  38400, d_loss: -2.904026, g_loss: -3.539806 real_scores: -2.503734, fake_scores: -5.630346, W: -3.126612\n",
      "Finish Epoch [4/100], D Loss: -90.853638, G Loss: -129.520961, W: -101.376488\n",
      "  Epoch[5/100], Step:  38400, d_loss: -4.447494, g_loss: -5.096015 real_scores: -2.100184, fake_scores: -7.165918, W: -5.065734\n",
      "Finish Epoch [5/100], D Loss: -112.449714, G Loss: -132.174313, W: -128.840973\n",
      "  Epoch[6/100], Step:  38400, d_loss: -5.328245, g_loss: -5.785870 real_scores: -2.506435, fake_scores: -8.418740, W: -5.912305\n",
      "Finish Epoch [6/100], D Loss: -108.127272, G Loss: -80.304950, W: -124.569984\n",
      "  Epoch[7/100], Step:  38400, d_loss: -4.834687, g_loss: -1.216016 real_scores: -7.367703, fake_scores: -13.589877, W: -6.222174\n",
      "Finish Epoch [7/100], D Loss: -96.976692, G Loss: -64.582085, W: -111.735733\n",
      "  Epoch[8/100], Step:  38400, d_loss: -6.525479, g_loss: -3.697918 real_scores: -5.408667, fake_scores: -12.626013, W: -7.217346\n",
      "Finish Epoch [8/100], D Loss: -90.126664, G Loss: -50.902841, W: -104.000732\n",
      "  Epoch[9/100], Step:  38400, d_loss: -6.126777, g_loss: -4.866542 real_scores: -4.902101, fake_scores: -11.705445, W: -6.803344\n",
      "Finish Epoch [9/100], D Loss: -87.087730, G Loss: -36.673254, W: -100.833839\n",
      "  Epoch[10/100], Step:  38400, d_loss: -6.060297, g_loss: -2.801131 real_scores: -7.802233, fake_scores: -15.055388, W: -7.253156\n",
      "Finish Epoch [10/100], D Loss: -79.232044, G Loss: -30.445495, W: -91.653381\n",
      "  Epoch[11/100], Step:  38400, d_loss: -5.605553, g_loss: -3.253176 real_scores: -7.141565, fake_scores: -13.869532, W: -6.727966\n",
      "Finish Epoch [11/100], D Loss: -72.961115, G Loss: -27.375401, W: -84.748039\n",
      "  Epoch[12/100], Step:  38400, d_loss: -5.797532, g_loss: -5.598917 real_scores: -6.518355, fake_scores: -13.263054, W: -6.744699\n",
      "Finish Epoch [12/100], D Loss: -68.225443, G Loss: -28.642011, W: -79.372406\n",
      "  Epoch[13/100], Step:  38400, d_loss: -7.443213, g_loss: -3.016357 real_scores: -9.200384, fake_scores: -17.108625, W: -7.908241\n",
      "Finish Epoch [13/100], D Loss: -65.782704, G Loss: -29.897995, W: -76.720047\n",
      "  Epoch[14/100], Step:  38400, d_loss: -8.099046, g_loss: -5.160244 real_scores: -7.561146, fake_scores: -16.554010, W: -8.992865\n",
      "Finish Epoch [14/100], D Loss: -64.517384, G Loss: -34.883454, W: -75.565796\n",
      "  Epoch[15/100], Step:  38400, d_loss: -6.566896, g_loss: -6.041946 real_scores: -7.156376, fake_scores: -14.919449, W: -7.763073\n",
      "Finish Epoch [15/100], D Loss: -63.351038, G Loss: -35.026531, W: -74.394035\n",
      "  Epoch[16/100], Step:  38400, d_loss: -8.651384, g_loss: -5.167831 real_scores: -7.708572, fake_scores: -16.629639, W: -8.921066\n",
      "Finish Epoch [16/100], D Loss: -63.183569, G Loss: -36.078188, W: -74.713173\n",
      "  Epoch[17/100], Step:  38400, d_loss: -8.305986, g_loss: -7.160484 real_scores: -6.590514, fake_scores: -16.514416, W: -9.923902\n",
      "Finish Epoch [17/100], D Loss: -62.702028, G Loss: -34.150367, W: -74.419403\n",
      "  Epoch[18/100], Step:  38400, d_loss: -8.069208, g_loss: -5.606380 real_scores: -8.800416, fake_scores: -18.972664, W: -10.172248\n",
      "Finish Epoch [18/100], D Loss: -62.894712, G Loss: -42.696905, W: -75.032845\n",
      "  Epoch[19/100], Step:  38400, d_loss: -9.580386, g_loss: -4.300661 real_scores: -10.648650, fake_scores: -22.269289, W: -11.620639\n",
      "Finish Epoch [19/100], D Loss: -62.019026, G Loss: -42.550446, W: -74.198120\n",
      "  Epoch[20/100], Step:  38400, d_loss: -10.243484, g_loss: -9.074926 real_scores: -6.262502, fake_scores: -17.986544, W: -11.724042\n",
      "Finish Epoch [20/100], D Loss: -65.102457, G Loss: -53.567571, W: -78.352051\n",
      "  Epoch[21/100], Step:  38400, d_loss: -10.682653, g_loss: -11.372929 real_scores: -5.877067, fake_scores: -18.663414, W: -12.786346\n",
      "Finish Epoch [21/100], D Loss: -65.575729, G Loss: -45.027871, W: -79.388573\n",
      "  Epoch[22/100], Step:  38400, d_loss: -9.796643, g_loss: -8.345621 real_scores: -7.627284, fake_scores: -20.338060, W: -12.710776\n",
      "Finish Epoch [22/100], D Loss: -63.425820, G Loss: -40.669253, W: -76.767967\n",
      "  Epoch[23/100], Step:  38400, d_loss: -11.063723, g_loss: -8.953873 real_scores: -8.298121, fake_scores: -21.621737, W: -13.323615\n",
      "Finish Epoch [23/100], D Loss: -63.204089, G Loss: -46.388585, W: -76.909508\n",
      "  Epoch[24/100], Step:  38400, d_loss: -13.815791, g_loss: -8.101679 real_scores: -7.769639, fake_scores: -22.972546, W: -15.202907\n",
      "Finish Epoch [24/100], D Loss: -63.129319, G Loss: -47.466732, W: -77.182358\n",
      "  Epoch[25/100], Step:  38400, d_loss: -11.064406, g_loss: -10.725529 real_scores: -6.973252, fake_scores: -22.456432, W: -15.483180\n",
      "Finish Epoch [25/100], D Loss: -66.178145, G Loss: -61.019373, W: -81.462830\n",
      "  Epoch[26/100], Step:  38400, d_loss: -13.934834, g_loss: -10.535402 real_scores: -7.340357, fake_scores: -23.239698, W: -15.899342\n",
      "Finish Epoch [26/100], D Loss: -63.314327, G Loss: -61.490418, W: -77.951271\n",
      "  Epoch[27/100], Step:  38400, d_loss: -12.148532, g_loss: -14.271103 real_scores: -2.342916, fake_scores: -18.173397, W: -15.830481\n",
      "Finish Epoch [27/100], D Loss: -62.902659, G Loss: -58.747573, W: -77.776733\n",
      "  Epoch[28/100], Step:  38400, d_loss: -13.204620, g_loss: -17.750420 real_scores: -0.497707, fake_scores: -17.479328, W: -16.981621\n",
      "Finish Epoch [28/100], D Loss: -69.691662, G Loss: -66.739166, W: -87.533913\n",
      "  Epoch[29/100], Step:  38400, d_loss: -20.209183, g_loss: -17.348078 real_scores: -2.028987, fake_scores: -25.330793, W: -23.301807\n",
      "Finish Epoch [29/100], D Loss: -74.947550, G Loss: -71.184529, W: -95.066666\n",
      "  Epoch[30/100], Step:  38400, d_loss: -19.454433, g_loss: -15.535727 real_scores: -3.351349, fake_scores: -24.534235, W: -21.182886\n",
      "Finish Epoch [30/100], D Loss: -75.116965, G Loss: -68.441194, W: -95.801308\n",
      "  Epoch[31/100], Step:  38400, d_loss: -18.582237, g_loss: -16.881584 real_scores: -3.546575, fake_scores: -28.271023, W: -24.724447\n",
      "Finish Epoch [31/100], D Loss: -77.897542, G Loss: -70.669596, W: -99.809311\n",
      "  Epoch[32/100], Step:  38400, d_loss: -18.203072, g_loss: -20.057938 real_scores: -0.259120, fake_scores: -24.218872, W: -23.959751\n",
      "Finish Epoch [32/100], D Loss: -76.574565, G Loss: -70.667672, W: -98.108246\n",
      "  Epoch[33/100], Step:  38400, d_loss: -19.666248, g_loss: -18.080662 real_scores: -2.368953, fake_scores: -28.487762, W: -26.118809\n",
      "Finish Epoch [33/100], D Loss: -76.476829, G Loss: -67.046773, W: -98.552322\n",
      "  Epoch[34/100], Step:  38400, d_loss: -22.689159, g_loss: -22.845963 real_scores: 1.711336, fake_scores: -25.710152, W: -27.421488\n",
      "Finish Epoch [34/100], D Loss: -79.188958, G Loss: -73.000858, W: -102.676491\n",
      "  Epoch[35/100], Step:  38400, d_loss: -20.824833, g_loss: -18.380659 real_scores: -1.443929, fake_scores: -29.922132, W: -28.478203\n",
      "Finish Epoch [35/100], D Loss: -81.625821, G Loss: -72.484512, W: -106.409004\n",
      "  Epoch[36/100], Step:  38400, d_loss: -25.078199, g_loss: -20.000204 real_scores: -1.369884, fake_scores: -28.813173, W: -27.443291\n",
      "Finish Epoch [36/100], D Loss: -79.581034, G Loss: -63.881937, W: -103.694756\n",
      "  Epoch[37/100], Step:  38400, d_loss: -24.797497, g_loss: -21.449913 real_scores: 0.737458, fake_scores: -29.889103, W: -30.626560\n",
      "Finish Epoch [37/100], D Loss: -78.842834, G Loss: -68.705732, W: -102.870148\n",
      "  Epoch[38/100], Step:  38400, d_loss: -23.867687, g_loss: -25.909281 real_scores: 1.484752, fake_scores: -30.071146, W: -31.555899\n",
      "Finish Epoch [38/100], D Loss: -79.916688, G Loss: -74.222545, W: -104.823761\n",
      "  Epoch[39/100], Step:  38400, d_loss: -24.322121, g_loss: -24.640793 real_scores: -0.284822, fake_scores: -32.837044, W: -32.552223\n",
      "Finish Epoch [39/100], D Loss: -81.317061, G Loss: -74.490940, W: -107.219589\n",
      "  Epoch[40/100], Step:  38400, d_loss: -26.049576, g_loss: -24.377880 real_scores: -0.003549, fake_scores: -36.057919, W: -36.054371\n"
     ]
    },
    {
     "name": "stdout",
     "output_type": "stream",
     "text": [
      "Finish Epoch [40/100], D Loss: -85.240562, G Loss: -75.046342, W: -112.943642\n",
      "  Epoch[41/100], Step:  38400, d_loss: -26.106771, g_loss: -19.713562 real_scores: -2.435378, fake_scores: -41.275650, W: -38.840271\n",
      "Finish Epoch [41/100], D Loss: -88.507211, G Loss: -76.925988, W: -118.225426\n",
      "  Epoch[42/100], Step:  38400, d_loss: -30.009838, g_loss: -28.879459 real_scores: 4.112652, fake_scores: -34.405376, W: -38.518028\n",
      "Finish Epoch [42/100], D Loss: -88.726787, G Loss: -82.625317, W: -118.954651\n",
      "  Epoch[43/100], Step:  38400, d_loss: -26.556530, g_loss: -22.705490 real_scores: -2.959642, fake_scores: -46.536606, W: -43.576965\n",
      "Finish Epoch [43/100], D Loss: -92.050882, G Loss: -80.100349, W: -124.374580\n",
      "  Epoch[44/100], Step:  38400, d_loss: -32.495823, g_loss: -31.543999 real_scores: 3.052172, fake_scores: -41.926483, W: -44.978657\n",
      "Finish Epoch [44/100], D Loss: -98.217627, G Loss: -82.172110, W: -134.210587\n",
      "  Epoch[45/100], Step:  38400, d_loss: -31.614773, g_loss: -31.258957 real_scores: 5.833030, fake_scores: -39.609238, W: -45.442268\n",
      "Finish Epoch [45/100], D Loss: -99.094261, G Loss: -84.261709, W: -135.408478\n",
      "  Epoch[46/100], Step:  38400, d_loss: -33.397778, g_loss: -28.769501 real_scores: 3.117889, fake_scores: -41.722282, W: -44.840172\n",
      "Finish Epoch [46/100], D Loss: -92.100497, G Loss: -80.045663, W: -125.375244\n",
      "  Epoch[47/100], Step:  38400, d_loss: -32.262947, g_loss: -24.341381 real_scores: -0.947466, fake_scores: -45.611805, W: -44.664341\n",
      "Finish Epoch [47/100], D Loss: -90.846193, G Loss: -75.029599, W: -123.717270\n",
      "  Epoch[48/100], Step:  38400, d_loss: -35.252762, g_loss: -27.361874 real_scores: 1.513449, fake_scores: -47.876850, W: -49.390297\n",
      "Finish Epoch [48/100], D Loss: -94.039472, G Loss: -78.688163, W: -128.645386\n"
     ]
    },
    {
     "ename": "KeyboardInterrupt",
     "evalue": "",
     "output_type": "error",
     "traceback": [
      "\u001b[0;31m---------------------------------------------------------------------------\u001b[0m",
      "\u001b[0;31mKeyboardInterrupt\u001b[0m                         Traceback (most recent call last)",
      "\u001b[0;32m<ipython-input-19-8c23ca55e426>\u001b[0m in \u001b[0;36m<module>\u001b[0;34m\u001b[0m\n\u001b[1;32m     61\u001b[0m         \u001b[0mw_dist\u001b[0m \u001b[0;34m=\u001b[0m \u001b[0md_loss_fake\u001b[0m \u001b[0;34m-\u001b[0m \u001b[0md_loss_real\u001b[0m\u001b[0;34m\u001b[0m\u001b[0m\n\u001b[1;32m     62\u001b[0m \u001b[0;34m\u001b[0m\u001b[0m\n\u001b[0;32m---> 63\u001b[0;31m         \u001b[0md_loss_total\u001b[0m \u001b[0;34m+=\u001b[0m \u001b[0md_loss\u001b[0m\u001b[0;34m.\u001b[0m\u001b[0mitem\u001b[0m\u001b[0;34m(\u001b[0m\u001b[0;34m)\u001b[0m \u001b[0;34m*\u001b[0m \u001b[0mimgs\u001b[0m\u001b[0;34m.\u001b[0m\u001b[0msize\u001b[0m\u001b[0;34m(\u001b[0m\u001b[0;36m0\u001b[0m\u001b[0;34m)\u001b[0m\u001b[0;34m\u001b[0m\u001b[0m\n\u001b[0m\u001b[1;32m     64\u001b[0m         \u001b[0mg_loss_total\u001b[0m \u001b[0;34m+=\u001b[0m \u001b[0mg_loss\u001b[0m\u001b[0;34m.\u001b[0m\u001b[0mitem\u001b[0m\u001b[0;34m(\u001b[0m\u001b[0;34m)\u001b[0m \u001b[0;34m*\u001b[0m \u001b[0mimgs\u001b[0m\u001b[0;34m.\u001b[0m\u001b[0msize\u001b[0m\u001b[0;34m(\u001b[0m\u001b[0;36m0\u001b[0m\u001b[0;34m)\u001b[0m\u001b[0;34m\u001b[0m\u001b[0m\n\u001b[1;32m     65\u001b[0m         \u001b[0mw_dist_total\u001b[0m \u001b[0;34m+=\u001b[0m \u001b[0mw_dist\u001b[0m \u001b[0;34m*\u001b[0m \u001b[0mimgs\u001b[0m\u001b[0;34m.\u001b[0m\u001b[0msize\u001b[0m\u001b[0;34m(\u001b[0m\u001b[0;36m0\u001b[0m\u001b[0;34m)\u001b[0m\u001b[0;34m\u001b[0m\u001b[0m\n",
      "\u001b[0;31mKeyboardInterrupt\u001b[0m: "
     ]
    }
   ],
   "source": [
    "total_count = len(dataloader)\n",
    "for epoch in tqdm_notebook(range(num_epochs)):\n",
    "    _step = epoch * total_count\n",
    "    \n",
    "    d_loss_total = .0\n",
    "    g_loss_total = .0\n",
    "    w_dist_total = .0\n",
    "    for i, (imgs, labs) in enumerate(dataloader):\n",
    "        \n",
    "        real_imgs = imgs.cuda()\n",
    "        real_labs = labs.cuda()\n",
    "        \n",
    "        z = np.random.randn(imgs.size(0), z_dimension)\n",
    "        fake_labels = np.random.randint(0, 10, imgs.shape[0])\n",
    "#         z[:, 0] += fake_labels\n",
    "# #         z = z / np.linalg.norm(z)\n",
    "#         z = torch.from_numpy(z).float().cuda()\n",
    "        z = gen_noise(z.shape[0], fake_labels)\n",
    "        ########## G ##########\n",
    "#         for p in D.parameters():\n",
    "#             p.requires_grad_(False)\n",
    "        \n",
    "        fake_imgs = G(z)\n",
    "        fake_out, fake_out_labels = D(fake_imgs)\n",
    "        fake_labels_loss = criterion(fake_out_labels, torch.from_numpy(fake_labels).cuda()).mean()\n",
    "        fake_cost = fake_out.mean()\n",
    "        g_loss = 1 * fake_labels_loss + fake_cost\n",
    "\n",
    "        g_optimezer.zero_grad()\n",
    "        g_loss.backward(mone)\n",
    "        g_loss = -g_loss\n",
    "        g_optimezer.step()\n",
    "        #######################\n",
    "        \n",
    "        \n",
    "        ########## D ##########\n",
    "#         for p in D.parameters():\n",
    "#             p.requires_grad_(True)\n",
    "        \n",
    "        real_out, real_labels = D(real_imgs)\n",
    "        real_labels_loss = criterion(real_labels, real_labs)\n",
    "        d_loss_real_labels = real_labels_loss.mean()\n",
    "        d_loss_real = real_out.mean()\n",
    "        real_scores = real_out\n",
    "        \n",
    "        fake_out, fake_out_labels = D(fake_imgs.detach())\n",
    "#         d_loss_fake_labels = criterion(fake_out_labels, torch.from_numpy(fake_labels).cuda()).mean()\n",
    "        d_loss_fake = fake_out.mean()\n",
    "        fake_scores = fake_out\n",
    "        \n",
    "        gradient_penalty = calc_gradient_penalty(D, real_imgs, fake_imgs)\n",
    "        \n",
    "        d_loss = d_loss_fake - d_loss_real + gradient_penalty # + 1 * d_loss_real_lab\n",
    "        \n",
    "        d_optimezer.zero_grad()\n",
    "#         d_loss.backward()\n",
    "        (d_loss + 1 * (d_loss_real_labels)).backward() # + d_loss_fake_labels\n",
    "        d_optimezer.step()\n",
    "        #######################\n",
    "        \n",
    "        w_dist = d_loss_fake - d_loss_real\n",
    "        \n",
    "        d_loss_total += d_loss.item() * imgs.size(0)\n",
    "        g_loss_total += g_loss.item() * imgs.size(0)\n",
    "        w_dist_total += w_dist * imgs.size(0)\n",
    "        \n",
    "        step = _step + i + 1\n",
    "        \n",
    "        if (i + 1) % 100 == 0:\n",
    "            writer.add_scalar('Discriminator Real Loss', d_loss_real.item(), step)\n",
    "            writer.add_scalar('Discriminator Fake Loss', d_loss_fake.item(), step)\n",
    "            writer.add_scalar('Discriminator Loss', d_loss.item(), step)\n",
    "            writer.add_scalar('Generator Loss', g_loss.item(), step)\n",
    "            writer.add_scalar('Wasserstein Distance', w_dist.item(), step)\n",
    "        \n",
    "        \n",
    "        if (i + 1) % 300 == 0:\n",
    "            tqdm.write('  Epoch[{}/{}], Step: {:6d}, d_loss: {:.6f}, g_loss: {:.6f} real_scores: {:.6f}' \\\n",
    "', fake_scores: {:.6f}, W: {:.6f}'.format(epoch+1, num_epochs, \n",
    "                                          (i+1) * BATCH_SIZE, \n",
    "                                          d_loss, g_loss, \n",
    "                                          real_scores.mean(), \n",
    "                                          fake_scores.mean(), w_dist))\n",
    "    \n",
    "    \n",
    "    setp = (epoch + 1) * total_count\n",
    "    _d_loss_total = d_loss_total / (total_count * (epoch + 1))\n",
    "    _g_loss_total = g_loss_total / (total_count * (epoch + 1))\n",
    "    _w_dist_total = w_dist_total / (total_count * (epoch + 1))\n",
    "    \n",
    "    writer.add_scalar('Discriminator Total Loss', _d_loss_total, step)\n",
    "    writer.add_scalar('Generator Total Loss', _g_loss_total, step)\n",
    "    \n",
    "    tqdm.write(\"Finish Epoch [{}/{}], D Loss: {:.6f}, G Loss: {:.6f}, W: {:.6f}\".format(epoch+1, \n",
    "                                                                             num_epochs, \n",
    "                                                                             _d_loss_total,\n",
    "                                                                             _g_loss_total,\n",
    "                                                                             _w_dist_total, ))\n",
    "    \n",
    "    writer.add_image('Generator Image', make_grid(fake_imgs.view(-1, 1, 32, 32).cpu().data, normalize=True, scale_each=True), step)\n",
    "    condition_imgs = G(condition_noise)\n",
    "    writer.add_image('Condition Generator Image', make_grid(condition_imgs.view(-1, 1, 32, 32).cpu().data, normalize=True, scale_each=True), step)\n",
    "    \n",
    "    if epoch == 0:\n",
    "        real_images = real_imgs.view(-1, 1, 32, 32).cpu().data\n",
    "        save_image(real_images, os.path.join(img_path, 'real_images.png'))\n",
    "    \n",
    "    \n",
    "    fake_images = fake_imgs.view(-1, 1, 32, 32).cpu().data\n",
    "    save_image(fake_images, os.path.join(img_path, 'fake_images-{}.png'.format(epoch+1)))\n",
    "    save_image(condition_imgs, os.path.join(img_path, 'condition_images-{}.png'.format(epoch+1)))"
   ]
  },
  {
   "cell_type": "code",
   "execution_count": 20,
   "metadata": {},
   "outputs": [],
   "source": [
    "writer.close()"
   ]
  },
  {
   "cell_type": "code",
   "execution_count": 20,
   "metadata": {},
   "outputs": [],
   "source": [
    "torch.save(D.state_dict(), './ser/condition_wgan_gp_discriminator_4.pt')\n",
    "torch.save(G.state_dict(), './ser/condition_wgan_gp_generator_4.pt')"
   ]
  },
  {
   "cell_type": "code",
   "execution_count": 46,
   "metadata": {},
   "outputs": [],
   "source": [
    "D.load_state_dict(torch.load('./ser/condition_wgan_gp_discriminator_4.pt'))\n",
    "G.load_state_dict(torch.load('./ser/condition_wgan_gp_generator_4.pt'))"
   ]
  },
  {
   "cell_type": "code",
   "execution_count": 39,
   "metadata": {},
   "outputs": [],
   "source": [
    "# D = Discriminator().to(device)\n",
    "# G = Generator(z_dimension, num_feature).to(device)\n",
    "\n",
    "# D = nn.DataParallel(D).cpu()\n",
    "# G = nn.DataParallel(G).cpu()\n",
    "\n",
    "# D.load_state_dict(torch.load('./ser/condition_wgan_gp_discriminator_4.pt'))\n",
    "# G.load_state_dict(torch.load('./ser/condition_wgan_gp_generator_4.pt'))"
   ]
  },
  {
   "cell_type": "code",
   "execution_count": 47,
   "metadata": {},
   "outputs": [
    {
     "data": {
      "image/png": "[encoded data removed]",
      "text/plain": [
       "<Figure size 432x288 with 1 Axes>"
      ]
     },
     "metadata": {
      "needs_background": "light"
     },
     "output_type": "display_data"
    }
   ],
   "source": [
    "words = np.arange(10)\n",
    "z = gen_noise(words.shape[0], words)\n",
    "images = G(z)\n",
    "# save_image(images, 'xx.png')\n",
    "plt.imshow(Image.fromarray(make_grid(images).mul(255).clamp(0, 255).byte().permute(1, 2, 0).cpu().numpy()))\n",
    "plt.show()"
   ]
  },
  {
   "cell_type": "code",
   "execution_count": null,
   "metadata": {},
   "outputs": [],
   "source": []
  }
 ],
 "metadata": {
  "kernelspec": {
   "display_name": "Python 3",
   "language": "python",
   "name": "python3"
  },
  "language_info": {
   "codemirror_mode": {
    "name": "ipython",
    "version": 3
   },
   "file_extension": ".py",
   "mimetype": "text/x-python",
   "name": "python",
   "nbconvert_exporter": "python",
   "pygments_lexer": "ipython3",
   "version": "3.5.3"
  },
  "varInspector": {
   "cols": {
    "lenName": 16,
    "lenType": 16,
    "lenVar": 40
   },
   "kernels_config": {
    "python": {
     "delete_cmd_postfix": "",
     "delete_cmd_prefix": "del ",
     "library": "var_list.py",
     "varRefreshCmd": "print(var_dic_list())"
    },
    "r": {
     "delete_cmd_postfix": ") ",
     "delete_cmd_prefix": "rm(",
     "library": "var_list.r",
     "varRefreshCmd": "cat(var_dic_list()) "
    }
   },
   "position": {
    "height": "556px",
    "left": "247px",
    "right": "398px",
    "top": "131px",
    "width": "752px"
   },
   "types_to_exclude": [
    "module",
    "function",
    "builtin_function_or_method",
    "instance",
    "_Feature"
   ],
   "window_display": false
  }
 },
 "nbformat": 4,
 "nbformat_minor": 2
}
