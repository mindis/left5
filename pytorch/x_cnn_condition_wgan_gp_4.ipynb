{
 "cells": [
  {
   "cell_type": "code",
   "execution_count": 1,
   "metadata": {},
   "outputs": [],
   "source": [
    "import os\n",
    "from tqdm import tnrange, tqdm_notebook, tqdm\n",
    "import torch\n",
    "import torchvision\n",
    "from torch import nn, autograd, optim\n",
    "from torch.utils.data import DataLoader\n",
    "from torchvision import transforms, datasets\n",
    "from torchvision.utils import save_image, make_grid\n",
    "from torch.autograd import grad\n",
    "import numpy as np\n",
    "from PIL import Image\n",
    "import matplotlib.pyplot as plt\n",
    "from tensorboardX import SummaryWriter"
   ]
  },
  {
   "cell_type": "code",
   "execution_count": 2,
   "metadata": {},
   "outputs": [],
   "source": [
    "# os.environ['CUDA_VISIBLE_DEVICES'] = '1'"
   ]
  },
  {
   "cell_type": "code",
   "execution_count": 3,
   "metadata": {},
   "outputs": [],
   "source": [
    "from matplotlib import rcParams\n",
    "rcParams['figure.figsize'] = (12, 8)\n",
    "\n",
    "%matplotlib inline"
   ]
  },
  {
   "cell_type": "code",
   "execution_count": 4,
   "metadata": {},
   "outputs": [],
   "source": [
    "device = torch.device('cuda' if torch.cuda.is_available() else 'cpu')"
   ]
  },
  {
   "cell_type": "code",
   "execution_count": 5,
   "metadata": {},
   "outputs": [
    {
     "data": {
      "text/plain": [
       "True"
      ]
     },
     "execution_count": 5,
     "metadata": {},
     "output_type": "execute_result"
    }
   ],
   "source": [
    "torch.cuda.is_available()"
   ]
  },
  {
   "cell_type": "code",
   "execution_count": 6,
   "metadata": {},
   "outputs": [],
   "source": [
    "device_ids = [0]"
   ]
  },
  {
   "cell_type": "code",
   "execution_count": 7,
   "metadata": {},
   "outputs": [],
   "source": [
    "BATCH_SIZE = 128 # 256\n",
    "num_epochs = 100\n",
    "\n",
    "z_dimension = 100\n",
    "num_feature = (32, 4, 4)\n",
    "\n",
    "img_shape = (1, 32, 32)"
   ]
  },
  {
   "cell_type": "code",
   "execution_count": 8,
   "metadata": {},
   "outputs": [],
   "source": [
    "img_transform = transforms.Compose([\n",
    "    transforms.Resize(32),\n",
    "    transforms.ToTensor(),\n",
    "#     transforms.Normalize((.5, .5, .5), (.5, .5, .5))\n",
    "    transforms.Normalize((0.1307,), (0.3081,))\n",
    "])\n",
    "\n",
    "dataset = datasets.MNIST('~/data/mnist', transform=img_transform) #, download=True)\n",
    "dataloader = DataLoader(dataset, batch_size=BATCH_SIZE, shuffle=True, num_workers=4)"
   ]
  },
  {
   "cell_type": "code",
   "execution_count": 9,
   "metadata": {},
   "outputs": [],
   "source": [
    "def normal_init(m, mean, std):\n",
    "    if isinstance(m, nn.ConvTranspose2d) or isinstance(m, nn.Conv2d):\n",
    "        m.weight.data.normal_(mean, std)\n",
    "        m.bias.data.zero_()"
   ]
  },
  {
   "cell_type": "code",
   "execution_count": 10,
   "metadata": {},
   "outputs": [],
   "source": [
    "def calc_gradient_penalty(netD, real_data, fake_data):\n",
    "    alpha = torch.rand(1, 1, 1, 1)\n",
    "    alpha = alpha.expand_as(real_data)\n",
    "    alpha = alpha.to(device)\n",
    "    \n",
    "#     fake_data = fake_data.view(BATCH_SIZE, 3, DIM, DIM)\n",
    "    interpolates = alpha * real_data.detach() + ((1 - alpha) * fake_data.detach())\n",
    "\n",
    "    interpolates = interpolates.to(device)\n",
    "    interpolates.requires_grad_(True)\n",
    "\n",
    "    disc_interpolates, _ = netD(interpolates)\n",
    "    \n",
    "    gradients = autograd.grad(outputs=disc_interpolates, inputs=interpolates,\n",
    "                              grad_outputs=torch.ones(disc_interpolates.shape).to(device),\n",
    "                              create_graph=True, retain_graph=True, only_inputs=True)[0]\n",
    "\n",
    "    gradients = gradients.view(gradients.size(0), -1)                              \n",
    "    gradient_penalty = ((gradients.norm(2, dim=1) - 1) ** 2).mean() * 10\n",
    "    return gradient_penalty"
   ]
  },
  {
   "cell_type": "code",
   "execution_count": 11,
   "metadata": {},
   "outputs": [],
   "source": [
    "def gen_noise_label(batch_size):\n",
    "    label = np.random.randint(0, 10, batch_size)\n",
    "    #prefix = np.zeros((batch_size, 10))\n",
    "    #prefix[np.arange(batch_size), label] = 1\n",
    "    return label # prefix"
   ]
  },
  {
   "cell_type": "code",
   "execution_count": 12,
   "metadata": {},
   "outputs": [],
   "source": [
    "def gen_noise(batch_size, label):\n",
    "    prefix = np.zeros((batch_size, 10))\n",
    "    prefix[np.arange(batch_size), label] = 1\n",
    "    z = np.random.normal(0, 1, (batch_size, z_dimension))\n",
    "#     prefix = prefix / np.linalg.norm(prefix)\n",
    "    z[:, :10] = prefix\n",
    "    return torch.from_numpy(z).float().to(device)"
   ]
  },
  {
   "cell_type": "code",
   "execution_count": 13,
   "metadata": {},
   "outputs": [],
   "source": [
    "class Discriminator(nn.Module):\n",
    "    def __init__(self):\n",
    "        super(Discriminator, self).__init__()\n",
    "        \n",
    "#         self.label_embedding = nn.Embedding(10, np.prod(img_shape))\n",
    "        \n",
    "        self.conv1 = nn.Sequential(\n",
    "            nn.Conv2d(1, 16, 3, padding=1, stride=2),\n",
    "#             nn.BatchNorm2d(16),\n",
    "            nn.LeakyReLU(.2, True),\n",
    "#             nn.AvgPool2d(2, 2), \n",
    "        ) # b 16 16 16\n",
    "        \n",
    "        self.conv2 = nn.Sequential(\n",
    "            nn.Conv2d(16, 32, 3, padding=1, stride=2),\n",
    "#             nn.BatchNorm2d(32),\n",
    "            nn.LeakyReLU(.2, True),\n",
    "#             nn.AvgPool2d(2, 2), \n",
    "        ) # b 32 8 8\n",
    "        \n",
    "        self.conv3 = nn.Sequential(\n",
    "            nn.Conv2d(32, 64, 3, padding=1, stride=2),\n",
    "#             nn.BatchNorm2d(64),\n",
    "            nn.LeakyReLU(.2, True),\n",
    "#             nn.AvgPool2d(2, 2), \n",
    "        ) # b 64 4 4\n",
    "        \n",
    "        self.conv4 = nn.Sequential(\n",
    "            nn.Conv2d(64, 128, 3, padding=1, stride=2),\n",
    "#             nn.BatchNorm2d(128),\n",
    "            nn.LeakyReLU(.2, True),\n",
    "#             nn.AvgPool2d(2, 2), \n",
    "        ) # b 128 2 2\n",
    "        \n",
    "        self.fc = nn.Sequential(\n",
    "            nn.Linear(128 * 2 * 2, 1024),\n",
    "            nn.LeakyReLU(.2, True),\n",
    "            nn.Linear(1024, 1),\n",
    "#             nn.Sigmoid(),\n",
    "        ) # b 1\n",
    "        \n",
    "        self.label = nn.Sequential(\n",
    "            nn.Linear(128 * 2 * 2, 10),\n",
    "#             nn.Sigmoid()\n",
    "        )\n",
    "\n",
    "    def forward(self, imgs): # b 1 32 32\n",
    "        \n",
    "#         if(fake_labels is None):\n",
    "#             _imgs = torch.cat((imgs, self.label_embedding(real_labels).reshape(imgs.size(0), *img_shape)), 1)\n",
    "#         else:\n",
    "#             _labs = self.label_embedding(real_labels).reshape(imgs.size(0), *img_shape) + self.label_embedding(real_labels).reshape(imgs.size(0), *img_shape)\n",
    "#             _imgs = torch.cat((imgs, _labs), 1)\n",
    "\n",
    "        outs = self.conv1(imgs)\n",
    "        outs = self.conv2(outs)\n",
    "        outs = self.conv3(outs)\n",
    "        outs = self.conv4(outs)\n",
    "        outs = outs.view(imgs.size(0), -1)\n",
    "        img = self.fc(outs)\n",
    "        lab = self.label(outs)\n",
    "        \n",
    "        return img, lab # b 1 1 1, b 10"
   ]
  },
  {
   "cell_type": "code",
   "execution_count": 14,
   "metadata": {},
   "outputs": [],
   "source": [
    "class Generator(nn.Module):\n",
    "    def __init__(self, inp_dim, num_feature):\n",
    "        super(Generator, self).__init__()\n",
    "\n",
    "#         self.label_emb = nn.Embedding(inp_dim, inp_dim)\n",
    "        \n",
    "        self.fc = nn.Sequential(\n",
    "            nn.Linear(inp_dim, np.prod(num_feature)),\n",
    "#             nn.Sigmoid(),\n",
    "        ) # b *num_feature  b 32 4 4\n",
    "        \n",
    "        self.upsample1 = nn.Sequential(\n",
    "#             nn.BatchNorm2d(128),\n",
    "            nn.ConvTranspose2d(32, 16, 4, 2, 1),\n",
    "#             nn.functional.interpolate(scale_factor=2),\n",
    "#             nn.Upsample(scale_factor=2),\n",
    "#             nn.Conv2d(32, 16, 3, padding=1),\n",
    "            nn.BatchNorm2d(16),\n",
    "            nn.LeakyReLU(.2, True),\n",
    "#             nn.ReLU(True),\n",
    "        ) # b 16 8 8\n",
    "        \n",
    "        self.upsample2 = nn.Sequential(\n",
    "#             nn.functional.interpolate(scale_factor=2),\n",
    "            nn.ConvTranspose2d(16, 8, 4, 2, 1, 0),\n",
    "#             nn.Upsample(scale_factor=2),\n",
    "#             nn.Conv2d(16, 8, 3, padding=1),\n",
    "            nn.BatchNorm2d(8),\n",
    "            nn.LeakyReLU(.2, True),\n",
    "#             nn.ReLU(True),\n",
    "        ) # b 8 16 16\n",
    "        \n",
    "        self.upsample3 = nn.Sequential(\n",
    "            nn.ConvTranspose2d(8, 4, 4, 2, 1),\n",
    "#             nn.functional.interpolate(scale_factor=2),\n",
    "#             nn.Upsample(scale_factor=2),\n",
    "#             nn.Conv2d(8, 4, 3, padding=1, stride=1),\n",
    "            nn.BatchNorm2d(4),\n",
    "            nn.LeakyReLU(.2, True),\n",
    "#             nn.ReLU(True),\n",
    "        ) # b 4 32 32\n",
    "        \n",
    "        self.conv = nn.Sequential(\n",
    "#             nn.functional.interpolate(scale_factor=2),\n",
    "            nn.Conv2d(4, 1, 3, padding=1, stride=1),\n",
    "            nn.Tanh(),\n",
    "        ) # b 1 32 32\n",
    "\n",
    "    def forward(self, noise):\n",
    "        \n",
    "#         gen_input = torch.cat((labels.reshape(noise.size(0), -1), noise), -1)\n",
    "#         gen_input = torch.cat((self.label_emb(labels), noise), -1)\n",
    "#         gen_input = self.label_emb(noise)\n",
    "        \n",
    "        outs = self.fc(noise)\n",
    "        outs = outs.view(noise.size(0), *num_feature)\n",
    "        outs = self.upsample1(outs)\n",
    "        outs = self.upsample2(outs)\n",
    "        outs = self.upsample3(outs)\n",
    "\n",
    "        outs = self.conv(outs)\n",
    "        \n",
    "        return outs\n"
   ]
  },
  {
   "cell_type": "code",
   "execution_count": 15,
   "metadata": {},
   "outputs": [],
   "source": [
    "D = Discriminator().to(device)\n",
    "G = Generator(z_dimension, num_feature).to(device)\n",
    "\n",
    "# D.weight_init(.0, 0.02)\n",
    "# G.weight_init(.0, 0.02)\n",
    "\n",
    "D = nn.DataParallel(D, device_ids=device_ids).to(device)\n",
    "G = nn.DataParallel(G, device_ids=device_ids).to(device)\n",
    "\n",
    "criterion = nn.CrossEntropyLoss()\n",
    "\n",
    "d_optimezer = optim.Adam(D.parameters(), lr=2e-4, betas=(0, 0.9))\n",
    "g_optimezer = optim.Adam(G.parameters(), lr=2e-4, betas=(0, 0.9))\n",
    "\n",
    "one = torch.FloatTensor([1])\n",
    "mone = one * -1\n",
    "one = one.to(device)\n",
    "mone = mone.to(device)"
   ]
  },
  {
   "cell_type": "code",
   "execution_count": 16,
   "metadata": {},
   "outputs": [],
   "source": [
    "writer = SummaryWriter('./log/cnn_condition_wgan_gp')"
   ]
  },
  {
   "cell_type": "code",
   "execution_count": 17,
   "metadata": {},
   "outputs": [],
   "source": [
    "img_path = \"save_images/cnn_condition_wgan_img\"\n",
    "if not os.path.exists(img_path): os.makedirs(img_path)"
   ]
  },
  {
   "cell_type": "code",
   "execution_count": 18,
   "metadata": {},
   "outputs": [],
   "source": [
    "condition_label = np.arange(10)\n",
    "# condition_noise = np.random.randn(condition_label.shape[0], z_dimension)\n",
    "# condition_noise[:, 0] += condition_label\n",
    "# # condition_noise = condition_noise / np.linalg.norm(condition_noise)\n",
    "# condition_noise = torch.from_numpy(condition_noise).float()\n",
    "condition_noise = gen_noise(condition_label.shape[0], condition_label)"
   ]
  },
  {
   "cell_type": "code",
   "execution_count": 19,
   "metadata": {
    "scrolled": true
   },
   "outputs": [
    {
     "data": {
      "application/vnd.jupyter.widget-view+json": {
       "model_id": "f5e9f211006943c5843a5a2438a5c913",
       "version_major": 2,
       "version_minor": 0
      },
      "text/plain": [
       "HBox(children=(IntProgress(value=0), HTML(value='')))"
      ]
     },
     "metadata": {},
     "output_type": "display_data"
    },
    {
     "name": "stdout",
     "output_type": "stream",
     "text": [
      "  Epoch[1/100], Step:  38400, d_loss: -21.733284, g_loss: -27.362020 real_scores: 50.685219, fake_scores: 24.978022, W: -25.707197\n",
      "Finish Epoch [1/100], D Loss: -2994.260282, G Loss: -3233.497000, W: -3964.776367\n",
      "  Epoch[2/100], Step:  38400, d_loss: -22.108635, g_loss: -29.325611 real_scores: 52.101208, fake_scores: 25.174137, W: -26.927071\n",
      "Finish Epoch [2/100], D Loss: -1298.744585, G Loss: -1920.574134, W: -1658.319702\n",
      "  Epoch[3/100], Step:  38400, d_loss: -22.304701, g_loss: -27.360439 real_scores: 48.889252, fake_scores: 21.920166, W: -26.969086\n",
      "Finish Epoch [3/100], D Loss: -899.706841, G Loss: -1175.903400, W: -1157.226807\n",
      "  Epoch[4/100], Step:  38400, d_loss: -20.565716, g_loss: -25.512251 real_scores: 48.027374, fake_scores: 19.568943, W: -28.458431\n",
      "Finish Epoch [4/100], D Loss: -682.322580, G Loss: -807.192442, W: -880.990967\n",
      "  Epoch[5/100], Step:  38400, d_loss: -20.624073, g_loss: -20.399202 real_scores: 39.565247, fake_scores: 14.741068, W: -24.824179\n",
      "Finish Epoch [5/100], D Loss: -547.100398, G Loss: -596.294998, W: -707.415161\n",
      "  Epoch[6/100], Step:  38400, d_loss: -20.926888, g_loss: -17.853111 real_scores: 38.389164, fake_scores: 12.149694, W: -26.239470\n",
      "Finish Epoch [6/100], D Loss: -455.890451, G Loss: -441.959354, W: -590.006165\n",
      "  Epoch[7/100], Step:  38400, d_loss: -19.167410, g_loss: -18.096506 real_scores: 41.300636, fake_scores: 11.999445, W: -29.301191\n",
      "Finish Epoch [7/100], D Loss: -393.442485, G Loss: -324.215635, W: -511.306366\n",
      "  Epoch[8/100], Step:  38400, d_loss: -22.291838, g_loss: -12.610014 real_scores: 32.880054, fake_scores: 7.007049, W: -25.873005\n",
      "Finish Epoch [8/100], D Loss: -348.206306, G Loss: -236.927971, W: -453.744934\n",
      "  Epoch[9/100], Step:  38400, d_loss: -24.778601, g_loss: -12.950010 real_scores: 38.354313, fake_scores: 7.074011, W: -31.280302\n",
      "Finish Epoch [9/100], D Loss: -305.650645, G Loss: -174.243007, W: -398.394318\n",
      "  Epoch[10/100], Step:  38400, d_loss: -20.253250, g_loss: -6.369116 real_scores: 25.498640, fake_scores: 0.163104, W: -25.335537\n",
      "Finish Epoch [10/100], D Loss: -274.077079, G Loss: -126.490482, W: -357.239227\n",
      "  Epoch[11/100], Step:  38400, d_loss: -19.068989, g_loss: -15.127037 real_scores: 40.398514, fake_scores: 8.794267, W: -31.604248\n",
      "Finish Epoch [11/100], D Loss: -251.188894, G Loss: -131.401035, W: -328.141998\n",
      "  Epoch[12/100], Step:  38400, d_loss: -21.073856, g_loss: -12.060333 real_scores: 31.511543, fake_scores: 5.257755, W: -26.253788\n",
      "Finish Epoch [12/100], D Loss: -230.764470, G Loss: -150.202215, W: -301.526855\n",
      "  Epoch[13/100], Step:  38400, d_loss: -24.737000, g_loss: -19.852964 real_scores: 41.694603, fake_scores: 12.359200, W: -29.335403\n",
      "Finish Epoch [13/100], D Loss: -220.345809, G Loss: -182.617739, W: -289.635406\n",
      "  Epoch[14/100], Step:  38400, d_loss: -21.858761, g_loss: -20.066620 real_scores: 42.137814, fake_scores: 13.107505, W: -29.030308\n",
      "Finish Epoch [14/100], D Loss: -202.376480, G Loss: -184.779208, W: -265.431061\n",
      "  Epoch[15/100], Step:  38400, d_loss: -23.934872, g_loss: -22.937408 real_scores: 45.565811, fake_scores: 15.199215, W: -30.366596\n",
      "Finish Epoch [15/100], D Loss: -192.106468, G Loss: -173.995544, W: -252.366669\n",
      "  Epoch[16/100], Step:  38400, d_loss: -20.833723, g_loss: -18.200764 real_scores: 36.439934, fake_scores: 10.085613, W: -26.354321\n",
      "Finish Epoch [16/100], D Loss: -180.309284, G Loss: -166.532385, W: -236.726074\n",
      "  Epoch[17/100], Step:  38400, d_loss: -27.564882, g_loss: -28.278297 real_scores: 53.986588, fake_scores: 18.751411, W: -35.235176\n",
      "Finish Epoch [17/100], D Loss: -172.222940, G Loss: -165.570499, W: -226.491837\n",
      "  Epoch[18/100], Step:  38400, d_loss: -22.140697, g_loss: -23.629597 real_scores: 45.396923, fake_scores: 14.146709, W: -31.250214\n",
      "Finish Epoch [18/100], D Loss: -165.580568, G Loss: -164.607368, W: -218.107819\n",
      "  Epoch[19/100], Step:  38400, d_loss: -18.986691, g_loss: -30.394886 real_scores: 56.448524, fake_scores: 20.284214, W: -36.164310\n",
      "Finish Epoch [19/100], D Loss: -159.877315, G Loss: -169.247876, W: -211.027023\n",
      "  Epoch[20/100], Step:  38400, d_loss: -28.885410, g_loss: -31.074253 real_scores: 54.418701, fake_scores: 18.753719, W: -35.664982\n",
      "Finish Epoch [20/100], D Loss: -155.790292, G Loss: -173.541307, W: -206.035812\n",
      "  Epoch[21/100], Step:  38400, d_loss: -27.580921, g_loss: -27.536572 real_scores: 49.394745, fake_scores: 16.588795, W: -32.805950\n",
      "Finish Epoch [21/100], D Loss: -150.353876, G Loss: -164.909938, W: -198.949402\n",
      "  Epoch[22/100], Step:  38400, d_loss: -27.503605, g_loss: -25.543915 real_scores: 44.386154, fake_scores: 13.975034, W: -30.411121\n",
      "Finish Epoch [22/100], D Loss: -144.404691, G Loss: -154.699832, W: -191.124023\n",
      "  Epoch[23/100], Step:  38400, d_loss: -29.792164, g_loss: -30.288383 real_scores: 53.690460, fake_scores: 17.076534, W: -36.613926\n",
      "Finish Epoch [23/100], D Loss: -142.403796, G Loss: -148.997685, W: -189.295181\n",
      "  Epoch[24/100], Step:  38400, d_loss: -30.665873, g_loss: -31.391251 real_scores: 54.845627, fake_scores: 16.365988, W: -38.479637\n",
      "Finish Epoch [24/100], D Loss: -139.867681, G Loss: -149.555830, W: -186.313492\n",
      "  Epoch[25/100], Step:  38400, d_loss: -23.955723, g_loss: -32.452591 real_scores: 51.076973, fake_scores: 16.711121, W: -34.365852\n",
      "Finish Epoch [25/100], D Loss: -138.555560, G Loss: -161.589720, W: -184.772354\n",
      "  Epoch[26/100], Step:  38400, d_loss: -29.505459, g_loss: -32.639748 real_scores: 52.056740, fake_scores: 17.461712, W: -34.595028\n",
      "Finish Epoch [26/100], D Loss: -133.871479, G Loss: -166.055910, W: -178.896255\n",
      "  Epoch[27/100], Step:  38400, d_loss: -30.751034, g_loss: -32.330856 real_scores: 51.327179, fake_scores: 15.746357, W: -35.580822\n",
      "Finish Epoch [27/100], D Loss: -127.646902, G Loss: -162.800354, W: -170.000458\n",
      "  Epoch[28/100], Step:  38400, d_loss: -29.920500, g_loss: -31.408543 real_scores: 47.785679, fake_scores: 12.553749, W: -35.231930\n",
      "Finish Epoch [28/100], D Loss: -129.342971, G Loss: -165.431710, W: -173.364899\n",
      "  Epoch[29/100], Step:  38400, d_loss: -27.382973, g_loss: -34.531521 real_scores: 51.133904, fake_scores: 15.163866, W: -35.970039\n",
      "Finish Epoch [29/100], D Loss: -126.857881, G Loss: -158.204798, W: -170.093445\n",
      "  Epoch[30/100], Step:  38400, d_loss: -29.275372, g_loss: -35.291645 real_scores: 52.126335, fake_scores: 17.133575, W: -34.992760\n",
      "Finish Epoch [30/100], D Loss: -123.965062, G Loss: -153.318161, W: -166.326675\n",
      "  Epoch[31/100], Step:  38400, d_loss: -27.787903, g_loss: -43.750744 real_scores: 60.427376, fake_scores: 22.026432, W: -38.400944\n",
      "Finish Epoch [31/100], D Loss: -121.723732, G Loss: -167.818167, W: -163.507858\n",
      "  Epoch[32/100], Step:  38400, d_loss: -25.974340, g_loss: -48.948212 real_scores: 73.199188, fake_scores: 27.690067, W: -45.509121\n",
      "Finish Epoch [32/100], D Loss: -120.356368, G Loss: -173.007889, W: -162.306061\n",
      "  Epoch[33/100], Step:  38400, d_loss: -33.625992, g_loss: -43.340881 real_scores: 60.707932, fake_scores: 19.514614, W: -41.193317\n",
      "Finish Epoch [33/100], D Loss: -118.252144, G Loss: -173.278830, W: -159.545914\n",
      "  Epoch[34/100], Step:  38400, d_loss: -30.080135, g_loss: -40.285301 real_scores: 52.734657, fake_scores: 13.921062, W: -38.813595\n",
      "Finish Epoch [34/100], D Loss: -111.199648, G Loss: -159.413360, W: -149.304062\n",
      "  Epoch[35/100], Step:  38400, d_loss: -33.604816, g_loss: -40.294388 real_scores: 56.306465, fake_scores: 17.581427, W: -38.725037\n",
      "Finish Epoch [35/100], D Loss: -108.710031, G Loss: -151.602518, W: -146.145096\n",
      "  Epoch[36/100], Step:  38400, d_loss: -28.194574, g_loss: -33.640446 real_scores: 49.228271, fake_scores: 11.574310, W: -37.653961\n",
      "Finish Epoch [36/100], D Loss: -104.946397, G Loss: -134.962795, W: -140.860779\n",
      "  Epoch[37/100], Step:  38400, d_loss: -26.440605, g_loss: -37.413452 real_scores: 53.918297, fake_scores: 17.774057, W: -36.144241\n",
      "Finish Epoch [37/100], D Loss: -99.335801, G Loss: -130.226982, W: -132.923172\n",
      "  Epoch[38/100], Step:  38400, d_loss: -28.321087, g_loss: -39.508316 real_scores: 60.036526, fake_scores: 18.297178, W: -41.739349\n",
      "Finish Epoch [38/100], D Loss: -98.036638, G Loss: -128.359749, W: -131.312912\n",
      "  Epoch[39/100], Step:  38400, d_loss: -29.363300, g_loss: -34.353134 real_scores: 49.851357, fake_scores: 12.647837, W: -37.203522\n",
      "Finish Epoch [39/100], D Loss: -97.084205, G Loss: -124.633297, W: -130.329102\n"
     ]
    },
    {
     "name": "stdout",
     "output_type": "stream",
     "text": [
      "  Epoch[40/100], Step:  38400, d_loss: -28.730263, g_loss: -42.122391 real_scores: 60.745827, fake_scores: 17.748720, W: -42.997108\n",
      "Finish Epoch [40/100], D Loss: -96.506865, G Loss: -123.288933, W: -129.994690\n",
      "  Epoch[41/100], Step:  38400, d_loss: -35.454514, g_loss: -40.778618 real_scores: 54.475235, fake_scores: 13.436630, W: -41.038605\n",
      "Finish Epoch [41/100], D Loss: -98.009071, G Loss: -126.083120, W: -132.609665\n",
      "  Epoch[42/100], Step:  38400, d_loss: -30.224783, g_loss: -44.460087 real_scores: 57.447029, fake_scores: 12.387081, W: -45.059948\n",
      "Finish Epoch [42/100], D Loss: -103.268094, G Loss: -140.239622, W: -141.103912\n",
      "  Epoch[43/100], Step:  38400, d_loss: -32.132057, g_loss: -46.636948 real_scores: 57.579445, fake_scores: 12.166463, W: -45.412983\n",
      "Finish Epoch [43/100], D Loss: -104.106050, G Loss: -144.360169, W: -143.040100\n",
      "  Epoch[44/100], Step:  38400, d_loss: -35.369442, g_loss: -44.814114 real_scores: 57.565540, fake_scores: 9.503677, W: -48.061863\n",
      "Finish Epoch [44/100], D Loss: -102.685259, G Loss: -141.156867, W: -140.989975\n",
      "  Epoch[45/100], Step:  38400, d_loss: -35.369255, g_loss: -52.820652 real_scores: 69.063004, fake_scores: 16.879189, W: -52.183815\n",
      "Finish Epoch [45/100], D Loss: -102.689582, G Loss: -139.253836, W: -141.093674\n",
      "  Epoch[46/100], Step:  38400, d_loss: -33.032356, g_loss: -48.141010 real_scores: 56.584618, fake_scores: 7.801052, W: -48.783566\n",
      "Finish Epoch [46/100], D Loss: -101.330314, G Loss: -138.501327, W: -139.463623\n",
      "  Epoch[47/100], Step:  38400, d_loss: -42.716099, g_loss: -45.030190 real_scores: 58.519882, fake_scores: 10.925605, W: -47.594276\n",
      "Finish Epoch [47/100], D Loss: -99.174442, G Loss: -131.254712, W: -136.575653\n",
      "  Epoch[48/100], Step:  38400, d_loss: -30.551928, g_loss: -59.958160 real_scores: 74.101654, fake_scores: 21.990051, W: -52.111603\n",
      "Finish Epoch [48/100], D Loss: -96.365072, G Loss: -136.251818, W: -132.824387\n",
      "  Epoch[49/100], Step:  38400, d_loss: -34.638962, g_loss: -53.888443 real_scores: 63.951344, fake_scores: 15.223945, W: -48.727398\n",
      "Finish Epoch [49/100], D Loss: -95.184832, G Loss: -131.133904, W: -131.381317\n",
      "  Epoch[50/100], Step:  38400, d_loss: -33.674332, g_loss: -59.489052 real_scores: 62.664673, fake_scores: 12.085379, W: -50.579292\n",
      "Finish Epoch [50/100], D Loss: -99.674463, G Loss: -148.743334, W: -138.350967\n",
      "  Epoch[51/100], Step:  38400, d_loss: -41.253281, g_loss: -57.066540 real_scores: 61.426105, fake_scores: 7.828504, W: -53.597603\n",
      "Finish Epoch [51/100], D Loss: -101.423715, G Loss: -147.035352, W: -141.544189\n",
      "  Epoch[52/100], Step:  38400, d_loss: -32.909248, g_loss: -68.292686 real_scores: 83.278412, fake_scores: 20.440565, W: -62.837845\n",
      "Finish Epoch [52/100], D Loss: -101.768232, G Loss: -141.378690, W: -142.240616\n",
      "  Epoch[53/100], Step:  38400, d_loss: -41.741394, g_loss: -66.170670 real_scores: 77.306320, fake_scores: 11.024952, W: -66.281372\n",
      "Finish Epoch [53/100], D Loss: -101.230428, G Loss: -142.741576, W: -141.919312\n",
      "  Epoch[54/100], Step:  38400, d_loss: -39.932190, g_loss: -58.998413 real_scores: 62.918301, fake_scores: 2.691919, W: -60.226383\n",
      "Finish Epoch [54/100], D Loss: -102.089990, G Loss: -146.886180, W: -143.552994\n",
      "  Epoch[55/100], Step:  38400, d_loss: -41.244728, g_loss: -60.960411 real_scores: 64.880226, fake_scores: 2.856550, W: -62.023678\n",
      "Finish Epoch [55/100], D Loss: -102.848842, G Loss: -149.504724, W: -144.977127\n",
      "  Epoch[56/100], Step:  38400, d_loss: -44.162067, g_loss: -65.426895 real_scores: 73.611076, fake_scores: 7.013247, W: -66.597832\n",
      "Finish Epoch [56/100], D Loss: -103.797298, G Loss: -146.449559, W: -146.720291\n",
      "  Epoch[57/100], Step:  38400, d_loss: -42.848095, g_loss: -65.302666 real_scores: 70.084862, fake_scores: 5.419250, W: -64.665611\n",
      "Finish Epoch [57/100], D Loss: -102.236168, G Loss: -147.282808, W: -144.680817\n",
      "  Epoch[58/100], Step:  38400, d_loss: -42.929279, g_loss: -64.633812 real_scores: 64.310287, fake_scores: 0.682634, W: -63.627655\n",
      "Finish Epoch [58/100], D Loss: -101.631359, G Loss: -143.561211, W: -144.036057\n",
      "  Epoch[59/100], Step:  38400, d_loss: -43.232140, g_loss: -72.151505 real_scores: 85.284660, fake_scores: 9.945736, W: -75.338928\n",
      "Finish Epoch [59/100], D Loss: -102.053176, G Loss: -143.703748, W: -144.797806\n",
      "  Epoch[60/100], Step:  38400, d_loss: -47.820396, g_loss: -73.013000 real_scores: 69.479614, fake_scores: 0.933435, W: -68.546181\n",
      "Finish Epoch [60/100], D Loss: -103.136081, G Loss: -146.380236, W: -146.851379\n",
      "  Epoch[61/100], Step:  38400, d_loss: -42.767529, g_loss: -71.015427 real_scores: 73.058609, fake_scores: 4.240469, W: -68.818138\n",
      "Finish Epoch [61/100], D Loss: -102.207047, G Loss: -145.511970, W: -146.028915\n",
      "  Epoch[62/100], Step:  38400, d_loss: -38.050049, g_loss: -71.490623 real_scores: 75.829849, fake_scores: -0.123438, W: -75.953285\n",
      "Finish Epoch [62/100], D Loss: -101.734196, G Loss: -149.544136, W: -145.460373\n",
      "  Epoch[63/100], Step:  38400, d_loss: -39.812382, g_loss: -98.445976 real_scores: 105.591507, fake_scores: 24.678144, W: -80.913361\n",
      "Finish Epoch [63/100], D Loss: -101.638321, G Loss: -170.860160, W: -145.463058\n",
      "  Epoch[64/100], Step:  38400, d_loss: -54.863678, g_loss: -97.799095 real_scores: 95.175911, fake_scores: 25.101067, W: -70.074844\n",
      "Finish Epoch [64/100], D Loss: -102.023276, G Loss: -194.783460, W: -146.389648\n",
      "  Epoch[65/100], Step:  38400, d_loss: -60.677002, g_loss: -100.912781 real_scores: 101.988190, fake_scores: 26.766670, W: -75.221519\n",
      "Finish Epoch [65/100], D Loss: -102.470674, G Loss: -191.451581, W: -147.120224\n",
      "  Epoch[66/100], Step:  38400, d_loss: -49.621510, g_loss: -100.001740 real_scores: 99.074585, fake_scores: 22.205154, W: -76.869431\n",
      "Finish Epoch [66/100], D Loss: -101.677093, G Loss: -184.082432, W: -146.371628\n",
      "  Epoch[67/100], Step:  38400, d_loss: -62.142597, g_loss: -96.496567 real_scores: 90.189415, fake_scores: 12.745876, W: -77.443542\n",
      "Finish Epoch [67/100], D Loss: -101.072889, G Loss: -187.914949, W: -145.334030\n",
      "  Epoch[68/100], Step:  38400, d_loss: -60.903866, g_loss: -94.546127 real_scores: 90.116211, fake_scores: 14.795240, W: -75.320969\n",
      "Finish Epoch [68/100], D Loss: -101.323084, G Loss: -193.418070, W: -145.766373\n",
      "  Epoch[69/100], Step:  38400, d_loss: -58.779369, g_loss: -107.291542 real_scores: 100.489670, fake_scores: 25.979431, W: -74.510239\n",
      "Finish Epoch [69/100], D Loss: -101.076529, G Loss: -191.448255, W: -145.748672\n",
      "  Epoch[70/100], Step:  38400, d_loss: -54.119015, g_loss: -106.955963 real_scores: 100.063705, fake_scores: 18.076000, W: -81.987701\n",
      "Finish Epoch [70/100], D Loss: -101.264692, G Loss: -193.783510, W: -146.374161\n",
      "  Epoch[71/100], Step:  38400, d_loss: -49.758461, g_loss: -110.363503 real_scores: 115.215973, fake_scores: 28.390875, W: -86.825096\n",
      "Finish Epoch [71/100], D Loss: -100.190751, G Loss: -184.346079, W: -145.110580\n",
      "  Epoch[72/100], Step:  38400, d_loss: -51.413372, g_loss: -100.792084 real_scores: 95.817734, fake_scores: 19.207069, W: -76.610664\n",
      "Finish Epoch [72/100], D Loss: -97.707141, G Loss: -192.283619, W: -141.123611\n",
      "  Epoch[73/100], Step:  38400, d_loss: -50.327049, g_loss: -112.634293 real_scores: 106.846054, fake_scores: 26.159424, W: -80.686630\n",
      "Finish Epoch [73/100], D Loss: -97.946017, G Loss: -198.069267, W: -141.729218\n",
      "  Epoch[74/100], Step:  38400, d_loss: -56.927200, g_loss: -106.295364 real_scores: 96.228065, fake_scores: 18.461002, W: -77.767059\n",
      "Finish Epoch [74/100], D Loss: -96.861871, G Loss: -191.109510, W: -140.209671\n",
      "  Epoch[75/100], Step:  38400, d_loss: -48.697010, g_loss: -109.018135 real_scores: 102.651421, fake_scores: 26.145271, W: -76.506149\n",
      "Finish Epoch [75/100], D Loss: -94.090830, G Loss: -192.212822, W: -135.833160\n",
      "  Epoch[76/100], Step:  38400, d_loss: -49.099079, g_loss: -115.079224 real_scores: 110.906349, fake_scores: 31.544289, W: -79.362061\n",
      "Finish Epoch [76/100], D Loss: -92.028870, G Loss: -193.709142, W: -132.754761\n",
      "  Epoch[77/100], Step:  38400, d_loss: -52.389977, g_loss: -106.307655 real_scores: 103.558372, fake_scores: 28.732035, W: -74.826340\n",
      "Finish Epoch [77/100], D Loss: -91.429155, G Loss: -189.101397, W: -132.563446\n",
      "  Epoch[78/100], Step:  38400, d_loss: -46.641525, g_loss: -100.336563 real_scores: 94.787987, fake_scores: 14.950400, W: -79.837585\n",
      "Finish Epoch [78/100], D Loss: -91.148982, G Loss: -177.643887, W: -132.399689\n"
     ]
    },
    {
     "name": "stdout",
     "output_type": "stream",
     "text": [
      "  Epoch[79/100], Step:  38400, d_loss: -48.613472, g_loss: -103.579453 real_scores: 98.327072, fake_scores: 15.103823, W: -83.223251\n",
      "Finish Epoch [79/100], D Loss: -91.346075, G Loss: -168.092775, W: -132.417358\n",
      "  Epoch[80/100], Step:  38400, d_loss: -49.928799, g_loss: -100.372047 real_scores: 91.706947, fake_scores: 10.984582, W: -80.722366\n",
      "Finish Epoch [80/100], D Loss: -91.746925, G Loss: -165.367910, W: -133.498810\n",
      "  Epoch[81/100], Step:  38400, d_loss: -57.392685, g_loss: -101.229469 real_scores: 91.043915, fake_scores: 8.491877, W: -82.552040\n",
      "Finish Epoch [81/100], D Loss: -91.365996, G Loss: -161.542947, W: -132.913010\n",
      "  Epoch[82/100], Step:  38400, d_loss: -66.639816, g_loss: -105.754532 real_scores: 99.858978, fake_scores: 10.657919, W: -89.201057\n",
      "Finish Epoch [82/100], D Loss: -90.870165, G Loss: -157.774517, W: -132.334122\n",
      "  Epoch[83/100], Step:  38400, d_loss: -52.117195, g_loss: -96.521057 real_scores: 89.788879, fake_scores: 8.569546, W: -81.219330\n",
      "Finish Epoch [83/100], D Loss: -88.779156, G Loss: -154.143823, W: -129.254318\n",
      "  Epoch[84/100], Step:  38400, d_loss: -55.185680, g_loss: -99.361282 real_scores: 98.940849, fake_scores: 12.672376, W: -86.268471\n",
      "Finish Epoch [84/100], D Loss: -87.572011, G Loss: -146.956559, W: -127.105698\n",
      "  Epoch[85/100], Step:  38400, d_loss: -54.361515, g_loss: -99.299324 real_scores: 89.980026, fake_scores: 11.808043, W: -78.171982\n",
      "Finish Epoch [85/100], D Loss: -85.495600, G Loss: -140.769716, W: -123.986702\n"
     ]
    },
    {
     "ename": "KeyboardInterrupt",
     "evalue": "",
     "output_type": "error",
     "traceback": [
      "\u001b[0;31m---------------------------------------------------------------------------\u001b[0m",
      "\u001b[0;31mKeyboardInterrupt\u001b[0m                         Traceback (most recent call last)",
      "\u001b[0;32m<ipython-input-19-8c23ca55e426>\u001b[0m in \u001b[0;36m<module>\u001b[0;34m\u001b[0m\n\u001b[1;32m     28\u001b[0m \u001b[0;34m\u001b[0m\u001b[0m\n\u001b[1;32m     29\u001b[0m         \u001b[0mg_optimezer\u001b[0m\u001b[0;34m.\u001b[0m\u001b[0mzero_grad\u001b[0m\u001b[0;34m(\u001b[0m\u001b[0;34m)\u001b[0m\u001b[0;34m\u001b[0m\u001b[0;34m\u001b[0m\u001b[0m\n\u001b[0;32m---> 30\u001b[0;31m         \u001b[0mg_loss\u001b[0m\u001b[0;34m.\u001b[0m\u001b[0mbackward\u001b[0m\u001b[0;34m(\u001b[0m\u001b[0mmone\u001b[0m\u001b[0;34m)\u001b[0m\u001b[0;34m\u001b[0m\u001b[0;34m\u001b[0m\u001b[0m\n\u001b[0m\u001b[1;32m     31\u001b[0m         \u001b[0mg_loss\u001b[0m \u001b[0;34m=\u001b[0m \u001b[0;34m-\u001b[0m\u001b[0mg_loss\u001b[0m\u001b[0;34m\u001b[0m\u001b[0;34m\u001b[0m\u001b[0m\n\u001b[1;32m     32\u001b[0m         \u001b[0mg_optimezer\u001b[0m\u001b[0;34m.\u001b[0m\u001b[0mstep\u001b[0m\u001b[0;34m(\u001b[0m\u001b[0;34m)\u001b[0m\u001b[0;34m\u001b[0m\u001b[0;34m\u001b[0m\u001b[0m\n",
      "\u001b[0;32m~/venv36/lib/python3.6/site-packages/torch/tensor.py\u001b[0m in \u001b[0;36mbackward\u001b[0;34m(self, gradient, retain_graph, create_graph)\u001b[0m\n\u001b[1;32m    105\u001b[0m                 \u001b[0mproducts\u001b[0m\u001b[0;34m.\u001b[0m \u001b[0mDefaults\u001b[0m \u001b[0mto\u001b[0m\u001b[0;31m \u001b[0m\u001b[0;31m`\u001b[0m\u001b[0;31m`\u001b[0m\u001b[0;32mFalse\u001b[0m\u001b[0;31m`\u001b[0m\u001b[0;31m`\u001b[0m\u001b[0;34m.\u001b[0m\u001b[0;34m\u001b[0m\u001b[0;34m\u001b[0m\u001b[0m\n\u001b[1;32m    106\u001b[0m         \"\"\"\n\u001b[0;32m--> 107\u001b[0;31m         \u001b[0mtorch\u001b[0m\u001b[0;34m.\u001b[0m\u001b[0mautograd\u001b[0m\u001b[0;34m.\u001b[0m\u001b[0mbackward\u001b[0m\u001b[0;34m(\u001b[0m\u001b[0mself\u001b[0m\u001b[0;34m,\u001b[0m \u001b[0mgradient\u001b[0m\u001b[0;34m,\u001b[0m \u001b[0mretain_graph\u001b[0m\u001b[0;34m,\u001b[0m \u001b[0mcreate_graph\u001b[0m\u001b[0;34m)\u001b[0m\u001b[0;34m\u001b[0m\u001b[0;34m\u001b[0m\u001b[0m\n\u001b[0m\u001b[1;32m    108\u001b[0m \u001b[0;34m\u001b[0m\u001b[0m\n\u001b[1;32m    109\u001b[0m     \u001b[0;32mdef\u001b[0m \u001b[0mregister_hook\u001b[0m\u001b[0;34m(\u001b[0m\u001b[0mself\u001b[0m\u001b[0;34m,\u001b[0m \u001b[0mhook\u001b[0m\u001b[0;34m)\u001b[0m\u001b[0;34m:\u001b[0m\u001b[0;34m\u001b[0m\u001b[0;34m\u001b[0m\u001b[0m\n",
      "\u001b[0;32m~/venv36/lib/python3.6/site-packages/torch/autograd/__init__.py\u001b[0m in \u001b[0;36mbackward\u001b[0;34m(tensors, grad_tensors, retain_graph, create_graph, grad_variables)\u001b[0m\n\u001b[1;32m     91\u001b[0m     Variable._execution_engine.run_backward(\n\u001b[1;32m     92\u001b[0m         \u001b[0mtensors\u001b[0m\u001b[0;34m,\u001b[0m \u001b[0mgrad_tensors\u001b[0m\u001b[0;34m,\u001b[0m \u001b[0mretain_graph\u001b[0m\u001b[0;34m,\u001b[0m \u001b[0mcreate_graph\u001b[0m\u001b[0;34m,\u001b[0m\u001b[0;34m\u001b[0m\u001b[0;34m\u001b[0m\u001b[0m\n\u001b[0;32m---> 93\u001b[0;31m         allow_unreachable=True)  # allow_unreachable flag\n\u001b[0m\u001b[1;32m     94\u001b[0m \u001b[0;34m\u001b[0m\u001b[0m\n\u001b[1;32m     95\u001b[0m \u001b[0;34m\u001b[0m\u001b[0m\n",
      "\u001b[0;31mKeyboardInterrupt\u001b[0m: "
     ]
    }
   ],
   "source": [
    "total_count = len(dataloader)\n",
    "for epoch in tqdm_notebook(range(num_epochs)):\n",
    "    _step = epoch * total_count\n",
    "    \n",
    "    d_loss_total = .0\n",
    "    g_loss_total = .0\n",
    "    w_dist_total = .0\n",
    "    for i, (imgs, labs) in enumerate(dataloader):\n",
    "        \n",
    "        real_imgs = imgs.cuda()\n",
    "        real_labs = labs.cuda()\n",
    "        \n",
    "        z = np.random.randn(imgs.size(0), z_dimension)\n",
    "        fake_labels = np.random.randint(0, 10, imgs.shape[0])\n",
    "#         z[:, 0] += fake_labels\n",
    "# #         z = z / np.linalg.norm(z)\n",
    "#         z = torch.from_numpy(z).float().cuda()\n",
    "        z = gen_noise(z.shape[0], fake_labels)\n",
    "        ########## G ##########\n",
    "#         for p in D.parameters():\n",
    "#             p.requires_grad_(False)\n",
    "        \n",
    "        fake_imgs = G(z)\n",
    "        fake_out, fake_out_labels = D(fake_imgs)\n",
    "        fake_labels_loss = criterion(fake_out_labels, torch.from_numpy(fake_labels).cuda()).mean()\n",
    "        fake_cost = fake_out.mean()\n",
    "        g_loss = 1 * fake_labels_loss + fake_cost\n",
    "\n",
    "        g_optimezer.zero_grad()\n",
    "        g_loss.backward(mone)\n",
    "        g_loss = -g_loss\n",
    "        g_optimezer.step()\n",
    "        #######################\n",
    "        \n",
    "        \n",
    "        ########## D ##########\n",
    "#         for p in D.parameters():\n",
    "#             p.requires_grad_(True)\n",
    "        \n",
    "        real_out, real_labels = D(real_imgs)\n",
    "        real_labels_loss = criterion(real_labels, real_labs)\n",
    "        d_loss_real_labels = real_labels_loss.mean()\n",
    "        d_loss_real = real_out.mean()\n",
    "        real_scores = real_out\n",
    "        \n",
    "        fake_out, fake_out_labels = D(fake_imgs.detach())\n",
    "#         d_loss_fake_labels = criterion(fake_out_labels, torch.from_numpy(fake_labels).cuda()).mean()\n",
    "        d_loss_fake = fake_out.mean()\n",
    "        fake_scores = fake_out\n",
    "        \n",
    "        gradient_penalty = calc_gradient_penalty(D, real_imgs, fake_imgs)\n",
    "        \n",
    "        d_loss = d_loss_fake - d_loss_real + gradient_penalty # + 1 * d_loss_real_lab\n",
    "        \n",
    "        d_optimezer.zero_grad()\n",
    "#         d_loss.backward()\n",
    "        (d_loss + 1 * (d_loss_real_labels)).backward() # + d_loss_fake_labels\n",
    "        d_optimezer.step()\n",
    "        #######################\n",
    "        \n",
    "        w_dist = d_loss_fake - d_loss_real\n",
    "        \n",
    "        d_loss_total += d_loss.item() * imgs.size(0)\n",
    "        g_loss_total += g_loss.item() * imgs.size(0)\n",
    "        w_dist_total += w_dist * imgs.size(0)\n",
    "        \n",
    "        step = _step + i + 1\n",
    "        \n",
    "        if (i + 1) % 100 == 0:\n",
    "            writer.add_scalar('Discriminator Real Loss', d_loss_real.item(), step)\n",
    "            writer.add_scalar('Discriminator Fake Loss', d_loss_fake.item(), step)\n",
    "            writer.add_scalar('Discriminator Loss', d_loss.item(), step)\n",
    "            writer.add_scalar('Generator Loss', g_loss.item(), step)\n",
    "            writer.add_scalar('Wasserstein Distance', w_dist.item(), step)\n",
    "        \n",
    "        \n",
    "        if (i + 1) % 300 == 0:\n",
    "            tqdm.write('  Epoch[{}/{}], Step: {:6d}, d_loss: {:.6f}, g_loss: {:.6f} real_scores: {:.6f}' \\\n",
    "', fake_scores: {:.6f}, W: {:.6f}'.format(epoch+1, num_epochs, \n",
    "                                          (i+1) * BATCH_SIZE, \n",
    "                                          d_loss, g_loss, \n",
    "                                          real_scores.mean(), \n",
    "                                          fake_scores.mean(), w_dist))\n",
    "    \n",
    "    \n",
    "    setp = (epoch + 1) * total_count\n",
    "    _d_loss_total = d_loss_total / (total_count * (epoch + 1))\n",
    "    _g_loss_total = g_loss_total / (total_count * (epoch + 1))\n",
    "    _w_dist_total = w_dist_total / (total_count * (epoch + 1))\n",
    "    \n",
    "    writer.add_scalar('Discriminator Total Loss', _d_loss_total, step)\n",
    "    writer.add_scalar('Generator Total Loss', _g_loss_total, step)\n",
    "    \n",
    "    tqdm.write(\"Finish Epoch [{}/{}], D Loss: {:.6f}, G Loss: {:.6f}, W: {:.6f}\".format(epoch+1, \n",
    "                                                                             num_epochs, \n",
    "                                                                             _d_loss_total,\n",
    "                                                                             _g_loss_total,\n",
    "                                                                             _w_dist_total, ))\n",
    "    \n",
    "    writer.add_image('Generator Image', make_grid(fake_imgs.view(-1, 1, 32, 32).cpu().data, normalize=True, scale_each=True), step)\n",
    "    condition_imgs = G(condition_noise)\n",
    "    writer.add_image('Condition Generator Image', make_grid(condition_imgs.view(-1, 1, 32, 32).cpu().data, normalize=True, scale_each=True), step)\n",
    "    \n",
    "    if epoch == 0:\n",
    "        real_images = real_imgs.view(-1, 1, 32, 32).cpu().data\n",
    "        save_image(real_images, os.path.join(img_path, 'real_images.png'))\n",
    "    \n",
    "    \n",
    "    fake_images = fake_imgs.view(-1, 1, 32, 32).cpu().data\n",
    "    save_image(fake_images, os.path.join(img_path, 'fake_images-{}.png'.format(epoch+1)))\n",
    "    save_image(condition_imgs, os.path.join(img_path, 'condition_images-{}.png'.format(epoch+1)))"
   ]
  },
  {
   "cell_type": "code",
   "execution_count": 20,
   "metadata": {},
   "outputs": [],
   "source": [
    "writer.close()"
   ]
  },
  {
   "cell_type": "code",
   "execution_count": 20,
   "metadata": {},
   "outputs": [],
   "source": [
    "torch.save(D.state_dict(), './ser/condition_wgan_gp_discriminator_4.pt')\n",
    "torch.save(G.state_dict(), './ser/condition_wgan_gp_generator_4.pt')"
   ]
  },
  {
   "cell_type": "code",
   "execution_count": 46,
   "metadata": {},
   "outputs": [],
   "source": [
    "D.load_state_dict(torch.load('./ser/condition_wgan_gp_discriminator_4.pt'))\n",
    "G.load_state_dict(torch.load('./ser/condition_wgan_gp_generator_4.pt'))"
   ]
  },
  {
   "cell_type": "code",
   "execution_count": 39,
   "metadata": {},
   "outputs": [],
   "source": [
    "# D = Discriminator().to(device)\n",
    "# G = Generator(z_dimension, num_feature).to(device)\n",
    "\n",
    "# D = nn.DataParallel(D).cpu()\n",
    "# G = nn.DataParallel(G).cpu()\n",
    "\n",
    "# D.load_state_dict(torch.load('./ser/condition_wgan_gp_discriminator_4.pt'))\n",
    "# G.load_state_dict(torch.load('./ser/condition_wgan_gp_generator_4.pt'))"
   ]
  },
  {
   "cell_type": "code",
   "execution_count": 47,
   "metadata": {},
   "outputs": [
    {
     "data": {
      "image/png": "[encoded data removed]",
      "text/plain": [
       "<Figure size 432x288 with 1 Axes>"
      ]
     },
     "metadata": {
      "needs_background": "light"
     },
     "output_type": "display_data"
    }
   ],
   "source": [
    "words = np.arange(10)\n",
    "z = gen_noise(words.shape[0], words)\n",
    "images = G(z)\n",
    "# save_image(images, 'xx.png')\n",
    "plt.imshow(Image.fromarray(make_grid(images).mul(255).clamp(0, 255).byte().permute(1, 2, 0).cpu().numpy()))\n",
    "plt.show()"
   ]
  },
  {
   "cell_type": "code",
   "execution_count": null,
   "metadata": {},
   "outputs": [],
   "source": []
  }
 ],
 "metadata": {
  "kernelspec": {
   "display_name": "venv36",
   "language": "python",
   "name": "venv36"
  },
  "language_info": {
   "codemirror_mode": {
    "name": "ipython",
    "version": 3
   },
   "file_extension": ".py",
   "mimetype": "text/x-python",
   "name": "python",
   "nbconvert_exporter": "python",
   "pygments_lexer": "ipython3",
   "version": "3.6.8"
  },
  "varInspector": {
   "cols": {
    "lenName": 16,
    "lenType": 16,
    "lenVar": 40
   },
   "kernels_config": {
    "python": {
     "delete_cmd_postfix": "",
     "delete_cmd_prefix": "del ",
     "library": "var_list.py",
     "varRefreshCmd": "print(var_dic_list())"
    },
    "r": {
     "delete_cmd_postfix": ") ",
     "delete_cmd_prefix": "rm(",
     "library": "var_list.r",
     "varRefreshCmd": "cat(var_dic_list()) "
    }
   },
   "position": {
    "height": "556px",
    "left": "247px",
    "right": "398px",
    "top": "131px",
    "width": "752px"
   },
   "types_to_exclude": [
    "module",
    "function",
    "builtin_function_or_method",
    "instance",
    "_Feature"
   ],
   "window_display": false
  }
 },
 "nbformat": 4,
 "nbformat_minor": 2
}
