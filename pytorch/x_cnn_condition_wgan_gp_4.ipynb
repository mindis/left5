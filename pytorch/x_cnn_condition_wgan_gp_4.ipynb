{
 "cells": [
  {
   "cell_type": "code",
   "execution_count": 30,
   "metadata": {},
   "outputs": [],
   "source": [
    "import os\n",
    "from tqdm import tnrange, tqdm_notebook, tqdm\n",
    "import torch\n",
    "import torchvision\n",
    "from torch import nn, autograd, optim\n",
    "from torch.utils.data import DataLoader\n",
    "from torchvision import transforms, datasets\n",
    "from torchvision.utils import save_image, make_grid\n",
    "from torch.autograd import grad\n",
    "import numpy as np\n",
    "from PIL import Image\n",
    "import matplotlib.pyplot as plt\n",
    "from tensorboardX import SummaryWriter"
   ]
  },
  {
   "cell_type": "code",
   "execution_count": 31,
   "metadata": {},
   "outputs": [],
   "source": [
    "# os.environ['CUDA_VISIBLE_DEVICES'] = '1'"
   ]
  },
  {
   "cell_type": "code",
   "execution_count": 32,
   "metadata": {},
   "outputs": [],
   "source": [
    "from matplotlib import rcParams\n",
    "rcParams['figure.figsize'] = (12, 8)\n",
    "\n",
    "%matplotlib inline"
   ]
  },
  {
   "cell_type": "code",
   "execution_count": 33,
   "metadata": {},
   "outputs": [],
   "source": [
    "device = torch.device('cuda' if torch.cuda.is_available() else 'cpu')"
   ]
  },
  {
   "cell_type": "code",
   "execution_count": 34,
   "metadata": {},
   "outputs": [
    {
     "data": {
      "text/plain": [
       "True"
      ]
     },
     "execution_count": 34,
     "metadata": {},
     "output_type": "execute_result"
    }
   ],
   "source": [
    "torch.cuda.is_available()"
   ]
  },
  {
   "cell_type": "code",
   "execution_count": 35,
   "metadata": {},
   "outputs": [],
   "source": [
    "device_ids = [0]"
   ]
  },
  {
   "cell_type": "code",
   "execution_count": 36,
   "metadata": {},
   "outputs": [],
   "source": [
    "BATCH_SIZE = 128\n",
    "num_epochs = 100\n",
    "\n",
    "z_dimension = 100\n",
    "num_feature = (32, 4, 4)\n",
    "\n",
    "img_shape = (1, 32, 32)"
   ]
  },
  {
   "cell_type": "code",
   "execution_count": 37,
   "metadata": {},
   "outputs": [],
   "source": [
    "img_transform = transforms.Compose([\n",
    "    transforms.Resize(32),\n",
    "    transforms.ToTensor(),\n",
    "    transforms.Normalize((.5, .5, .5), (.5, .5, .5))\n",
    "])\n",
    "\n",
    "dataset = datasets.MNIST('/home/left5/datas/mnist', transform=img_transform) #, download=True)\n",
    "dataloader = DataLoader(dataset, batch_size=BATCH_SIZE, shuffle=True, num_workers=4)"
   ]
  },
  {
   "cell_type": "code",
   "execution_count": 38,
   "metadata": {},
   "outputs": [],
   "source": [
    "def normal_init(m, mean, std):\n",
    "    if isinstance(m, nn.ConvTranspose2d) or isinstance(m, nn.Conv2d):\n",
    "        m.weight.data.normal_(mean, std)\n",
    "        m.bias.data.zero_()"
   ]
  },
  {
   "cell_type": "code",
   "execution_count": 39,
   "metadata": {},
   "outputs": [],
   "source": [
    "def calc_gradient_penalty(netD, real_data, fake_data):\n",
    "    alpha = torch.rand(1, 1, 1, 1)\n",
    "    alpha = alpha.expand_as(real_data)\n",
    "    alpha = alpha.to(device)\n",
    "    \n",
    "#     fake_data = fake_data.view(BATCH_SIZE, 3, DIM, DIM)\n",
    "    interpolates = alpha * real_data.detach() + ((1 - alpha) * fake_data.detach())\n",
    "\n",
    "    interpolates = interpolates.to(device)\n",
    "    interpolates.requires_grad_(True)\n",
    "\n",
    "    disc_interpolates, _ = netD(interpolates)\n",
    "    \n",
    "    gradients = autograd.grad(outputs=disc_interpolates, inputs=interpolates,\n",
    "                              grad_outputs=torch.ones(disc_interpolates.shape).to(device),\n",
    "                              create_graph=True, retain_graph=True, only_inputs=True)[0]\n",
    "\n",
    "    gradients = gradients.view(gradients.size(0), -1)                              \n",
    "    gradient_penalty = ((gradients.norm(2, dim=1) - 1) ** 2).mean() * 10\n",
    "    return gradient_penalty"
   ]
  },
  {
   "cell_type": "code",
   "execution_count": 40,
   "metadata": {},
   "outputs": [],
   "source": [
    "def gen_noise_label(batch_size):\n",
    "    label = np.random.randint(0, 10, batch_size)\n",
    "    #prefix = np.zeros((batch_size, 10))\n",
    "    #prefix[np.arange(batch_size), label] = 1\n",
    "    return label # prefix"
   ]
  },
  {
   "cell_type": "code",
   "execution_count": 41,
   "metadata": {},
   "outputs": [],
   "source": [
    "def gen_noise(batch_size, label):\n",
    "    prefix = np.zeros((batch_size, 10))\n",
    "    prefix[np.arange(batch_size), label] = 1\n",
    "    z = np.random.normal(0, 1, (batch_size, z_dimension))\n",
    "#     prefix = prefix / np.linalg.norm(prefix)\n",
    "    z[:, :10] = prefix\n",
    "    return torch.from_numpy(z).float().to(device)"
   ]
  },
  {
   "cell_type": "code",
   "execution_count": 42,
   "metadata": {},
   "outputs": [],
   "source": [
    "a = label = np.random.randint(0, 10, 20)\n",
    "b = gen_noise(20, a)"
   ]
  },
  {
   "cell_type": "code",
   "execution_count": 43,
   "metadata": {},
   "outputs": [],
   "source": [
    "class Discriminator(nn.Module):\n",
    "    def __init__(self):\n",
    "        super(Discriminator, self).__init__()\n",
    "        \n",
    "#         self.label_embedding = nn.Embedding(10, np.prod(img_shape))\n",
    "        \n",
    "        self.conv1 = nn.Sequential(\n",
    "            nn.Conv2d(1, 16, 3, padding=1, stride=2),\n",
    "#             nn.BatchNorm2d(16),\n",
    "            nn.LeakyReLU(.2, True),\n",
    "#             nn.AvgPool2d(2, 2), \n",
    "        ) # b 16 16 16\n",
    "        \n",
    "        self.conv2 = nn.Sequential(\n",
    "            nn.Conv2d(16, 32, 3, padding=1, stride=2),\n",
    "#             nn.BatchNorm2d(32),\n",
    "            nn.LeakyReLU(.2, True),\n",
    "#             nn.AvgPool2d(2, 2), \n",
    "        ) # b 32 8 8\n",
    "        \n",
    "        self.conv3 = nn.Sequential(\n",
    "            nn.Conv2d(32, 64, 3, padding=1, stride=2),\n",
    "#             nn.BatchNorm2d(64),\n",
    "            nn.LeakyReLU(.2, True),\n",
    "#             nn.AvgPool2d(2, 2), \n",
    "        ) # b 64 4 4\n",
    "        \n",
    "        self.conv4 = nn.Sequential(\n",
    "            nn.Conv2d(64, 128, 3, padding=1, stride=2),\n",
    "#             nn.BatchNorm2d(128),\n",
    "            nn.LeakyReLU(.2, True),\n",
    "#             nn.AvgPool2d(2, 2), \n",
    "        ) # b 128 2 2\n",
    "        \n",
    "        self.fc = nn.Sequential(\n",
    "            nn.Linear(128 * 2 * 2, 1024),\n",
    "            nn.LeakyReLU(.2, True),\n",
    "            nn.Linear(1024, 1),\n",
    "#             nn.Sigmoid(),\n",
    "        ) # b 1\n",
    "        \n",
    "        self.label = nn.Sequential(\n",
    "            nn.Linear(128 * 2 * 2, 10),\n",
    "#             nn.Sigmoid()\n",
    "        )\n",
    "\n",
    "    def forward(self, imgs): # b 1 32 32\n",
    "        \n",
    "#         if(fake_labels is None):\n",
    "#             _imgs = torch.cat((imgs, self.label_embedding(real_labels).reshape(imgs.size(0), *img_shape)), 1)\n",
    "#         else:\n",
    "#             _labs = self.label_embedding(real_labels).reshape(imgs.size(0), *img_shape) + self.label_embedding(real_labels).reshape(imgs.size(0), *img_shape)\n",
    "#             _imgs = torch.cat((imgs, _labs), 1)\n",
    "\n",
    "        outs = self.conv1(imgs)\n",
    "        outs = self.conv2(outs)\n",
    "        outs = self.conv3(outs)\n",
    "        outs = self.conv4(outs)\n",
    "        outs = outs.view(imgs.size(0), -1)\n",
    "        img = self.fc(outs)\n",
    "        lab = self.label(outs)\n",
    "        \n",
    "        return img, lab # b 1 1 1, b 10"
   ]
  },
  {
   "cell_type": "code",
   "execution_count": 44,
   "metadata": {},
   "outputs": [],
   "source": [
    "class Generator(nn.Module):\n",
    "    def __init__(self, inp_dim, num_feature):\n",
    "        super(Generator, self).__init__()\n",
    "\n",
    "#         self.label_emb = nn.Embedding(inp_dim, inp_dim)\n",
    "        \n",
    "        self.fc = nn.Sequential(\n",
    "            nn.Linear(inp_dim, np.prod(num_feature)),\n",
    "#             nn.Sigmoid(),\n",
    "        ) # b *num_feature  b 32 4 4\n",
    "        \n",
    "        self.upsample1 = nn.Sequential(\n",
    "#             nn.BatchNorm2d(128),\n",
    "            nn.ConvTranspose2d(32, 16, 4, 2, 1),\n",
    "#             nn.functional.interpolate(scale_factor=2),\n",
    "#             nn.Upsample(scale_factor=2),\n",
    "#             nn.Conv2d(32, 16, 3, padding=1),\n",
    "            nn.BatchNorm2d(16),\n",
    "            nn.LeakyReLU(.2, True),\n",
    "#             nn.ReLU(True),\n",
    "        ) # b 16 8 8\n",
    "        \n",
    "        self.upsample2 = nn.Sequential(\n",
    "#             nn.functional.interpolate(scale_factor=2),\n",
    "            nn.ConvTranspose2d(16, 8, 4, 2, 1, 0),\n",
    "#             nn.Upsample(scale_factor=2),\n",
    "#             nn.Conv2d(16, 8, 3, padding=1),\n",
    "            nn.BatchNorm2d(8),\n",
    "            nn.LeakyReLU(.2, True),\n",
    "#             nn.ReLU(True),\n",
    "        ) # b 8 16 16\n",
    "        \n",
    "        self.upsample3 = nn.Sequential(\n",
    "            nn.ConvTranspose2d(8, 4, 4, 2, 1),\n",
    "#             nn.functional.interpolate(scale_factor=2),\n",
    "#             nn.Upsample(scale_factor=2),\n",
    "#             nn.Conv2d(8, 4, 3, padding=1, stride=1),\n",
    "            nn.BatchNorm2d(4),\n",
    "            nn.LeakyReLU(.2, True),\n",
    "#             nn.ReLU(True),\n",
    "        ) # b 4 32 32\n",
    "        \n",
    "        self.conv = nn.Sequential(\n",
    "#             nn.functional.interpolate(scale_factor=2),\n",
    "            nn.Conv2d(4, 1, 3, padding=1, stride=1),\n",
    "            nn.Tanh(),\n",
    "        ) # b 1 32 32\n",
    "\n",
    "    def forward(self, noise):\n",
    "        \n",
    "#         gen_input = torch.cat((labels.reshape(noise.size(0), -1), noise), -1)\n",
    "#         gen_input = torch.cat((self.label_emb(labels), noise), -1)\n",
    "#         gen_input = self.label_emb(noise)\n",
    "        \n",
    "        outs = self.fc(noise)\n",
    "        outs = outs.view(noise.size(0), *num_feature)\n",
    "        outs = self.upsample1(outs)\n",
    "        outs = self.upsample2(outs)\n",
    "        outs = self.upsample3(outs)\n",
    "\n",
    "        outs = self.conv(outs)\n",
    "        \n",
    "        return outs\n"
   ]
  },
  {
   "cell_type": "code",
   "execution_count": 45,
   "metadata": {},
   "outputs": [],
   "source": [
    "D = Discriminator().to(device)\n",
    "G = Generator(z_dimension, num_feature).to(device)\n",
    "\n",
    "# D.weight_init(.0, 0.02)\n",
    "# G.weight_init(.0, 0.02)\n",
    "\n",
    "D = nn.DataParallel(D, device_ids=device_ids).to(device)\n",
    "G = nn.DataParallel(G, device_ids=device_ids).to(device)\n",
    "\n",
    "criterion = nn.CrossEntropyLoss()\n",
    "\n",
    "d_optimezer = optim.Adam(D.parameters(), lr=2e-4, betas=(0, 0.9))\n",
    "g_optimezer = optim.Adam(G.parameters(), lr=2e-4, betas=(0, 0.9))\n",
    "\n",
    "one = torch.FloatTensor([1])\n",
    "mone = one * -1\n",
    "one = one.to(device)\n",
    "mone = mone.to(device)"
   ]
  },
  {
   "cell_type": "code",
   "execution_count": 46,
   "metadata": {},
   "outputs": [],
   "source": [
    "writer = SummaryWriter('./log/cnn_condition_wgan_gp')"
   ]
  },
  {
   "cell_type": "code",
   "execution_count": 47,
   "metadata": {},
   "outputs": [],
   "source": [
    "img_path = \"save_images/cnn_condition_wgan_img\"\n",
    "if not os.path.exists(img_path): os.makedirs(img_path)"
   ]
  },
  {
   "cell_type": "code",
   "execution_count": 48,
   "metadata": {},
   "outputs": [],
   "source": [
    "condition_label = np.arange(10)\n",
    "# condition_noise = np.random.randn(condition_label.shape[0], z_dimension)\n",
    "# condition_noise[:, 0] += condition_label\n",
    "# # condition_noise = condition_noise / np.linalg.norm(condition_noise)\n",
    "# condition_noise = torch.from_numpy(condition_noise).float()\n",
    "condition_noise = gen_noise(condition_label.shape[0], condition_label)"
   ]
  },
  {
   "cell_type": "code",
   "execution_count": null,
   "metadata": {
    "scrolled": true
   },
   "outputs": [
    {
     "data": {
      "application/vnd.jupyter.widget-view+json": {
       "model_id": "6a992c9600b440208c51cfc2a8cf5559",
       "version_major": 2,
       "version_minor": 0
      },
      "text/plain": [
       "HBox(children=(IntProgress(value=0), HTML(value='')))"
      ]
     },
     "metadata": {},
     "output_type": "display_data"
    },
    {
     "name": "stdout",
     "output_type": "stream",
     "text": [
      "  Epoch[1/100], Step:  38400, d_loss: -12.671673, g_loss: -23.820839 real_scores: 35.367889, fake_scores: 21.427956, W: -13.939934\n",
      "Finish Epoch [1/100], D Loss: -1776.297395, G Loss: -3061.520319, W: -2249.989502\n",
      "  Epoch[2/100], Step:  38400, d_loss: -3.681674, g_loss: -27.096870 real_scores: 21.486483, fake_scores: 17.171963, W: -4.314520\n",
      "Finish Epoch [2/100], D Loss: -263.601709, G Loss: -1645.014354, W: -297.374115\n",
      "  Epoch[3/100], Step:  38400, d_loss: -3.958251, g_loss: -12.576652 real_scores: 2.839991, fake_scores: -1.529711, W: -4.369701\n",
      "Finish Epoch [3/100], D Loss: -168.199848, G Loss: -533.338990, W: -194.944809\n",
      "  Epoch[4/100], Step:  38400, d_loss: -4.826548, g_loss: -6.638592 real_scores: -3.817691, fake_scores: -9.443663, W: -5.625971\n",
      "Finish Epoch [4/100], D Loss: -153.744658, G Loss: -218.715411, W: -178.484131\n",
      "  Epoch[5/100], Step:  38400, d_loss: -5.729529, g_loss: -6.530180 real_scores: -5.236649, fake_scores: -12.123692, W: -6.887043\n",
      "Finish Epoch [5/100], D Loss: -152.310701, G Loss: -172.178001, W: -178.066269\n",
      "  Epoch[6/100], Step:  38400, d_loss: -6.410870, g_loss: -6.697784 real_scores: -4.949164, fake_scores: -12.609945, W: -7.660781\n",
      "Finish Epoch [6/100], D Loss: -147.845852, G Loss: -130.384482, W: -173.978745\n",
      "  Epoch[7/100], Step:  38400, d_loss: -7.710885, g_loss: -6.662025 real_scores: -5.693793, fake_scores: -15.054646, W: -9.360852\n",
      "Finish Epoch [7/100], D Loss: -140.689483, G Loss: -109.765869, W: -166.374573\n",
      "  Epoch[8/100], Step:  38400, d_loss: -6.730096, g_loss: -4.407526 real_scores: -9.807211, fake_scores: -19.690527, W: -9.883316\n",
      "Finish Epoch [8/100], D Loss: -133.323448, G Loss: -82.179343, W: -159.161972\n",
      "  Epoch[9/100], Step:  38400, d_loss: -8.392215, g_loss: -4.925552 real_scores: -8.238638, fake_scores: -19.826515, W: -11.587877\n",
      "Finish Epoch [9/100], D Loss: -133.016969, G Loss: -81.299003, W: -160.236069\n",
      "  Epoch[10/100], Step:  38400, d_loss: -9.281322, g_loss: -5.284195 real_scores: -8.155103, fake_scores: -20.709400, W: -12.554297\n",
      "Finish Epoch [10/100], D Loss: -129.141660, G Loss: -67.405883, W: -156.400742\n",
      "  Epoch[11/100], Step:  38400, d_loss: -10.956808, g_loss: -4.999220 real_scores: -8.833575, fake_scores: -22.690962, W: -13.857387\n",
      "Finish Epoch [11/100], D Loss: -130.071942, G Loss: -63.569925, W: -158.858551\n",
      "  Epoch[12/100], Step:  38400, d_loss: -11.464846, g_loss: -4.008476 real_scores: -10.790255, fake_scores: -24.457708, W: -13.667454\n",
      "Finish Epoch [12/100], D Loss: -129.987433, G Loss: -62.073968, W: -159.748322\n",
      "  Epoch[13/100], Step:  38400, d_loss: -12.314881, g_loss: -3.303955 real_scores: -10.921556, fake_scores: -29.497807, W: -18.576250\n",
      "Finish Epoch [13/100], D Loss: -136.748245, G Loss: -62.234617, W: -170.155685\n",
      "  Epoch[14/100], Step:  38400, d_loss: -14.439989, g_loss: -7.758091 real_scores: -8.408894, fake_scores: -27.228714, W: -18.819820\n",
      "Finish Epoch [14/100], D Loss: -131.992752, G Loss: -55.155660, W: -165.121185\n",
      "  Epoch[15/100], Step:  38400, d_loss: -15.756069, g_loss: -4.942919 real_scores: -9.287939, fake_scores: -29.815680, W: -20.527740\n",
      "Finish Epoch [15/100], D Loss: -121.694814, G Loss: -46.382175, W: -152.444595\n",
      "  Epoch[16/100], Step:  38400, d_loss: -15.456617, g_loss: -6.312531 real_scores: -10.652492, fake_scores: -33.047447, W: -22.394955\n",
      "Finish Epoch [16/100], D Loss: -119.290831, G Loss: -55.916321, W: -149.869202\n",
      "  Epoch[17/100], Step:  38400, d_loss: -17.380468, g_loss: -10.199743 real_scores: -6.858657, fake_scores: -26.445627, W: -19.586971\n",
      "Finish Epoch [17/100], D Loss: -117.047913, G Loss: -52.661518, W: -147.995239\n",
      "  Epoch[18/100], Step:  38400, d_loss: -18.331432, g_loss: -9.820972 real_scores: -7.543810, fake_scores: -28.894878, W: -21.351068\n",
      "Finish Epoch [18/100], D Loss: -113.949608, G Loss: -52.530804, W: -144.342270\n",
      "  Epoch[19/100], Step:  38400, d_loss: -13.855578, g_loss: -5.717625 real_scores: -10.374745, fake_scores: -29.956429, W: -19.581684\n",
      "Finish Epoch [19/100], D Loss: -105.877862, G Loss: -46.920078, W: -134.132629\n",
      "  Epoch[20/100], Step:  38400, d_loss: -17.178379, g_loss: -10.740084 real_scores: -7.190274, fake_scores: -26.870073, W: -19.679800\n",
      "Finish Epoch [20/100], D Loss: -98.885928, G Loss: -46.413335, W: -125.190521\n",
      "  Epoch[21/100], Step:  38400, d_loss: -16.844198, g_loss: -9.716393 real_scores: -7.987320, fake_scores: -29.351482, W: -21.364162\n",
      "Finish Epoch [21/100], D Loss: -101.423254, G Loss: -51.906755, W: -129.041977\n",
      "  Epoch[22/100], Step:  38400, d_loss: -15.960827, g_loss: -10.323479 real_scores: -7.401565, fake_scores: -28.609165, W: -21.207600\n",
      "Finish Epoch [22/100], D Loss: -101.917630, G Loss: -52.443032, W: -130.013168\n",
      "  Epoch[23/100], Step:  38400, d_loss: -16.267630, g_loss: -8.774414 real_scores: -8.419681, fake_scores: -30.244534, W: -21.824852\n",
      "Finish Epoch [23/100], D Loss: -97.901652, G Loss: -45.112456, W: -125.459419\n",
      "  Epoch[24/100], Step:  38400, d_loss: -17.603415, g_loss: -9.091705 real_scores: -9.176497, fake_scores: -33.172100, W: -23.995604\n",
      "Finish Epoch [24/100], D Loss: -97.847052, G Loss: -47.427324, W: -125.409508\n",
      "  Epoch[25/100], Step:  38400, d_loss: -18.314621, g_loss: -8.847656 real_scores: -9.448668, fake_scores: -34.868694, W: -25.420027\n",
      "Finish Epoch [25/100], D Loss: -99.573739, G Loss: -50.027023, W: -128.495422\n",
      "  Epoch[26/100], Step:  38400, d_loss: -18.866659, g_loss: -9.558102 real_scores: -8.918487, fake_scores: -37.263603, W: -28.345116\n",
      "Finish Epoch [26/100], D Loss: -99.428576, G Loss: -52.809051, W: -128.808014\n",
      "  Epoch[27/100], Step:  38400, d_loss: -19.412319, g_loss: -11.170918 real_scores: -6.934989, fake_scores: -33.687572, W: -26.752583\n",
      "Finish Epoch [27/100], D Loss: -95.774504, G Loss: -58.851024, W: -123.707443\n",
      "  Epoch[28/100], Step:  38400, d_loss: -20.381697, g_loss: -9.708725 real_scores: -7.897100, fake_scores: -36.688675, W: -28.791574\n",
      "Finish Epoch [28/100], D Loss: -93.269405, G Loss: -54.709131, W: -120.712616\n",
      "  Epoch[29/100], Step:  38400, d_loss: -18.764923, g_loss: -14.347065 real_scores: -4.290774, fake_scores: -28.563953, W: -24.273178\n",
      "Finish Epoch [29/100], D Loss: -88.373875, G Loss: -50.571161, W: -114.235321\n",
      "  Epoch[30/100], Step:  38400, d_loss: -19.377569, g_loss: -11.873287 real_scores: -6.152672, fake_scores: -33.343857, W: -27.191185\n",
      "Finish Epoch [30/100], D Loss: -86.966188, G Loss: -54.433491, W: -112.380226\n",
      "  Epoch[31/100], Step:  38400, d_loss: -18.589533, g_loss: -13.153149 real_scores: -5.250137, fake_scores: -30.127586, W: -24.877449\n",
      "Finish Epoch [31/100], D Loss: -85.484997, G Loss: -48.977199, W: -110.844009\n",
      "  Epoch[32/100], Step:  38400, d_loss: -21.848297, g_loss: -9.628860 real_scores: -9.328408, fake_scores: -41.363861, W: -32.035454\n",
      "Finish Epoch [32/100], D Loss: -93.412062, G Loss: -52.682386, W: -122.448204\n",
      "  Epoch[33/100], Step:  38400, d_loss: -25.108395, g_loss: -14.635109 real_scores: -5.341911, fake_scores: -36.429001, W: -31.087090\n",
      "Finish Epoch [33/100], D Loss: -89.913816, G Loss: -53.895931, W: -117.944374\n",
      "  Epoch[34/100], Step:  38400, d_loss: -27.288292, g_loss: -17.605461 real_scores: -4.340233, fake_scores: -39.679462, W: -35.339230\n",
      "Finish Epoch [34/100], D Loss: -98.874172, G Loss: -56.389063, W: -131.559219\n",
      "  Epoch[35/100], Step:  38400, d_loss: -26.574560, g_loss: -18.531219 real_scores: -2.247580, fake_scores: -35.845161, W: -33.597580\n",
      "Finish Epoch [35/100], D Loss: -95.465697, G Loss: -58.320256, W: -127.017769\n",
      "  Epoch[36/100], Step:  38400, d_loss: -33.875599, g_loss: -14.637817 real_scores: -5.920023, fake_scores: -44.989021, W: -39.069000\n",
      "Finish Epoch [36/100], D Loss: -99.042341, G Loss: -63.110587, W: -132.443558\n",
      "  Epoch[37/100], Step:  38400, d_loss: -24.918484, g_loss: -17.269131 real_scores: -4.302376, fake_scores: -38.704769, W: -34.402393\n",
      "Finish Epoch [37/100], D Loss: -90.038843, G Loss: -59.723720, W: -120.150421\n",
      "  Epoch[38/100], Step:  38400, d_loss: -24.047527, g_loss: -19.243420 real_scores: -1.605580, fake_scores: -37.742241, W: -36.136662\n",
      "Finish Epoch [38/100], D Loss: -92.320336, G Loss: -57.655166, W: -123.481667\n",
      "  Epoch[39/100], Step:  38400, d_loss: -29.934494, g_loss: -22.276829 real_scores: -0.009680, fake_scores: -37.761551, W: -37.751869\n",
      "Finish Epoch [39/100], D Loss: -93.732847, G Loss: -63.574017, W: -125.682243\n"
     ]
    },
    {
     "name": "stdout",
     "output_type": "stream",
     "text": [
      "  Epoch[40/100], Step:  38400, d_loss: -29.534201, g_loss: -22.870922 real_scores: 1.659099, fake_scores: -36.024261, W: -37.683361\n",
      "Finish Epoch [40/100], D Loss: -87.248243, G Loss: -61.340076, W: -116.479950\n",
      "  Epoch[41/100], Step:  38400, d_loss: -26.232845, g_loss: -19.332722 real_scores: -1.286572, fake_scores: -37.561932, W: -36.275360\n",
      "Finish Epoch [41/100], D Loss: -85.666533, G Loss: -62.298330, W: -114.611221\n",
      "  Epoch[42/100], Step:  38400, d_loss: -29.546261, g_loss: -25.436085 real_scores: 2.705027, fake_scores: -36.178474, W: -38.883503\n",
      "Finish Epoch [42/100], D Loss: -90.572022, G Loss: -69.141909, W: -121.965126\n",
      "  Epoch[43/100], Step:  38400, d_loss: -33.352139, g_loss: -31.106491 real_scores: 6.445925, fake_scores: -36.595169, W: -43.041096\n",
      "Finish Epoch [43/100], D Loss: -96.062161, G Loss: -71.310397, W: -130.676895\n",
      "  Epoch[44/100], Step:  38400, d_loss: -33.019150, g_loss: -26.716805 real_scores: 3.740685, fake_scores: -38.903168, W: -42.643852\n",
      "Finish Epoch [44/100], D Loss: -95.085347, G Loss: -67.945781, W: -129.266266\n",
      "  Epoch[45/100], Step:  38400, d_loss: -29.734377, g_loss: -22.621140 real_scores: 1.136893, fake_scores: -45.285439, W: -46.422333\n",
      "Finish Epoch [45/100], D Loss: -88.972090, G Loss: -67.915807, W: -120.700325\n",
      "  Epoch[46/100], Step:  38400, d_loss: -29.503740, g_loss: -26.502453 real_scores: 4.434859, fake_scores: -36.955677, W: -41.390537\n",
      "Finish Epoch [46/100], D Loss: -84.779486, G Loss: -67.497427, W: -114.668304\n",
      "  Epoch[47/100], Step:  38400, d_loss: -27.640285, g_loss: -25.380970 real_scores: 2.074131, fake_scores: -37.598236, W: -39.672367\n",
      "Finish Epoch [47/100], D Loss: -81.838140, G Loss: -68.011628, W: -110.484406\n",
      "  Epoch[48/100], Step:  38400, d_loss: -34.919956, g_loss: -22.100227 real_scores: -0.248345, fake_scores: -39.042488, W: -38.794144\n",
      "Finish Epoch [48/100], D Loss: -83.204489, G Loss: -68.670035, W: -112.748779\n"
     ]
    }
   ],
   "source": [
    "total_count = len(dataloader)\n",
    "for epoch in tqdm_notebook(range(num_epochs)):\n",
    "    _step = epoch * total_count\n",
    "    \n",
    "    d_loss_total = .0\n",
    "    g_loss_total = .0\n",
    "    w_dist_total = .0\n",
    "    for i, (imgs, labs) in enumerate(dataloader):\n",
    "        \n",
    "        real_imgs = imgs.cuda()\n",
    "        real_labs = labs.cuda()\n",
    "        \n",
    "        z = np.random.randn(imgs.size(0), z_dimension)\n",
    "        fake_labels = np.random.randint(0, 10, imgs.shape[0])\n",
    "#         z[:, 0] += fake_labels\n",
    "# #         z = z / np.linalg.norm(z)\n",
    "#         z = torch.from_numpy(z).float().cuda()\n",
    "        z = gen_noise(z.shape[0], fake_labels)\n",
    "        ########## G ##########\n",
    "#         for p in D.parameters():\n",
    "#             p.requires_grad_(False)\n",
    "        \n",
    "        fake_imgs = G(z)\n",
    "        fake_out, fake_out_labels = D(fake_imgs)\n",
    "        fake_labels_loss = criterion(fake_out_labels, torch.from_numpy(fake_labels).cuda()).mean()\n",
    "        fake_cost = fake_out.mean()\n",
    "        g_loss = 1 * fake_labels_loss + fake_cost\n",
    "\n",
    "        g_optimezer.zero_grad()\n",
    "        g_loss.backward(mone)\n",
    "        g_loss = -g_loss\n",
    "        g_optimezer.step()\n",
    "        #######################\n",
    "        \n",
    "        \n",
    "        ########## D ##########\n",
    "#         for p in D.parameters():\n",
    "#             p.requires_grad_(True)\n",
    "        \n",
    "        real_out, real_labels = D(real_imgs)\n",
    "        real_labels_loss = criterion(real_labels, real_labs)\n",
    "        d_loss_real_labels = real_labels_loss.mean()\n",
    "        d_loss_real = real_out.mean()\n",
    "        real_scores = real_out\n",
    "        \n",
    "        fake_out, fake_out_labels = D(fake_imgs.detach())\n",
    "#         d_loss_fake_labels = criterion(fake_out_labels, torch.from_numpy(fake_labels).cuda()).mean()\n",
    "        d_loss_fake = fake_out.mean()\n",
    "        fake_scores = fake_out\n",
    "        \n",
    "        gradient_penalty = calc_gradient_penalty(D, real_imgs, fake_imgs)\n",
    "        \n",
    "        d_loss = d_loss_fake - d_loss_real + gradient_penalty # + 1 * d_loss_real_lab\n",
    "        \n",
    "        d_optimezer.zero_grad()\n",
    "#         d_loss.backward()\n",
    "        (d_loss + 1 * (d_loss_real_labels)).backward() # + d_loss_fake_labels\n",
    "        d_optimezer.step()\n",
    "        #######################\n",
    "        \n",
    "        w_dist = d_loss_fake - d_loss_real\n",
    "        \n",
    "        d_loss_total += d_loss.item() * imgs.size(0)\n",
    "        g_loss_total += g_loss.item() * imgs.size(0)\n",
    "        w_dist_total += w_dist * imgs.size(0)\n",
    "        \n",
    "        step = _step + i + 1\n",
    "        \n",
    "        if (i + 1) % 100 == 0:\n",
    "            writer.add_scalar('Discriminator Real Loss', d_loss_real.item(), step)\n",
    "            writer.add_scalar('Discriminator Fake Loss', d_loss_fake.item(), step)\n",
    "            writer.add_scalar('Discriminator Loss', d_loss.item(), step)\n",
    "            writer.add_scalar('Generator Loss', g_loss.item(), step)\n",
    "            writer.add_scalar('Wasserstein Distance', w_dist.item(), step)\n",
    "        \n",
    "        \n",
    "        if (i + 1) % 300 == 0:\n",
    "            tqdm.write('  Epoch[{}/{}], Step: {:6d}, d_loss: {:.6f}, g_loss: {:.6f} real_scores: {:.6f}' \\\n",
    "', fake_scores: {:.6f}, W: {:.6f}'.format(epoch+1, num_epochs, \n",
    "                                          (i+1) * BATCH_SIZE, \n",
    "                                          d_loss, g_loss, \n",
    "                                          real_scores.mean(), \n",
    "                                          fake_scores.mean(), w_dist))\n",
    "    \n",
    "    \n",
    "    setp = (epoch + 1) * total_count\n",
    "    _d_loss_total = d_loss_total / (total_count * (epoch + 1))\n",
    "    _g_loss_total = g_loss_total / (total_count * (epoch + 1))\n",
    "    _w_dist_total = w_dist_total / (total_count * (epoch + 1))\n",
    "    \n",
    "    writer.add_scalar('Discriminator Total Loss', _d_loss_total, step)\n",
    "    writer.add_scalar('Generator Total Loss', _g_loss_total, step)\n",
    "    \n",
    "    tqdm.write(\"Finish Epoch [{}/{}], D Loss: {:.6f}, G Loss: {:.6f}, W: {:.6f}\".format(epoch+1, \n",
    "                                                                             num_epochs, \n",
    "                                                                             _d_loss_total,\n",
    "                                                                             _g_loss_total,\n",
    "                                                                             _w_dist_total, ))\n",
    "    \n",
    "    writer.add_image('Generator Image', make_grid(fake_imgs.view(-1, 1, 32, 32).cpu().data, normalize=True, scale_each=True), step)\n",
    "    condition_imgs = G(condition_noise)\n",
    "    writer.add_image('Condition Generator Image', make_grid(condition_imgs.view(-1, 1, 32, 32).cpu().data, normalize=True, scale_each=True), step)\n",
    "    \n",
    "    if epoch == 0:\n",
    "        real_images = real_imgs.view(-1, 1, 32, 32).cpu().data\n",
    "        save_image(real_images, os.path.join(img_path, 'real_images.png'))\n",
    "    \n",
    "    \n",
    "    fake_images = fake_imgs.view(-1, 1, 32, 32).cpu().data\n",
    "    save_image(fake_images, os.path.join(img_path, 'fake_images-{}.png'.format(epoch+1)))\n",
    "    save_image(condition_imgs, os.path.join(img_path, 'condition_images-{}.png'.format(epoch+1)))"
   ]
  },
  {
   "cell_type": "code",
   "execution_count": 20,
   "metadata": {},
   "outputs": [],
   "source": [
    "writer.close()"
   ]
  },
  {
   "cell_type": "code",
   "execution_count": 21,
   "metadata": {},
   "outputs": [],
   "source": [
    "torch.save(D.state_dict(), './ser/condition_wgan_gp_discriminator_4.pt')\n",
    "torch.save(G.state_dict(), './ser/condition_wgan_gp_generator_4.pt')"
   ]
  },
  {
   "cell_type": "code",
   "execution_count": 16,
   "metadata": {},
   "outputs": [],
   "source": [
    "D.load_state_dict(torch.load('./ser/condition_wgan_gp_discriminator_4.pt'))\n",
    "G.load_state_dict(torch.load('./ser/condition_wgan_gp_generator_4.pt'))"
   ]
  },
  {
   "cell_type": "code",
   "execution_count": 22,
   "metadata": {},
   "outputs": [
    {
     "data": {
      "image/png": "[encoded data removed]",
      "text/plain": [
       "<Figure size 432x288 with 1 Axes>"
      ]
     },
     "metadata": {
      "needs_background": "light"
     },
     "output_type": "display_data"
    }
   ],
   "source": [
    "words = np.arange(10)\n",
    "z = gen_noise(words.shape[0], words)\n",
    "images = G(z)\n",
    "# save_image(images, 'xx.png')\n",
    "plt.imshow(Image.fromarray(make_grid(images).mul(255).clamp(0, 255).byte().permute(1, 2, 0).cpu().numpy()))\n",
    "plt.show()"
   ]
  },
  {
   "cell_type": "code",
   "execution_count": null,
   "metadata": {},
   "outputs": [],
   "source": []
  }
 ],
 "metadata": {
  "kernelspec": {
   "display_name": "Python 3",
   "language": "python",
   "name": "python3"
  },
  "language_info": {
   "codemirror_mode": {
    "name": "ipython",
    "version": 3
   },
   "file_extension": ".py",
   "mimetype": "text/x-python",
   "name": "python",
   "nbconvert_exporter": "python",
   "pygments_lexer": "ipython3",
   "version": "3.5.3"
  },
  "varInspector": {
   "cols": {
    "lenName": 16,
    "lenType": 16,
    "lenVar": 40
   },
   "kernels_config": {
    "python": {
     "delete_cmd_postfix": "",
     "delete_cmd_prefix": "del ",
     "library": "var_list.py",
     "varRefreshCmd": "print(var_dic_list())"
    },
    "r": {
     "delete_cmd_postfix": ") ",
     "delete_cmd_prefix": "rm(",
     "library": "var_list.r",
     "varRefreshCmd": "cat(var_dic_list()) "
    }
   },
   "position": {
    "height": "556px",
    "left": "247px",
    "right": "398px",
    "top": "131px",
    "width": "752px"
   },
   "types_to_exclude": [
    "module",
    "function",
    "builtin_function_or_method",
    "instance",
    "_Feature"
   ],
   "window_display": false
  }
 },
 "nbformat": 4,
 "nbformat_minor": 2
}
