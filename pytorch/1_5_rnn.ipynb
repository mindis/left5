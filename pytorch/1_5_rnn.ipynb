{
 "cells": [
  {
   "cell_type": "code",
   "execution_count": 1,
   "metadata": {},
   "outputs": [],
   "source": [
    "import torch\n",
    "from torch import nn, optim\n",
    "from torch.utils.data import DataLoader\n",
    "from torchvision import transforms, datasets\n",
    "import numpy as np\n",
    "import matplotlib.pyplot as plt"
   ]
  },
  {
   "cell_type": "code",
   "execution_count": 2,
   "metadata": {},
   "outputs": [],
   "source": [
    "%matplotlib inline"
   ]
  },
  {
   "cell_type": "code",
   "execution_count": 3,
   "metadata": {},
   "outputs": [],
   "source": [
    "device = torch.device('cuda' if torch.cuda.is_available() else 'cpu')"
   ]
  },
  {
   "cell_type": "code",
   "execution_count": 6,
   "metadata": {},
   "outputs": [],
   "source": [
    "sequence_size = 56\n",
    "input_size = 14\n",
    "hidden_size = 128\n",
    "num_layers = 2\n",
    "num_classes = 10\n",
    "batch_size = 32\n",
    "learning_rate = 1e-3\n",
    "num_epochs = 5"
   ]
  },
  {
   "cell_type": "code",
   "execution_count": 7,
   "metadata": {},
   "outputs": [],
   "source": [
    "train_dataset = datasets.MNIST('./datas', train=True, transform=transforms.ToTensor())\n",
    "test_dataset = datasets.MNIST('./datas', train=False, transform=transforms.ToTensor())\n",
    "\n",
    "train_loader = DataLoader(train_dataset, batch_size=batch_size, shuffle=True)\n",
    "test_loader = DataLoader(test_dataset, batch_size=batch_size, shuffle=False)"
   ]
  },
  {
   "cell_type": "code",
   "execution_count": 8,
   "metadata": {},
   "outputs": [],
   "source": [
    "class Rnn(nn.Module):\n",
    "    def __init__(self, input_size, hidden_size, num_layers, num_classes):\n",
    "        super(Rnn, self).__init__()\n",
    "        \n",
    "        self.hidden_size = hidden_size\n",
    "        self.num_layers = num_layers\n",
    "        \n",
    "        self.rnn = nn.LSTM(input_size, hidden_size, num_layers, batch_first=True) # b 56 128\n",
    "        self.fc = nn.Linear(hidden_size, num_classes)\n",
    "        \n",
    "    \n",
    "    def forward(self, x):\n",
    "        h_0 = torch.zeros(self.num_layers, x.size(0), self.hidden_size).to(device)\n",
    "        c_0 = torch.zeros(self.num_layers, x.size(0), self.hidden_size).to(device)\n",
    "        \n",
    "        out, _ = self.rnn(x, (h_0, c_0))\n",
    "        out = self.fc(out[:, -1, :])\n",
    "        return out"
   ]
  },
  {
   "cell_type": "code",
   "execution_count": 9,
   "metadata": {},
   "outputs": [],
   "source": [
    "model = Rnn(input_size, hidden_size, num_layers, num_classes).to(device)\n",
    "\n",
    "criterion = nn.CrossEntropyLoss()\n",
    "optimizer = optim.Adam(model.parameters(), lr=learning_rate)"
   ]
  },
  {
   "cell_type": "code",
   "execution_count": 13,
   "metadata": {
    "scrolled": true
   },
   "outputs": [
    {
     "name": "stdout",
     "output_type": "stream",
     "text": [
      "Epoch: [1/5], Step: [ 300/1875], Loss: 0.122333\n",
      "Epoch: [1/5], Step: [ 600/1875], Loss: 0.002006\n",
      "Epoch: [1/5], Step: [ 900/1875], Loss: 0.169366\n",
      "Epoch: [1/5], Step: [1200/1875], Loss: 0.026221\n",
      "Epoch: [1/5], Step: [1500/1875], Loss: 0.082493\n",
      "Epoch: [1/5], Step: [1800/1875], Loss: 0.193699\n",
      "Epoch: [2/5], Step: [ 300/1875], Loss: 0.018863\n",
      "Epoch: [2/5], Step: [ 600/1875], Loss: 0.014684\n",
      "Epoch: [2/5], Step: [ 900/1875], Loss: 0.002834\n",
      "Epoch: [2/5], Step: [1200/1875], Loss: 0.035762\n",
      "Epoch: [2/5], Step: [1500/1875], Loss: 0.014161\n",
      "Epoch: [2/5], Step: [1800/1875], Loss: 0.001170\n",
      "Epoch: [3/5], Step: [ 300/1875], Loss: 0.017725\n",
      "Epoch: [3/5], Step: [ 600/1875], Loss: 0.068726\n",
      "Epoch: [3/5], Step: [ 900/1875], Loss: 0.028858\n",
      "Epoch: [3/5], Step: [1200/1875], Loss: 0.036315\n",
      "Epoch: [3/5], Step: [1500/1875], Loss: 0.007834\n",
      "Epoch: [3/5], Step: [1800/1875], Loss: 0.002130\n",
      "Epoch: [4/5], Step: [ 300/1875], Loss: 0.224592\n",
      "Epoch: [4/5], Step: [ 600/1875], Loss: 0.005650\n",
      "Epoch: [4/5], Step: [ 900/1875], Loss: 0.127672\n",
      "Epoch: [4/5], Step: [1200/1875], Loss: 0.003829\n",
      "Epoch: [4/5], Step: [1500/1875], Loss: 0.001719\n",
      "Epoch: [4/5], Step: [1800/1875], Loss: 0.001423\n",
      "Epoch: [5/5], Step: [ 300/1875], Loss: 0.004345\n",
      "Epoch: [5/5], Step: [ 600/1875], Loss: 0.092281\n",
      "Epoch: [5/5], Step: [ 900/1875], Loss: 0.003349\n",
      "Epoch: [5/5], Step: [1200/1875], Loss: 0.000629\n",
      "Epoch: [5/5], Step: [1500/1875], Loss: 0.013627\n",
      "Epoch: [5/5], Step: [1800/1875], Loss: 0.017370\n"
     ]
    }
   ],
   "source": [
    "total_setp = len(train_loader)\n",
    "\n",
    "for epoch in range(num_epochs):\n",
    "    for i, (images, labels) in enumerate(train_loader):\n",
    "        images = images.view(-1, sequence_size, input_size).to(device)\n",
    "        labels = labels.to(device)\n",
    "\n",
    "        outs = model(images)\n",
    "\n",
    "        loss = criterion(outs, labels)\n",
    "\n",
    "        optimizer.zero_grad()\n",
    "        loss.backward()\n",
    "        optimizer.step()\n",
    "    \n",
    "        if (i+1) % 300 == 0:\n",
    "            print 'Epoch: [{}/{}], Step: [{:4d}/{}], Loss: {:.6f}'.format(epoch+1, num_epochs, i+1, total_setp, loss)\n"
   ]
  },
  {
   "cell_type": "code",
   "execution_count": 14,
   "metadata": {},
   "outputs": [
    {
     "name": "stdout",
     "output_type": "stream",
     "text": [
      "Test: 98.89%\n"
     ]
    }
   ],
   "source": [
    "with torch.no_grad():\n",
    "    acc = 0.\n",
    "    total = 0.\n",
    "    for images, labels in test_loader:\n",
    "        images = images.view(-1, sequence_size, input_size).to(device)\n",
    "        labels = labels.to(device)\n",
    "        \n",
    "        outputs = model(images)\n",
    "        \n",
    "        loss = criterion(outputs, labels)\n",
    "        \n",
    "        _, pred = torch.max(outputs, 1)\n",
    "        total += labels.size(0)\n",
    "        acc += (pred == labels).sum().item()\n",
    "        \n",
    "    print 'Test: {}%'.format(100 * acc / total)"
   ]
  },
  {
   "cell_type": "code",
   "execution_count": 11,
   "metadata": {},
   "outputs": [],
   "source": [
    "torch.save(model.state_dict(), './ser/rnn.ckpt')"
   ]
  },
  {
   "cell_type": "code",
   "execution_count": null,
   "metadata": {},
   "outputs": [],
   "source": []
  }
 ],
 "metadata": {
  "kernelspec": {
   "display_name": "Python 2",
   "language": "python",
   "name": "python2"
  },
  "language_info": {
   "codemirror_mode": {
    "name": "ipython",
    "version": 2
   },
   "file_extension": ".py",
   "mimetype": "text/x-python",
   "name": "python",
   "nbconvert_exporter": "python",
   "pygments_lexer": "ipython2",
   "version": "2.7.15+"
  },
  "varInspector": {
   "cols": {
    "lenName": 16,
    "lenType": 16,
    "lenVar": 40
   },
   "kernels_config": {
    "python": {
     "delete_cmd_postfix": "",
     "delete_cmd_prefix": "del ",
     "library": "var_list.py",
     "varRefreshCmd": "print(var_dic_list())"
    },
    "r": {
     "delete_cmd_postfix": ") ",
     "delete_cmd_prefix": "rm(",
     "library": "var_list.r",
     "varRefreshCmd": "cat(var_dic_list()) "
    }
   },
   "types_to_exclude": [
    "module",
    "function",
    "builtin_function_or_method",
    "instance",
    "_Feature"
   ],
   "window_display": false
  }
 },
 "nbformat": 4,
 "nbformat_minor": 2
}
