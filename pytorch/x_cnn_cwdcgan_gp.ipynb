{
 "cells": [
  {
   "cell_type": "code",
   "execution_count": 1,
   "metadata": {},
   "outputs": [],
   "source": [
    "import os, time\n",
    "from tqdm import tnrange, tqdm_notebook, tqdm\n",
    "import torch\n",
    "import torch.nn.functional as F\n",
    "from torch import nn, autograd, optim\n",
    "from torch.utils.data import DataLoader\n",
    "from torch.utils.tensorboard import SummaryWriter\n",
    "import torchvision\n",
    "from torchvision import transforms, datasets\n",
    "from torchvision.utils import save_image, make_grid\n",
    "from torch.autograd import grad\n",
    "import numpy as np\n",
    "from PIL import Image\n",
    "import matplotlib.pyplot as plt"
   ]
  },
  {
   "cell_type": "code",
   "execution_count": 2,
   "metadata": {},
   "outputs": [],
   "source": [
    "now = int(time.time())"
   ]
  },
  {
   "cell_type": "code",
   "execution_count": 3,
   "metadata": {},
   "outputs": [],
   "source": [
    "# os.environ['CUDA_VISIBLE_DEVICES'] = '1'"
   ]
  },
  {
   "cell_type": "code",
   "execution_count": 4,
   "metadata": {},
   "outputs": [],
   "source": [
    "from matplotlib import rcParams\n",
    "rcParams['figure.figsize'] = (12, 8)\n",
    "\n",
    "%matplotlib inline"
   ]
  },
  {
   "cell_type": "code",
   "execution_count": 5,
   "metadata": {},
   "outputs": [],
   "source": [
    "device = torch.device('cuda' if torch.cuda.is_available() else 'cpu')"
   ]
  },
  {
   "cell_type": "code",
   "execution_count": 6,
   "metadata": {},
   "outputs": [
    {
     "data": {
      "text/plain": [
       "True"
      ]
     },
     "execution_count": 6,
     "metadata": {},
     "output_type": "execute_result"
    }
   ],
   "source": [
    "torch.cuda.is_available()"
   ]
  },
  {
   "cell_type": "code",
   "execution_count": 7,
   "metadata": {},
   "outputs": [],
   "source": [
    "device_ids = [0]"
   ]
  },
  {
   "cell_type": "code",
   "execution_count": 8,
   "metadata": {},
   "outputs": [],
   "source": [
    "BATCH_SIZE = 128\n",
    "num_epochs = 30\n",
    "\n",
    "z_dimension = 100"
   ]
  },
  {
   "cell_type": "code",
   "execution_count": 9,
   "metadata": {},
   "outputs": [],
   "source": [
    "img_transform = transforms.Compose([\n",
    "#     transforms.Resize(64),\n",
    "    transforms.Resize(32),\n",
    "    transforms.ToTensor(),\n",
    "#     transforms.Normalize((.5, .5, .5), (.5, .5, .5))\n",
    "#     transforms.Normalize((0.1307,), (0.3081,))\n",
    "    transforms.Normalize((0.5,), (0.5,))\n",
    "])\n",
    "\n",
    "dataset = datasets.MNIST('~/data/mnist', transform=img_transform) # , download=True)\n",
    "dataloader = DataLoader(dataset, batch_size=BATCH_SIZE, shuffle=True, num_workers=4)"
   ]
  },
  {
   "cell_type": "code",
   "execution_count": 10,
   "metadata": {},
   "outputs": [],
   "source": [
    "def normal_init(m, mean, std):\n",
    "    if isinstance(m, nn.ConvTranspose2d) or isinstance(m, nn.Conv2d):\n",
    "        m.weight.data.normal_(mean, std)\n",
    "        m.bias.data.zero_()"
   ]
  },
  {
   "cell_type": "code",
   "execution_count": 11,
   "metadata": {},
   "outputs": [],
   "source": [
    "def calc_gradient_penalty(netD, real_data, fake_data):\n",
    "    alpha = torch.rand(1, 1, 1, 1)\n",
    "    alpha = alpha.expand_as(real_data)\n",
    "    alpha = alpha.to(device)\n",
    "    \n",
    "    interpolates = alpha * real_data.detach() + ((1 - alpha) * fake_data.detach())\n",
    "\n",
    "    interpolates = interpolates.to(device)\n",
    "    interpolates.requires_grad_(True)\n",
    "\n",
    "    disc_interpolates, _ = netD(interpolates)\n",
    "\n",
    "    gradients = autograd.grad(outputs=disc_interpolates, inputs=interpolates,\n",
    "                              grad_outputs=torch.ones(disc_interpolates.size()).to(device),\n",
    "                              create_graph=True, retain_graph=True, only_inputs=True)[0]\n",
    "\n",
    "    gradients = gradients.view(gradients.size(0), -1)                              \n",
    "    gradient_penalty = ((gradients.norm(2, dim=1) - 1) ** 2).mean() * 10\n",
    "    return gradient_penalty"
   ]
  },
  {
   "cell_type": "code",
   "execution_count": 12,
   "metadata": {},
   "outputs": [],
   "source": [
    "def gen_noise_label(batch_size):\n",
    "    label = np.random.randint(0, 10, batch_size)\n",
    "    #prefix = np.zeros((batch_size, 10))\n",
    "    #prefix[:, label] = 1\n",
    "    return label # prefix"
   ]
  },
  {
   "cell_type": "code",
   "execution_count": 13,
   "metadata": {},
   "outputs": [],
   "source": [
    "def gen_noise(batch_size, label):\n",
    "    prefix = np.zeros((batch_size, z_dimension))\n",
    "    prefix[np.arange(batch_size), label] = 1\n",
    "    z = np.random.normal(0, .3, (batch_size, z_dimension))\n",
    "#     prefix = prefix / np.linalg.norm(prefix)\n",
    "#     z = z + prefix\n",
    "    z[np.where(prefix.astype(int))] = 1\n",
    "    return torch.from_numpy(z).float().view(-1, z_dimension, 1, 1).to(device)"
   ]
  },
  {
   "cell_type": "code",
   "execution_count": 14,
   "metadata": {},
   "outputs": [],
   "source": [
    "class Discriminator(nn.Module):\n",
    "    def __init__(self, d=128):\n",
    "        super(Discriminator, self).__init__() # b d 32 32\n",
    "        \n",
    "        self.conv1 = nn.Conv2d(1, d, 4, 2, 2) # d 15 15 \n",
    "        self.conv2 = nn.Conv2d(d, d*2, 4, 2, 2) # d*2 8 8\n",
    "        self.conv2_bn = nn.BatchNorm2d(d*2)\n",
    "        self.conv3 = nn.Conv2d(d*2, d*4, 4, 2, 1) # d*4 4 4\n",
    "        self.conv3_bn = nn.BatchNorm2d(d*4)\n",
    "        self.conv4 = nn.Conv2d(d*4, 1, 4, 2, 1) # 1 1 1\n",
    "        \n",
    "#         self.conv5 = nn.Sequential(\n",
    "#             nn.Conv2d(d*8, 1, 4, 1, 0),\n",
    "#             nn.Sigmoid()\n",
    "#         ) # b 1 7 7\n",
    "        \n",
    "        self.fc = nn.Sequential(\n",
    "            nn.Linear(d * 4 * 4 * 4, 10),\n",
    "#             nn.LeakyReLU(.2, True),\n",
    "#             nn.Linear(1024, 10),\n",
    "            nn.Sigmoid(),\n",
    "        ) # b 10\n",
    "        \n",
    "\n",
    "    \n",
    "    def weight_init(self, mean, std):\n",
    "        for m in self._modules:\n",
    "            normal_init(self._modules[m], mean, std)\n",
    "            \n",
    "    def forward(self, x): # b 1 32 32\n",
    "        outs = F.leaky_relu(self.conv1(x), 0.2)\n",
    "        outs = F.leaky_relu(self.conv2_bn(self.conv2(outs)), 0.2)\n",
    "        outs = F.leaky_relu(self.conv3_bn(self.conv3(outs)), 0.2)\n",
    "\n",
    "        img = torch.sigmoid(self.conv4(outs)) # F.sigmoid\n",
    "        \n",
    "#         print(outs.view(x.size(0), -1).shape)\n",
    "#         outs = F.sigmoid(self.conv5(outs))\n",
    "#         img = F.sigmoid(outs)\n",
    "        con = self.fc(outs.view(x.size(0), -1))\n",
    "        \n",
    "        return img, con"
   ]
  },
  {
   "cell_type": "code",
   "execution_count": 15,
   "metadata": {},
   "outputs": [],
   "source": [
    "class Generator(nn.Module):\n",
    "    def __init__(self, d=128):\n",
    "        super(Generator, self).__init__()\n",
    "        \n",
    "#         self.deconv1 = nn.ConvTranspose2d(z_dimension, d*8, 4, 1, 0) # b d*8 4 4\n",
    "#         self.deconv1_bn = nn.BatchNorm2d(d*8)\n",
    "#         self.deconv2 = nn.ConvTranspose2d(d*8, d*4, 4, 2, 1) # b d*4 8 8\n",
    "#         self.deconv2_bn = nn.BatchNorm2d(d*4)\n",
    "#         self.deconv3 = nn.ConvTranspose2d(d*4, d*2, 4, 2, 1) # b d*2 16 16\n",
    "#         self.deconv3_bn = nn.BatchNorm2d(d*2)\n",
    "#         self.deconv4 = nn.ConvTranspose2d(d*2, d, 4, 2, 1) # b d 32 32\n",
    "#         self.deconv4_bn = nn.BatchNorm2d(d)\n",
    "#         self.deconv5 = nn.ConvTranspose2d(d, 1, 4, 2, 1) # b 1 64 64\n",
    "\n",
    "        self.deconv1 = nn.ConvTranspose2d(z_dimension, d*4, 1, 1, 0) # b d*8 1 1\n",
    "        self.deconv1_bn = nn.BatchNorm2d(d*4)\n",
    "        self.deconv2 = nn.ConvTranspose2d(d*4, d*2, 8, 2, 0) # b d*2 8 8\n",
    "        self.deconv2_bn = nn.BatchNorm2d(d*2)\n",
    "        self.deconv3 = nn.ConvTranspose2d(d*2, d, 4, 2, 1) # b d 16 16\n",
    "        self.deconv3_bn = nn.BatchNorm2d(d)\n",
    "        self.deconv4 = nn.ConvTranspose2d(d, 1, 4, 2, 1) # b 1 32 32\n",
    "    \n",
    "        \n",
    "    def weight_init(self, mean, std):\n",
    "        for m in self._modules:\n",
    "            normal_init(self._modules[m], mean, std)\n",
    "            \n",
    "    def forward(self, x): # b 100 1 1\n",
    "        outs = F.relu(self.deconv1_bn(self.deconv1(x)))\n",
    "        outs = F.relu(self.deconv2_bn(self.deconv2(outs)))\n",
    "        outs = F.relu(self.deconv3_bn(self.deconv3(outs)))\n",
    "        outs = torch.tanh(self.deconv4(outs))\n",
    "\n",
    "        return outs"
   ]
  },
  {
   "cell_type": "code",
   "execution_count": 16,
   "metadata": {},
   "outputs": [],
   "source": [
    "D = Discriminator(128).to(device)\n",
    "G = Generator(128).to(device)\n",
    "\n",
    "# D.weight_init(.0, 0.02)\n",
    "# G.weight_init(.0, 0.02)\n",
    "\n",
    "# D = nn.DataParallel(D, device_ids=device_ids).to(device)\n",
    "# G = nn.DataParallel(G, device_ids=device_ids).to(device)\n",
    "\n",
    "criterion = nn.CrossEntropyLoss()\n",
    "\n",
    "d_optimezer = optim.Adam(D.parameters(), lr=2e-4, betas=(0, 0.9))\n",
    "g_optimezer = optim.Adam(G.parameters(), lr=2e-4, betas=(0, 0.9))\n",
    "\n",
    "one = torch.FloatTensor([1])\n",
    "mone = one * -1\n",
    "one = one.to(device)\n",
    "mone = mone.to(device)"
   ]
  },
  {
   "cell_type": "code",
   "execution_count": 17,
   "metadata": {},
   "outputs": [],
   "source": [
    "writer = SummaryWriter(os.path.join('./runs/cnn_cwdcgan_gp', str(now)))"
   ]
  },
  {
   "cell_type": "code",
   "execution_count": 18,
   "metadata": {},
   "outputs": [],
   "source": [
    "img_path = os.path.join(\"save_images/cnn_cwdcgan_gp\", str(now))\n",
    "if not os.path.exists(img_path): os.makedirs(img_path)"
   ]
  },
  {
   "cell_type": "code",
   "execution_count": 19,
   "metadata": {},
   "outputs": [],
   "source": [
    "i = torch.randn(1, 1, 32, 32).cuda()\n",
    "label = gen_noise_label(1)\n",
    "z = gen_noise(1, label)\n",
    "with SummaryWriter(os.path.join('./runs/cnn_cwdcgan_gp', str(now), 'd')) as w:\n",
    "    w.add_graph(D, i)\n",
    "\n",
    "with SummaryWriter(os.path.join('./runs/cnn_cwdcgan_gp', str(now), 'g')) as w:\n",
    "    w.add_graph(G, z)\n",
    "del i, z"
   ]
  },
  {
   "cell_type": "code",
   "execution_count": 20,
   "metadata": {},
   "outputs": [],
   "source": [
    "condition_label = np.arange(10)\n",
    "condition_noise = gen_noise(10, condition_label)"
   ]
  },
  {
   "cell_type": "code",
   "execution_count": 21,
   "metadata": {
    "scrolled": true
   },
   "outputs": [
    {
     "data": {
      "application/vnd.jupyter.widget-view+json": {
       "model_id": "fb8babb994eb44fe9b7ee821d6b902a3",
       "version_major": 2,
       "version_minor": 0
      },
      "text/plain": [
       "HBox(children=(IntProgress(value=0, max=30), HTML(value='')))"
      ]
     },
     "metadata": {},
     "output_type": "display_data"
    },
    {
     "name": "stdout",
     "output_type": "stream",
     "text": [
      "Epoch[1/30], Step:  38400, d_loss: 3.873142, g_loss: 1.261512\n",
      "    real_scores: 0.036170, fake_scores: 0.167256, W: 0.131086\n",
      "Finish Epoch [1/30], D Loss: 492.835595, G Loss: 155.007230\n",
      "Epoch[2/30], Step:  38400, d_loss: 6.470637, g_loss: 1.453166\n",
      "    real_scores: 0.282329, fake_scores: 0.475479, W: 0.193150\n",
      "Finish Epoch [2/30], D Loss: 116.521113, G Loss: 79.940714\n",
      "Epoch[3/30], Step:  38400, d_loss: 1.684341, g_loss: 1.167250\n",
      "    real_scores: 0.180762, fake_scores: 0.326131, W: 0.145370\n",
      "Finish Epoch [3/30], D Loss: 93.201259, G Loss: 49.639271\n",
      "Epoch[4/30], Step:  38400, d_loss: 1.560813, g_loss: 1.231537\n",
      "    real_scores: 0.201520, fake_scores: 0.201585, W: 0.000065\n",
      "Finish Epoch [4/30], D Loss: 55.484907, G Loss: 39.220897\n",
      "Epoch[5/30], Step:  38400, d_loss: 1.447383, g_loss: 1.221627\n",
      "    real_scores: 0.305384, fake_scores: 0.259583, W: -0.045802\n",
      "Finish Epoch [5/30], D Loss: 40.018998, G Loss: 31.674086\n",
      "Epoch[6/30], Step:  38400, d_loss: 1.412355, g_loss: 1.236759\n",
      "    real_scores: 0.328461, fake_scores: 0.234165, W: -0.094296\n",
      "Finish Epoch [6/30], D Loss: 32.539307, G Loss: 26.277966\n",
      "Epoch[7/30], Step:  38400, d_loss: 1.493053, g_loss: 1.251816\n",
      "    real_scores: 0.236849, fake_scores: 0.220247, W: -0.016601\n",
      "Finish Epoch [7/30], D Loss: 28.428163, G Loss: 22.741969\n",
      "Epoch[8/30], Step:  38400, d_loss: 1.451713, g_loss: 1.293076\n",
      "    real_scores: 0.290453, fake_scores: 0.211827, W: -0.078626\n",
      "Finish Epoch [8/30], D Loss: 23.914525, G Loss: 20.174037\n",
      "Epoch[9/30], Step:  38400, d_loss: 1.488489, g_loss: 1.236503\n",
      "    real_scores: 0.236750, fake_scores: 0.233180, W: -0.003570\n",
      "Finish Epoch [9/30], D Loss: 20.783119, G Loss: 18.093914\n",
      "Epoch[10/30], Step:  38400, d_loss: 1.478075, g_loss: 1.358384\n",
      "    real_scores: 0.128248, fake_scores: 0.071760, W: -0.056489\n",
      "Finish Epoch [10/30], D Loss: 18.844625, G Loss: 16.278666\n",
      "Epoch[11/30], Step:  38400, d_loss: 1.290493, g_loss: 1.264789\n",
      "    real_scores: 0.430973, fake_scores: 0.239483, W: -0.191490\n",
      "Finish Epoch [11/30], D Loss: 17.558520, G Loss: 14.737188\n",
      "Epoch[12/30], Step:  38400, d_loss: 1.386250, g_loss: 1.272518\n",
      "    real_scores: 0.307420, fake_scores: 0.217162, W: -0.090258\n",
      "Finish Epoch [12/30], D Loss: 15.641805, G Loss: 13.641461\n",
      "Epoch[13/30], Step:  38400, d_loss: 1.371353, g_loss: 1.286112\n",
      "    real_scores: 0.284663, fake_scores: 0.176127, W: -0.108537\n",
      "Finish Epoch [13/30], D Loss: 14.281208, G Loss: 12.739742\n",
      "Epoch[14/30], Step:  38400, d_loss: 1.454370, g_loss: 1.305836\n",
      "    real_scores: 0.202146, fake_scores: 0.157729, W: -0.044417\n",
      "Finish Epoch [14/30], D Loss: 13.992624, G Loss: 11.638525\n",
      "Epoch[15/30], Step:  38400, d_loss: 1.318415, g_loss: 1.295064\n",
      "    real_scores: 0.380780, fake_scores: 0.202162, W: -0.178617\n",
      "Finish Epoch [15/30], D Loss: 12.713401, G Loss: 11.054642\n",
      "Epoch[16/30], Step:  38400, d_loss: 1.428907, g_loss: 1.367094\n",
      "    real_scores: 0.146072, fake_scores: 0.083471, W: -0.062600\n",
      "Finish Epoch [16/30], D Loss: 11.654838, G Loss: 10.498120\n",
      "Epoch[17/30], Step:  38400, d_loss: 1.419840, g_loss: 1.293499\n",
      "    real_scores: 0.375902, fake_scores: 0.211752, W: -0.164151\n",
      "Finish Epoch [17/30], D Loss: 11.299721, G Loss: 9.730290\n",
      "Epoch[18/30], Step:  38400, d_loss: 1.198985, g_loss: 1.351342\n",
      "    real_scores: 0.391131, fake_scores: 0.115211, W: -0.275920\n",
      "Finish Epoch [18/30], D Loss: 10.133228, G Loss: 9.251977\n",
      "Epoch[19/30], Step:  38400, d_loss: 1.325778, g_loss: 1.269888\n",
      "    real_scores: 0.350957, fake_scores: 0.197451, W: -0.153507\n",
      "Finish Epoch [19/30], D Loss: 9.473377, G Loss: 8.834287\n",
      "Epoch[20/30], Step:  38400, d_loss: 1.244567, g_loss: 1.344624\n",
      "    real_scores: 0.349620, fake_scores: 0.111691, W: -0.237930\n",
      "Finish Epoch [20/30], D Loss: 9.737509, G Loss: 8.469741\n",
      "Epoch[21/30], Step:  38400, d_loss: 1.263980, g_loss: 1.339433\n",
      "    real_scores: 0.381029, fake_scores: 0.155814, W: -0.225215\n",
      "Finish Epoch [21/30], D Loss: 8.744798, G Loss: 7.953644\n",
      "Epoch[22/30], Step:  38400, d_loss: 1.399967, g_loss: 1.270916\n",
      "    real_scores: 0.387719, fake_scores: 0.237439, W: -0.150280\n",
      "Finish Epoch [22/30], D Loss: 8.195030, G Loss: 7.591977\n",
      "Epoch[23/30], Step:  38400, d_loss: 1.442929, g_loss: 1.113138\n",
      "    real_scores: 0.460213, fake_scores: 0.391155, W: -0.069058\n",
      "Finish Epoch [23/30], D Loss: 7.750748, G Loss: 7.218901\n",
      "Epoch[24/30], Step:  38400, d_loss: 1.436925, g_loss: 1.384598\n",
      "    real_scores: 0.172129, fake_scores: 0.049626, W: -0.122503\n",
      "Finish Epoch [24/30], D Loss: 7.413837, G Loss: 6.898326\n",
      "Epoch[25/30], Step:  38400, d_loss: 1.290766, g_loss: 1.353697\n",
      "    real_scores: 0.361782, fake_scores: 0.129356, W: -0.232427\n",
      "Finish Epoch [25/30], D Loss: 7.371907, G Loss: 6.592577\n",
      "Epoch[26/30], Step:  38400, d_loss: 1.262052, g_loss: 1.331135\n",
      "    real_scores: 0.370797, fake_scores: 0.145006, W: -0.225790\n",
      "Finish Epoch [26/30], D Loss: 7.068175, G Loss: 6.402848\n",
      "Epoch[27/30], Step:  38400, d_loss: 1.302027, g_loss: 1.375443\n",
      "    real_scores: 0.271989, fake_scores: 0.097750, W: -0.174239\n",
      "Finish Epoch [27/30], D Loss: 6.531690, G Loss: 6.264389\n",
      "Epoch[28/30], Step:  38400, d_loss: 1.413672, g_loss: 1.216422\n",
      "    real_scores: 0.368091, fake_scores: 0.288392, W: -0.079699\n",
      "Finish Epoch [28/30], D Loss: 6.534719, G Loss: 5.960731\n",
      "Epoch[29/30], Step:  38400, d_loss: 1.448626, g_loss: 1.049268\n",
      "    real_scores: 0.469964, fake_scores: 0.431887, W: -0.038077\n",
      "Finish Epoch [29/30], D Loss: 6.154237, G Loss: 5.716759\n",
      "Epoch[30/30], Step:  38400, d_loss: 1.459697, g_loss: 0.697965\n",
      "    real_scores: 0.831448, fake_scores: 0.776513, W: -0.054934\n",
      "Finish Epoch [30/30], D Loss: 6.578630, G Loss: 3.747686\n",
      "\n"
     ]
    }
   ],
   "source": [
    "total_count = len(dataloader)\n",
    "for epoch in tqdm_notebook(range(num_epochs)):\n",
    "    _step = epoch * total_count\n",
    "    \n",
    "    d_loss_total = .0\n",
    "    g_loss_total = .0\n",
    "    for i, (img, lab) in enumerate(dataloader):\n",
    "        \n",
    "        \n",
    "        ########## D ##########\n",
    "        for p in D.parameters():\n",
    "            p.requires_grad_(True)\n",
    "            \n",
    "        label = gen_noise_label(img.size(0))\n",
    "        z = gen_noise(img.size(0), label)\n",
    "#         with torch.no_grad():\n",
    "#             zz = z\n",
    "        fake_img = G(z).detach() ###\n",
    "        \n",
    "        real_img = img.cuda()\n",
    "        real_lab = lab.cuda()\n",
    "        \n",
    "        real_out, real_label = D(real_img)\n",
    "        real_lab_loss = criterion(real_label, real_lab)\n",
    "        d_loss_real_lab = real_lab_loss.mean()\n",
    "        d_loss_real = real_out.mean()\n",
    "        real_scores = real_out\n",
    "        \n",
    "        fake_img = G(z).detach()\n",
    "        fake_out, fake_label = D(fake_img)\n",
    "        d_loss_fake = fake_out.mean()\n",
    "        fake_scores = fake_out\n",
    "        \n",
    "        gradient_penalty = calc_gradient_penalty(D, real_img, fake_img)\n",
    "        \n",
    "        d_loss = d_loss_fake - d_loss_real + gradient_penalty + 1 * d_loss_real_lab\n",
    "        \n",
    "        d_optimezer.zero_grad()\n",
    "        d_loss.backward()\n",
    "        d_optimezer.step()\n",
    "        \n",
    "        #######################\n",
    "        w_dist = d_loss_fake - d_loss_real\n",
    "        \n",
    "        \n",
    "        ########## G ##########\n",
    "        for p in D.parameters():\n",
    "            p.requires_grad_(False)\n",
    "        \n",
    "        label = gen_noise_label(img.size(0))\n",
    "        z = gen_noise(img.size(0), label)\n",
    "        fake_img = G(z)\n",
    "        fake_out, fake_label = D(fake_img)\n",
    "\n",
    "        gen_label = torch.from_numpy(label).long().to(device)\n",
    "        gen_label_loss = criterion(fake_label, gen_label).mean()\n",
    "        gen_cost = -fake_out.mean()\n",
    "        g_loss = 1 * gen_label_loss + gen_cost\n",
    "\n",
    "        g_optimezer.zero_grad()\n",
    "        g_loss.backward()\n",
    "        g_optimezer.step()\n",
    "        \n",
    "        #######################\n",
    "        \n",
    "        d_loss_total += d_loss.item() * img.size(0)\n",
    "        g_loss_total += g_loss.item() * img.size(0)\n",
    "        \n",
    "        step = _step + i + 1\n",
    "        \n",
    "        if (i + 1) % 100 == 0:\n",
    "            writer.add_scalar('Discriminator Real Loss', d_loss_real.item(), step)\n",
    "            writer.add_scalar('Discriminator Fake Loss', d_loss_fake.item(), step)\n",
    "            writer.add_scalar('Discriminator Loss', d_loss.item(), step)\n",
    "            writer.add_scalar('Generator Loss', g_loss.item(), step)\n",
    "            writer.add_scalar('Wasserstein Distance', w_dist.item(), step)\n",
    "            \n",
    "            for tag, parm in D.named_parameters():\n",
    "                writer.add_histogram('D: %s' % tag, parm.grad.data, step)\n",
    "                \n",
    "            for tag, parm in G.named_parameters():\n",
    "                writer.add_histogram('G: %s' % tag, parm.grad.data, step)\n",
    "            \n",
    "        \n",
    "        if (i + 1) % 300 == 0:\n",
    "            tqdm.write('Epoch[{}/{}], Step: {:6d}, d_loss: {:.6f}, g_loss: {:.6f}, real_scores: {:.6f}' \\\n",
    "', fake_scores: {:.6f}, W: {:.6f}'.format(epoch+1, num_epochs, \n",
    "                                          (i+1) * BATCH_SIZE, \n",
    "                                          d_loss, g_loss, \n",
    "                                          real_scores.mean(), \n",
    "                                          fake_scores.mean(), w_dist))\n",
    "            \n",
    "    \n",
    "    setp = (epoch + 1) * total_count\n",
    "    _d_loss_total = d_loss_total / (total_count * (epoch + 1))\n",
    "    _g_loss_total = g_loss_total / (total_count * (epoch + 1))\n",
    "    \n",
    "    writer.add_scalar('Discriminator Total Loss', _d_loss_total, step)\n",
    "    writer.add_scalar('Generator Total Loss', _g_loss_total, step)\n",
    "    \n",
    "    tqdm.write(\"Finish Epoch [{}/{}], D Loss: {:.6f}, G Loss: {:.6f}\".format(epoch+1, \n",
    "                                                                             num_epochs, \n",
    "                                                                             _d_loss_total,\n",
    "                                                                             _g_loss_total, ))\n",
    "    \n",
    "    writer.add_image('Generator Image', make_grid(fake_img.view(-1, 1, 32, 32).cpu().data, normalize=True, scale_each=True), step)\n",
    "    condition_img = G(condition_noise).view(-1, 1, 32, 32).cpu().data\n",
    "    writer.add_image('Condition Generator Image', make_grid(condition_img, normalize=True, scale_each=True), step)\n",
    "    save_image(condition_img, os.path.join(img_path, 'condition_images-{}.png'.format(epoch+1)))\n",
    "    \n",
    "    if epoch == 0:\n",
    "        real_images = real_img.view(-1, 1, 32, 32).cpu().data\n",
    "        save_image(real_images, os.path.join(img_path, 'real_images.png'))\n",
    "    \n",
    "    fake_images = fake_img.view(-1, 1, 32, 32).cpu().data\n",
    "    save_image(fake_images, os.path.join(img_path, 'fake_images-{}.png'.format(epoch+1)))"
   ]
  },
  {
   "cell_type": "code",
   "execution_count": 21,
   "metadata": {},
   "outputs": [],
   "source": [
    "writer.close()"
   ]
  },
  {
   "cell_type": "code",
   "execution_count": 23,
   "metadata": {},
   "outputs": [],
   "source": [
    "torch.save(D.state_dict(), './ser/cnn_cwdcgan_gp_discriminator.pt')\n",
    "torch.save(G.state_dict(), './ser/cnn_cwdcgan_gp_generator.pt')"
   ]
  },
  {
   "cell_type": "code",
   "execution_count": 34,
   "metadata": {},
   "outputs": [
    {
     "name": "stdout",
     "output_type": "stream",
     "text": [
      "[8 9 6 5 3 2 7 0 5 7 6 0 3 8 1 9]\n"
     ]
    },
    {
     "data": {
      "image/png": "[encoded data removed]",
      "text/plain": [
       "<Figure size 432x288 with 1 Axes>"
      ]
     },
     "metadata": {
      "needs_background": "dark"
     },
     "output_type": "display_data"
    }
   ],
   "source": [
    "# clabel = np.array([4,5,3,8,0])\n",
    "clabel = np.random.randint(0, 10, 16)\n",
    "print(clabel)\n",
    "z = gen_noise(clabel.shape[0], clabel)\n",
    "\n",
    "images = G(z)\n",
    "# save_image(images, 'xx.png')\n",
    "plt.imshow(Image.fromarray(make_grid(images).mul(255).clamp(0, 255).byte().permute(1, 2, 0).cpu().numpy()))\n",
    "# plt.imshow(make_grid(condition_img, normalize=True, scale_each=True))\n",
    "plt.show()"
   ]
  },
  {
   "cell_type": "code",
   "execution_count": 49,
   "metadata": {
    "scrolled": true
   },
   "outputs": [
    {
     "name": "stdout",
     "output_type": "stream",
     "text": [
      "[4 1 7 0 7 5 8 8 4 8 2 1 1 3 2 4]\n"
     ]
    },
    {
     "data": {
      "image/png": "[encoded data removed]",
      "text/plain": [
       "<Figure size 432x288 with 1 Axes>"
      ]
     },
     "metadata": {
      "needs_background": "dark"
     },
     "output_type": "display_data"
    }
   ],
   "source": [
    "# clabel = np.array([4,5,3,8,0])\n",
    "clabel = np.random.randint(0, 10, 16)\n",
    "print(clabel)\n",
    "z = gen_noise(clabel.shape[0], clabel)\n",
    "\n",
    "images = G(z)\n",
    "# save_image(images, 'xx.png')\n",
    "plt.imshow(Image.fromarray(make_grid(images).mul(255).clamp(0, 255).byte().permute(1, 2, 0).cpu().numpy()))\n",
    "# plt.imshow(make_grid(condition_img, normalize=True, scale_each=True))\n",
    "plt.show()"
   ]
  },
  {
   "cell_type": "code",
   "execution_count": null,
   "metadata": {},
   "outputs": [],
   "source": []
  }
 ],
 "metadata": {
  "kernelspec": {
   "display_name": "venv36",
   "language": "python",
   "name": "venv36"
  },
  "language_info": {
   "codemirror_mode": {
    "name": "ipython",
    "version": 3
   },
   "file_extension": ".py",
   "mimetype": "text/x-python",
   "name": "python",
   "nbconvert_exporter": "python",
   "pygments_lexer": "ipython3",
   "version": "3.6.8"
  },
  "varInspector": {
   "cols": {
    "lenName": 16,
    "lenType": 16,
    "lenVar": 40
   },
   "kernels_config": {
    "python": {
     "delete_cmd_postfix": "",
     "delete_cmd_prefix": "del ",
     "library": "var_list.py",
     "varRefreshCmd": "print(var_dic_list())"
    },
    "r": {
     "delete_cmd_postfix": ") ",
     "delete_cmd_prefix": "rm(",
     "library": "var_list.r",
     "varRefreshCmd": "cat(var_dic_list()) "
    }
   },
   "position": {
    "height": "556px",
    "left": "247px",
    "right": "398px",
    "top": "131px",
    "width": "752px"
   },
   "types_to_exclude": [
    "module",
    "function",
    "builtin_function_or_method",
    "instance",
    "_Feature"
   ],
   "window_display": false
  }
 },
 "nbformat": 4,
 "nbformat_minor": 2
}
