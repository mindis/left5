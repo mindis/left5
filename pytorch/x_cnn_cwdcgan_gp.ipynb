{
 "cells": [
  {
   "cell_type": "code",
   "execution_count": 1,
   "metadata": {},
   "outputs": [],
   "source": [
    "import os, time\n",
    "from tqdm import tnrange, tqdm_notebook, tqdm\n",
    "import torch\n",
    "import torch.nn.functional as F\n",
    "from torch import nn, autograd, optim\n",
    "from torch.utils.data import DataLoader\n",
    "import torchvision\n",
    "from torchvision import transforms, datasets\n",
    "from torchvision.utils import save_image, make_grid\n",
    "from torch.autograd import grad\n",
    "import numpy as np\n",
    "from PIL import Image\n",
    "import matplotlib.pyplot as plt\n",
    "from tensorboardX import SummaryWriter"
   ]
  },
  {
   "cell_type": "code",
   "execution_count": null,
   "metadata": {},
   "outputs": [],
   "source": [
    "now = int(time.time())"
   ]
  },
  {
   "cell_type": "code",
   "execution_count": 2,
   "metadata": {},
   "outputs": [],
   "source": [
    "# os.environ['CUDA_VISIBLE_DEVICES'] = '1'"
   ]
  },
  {
   "cell_type": "code",
   "execution_count": 3,
   "metadata": {},
   "outputs": [],
   "source": [
    "from matplotlib import rcParams\n",
    "rcParams['figure.figsize'] = (12, 8)\n",
    "\n",
    "%matplotlib inline"
   ]
  },
  {
   "cell_type": "code",
   "execution_count": 4,
   "metadata": {},
   "outputs": [],
   "source": [
    "device = torch.device('cuda' if torch.cuda.is_available() else 'cpu')"
   ]
  },
  {
   "cell_type": "code",
   "execution_count": 5,
   "metadata": {},
   "outputs": [
    {
     "data": {
      "text/plain": [
       "True"
      ]
     },
     "execution_count": 5,
     "metadata": {},
     "output_type": "execute_result"
    }
   ],
   "source": [
    "torch.cuda.is_available()"
   ]
  },
  {
   "cell_type": "code",
   "execution_count": 6,
   "metadata": {},
   "outputs": [],
   "source": [
    "device_ids = [0]"
   ]
  },
  {
   "cell_type": "code",
   "execution_count": 7,
   "metadata": {},
   "outputs": [],
   "source": [
    "BATCH_SIZE = 128\n",
    "num_epochs = 30\n",
    "\n",
    "z_dimension = 100\n",
    "num_feature = 56 * 56"
   ]
  },
  {
   "cell_type": "code",
   "execution_count": 8,
   "metadata": {},
   "outputs": [],
   "source": [
    "img_transform = transforms.Compose([\n",
    "#     transforms.Resize(64),\n",
    "    transforms.Resize(32),\n",
    "    transforms.ToTensor(),\n",
    "#     transforms.Normalize((.5, .5, .5), (.5, .5, .5))\n",
    "#     transforms.Normalize((0.1307,), (0.3081,))\n",
    "    transforms.Normalize((0.5,), (0.5,))\n",
    "])\n",
    "\n",
    "dataset = datasets.MNIST('~/data/mnist', transform=img_transform) # , download=True)\n",
    "dataloader = DataLoader(dataset, batch_size=BATCH_SIZE, shuffle=True, num_workers=4)"
   ]
  },
  {
   "cell_type": "code",
   "execution_count": 9,
   "metadata": {},
   "outputs": [],
   "source": [
    "def normal_init(m, mean, std):\n",
    "    if isinstance(m, nn.ConvTranspose2d) or isinstance(m, nn.Conv2d):\n",
    "        m.weight.data.normal_(mean, std)\n",
    "        m.bias.data.zero_()"
   ]
  },
  {
   "cell_type": "code",
   "execution_count": 10,
   "metadata": {},
   "outputs": [],
   "source": [
    "def calc_gradient_penalty(netD, real_data, fake_data):\n",
    "    alpha = torch.rand(1, 1, 1, 1)\n",
    "    alpha = alpha.expand_as(real_data)\n",
    "    alpha = alpha.to(device)\n",
    "    \n",
    "    interpolates = alpha * real_data.detach() + ((1 - alpha) * fake_data.detach())\n",
    "\n",
    "    interpolates = interpolates.to(device)\n",
    "    interpolates.requires_grad_(True)\n",
    "\n",
    "    disc_interpolates, _ = netD(interpolates)\n",
    "\n",
    "    gradients = autograd.grad(outputs=disc_interpolates, inputs=interpolates,\n",
    "                              grad_outputs=torch.ones(disc_interpolates.size()).to(device),\n",
    "                              create_graph=True, retain_graph=True, only_inputs=True)[0]\n",
    "\n",
    "    gradients = gradients.view(gradients.size(0), -1)                              \n",
    "    gradient_penalty = ((gradients.norm(2, dim=1) - 1) ** 2).mean() * 10\n",
    "    return gradient_penalty"
   ]
  },
  {
   "cell_type": "code",
   "execution_count": 11,
   "metadata": {},
   "outputs": [],
   "source": [
    "def gen_noise_label(batch_size):\n",
    "    label = np.random.randint(0, 10, batch_size)\n",
    "    #prefix = np.zeros((batch_size, 10))\n",
    "    #prefix[:, label] = 1\n",
    "    return label # prefix"
   ]
  },
  {
   "cell_type": "code",
   "execution_count": 12,
   "metadata": {},
   "outputs": [],
   "source": [
    "def gen_noise(batch_size, label):\n",
    "    prefix = np.zeros((batch_size, z_dimension))\n",
    "    prefix[np.arange(batch_size), label] = 1\n",
    "    z = np.random.normal(0, .3, (batch_size, z_dimension))\n",
    "#     prefix = prefix / np.linalg.norm(prefix)\n",
    "#     z = z + prefix\n",
    "    z[np.where(prefix.astype(int))] = 1\n",
    "    return torch.from_numpy(z).float().view(-1, z_dimension, 1, 1).to(device)"
   ]
  },
  {
   "cell_type": "code",
   "execution_count": 14,
   "metadata": {},
   "outputs": [],
   "source": [
    "class Discriminator(nn.Module):\n",
    "    def __init__(self, d=128):\n",
    "        super(Discriminator, self).__init__() # b d 32 32\n",
    "        \n",
    "        self.conv1 = nn.Conv2d(1, d, 4, 2, 2) # d 15 15 \n",
    "        self.conv2 = nn.Conv2d(d, d*2, 4, 2, 2) # d*2 8 8\n",
    "        self.conv2_bn = nn.BatchNorm2d(d*2)\n",
    "        self.conv3 = nn.Conv2d(d*2, d*4, 4, 2, 1) # d*4 4 4\n",
    "        self.conv3_bn = nn.BatchNorm2d(d*4)\n",
    "        self.conv4 = nn.Conv2d(d*4, 1, 4, 2, 1) # 1 1 1\n",
    "        \n",
    "#         self.conv5 = nn.Sequential(\n",
    "#             nn.Conv2d(d*8, 1, 4, 1, 0),\n",
    "#             nn.Sigmoid()\n",
    "#         ) # b 1 7 7\n",
    "        \n",
    "        self.fc = nn.Sequential(\n",
    "            nn.Linear(d * 4 * 4 * 4, 10),\n",
    "#             nn.LeakyReLU(.2, True),\n",
    "#             nn.Linear(1024, 10),\n",
    "            nn.Sigmoid(),\n",
    "        ) # b 10\n",
    "        \n",
    "\n",
    "    \n",
    "    def weight_init(self, mean, std):\n",
    "        for m in self._modules:\n",
    "            normal_init(self._modules[m], mean, std)\n",
    "            \n",
    "    def forward(self, x): # b 1 32 32\n",
    "        outs = F.leaky_relu(self.conv1(x), 0.2)\n",
    "        outs = F.leaky_relu(self.conv2_bn(self.conv2(outs)), 0.2)\n",
    "        outs = F.leaky_relu(self.conv3_bn(self.conv3(outs)), 0.2)\n",
    "\n",
    "        img = torch.sigmoid(self.conv4(outs)) # F.sigmoid\n",
    "        \n",
    "#         print(outs.view(x.size(0), -1).shape)\n",
    "#         outs = F.sigmoid(self.conv5(outs))\n",
    "#         img = F.sigmoid(outs)\n",
    "        con = self.fc(outs.view(x.size(0), -1))\n",
    "        \n",
    "        return img, con"
   ]
  },
  {
   "cell_type": "code",
   "execution_count": 15,
   "metadata": {},
   "outputs": [],
   "source": [
    "class Generator(nn.Module):\n",
    "    def __init__(self, d=128):\n",
    "        super(Generator, self).__init__()\n",
    "        \n",
    "#         self.deconv1 = nn.ConvTranspose2d(z_dimension, d*8, 4, 1, 0) # b d*8 4 4\n",
    "#         self.deconv1_bn = nn.BatchNorm2d(d*8)\n",
    "#         self.deconv2 = nn.ConvTranspose2d(d*8, d*4, 4, 2, 1) # b d*4 8 8\n",
    "#         self.deconv2_bn = nn.BatchNorm2d(d*4)\n",
    "#         self.deconv3 = nn.ConvTranspose2d(d*4, d*2, 4, 2, 1) # b d*2 16 16\n",
    "#         self.deconv3_bn = nn.BatchNorm2d(d*2)\n",
    "#         self.deconv4 = nn.ConvTranspose2d(d*2, d, 4, 2, 1) # b d 32 32\n",
    "#         self.deconv4_bn = nn.BatchNorm2d(d)\n",
    "#         self.deconv5 = nn.ConvTranspose2d(d, 1, 4, 2, 1) # b 1 64 64\n",
    "\n",
    "        self.deconv1 = nn.ConvTranspose2d(z_dimension, d*4, 1, 1, 0) # b d*8 1 1\n",
    "        self.deconv1_bn = nn.BatchNorm2d(d*4)\n",
    "        self.deconv2 = nn.ConvTranspose2d(d*4, d*2, 8, 2, 0) # b d*2 8 8\n",
    "        self.deconv2_bn = nn.BatchNorm2d(d*2)\n",
    "        self.deconv3 = nn.ConvTranspose2d(d*2, d, 4, 2, 1) # b d 16 16\n",
    "        self.deconv3_bn = nn.BatchNorm2d(d)\n",
    "        self.deconv4 = nn.ConvTranspose2d(d, 1, 4, 2, 1) # b 1 32 32\n",
    "    \n",
    "        \n",
    "    def weight_init(self, mean, std):\n",
    "        for m in self._modules:\n",
    "            normal_init(self._modules[m], mean, std)\n",
    "            \n",
    "    def forward(self, x): # b 100 28 28\n",
    "        outs = F.relu(self.deconv1_bn(self.deconv1(x)))\n",
    "        outs = F.relu(self.deconv2_bn(self.deconv2(outs)))\n",
    "        outs = F.relu(self.deconv3_bn(self.deconv3(outs)))\n",
    "        outs = torch.tanh(self.deconv4(outs))\n",
    "\n",
    "        return outs"
   ]
  },
  {
   "cell_type": "code",
   "execution_count": 16,
   "metadata": {},
   "outputs": [],
   "source": [
    "D = Discriminator(128).to(device)\n",
    "G = Generator(128).to(device)\n",
    "\n",
    "# D.weight_init(.0, 0.02)\n",
    "# G.weight_init(.0, 0.02)\n",
    "\n",
    "D = nn.DataParallel(D, device_ids=device_ids).to(device)\n",
    "G = nn.DataParallel(G, device_ids=device_ids).to(device)\n",
    "\n",
    "criterion = nn.CrossEntropyLoss()\n",
    "\n",
    "d_optimezer = optim.Adam(D.parameters(), lr=2e-4, betas=(0, 0.9))\n",
    "g_optimezer = optim.Adam(G.parameters(), lr=2e-4, betas=(0, 0.9))\n",
    "\n",
    "one = torch.FloatTensor([1])\n",
    "mone = one * -1\n",
    "one = one.to(device)\n",
    "mone = mone.to(device)"
   ]
  },
  {
   "cell_type": "code",
   "execution_count": 17,
   "metadata": {},
   "outputs": [],
   "source": [
    "writer = SummaryWriter(os.path.join('./log/cnn_cwdcgan_gp', str(now)))"
   ]
  },
  {
   "cell_type": "code",
   "execution_count": 18,
   "metadata": {},
   "outputs": [],
   "source": [
    "img_path = os.path.join(\"save_images/cnn_cwdcgan_gp\", str(now))\n",
    "if not os.path.exists(img_path): os.makedirs(img_path)"
   ]
  },
  {
   "cell_type": "code",
   "execution_count": 19,
   "metadata": {},
   "outputs": [],
   "source": [
    "condition_label = np.arange(10)\n",
    "condition_noise = gen_noise(10, condition_label)"
   ]
  },
  {
   "cell_type": "code",
   "execution_count": 20,
   "metadata": {
    "scrolled": true
   },
   "outputs": [
    {
     "data": {
      "application/vnd.jupyter.widget-view+json": {
       "model_id": "94e7384dbdde4d94951ac9fd075aae90",
       "version_major": 2,
       "version_minor": 0
      },
      "text/plain": [
       "HBox(children=(IntProgress(value=0, max=30), HTML(value='')))"
      ]
     },
     "metadata": {},
     "output_type": "display_data"
    },
    {
     "name": "stdout",
     "output_type": "stream",
     "text": [
      "  Epoch[1/30], Step:  38400, d_loss: 2.118618, g_loss: 1.252115\n",
      "    real_scores: 0.396415, fake_scores: 0.511313, W: 0.114898\n",
      "Finish Epoch [1/30], D Loss: 301.523165, G Loss: 142.414917\n",
      "  Epoch[2/30], Step:  38400, d_loss: 1.518741, g_loss: 1.175065\n",
      "    real_scores: 0.678788, fake_scores: 0.578850, W: -0.099938\n",
      "Finish Epoch [2/30], D Loss: 102.323787, G Loss: 64.362875\n",
      "  Epoch[3/30], Step:  38400, d_loss: 1.679481, g_loss: 0.989488\n",
      "    real_scores: 0.659622, fake_scores: 0.577782, W: -0.081840\n",
      "Finish Epoch [3/30], D Loss: 64.931830, G Loss: 44.708702\n",
      "  Epoch[4/30], Step:  38400, d_loss: 1.170661, g_loss: 1.127864\n",
      "    real_scores: 0.689496, fake_scores: 0.363497, W: -0.325998\n",
      "Finish Epoch [4/30], D Loss: 45.612027, G Loss: 33.966598\n",
      "  Epoch[5/30], Step:  38400, d_loss: 1.247106, g_loss: 1.171078\n",
      "    real_scores: 0.701166, fake_scores: 0.440933, W: -0.260233\n",
      "Finish Epoch [5/30], D Loss: 36.096847, G Loss: 27.407148\n",
      "  Epoch[6/30], Step:  38400, d_loss: 1.245697, g_loss: 1.059310\n",
      "    real_scores: 0.624514, fake_scores: 0.369555, W: -0.254959\n",
      "Finish Epoch [6/30], D Loss: 29.433899, G Loss: 23.352364\n",
      "  Epoch[7/30], Step:  38400, d_loss: 1.299741, g_loss: 1.014136\n",
      "    real_scores: 0.608716, fake_scores: 0.387643, W: -0.221073\n",
      "Finish Epoch [7/30], D Loss: 25.605463, G Loss: 19.460231\n",
      "  Epoch[8/30], Step:  38400, d_loss: 1.336302, g_loss: 1.116821\n",
      "    real_scores: 0.674875, fake_scores: 0.454389, W: -0.220486\n",
      "Finish Epoch [8/30], D Loss: 22.353320, G Loss: 17.278092\n",
      "  Epoch[9/30], Step:  38400, d_loss: 2.817695, g_loss: 1.338564\n",
      "    real_scores: 0.529977, fake_scores: 0.296307, W: -0.233670\n",
      "Finish Epoch [9/30], D Loss: 20.067441, G Loss: 15.186700\n",
      "  Epoch[10/30], Step:  38400, d_loss: 1.296071, g_loss: 1.143314\n",
      "    real_scores: 0.692699, fake_scores: 0.489493, W: -0.203207\n",
      "Finish Epoch [10/30], D Loss: 17.927578, G Loss: 13.522580\n",
      "  Epoch[11/30], Step:  38400, d_loss: 1.764169, g_loss: 1.371996\n",
      "    real_scores: 0.626486, fake_scores: 0.441046, W: -0.185440\n",
      "Finish Epoch [11/30], D Loss: 16.462262, G Loss: 12.363900\n",
      "  Epoch[12/30], Step:  38400, d_loss: 1.474276, g_loss: 1.127590\n",
      "    real_scores: 0.374067, fake_scores: 0.346379, W: -0.027688\n",
      "Finish Epoch [12/30], D Loss: 15.088497, G Loss: 11.343590\n",
      "  Epoch[13/30], Step:  38400, d_loss: 1.393565, g_loss: 1.129407\n",
      "    real_scores: 0.433761, fake_scores: 0.345389, W: -0.088371\n",
      "Finish Epoch [13/30], D Loss: 13.897741, G Loss: 10.437909\n",
      "  Epoch[14/30], Step:  38400, d_loss: 1.291649, g_loss: 1.128846\n",
      "    real_scores: 0.533177, fake_scores: 0.341746, W: -0.191432\n",
      "Finish Epoch [14/30], D Loss: 12.952691, G Loss: 10.027900\n",
      "  Epoch[15/30], Step:  38400, d_loss: 1.315527, g_loss: 1.111956\n",
      "    real_scores: 0.523040, fake_scores: 0.362168, W: -0.160873\n",
      "Finish Epoch [15/30], D Loss: 12.128048, G Loss: 9.511641\n",
      "  Epoch[16/30], Step:  38400, d_loss: 1.358587, g_loss: 1.104148\n",
      "    real_scores: 0.504797, fake_scores: 0.384908, W: -0.119890\n",
      "Finish Epoch [16/30], D Loss: 11.389954, G Loss: 8.881523\n",
      "  Epoch[17/30], Step:  38400, d_loss: 1.633592, g_loss: 1.352889\n",
      "    real_scores: 0.734352, fake_scores: 0.480211, W: -0.254141\n",
      "Finish Epoch [17/30], D Loss: 10.649825, G Loss: 8.411361\n",
      "  Epoch[18/30], Step:  38400, d_loss: 1.363787, g_loss: 1.073054\n",
      "    real_scores: 0.496368, fake_scores: 0.365564, W: -0.130804\n",
      "Finish Epoch [18/30], D Loss: 10.124186, G Loss: 7.987694\n",
      "  Epoch[19/30], Step:  38400, d_loss: 1.325861, g_loss: 1.139827\n",
      "    real_scores: 0.402236, fake_scores: 0.217153, W: -0.185083\n",
      "Finish Epoch [19/30], D Loss: 9.592889, G Loss: 7.698007\n",
      "  Epoch[20/30], Step:  38400, d_loss: 1.417962, g_loss: 0.963105\n",
      "    real_scores: 0.504798, fake_scores: 0.346691, W: -0.158107\n",
      "Finish Epoch [20/30], D Loss: 9.089134, G Loss: 7.274405\n",
      "  Epoch[21/30], Step:  38400, d_loss: 1.473669, g_loss: 1.281061\n",
      "    real_scores: 0.193795, fake_scores: 0.188894, W: -0.004901\n",
      "Finish Epoch [21/30], D Loss: 8.692129, G Loss: 6.869856\n",
      "  Epoch[22/30], Step:  38400, d_loss: 1.449367, g_loss: 1.198608\n",
      "    real_scores: 0.303549, fake_scores: 0.279746, W: -0.023803\n",
      "Finish Epoch [22/30], D Loss: 8.235548, G Loss: 6.532912\n",
      "  Epoch[23/30], Step:  38400, d_loss: 1.368510, g_loss: 1.122297\n",
      "    real_scores: 0.496849, fake_scores: 0.374490, W: -0.122359\n",
      "Finish Epoch [23/30], D Loss: 8.045460, G Loss: 6.394203\n",
      "  Epoch[24/30], Step:  38400, d_loss: 1.375831, g_loss: 1.106543\n",
      "    real_scores: 0.443672, fake_scores: 0.334325, W: -0.109347\n",
      "Finish Epoch [24/30], D Loss: 7.724760, G Loss: 6.066966\n",
      "  Epoch[25/30], Step:  38400, d_loss: 1.306448, g_loss: 1.123955\n",
      "    real_scores: 0.468714, fake_scores: 0.302714, W: -0.166001\n",
      "Finish Epoch [25/30], D Loss: 7.191478, G Loss: 5.761197\n",
      "  Epoch[26/30], Step:  38400, d_loss: 1.338080, g_loss: 1.111513\n",
      "    real_scores: 0.515548, fake_scores: 0.380418, W: -0.135130\n",
      "Finish Epoch [26/30], D Loss: 7.043898, G Loss: 5.601506\n",
      "  Epoch[27/30], Step:  38400, d_loss: 1.421959, g_loss: 0.944804\n",
      "    real_scores: 0.608917, fake_scores: 0.543206, W: -0.065710\n",
      "Finish Epoch [27/30], D Loss: 6.962957, G Loss: 5.308114\n",
      "  Epoch[28/30], Step:  38400, d_loss: 1.365094, g_loss: 1.103955\n",
      "    real_scores: 0.459489, fake_scores: 0.354619, W: -0.104870\n",
      "Finish Epoch [28/30], D Loss: 6.845401, G Loss: 5.181412\n",
      "  Epoch[29/30], Step:  38400, d_loss: 1.382543, g_loss: 1.222559\n",
      "    real_scores: 0.496270, fake_scores: 0.367318, W: -0.128952\n",
      "Finish Epoch [29/30], D Loss: 6.333978, G Loss: 4.942659\n",
      "  Epoch[30/30], Step:  38400, d_loss: 1.451741, g_loss: 1.204326\n",
      "    real_scores: 0.294221, fake_scores: 0.254100, W: -0.040121\n",
      "Finish Epoch [30/30], D Loss: 6.153956, G Loss: 4.987005\n",
      "\n"
     ]
    }
   ],
   "source": [
    "total_count = len(dataloader)\n",
    "for epoch in tqdm_notebook(range(num_epochs)):\n",
    "    _step = epoch * total_count\n",
    "    \n",
    "    d_loss_total = .0\n",
    "    g_loss_total = .0\n",
    "    for i, (img, lab) in enumerate(dataloader):\n",
    "        \n",
    "        \n",
    "        ########## D ##########\n",
    "        for p in D.parameters():\n",
    "            p.requires_grad_(True)\n",
    "            \n",
    "        label = gen_noise_label(img.size(0))\n",
    "        z = gen_noise(img.size(0), label)\n",
    "#         with torch.no_grad():\n",
    "#             zz = z\n",
    "        fake_img = G(z).detach() ###\n",
    "        \n",
    "        real_img = img.cuda()\n",
    "        real_lab = lab.cuda()\n",
    "        real_out, real_label = D(real_img)\n",
    "        real_lab_loss = criterion(real_label, real_lab)\n",
    "        d_loss_real_lab = real_lab_loss.mean()\n",
    "        d_loss_real = real_out.mean()\n",
    "        real_scores = real_out\n",
    "        \n",
    "        fake_img = G(z).detach()\n",
    "        fake_out, fake_label = D(fake_img)\n",
    "        d_loss_fake = fake_out.mean()\n",
    "        fake_scores = fake_out\n",
    "        \n",
    "        gradient_penalty = calc_gradient_penalty(D, real_img, fake_img)\n",
    "        \n",
    "        d_loss = d_loss_fake - d_loss_real + gradient_penalty + 1 * d_loss_real_lab\n",
    "        \n",
    "        d_optimezer.zero_grad()\n",
    "        d_loss.backward()\n",
    "        d_optimezer.step()\n",
    "        \n",
    "        #######################\n",
    "        w_dist = d_loss_fake - d_loss_real\n",
    "        \n",
    "        \n",
    "        ########## G ##########\n",
    "        for p in D.parameters():\n",
    "            p.requires_grad_(False)\n",
    "        \n",
    "        label = gen_noise_label(img.size(0))\n",
    "        z = gen_noise(img.size(0), label)\n",
    "        fake_img = G(z)\n",
    "        fake_out, fake_label = D(fake_img)\n",
    "\n",
    "        gen_label = torch.from_numpy(label).long().to(device)\n",
    "        gen_label_loss = criterion(fake_label, gen_label).mean()\n",
    "        gen_cost = -fake_out.mean()\n",
    "        g_loss = 1 * gen_label_loss + gen_cost\n",
    "\n",
    "        g_optimezer.zero_grad()\n",
    "        g_loss.backward()\n",
    "        g_optimezer.step()\n",
    "        \n",
    "        #######################\n",
    "        \n",
    "        d_loss_total += d_loss.item() * img.size(0)\n",
    "        g_loss_total += g_loss.item() * img.size(0)\n",
    "        \n",
    "        step = _step + i + 1\n",
    "        \n",
    "        if (i + 1) % 100 == 0:\n",
    "            writer.add_scalar('Discriminator Real Loss', d_loss_real.item(), step)\n",
    "            writer.add_scalar('Discriminator Fake Loss', d_loss_fake.item(), step)\n",
    "            writer.add_scalar('Discriminator Loss', d_loss.item(), step)\n",
    "            writer.add_scalar('Generator Loss', g_loss.item(), step)\n",
    "            writer.add_scalar('Wasserstein Distance', w_dist.item(), step)\n",
    "        \n",
    "        \n",
    "        if (i + 1) % 300 == 0:\n",
    "            tqdm.write('  Epoch[{}/{}], Step: {:6d}, d_loss: {:.6f}, g_loss: {:.6f}\\n    real_scores: {:.6f}' \\\n",
    "', fake_scores: {:.6f}, W: {:.6f}'.format(epoch+1, num_epochs, \n",
    "                                          (i+1) * BATCH_SIZE, \n",
    "                                          d_loss, g_loss, \n",
    "                                          real_scores.mean(), \n",
    "                                          fake_scores.mean(), w_dist))\n",
    "    \n",
    "    \n",
    "    setp = (epoch + 1) * total_count\n",
    "    _d_loss_total = d_loss_total / (total_count * (epoch + 1))\n",
    "    _g_loss_total = g_loss_total / (total_count * (epoch + 1))\n",
    "    \n",
    "    writer.add_scalar('Discriminator Total Loss', _d_loss_total, step)\n",
    "    writer.add_scalar('Generator Total Loss', _g_loss_total, step)\n",
    "    \n",
    "    tqdm.write(\"Finish Epoch [{}/{}], D Loss: {:.6f}, G Loss: {:.6f}\".format(epoch+1, \n",
    "                                                                             num_epochs, \n",
    "                                                                             _d_loss_total,\n",
    "                                                                             _g_loss_total, ))\n",
    "    \n",
    "    writer.add_image('Generator Image', make_grid(fake_img.view(-1, 1, 32, 32).cpu().data, normalize=True, scale_each=True), step)\n",
    "    condition_img = G(condition_noise).view(-1, 1, 32, 32).cpu().data\n",
    "    writer.add_image('Condition Generator Image', make_grid(condition_img, normalize=True, scale_each=True), step)\n",
    "    save_image(condition_img, os.path.join(img_path, 'condition_images-{}.png'.format(epoch+1)))\n",
    "    \n",
    "    if epoch == 0:\n",
    "        real_images = real_img.view(-1, 1, 32, 32).cpu().data\n",
    "        save_image(real_images, os.path.join(img_path, 'real_images.png'))\n",
    "    \n",
    "    fake_images = fake_img.view(-1, 1, 32, 32).cpu().data\n",
    "    save_image(fake_images, os.path.join(img_path, 'fake_images-{}.png'.format(epoch+1)))"
   ]
  },
  {
   "cell_type": "code",
   "execution_count": 21,
   "metadata": {},
   "outputs": [],
   "source": [
    "writer.close()"
   ]
  },
  {
   "cell_type": "code",
   "execution_count": 23,
   "metadata": {},
   "outputs": [],
   "source": [
    "torch.save(D.state_dict(), './ser/cnn_cwdcgan_gp_discriminator.pt')\n",
    "torch.save(G.state_dict(), './ser/cnn_cwdcgan_gp_generator.pt')"
   ]
  },
  {
   "cell_type": "code",
   "execution_count": 49,
   "metadata": {
    "scrolled": true
   },
   "outputs": [
    {
     "name": "stdout",
     "output_type": "stream",
     "text": [
      "[4 1 7 0 7 5 8 8 4 8 2 1 1 3 2 4]\n"
     ]
    },
    {
     "data": {
      "image/png": "[encoded data removed]",
      "text/plain": [
       "<Figure size 432x288 with 1 Axes>"
      ]
     },
     "metadata": {
      "needs_background": "dark"
     },
     "output_type": "display_data"
    }
   ],
   "source": [
    "# clabel = np.array([4,5,3,8,0])\n",
    "clabel = np.random.randint(0, 10, 16)\n",
    "print(clabel)\n",
    "z = gen_noise(clabel.shape[0], clabel)\n",
    "\n",
    "images = G(z)\n",
    "# save_image(images, 'xx.png')\n",
    "plt.imshow(Image.fromarray(make_grid(images).mul(255).clamp(0, 255).byte().permute(1, 2, 0).cpu().numpy()))\n",
    "# plt.imshow(make_grid(condition_img, normalize=True, scale_each=True))\n",
    "plt.show()"
   ]
  },
  {
   "cell_type": "code",
   "execution_count": null,
   "metadata": {},
   "outputs": [],
   "source": []
  }
 ],
 "metadata": {
  "kernelspec": {
   "display_name": "venv36",
   "language": "python",
   "name": "venv36"
  },
  "language_info": {
   "codemirror_mode": {
    "name": "ipython",
    "version": 3
   },
   "file_extension": ".py",
   "mimetype": "text/x-python",
   "name": "python",
   "nbconvert_exporter": "python",
   "pygments_lexer": "ipython3",
   "version": "3.6.8"
  },
  "varInspector": {
   "cols": {
    "lenName": 16,
    "lenType": 16,
    "lenVar": 40
   },
   "kernels_config": {
    "python": {
     "delete_cmd_postfix": "",
     "delete_cmd_prefix": "del ",
     "library": "var_list.py",
     "varRefreshCmd": "print(var_dic_list())"
    },
    "r": {
     "delete_cmd_postfix": ") ",
     "delete_cmd_prefix": "rm(",
     "library": "var_list.r",
     "varRefreshCmd": "cat(var_dic_list()) "
    }
   },
   "position": {
    "height": "556px",
    "left": "247px",
    "right": "398px",
    "top": "131px",
    "width": "752px"
   },
   "types_to_exclude": [
    "module",
    "function",
    "builtin_function_or_method",
    "instance",
    "_Feature"
   ],
   "window_display": false
  }
 },
 "nbformat": 4,
 "nbformat_minor": 2
}
