{
 "cells": [
  {
   "cell_type": "code",
   "execution_count": 1,
   "metadata": {},
   "outputs": [],
   "source": [
    "import os\n",
    "from tqdm import tnrange, tqdm_notebook, tqdm\n",
    "import itertools\n",
    "import torch\n",
    "from torch import nn, optim\n",
    "from torch.utils.data import DataLoader\n",
    "from torchvision import transforms, datasets\n",
    "from torchvision.utils import save_image, make_grid\n",
    "from torch.autograd import Variable\n",
    "import numpy as np\n",
    "from PIL import Image\n",
    "import matplotlib.pyplot as plt\n",
    "from tensorboardX import SummaryWriter"
   ]
  },
  {
   "cell_type": "code",
   "execution_count": null,
   "metadata": {},
   "outputs": [],
   "source": [
    "from torchvision.datasets import ImageFolder"
   ]
  },
  {
   "cell_type": "code",
   "execution_count": 2,
   "metadata": {},
   "outputs": [],
   "source": [
    "# os.environ['CUDA_VISIBLE_DEVICES'] = '1'"
   ]
  },
  {
   "cell_type": "code",
   "execution_count": 3,
   "metadata": {},
   "outputs": [],
   "source": [
    "from matplotlib import rcParams\n",
    "rcParams['figure.figsize'] = (12, 8)\n",
    "\n",
    "%matplotlib inline"
   ]
  },
  {
   "cell_type": "code",
   "execution_count": 4,
   "metadata": {},
   "outputs": [],
   "source": [
    "device = torch.device('cuda' if torch.cuda.is_available() else 'cpu')"
   ]
  },
  {
   "cell_type": "code",
   "execution_count": 5,
   "metadata": {},
   "outputs": [
    {
     "data": {
      "text/plain": [
       "True"
      ]
     },
     "execution_count": 5,
     "metadata": {},
     "output_type": "execute_result"
    }
   ],
   "source": [
    "torch.cuda.is_available()"
   ]
  },
  {
   "cell_type": "code",
   "execution_count": 6,
   "metadata": {},
   "outputs": [],
   "source": [
    "device_ids = [0]"
   ]
  },
  {
   "cell_type": "code",
   "execution_count": 7,
   "metadata": {},
   "outputs": [],
   "source": [
    "batch_size = 128\n",
    "num_epochs = 50\n",
    "\n",
    "z_dimension = 100\n",
    "num_feature = (32, 4, 4) # 64 * 64\n",
    "\n",
    "img_shape = (1, 32, 32)"
   ]
  },
  {
   "cell_type": "code",
   "execution_count": 8,
   "metadata": {},
   "outputs": [],
   "source": [
    "img_transform = transforms.Compose([\n",
    "    transforms.Resize(32),\n",
    "    transforms.ToTensor(),\n",
    "#     transforms.Normalize((.5, .5, .5), (.5, .5, .5))\n",
    "#     transforms.Normalize((0.1307,), (0.3081,))\n",
    "    transforms.Normalize((.5,), (.5,))\n",
    "])\n",
    "\n",
    "dataset = datasets.MNIST('/home/left5/datas/mnist', transform=img_transform) # , download=True)\n",
    "dataloader = DataLoader(dataset, batch_size=batch_size, shuffle=True, num_workers=4)"
   ]
  },
  {
   "cell_type": "code",
   "execution_count": 10,
   "metadata": {},
   "outputs": [],
   "source": [
    "class Discriminator(nn.Module):\n",
    "    def __init__(self):\n",
    "        super(Discriminator, self).__init__()\n",
    "                \n",
    "        self.conv1 = nn.Sequential(\n",
    "            nn.Conv2d(1, 16, 3, padding=1, stride=2),\n",
    "            nn.BatchNorm2d(16),\n",
    "            nn.LeakyReLU(.2, True),\n",
    "#             nn.AvgPool2d(2, 2), \n",
    "        ) # b 16 16 16\n",
    "        \n",
    "        self.conv2 = nn.Sequential(\n",
    "            nn.Conv2d(16, 32, 3, padding=1, stride=2),\n",
    "            nn.BatchNorm2d(32),\n",
    "            nn.LeakyReLU(.2, True),\n",
    "#             nn.AvgPool2d(2, 2), \n",
    "        ) # b 32 8 8\n",
    "        \n",
    "        self.conv3 = nn.Sequential(\n",
    "            nn.Conv2d(32, 64, 3, padding=1, stride=2),\n",
    "            nn.BatchNorm2d(64),\n",
    "            nn.LeakyReLU(.2, True),\n",
    "#             nn.AvgPool2d(2, 2), \n",
    "        ) # b 64 4 4\n",
    "        \n",
    "        self.conv4 = nn.Sequential(\n",
    "            nn.Conv2d(64, 128, 3, padding=1, stride=2),\n",
    "            nn.BatchNorm2d(128),\n",
    "            nn.LeakyReLU(.2, True),\n",
    "#             nn.AvgPool2d(2, 2), \n",
    "        ) # b 128 2 2\n",
    "        \n",
    "        self.fc = nn.Sequential(\n",
    "            nn.Linear(128 * 2 * 2, 1024),\n",
    "            nn.LeakyReLU(.2, True),\n",
    "            nn.Linear(1024, 1),\n",
    "            nn.Sigmoid(),\n",
    "        ) # b 1\n",
    "        \n",
    "        self.label = nn.Sequential(\n",
    "            nn.Linear(128 * 2 * 2, 10),\n",
    "            nn.Sigmoid()\n",
    "        )\n",
    "        \n",
    "        self.code = nn.Sequential(\n",
    "            nn.Linear(128 * 2 * 2, 2),\n",
    "            nn.Sigmoid()\n",
    "        )\n",
    "\n",
    "    def forward(self, imgs): # b 1 32 32\n",
    "        \n",
    "\n",
    "        outs = self.conv1(imgs)\n",
    "        outs = self.conv2(outs)\n",
    "        outs = self.conv3(outs)\n",
    "        outs = self.conv4(outs)\n",
    "        outs = outs.view(imgs.size(0), -1)\n",
    "        img = self.fc(outs)\n",
    "        lab = self.label(outs)\n",
    "        code = self.code(outs)\n",
    "        \n",
    "        return img, lab, code # b 1 1 1, b 10"
   ]
  },
  {
   "cell_type": "code",
   "execution_count": 11,
   "metadata": {},
   "outputs": [],
   "source": [
    "class Generator(nn.Module):\n",
    "    def __init__(self, inp_dim, num_feature):\n",
    "        super(Generator, self).__init__()\n",
    "\n",
    "        self.label_emb = nn.Embedding(10, 10)\n",
    "        self.code_fc = nn.Linear(2, 2)\n",
    "        \n",
    "        self.fc = nn.Sequential(\n",
    "            nn.Linear(inp_dim, np.prod(num_feature)),\n",
    "#             nn.Sigmoid(),\n",
    "        ) # b *num_feature  b 32 4 4\n",
    "        \n",
    "        self.upsample1 = nn.Sequential(\n",
    "#             nn.BatchNorm2d(128),\n",
    "            nn.ConvTranspose2d(32, 16, 4, 2, 1),\n",
    "#             nn.functional.interpolate(scale_factor=2),\n",
    "#             nn.Upsample(scale_factor=2),\n",
    "#             nn.Conv2d(32, 16, 3, padding=1),\n",
    "            nn.BatchNorm2d(16),\n",
    "            nn.LeakyReLU(.2, True),\n",
    "#             nn.ReLU(True),\n",
    "        ) # b 16 8 8\n",
    "        \n",
    "        self.upsample2 = nn.Sequential(\n",
    "#             nn.functional.interpolate(scale_factor=2),\n",
    "            nn.ConvTranspose2d(16, 8, 4, 2, 1),\n",
    "#             nn.Upsample(scale_factor=2),\n",
    "#             nn.Conv2d(16, 8, 3, padding=1),\n",
    "            nn.BatchNorm2d(8),\n",
    "            nn.LeakyReLU(.2, True),\n",
    "#             nn.ReLU(True),\n",
    "        ) # b 8 16 16\n",
    "        \n",
    "        self.upsample3 = nn.Sequential(\n",
    "            nn.ConvTranspose2d(8, 4, 4, 2, 1),\n",
    "#             nn.functional.interpolate(scale_factor=2),\n",
    "#             nn.Upsample(scale_factor=2),\n",
    "#             nn.Conv2d(8, 4, 3, padding=1, stride=1),\n",
    "            nn.BatchNorm2d(4),\n",
    "            nn.LeakyReLU(.2, True),\n",
    "#             nn.ReLU(True),\n",
    "        ) # b 4 32 32\n",
    "        \n",
    "        self.conv = nn.Sequential(\n",
    "#             nn.functional.interpolate(scale_factor=2),\n",
    "            nn.Conv2d(4, 1, 3, padding=1, stride=1),\n",
    "            nn.Tanh(),\n",
    "        ) # b 1 32 32\n",
    "\n",
    "    def forward(self, noise, labels, codes):\n",
    "        \n",
    "#         gen_input = torch.cat((labels.reshape(noise.size(0), -1), noise), -1)\n",
    "        gen_input = torch.cat((self.label_emb(labels), self.code_fc(codes), noise), -1) #\n",
    "        \n",
    "        outs = self.fc(gen_input)\n",
    "        outs = outs.view(noise.size(0), *num_feature)\n",
    "        outs = self.upsample1(outs)\n",
    "        outs = self.upsample2(outs)\n",
    "        outs = self.upsample3(outs)\n",
    "        \n",
    "        outs = self.conv(outs)\n",
    "        \n",
    "        return outs\n"
   ]
  },
  {
   "cell_type": "code",
   "execution_count": 12,
   "metadata": {},
   "outputs": [],
   "source": [
    "D = Discriminator().to(device)\n",
    "G = Generator(z_dimension + 12, num_feature).to(device)\n",
    "\n",
    "D = nn.DataParallel(D, device_ids=device_ids).to(device)\n",
    "G = nn.DataParallel(G, device_ids=device_ids).to(device)\n",
    "\n",
    "adversarial_loss = nn.MSELoss()\n",
    "auxiliary_loss = torch.nn.CrossEntropyLoss()\n",
    "\n",
    "D_optimezer = optim.Adam(D.parameters(), lr=2e-4, betas=(.5, .999))\n",
    "G_optimezer = optim.Adam(G.parameters(), lr=2e-4, betas=(.5, .999))\n",
    "I_optimezer = optim.Adam(itertools.chain(G.parameters(), D.parameters()), lr=2e-4, betas=(.5, .999))"
   ]
  },
  {
   "cell_type": "code",
   "execution_count": 13,
   "metadata": {},
   "outputs": [],
   "source": [
    "lambda_cat = 1\n",
    "lambda_con = 0.1"
   ]
  },
  {
   "cell_type": "code",
   "execution_count": 14,
   "metadata": {},
   "outputs": [],
   "source": [
    "condition = torch.from_numpy(np.arange(10)).cuda()\n",
    "code_x = np.linspace(-1, 1, 10)\n",
    "code_y = np.linspace(-1, 1, 10)\n",
    "code = torch.from_numpy(np.column_stack([code_x, code_y])).float().cuda()"
   ]
  },
  {
   "cell_type": "code",
   "execution_count": 15,
   "metadata": {},
   "outputs": [],
   "source": [
    "writer = SummaryWriter('./log/cnn_info_cgan')"
   ]
  },
  {
   "cell_type": "code",
   "execution_count": 16,
   "metadata": {},
   "outputs": [],
   "source": [
    "img_path = \"save_images/cnn_info_cgan\"\n",
    "if not os.path.exists(img_path): os.makedirs(img_path)"
   ]
  },
  {
   "cell_type": "code",
   "execution_count": 17,
   "metadata": {
    "scrolled": true
   },
   "outputs": [
    {
     "data": {
      "application/vnd.jupyter.widget-view+json": {
       "model_id": "61803838f15642db9c1b2416103597b8",
       "version_major": 2,
       "version_minor": 0
      },
      "text/plain": [
       "HBox(children=(IntProgress(value=0, max=50), HTML(value='')))"
      ]
     },
     "metadata": {},
     "output_type": "display_data"
    },
    {
     "name": "stdout",
     "output_type": "stream",
     "text": [
      "Epoch [1/50], Step:  38400, d_loss: 0.000064, g_loss: 0.985288, i_loss: 1.678882, real_scores: 0.995846, fake_scores: 0.007402\n",
      "Finish Epoch [1/50], D Loss: 0.734946, G Loss: 121.531227, I Loss: 235.715452\n",
      "Epoch [2/50], Step:  38400, d_loss: 0.004377, g_loss: 0.976258, i_loss: 1.692377, real_scores: 0.972914, fake_scores: 0.013512\n",
      "Finish Epoch [2/50], D Loss: 1.632881, G Loss: 59.091553, I Loss: 107.194110\n",
      "Epoch [3/50], Step:  38400, d_loss: 0.128652, g_loss: 0.389238, i_loss: 1.691806, real_scores: 0.994019, fake_scores: 0.433879\n",
      "Finish Epoch [3/50], D Loss: 1.854423, G Loss: 35.879523, I Loss: 71.354428\n",
      "Epoch [4/50], Step:  38400, d_loss: 0.002261, g_loss: 0.975373, i_loss: 1.681312, real_scores: 0.957249, fake_scores: 0.012690\n",
      "Finish Epoch [4/50], D Loss: 0.985483, G Loss: 28.424419, I Loss: 53.307698\n",
      "Epoch [5/50], Step:  38400, d_loss: 0.002271, g_loss: 0.950452, i_loss: 1.672154, real_scores: 0.973002, fake_scores: 0.025595\n",
      "Finish Epoch [5/50], D Loss: 1.325459, G Loss: 21.948617, I Loss: 42.551104\n",
      "Epoch [6/50], Step:  38400, d_loss: 0.004171, g_loss: 0.928034, i_loss: 1.634923, real_scores: 0.969490, fake_scores: 0.038594\n",
      "Finish Epoch [6/50], D Loss: 0.395465, G Loss: 19.572135, I Loss: 35.439205\n",
      "Epoch [7/50], Step:  38400, d_loss: 0.002427, g_loss: 0.952552, i_loss: 1.655575, real_scores: 0.974750, fake_scores: 0.024501\n",
      "Finish Epoch [7/50], D Loss: 0.313169, G Loss: 17.222528, I Loss: 30.374327\n",
      "Epoch [8/50], Step:  38400, d_loss: 0.000980, g_loss: 0.962869, i_loss: 1.653518, real_scores: 0.993850, fake_scores: 0.019391\n",
      "Finish Epoch [8/50], D Loss: 0.427142, G Loss: 15.237435, I Loss: 26.586964\n",
      "Epoch [9/50], Step:  38400, d_loss: 0.003878, g_loss: 0.947562, i_loss: 1.672432, real_scores: 0.971524, fake_scores: 0.028207\n",
      "Finish Epoch [9/50], D Loss: 0.506085, G Loss: 12.863703, I Loss: 23.645353\n",
      "Epoch [10/50], Step:  38400, d_loss: 0.000937, g_loss: 0.989301, i_loss: 1.683305, real_scores: 0.984480, fake_scores: 0.005437\n",
      "Finish Epoch [10/50], D Loss: 0.266416, G Loss: 12.209108, I Loss: 21.262067\n",
      "Epoch [11/50], Step:  38400, d_loss: 0.001065, g_loss: 0.971133, i_loss: 1.651547, real_scores: 0.990421, fake_scores: 0.015048\n",
      "Finish Epoch [11/50], D Loss: 0.217863, G Loss: 11.081857, I Loss: 19.324613\n",
      "Epoch [12/50], Step:  38400, d_loss: 0.006482, g_loss: 0.975437, i_loss: 1.648847, real_scores: 0.948872, fake_scores: 0.012557\n",
      "Finish Epoch [12/50], D Loss: 0.149025, G Loss: 10.048477, I Loss: 17.712111\n",
      "Epoch [13/50], Step:  38400, d_loss: 0.003791, g_loss: 0.938556, i_loss: 1.641051, real_scores: 0.986049, fake_scores: 0.033596\n",
      "Finish Epoch [13/50], D Loss: 0.133937, G Loss: 9.307737, I Loss: 16.344241\n",
      "Epoch [14/50], Step:  38400, d_loss: 0.008004, g_loss: 0.917973, i_loss: 1.653719, real_scores: 0.983325, fake_scores: 0.046735\n",
      "Finish Epoch [14/50], D Loss: 0.153961, G Loss: 8.607652, I Loss: 15.186915\n",
      "Epoch [15/50], Step:  38400, d_loss: 0.001243, g_loss: 0.982584, i_loss: 1.670675, real_scores: 0.987620, fake_scores: 0.008817\n",
      "Finish Epoch [15/50], D Loss: 0.468112, G Loss: 8.094638, I Loss: 14.171706\n",
      "Epoch [16/50], Step:  38400, d_loss: 0.012025, g_loss: 0.972795, i_loss: 1.673433, real_scores: 0.950201, fake_scores: 0.014430\n",
      "Finish Epoch [16/50], D Loss: 0.088174, G Loss: 7.615697, I Loss: 13.287984\n",
      "Epoch [17/50], Step:  38400, d_loss: 0.009444, g_loss: 0.889921, i_loss: 1.641296, real_scores: 0.996357, fake_scores: 0.064440\n",
      "Finish Epoch [17/50], D Loss: 0.120173, G Loss: 7.093543, I Loss: 12.511253\n",
      "Epoch [18/50], Step:  38400, d_loss: 0.009005, g_loss: 0.988768, i_loss: 1.656885, real_scores: 0.953984, fake_scores: 0.005756\n",
      "Finish Epoch [18/50], D Loss: 0.285559, G Loss: 6.672528, I Loss: 11.811604\n",
      "Epoch [19/50], Step:  38400, d_loss: 0.001429, g_loss: 0.981847, i_loss: 1.648839, real_scores: 0.986626, fake_scores: 0.009463\n",
      "Finish Epoch [19/50], D Loss: 0.073265, G Loss: 6.435715, I Loss: 11.196784\n",
      "Epoch [20/50], Step:  38400, d_loss: 0.006736, g_loss: 0.995495, i_loss: 1.657809, real_scores: 0.942106, fake_scores: 0.002308\n",
      "Finish Epoch [20/50], D Loss: 0.123172, G Loss: 6.038222, I Loss: 10.636615\n",
      "Epoch [21/50], Step:  38400, d_loss: 0.000889, g_loss: 0.984125, i_loss: 1.659179, real_scores: 0.990866, fake_scores: 0.008051\n",
      "Finish Epoch [21/50], D Loss: 0.157159, G Loss: 5.638326, I Loss: 10.120423\n",
      "Epoch [22/50], Step:  38400, d_loss: 0.001957, g_loss: 0.978699, i_loss: 1.652148, real_scores: 0.978870, fake_scores: 0.011195\n",
      "Finish Epoch [22/50], D Loss: 0.113021, G Loss: 5.456186, I Loss: 9.669175\n",
      "Epoch [23/50], Step:  38400, d_loss: 0.500000, g_loss: 1.000000, i_loss: 1.665696, real_scores: 0.000000, fake_scores: 0.000000\n",
      "Finish Epoch [23/50], D Loss: 2.149787, G Loss: 5.504450, I Loss: 9.241210\n",
      "Epoch [24/50], Step:  38400, d_loss: 0.001239, g_loss: 0.989501, i_loss: 1.696514, real_scores: 0.988671, fake_scores: 0.005357\n",
      "Finish Epoch [24/50], D Loss: 0.486960, G Loss: 5.127875, I Loss: 8.857234\n",
      "Epoch [25/50], Step:  38400, d_loss: 0.499976, g_loss: 1.000000, i_loss: 1.629674, real_scores: 0.000024, fake_scores: 0.000000\n",
      "Finish Epoch [25/50], D Loss: 1.199806, G Loss: 4.948643, I Loss: 8.499578\n",
      "Epoch [26/50], Step:  38400, d_loss: 0.012608, g_loss: 0.982495, i_loss: 1.659896, real_scores: 0.935350, fake_scores: 0.009496\n",
      "Finish Epoch [26/50], D Loss: 0.067730, G Loss: 4.718106, I Loss: 8.181855\n",
      "Epoch [27/50], Step:  38400, d_loss: 0.001242, g_loss: 0.972878, i_loss: 1.649411, real_scores: 0.992179, fake_scores: 0.014586\n",
      "Finish Epoch [27/50], D Loss: 0.072388, G Loss: 4.511159, I Loss: 7.878111\n",
      "Epoch [28/50], Step:  38400, d_loss: 0.000342, g_loss: 0.983122, i_loss: 1.660785, real_scores: 0.998904, fake_scores: 0.008772\n",
      "Finish Epoch [28/50], D Loss: 0.041551, G Loss: 4.413660, I Loss: 7.592684\n",
      "Epoch [29/50], Step:  38400, d_loss: 0.001054, g_loss: 0.988304, i_loss: 1.665721, real_scores: 0.992914, fake_scores: 0.006174\n",
      "Finish Epoch [29/50], D Loss: 0.078292, G Loss: 4.257328, I Loss: 7.332506\n",
      "Epoch [30/50], Step:  38400, d_loss: 0.000668, g_loss: 0.992579, i_loss: 1.653287, real_scores: 0.992231, fake_scores: 0.004028\n",
      "Finish Epoch [30/50], D Loss: 0.033641, G Loss: 4.172346, I Loss: 7.082335\n",
      "Epoch [31/50], Step:  38400, d_loss: 0.000577, g_loss: 0.992147, i_loss: 1.659031, real_scores: 0.995199, fake_scores: 0.004176\n",
      "Finish Epoch [31/50], D Loss: 0.045449, G Loss: 4.052837, I Loss: 6.853509\n",
      "Epoch [32/50], Step:  38400, d_loss: 0.013075, g_loss: 0.983331, i_loss: 1.656714, real_scores: 0.971274, fake_scores: 0.010277\n",
      "Finish Epoch [32/50], D Loss: 0.407078, G Loss: 3.951450, I Loss: 6.640991\n",
      "Epoch [33/50], Step:  38400, d_loss: 0.001093, g_loss: 0.989266, i_loss: 1.675197, real_scores: 0.999989, fake_scores: 0.006460\n",
      "Finish Epoch [33/50], D Loss: 0.111508, G Loss: 3.686129, I Loss: 6.440369\n",
      "Epoch [34/50], Step:  38400, d_loss: 0.500000, g_loss: 1.000000, i_loss: 1.657281, real_scores: 0.000000, fake_scores: 0.000000\n",
      "Finish Epoch [34/50], D Loss: 0.713758, G Loss: 3.708510, I Loss: 6.251033\n",
      "Epoch [35/50], Step:  38400, d_loss: 0.000000, g_loss: 0.999830, i_loss: 1.638906, real_scores: 0.999958, fake_scores: 0.000085\n",
      "Finish Epoch [35/50], D Loss: 0.362373, G Loss: 3.623776, I Loss: 6.074665\n",
      "Epoch [36/50], Step:  38400, d_loss: 0.000987, g_loss: 0.993322, i_loss: 1.633285, real_scores: 0.999909, fake_scores: 0.004326\n",
      "Finish Epoch [36/50], D Loss: 0.005565, G Loss: 3.536585, I Loss: 5.908106\n",
      "Epoch [37/50], Step:  38400, d_loss: 0.000003, g_loss: 0.998750, i_loss: 1.650134, real_scores: 0.999689, fake_scores: 0.000627\n",
      "Finish Epoch [37/50], D Loss: 0.022920, G Loss: 3.399902, I Loss: 5.742940\n",
      "Epoch [38/50], Step:  38400, d_loss: 0.000954, g_loss: 0.995572, i_loss: 1.686679, real_scores: 0.991320, fake_scores: 0.002250\n",
      "Finish Epoch [38/50], D Loss: 0.066142, G Loss: 3.233473, I Loss: 5.592628\n",
      "Epoch [39/50], Step:  38400, d_loss: 0.000000, g_loss: 0.999969, i_loss: 1.681046, real_scores: 0.999857, fake_scores: 0.000015\n",
      "Finish Epoch [39/50], D Loss: 0.178367, G Loss: 3.214408, I Loss: 5.449594\n",
      "Epoch [40/50], Step:  38400, d_loss: 0.500000, g_loss: 1.000000, i_loss: 1.663367, real_scores: 0.000000, fake_scores: 0.000000\n",
      "Finish Epoch [40/50], D Loss: 1.599147, G Loss: 3.198294, I Loss: 5.314437\n",
      "Epoch [41/50], Step:  38400, d_loss: 0.500000, g_loss: 1.000000, i_loss: 1.668404, real_scores: 0.000000, fake_scores: 0.000000\n"
     ]
    },
    {
     "name": "stdout",
     "output_type": "stream",
     "text": [
      "Finish Epoch [41/50], D Loss: 1.560144, G Loss: 3.120287, I Loss: 5.186248\n",
      "Epoch [42/50], Step:  38400, d_loss: 0.500000, g_loss: 1.000000, i_loss: 1.696809, real_scores: 0.000000, fake_scores: 0.000000\n",
      "Finish Epoch [42/50], D Loss: 1.522997, G Loss: 3.045995, I Loss: 5.059939\n",
      "Epoch [43/50], Step:  38400, d_loss: 0.500000, g_loss: 1.000000, i_loss: 1.674756, real_scores: 0.000000, fake_scores: 0.000000\n",
      "Finish Epoch [43/50], D Loss: 1.487579, G Loss: 2.975157, I Loss: 4.945052\n",
      "Epoch [44/50], Step:  38400, d_loss: 0.500000, g_loss: 1.000000, i_loss: 1.660989, real_scores: 0.000000, fake_scores: 0.000000\n",
      "Finish Epoch [44/50], D Loss: 1.453770, G Loss: 2.907540, I Loss: 4.828531\n",
      "Epoch [45/50], Step:  38400, d_loss: 0.500000, g_loss: 1.000000, i_loss: 1.667258, real_scores: 0.000000, fake_scores: 0.000000\n",
      "Finish Epoch [45/50], D Loss: 1.421464, G Loss: 2.842928, I Loss: 4.720179\n",
      "Epoch [46/50], Step:  38400, d_loss: 0.500000, g_loss: 1.000000, i_loss: 1.670826, real_scores: 0.000000, fake_scores: 0.000000\n",
      "Finish Epoch [46/50], D Loss: 1.390563, G Loss: 2.781125, I Loss: 4.619137\n",
      "Epoch [47/50], Step:  38400, d_loss: 0.500000, g_loss: 1.000000, i_loss: 1.647338, real_scores: 0.000000, fake_scores: 0.000000\n",
      "Finish Epoch [47/50], D Loss: 1.360976, G Loss: 2.721953, I Loss: 4.520067\n",
      "Epoch [48/50], Step:  38400, d_loss: 0.500000, g_loss: 1.000000, i_loss: 1.665651, real_scores: 0.000000, fake_scores: 0.000000\n",
      "Finish Epoch [48/50], D Loss: 1.332623, G Loss: 2.665245, I Loss: 4.428646\n",
      "Epoch [49/50], Step:  38400, d_loss: 0.500000, g_loss: 1.000000, i_loss: 1.657266, real_scores: 0.000000, fake_scores: 0.000000\n",
      "Finish Epoch [49/50], D Loss: 1.305426, G Loss: 2.610852, I Loss: 4.337482\n",
      "Epoch [50/50], Step:  38400, d_loss: 0.500000, g_loss: 1.000000, i_loss: 1.642172, real_scores: 0.000000, fake_scores: 0.000000\n",
      "Finish Epoch [50/50], D Loss: 1.279318, G Loss: 2.558635, I Loss: 4.250954\n",
      "\n"
     ]
    }
   ],
   "source": [
    "total_count = len(dataloader)\n",
    "for epoch in tqdm_notebook(range(num_epochs)):\n",
    "    _step = epoch * total_count\n",
    "    \n",
    "    d_loss_total = .0\n",
    "    g_loss_total = .0\n",
    "    i_loss_total = .0\n",
    "    for i, (imgs, labels) in enumerate(dataloader):\n",
    "        \n",
    "        real_imgs = imgs.cuda()\n",
    "        real_labels = labels.cuda()\n",
    "        \n",
    "        real = torch.ones(imgs.size(0), 1).cuda()\n",
    "        fake = torch.zeros(imgs.size(0), 1).cuda()\n",
    "        \n",
    "        z = torch.randn(imgs.size(0), z_dimension).cuda()\n",
    "        fake_labels = torch.from_numpy(np.random.randint(0, 10, imgs.size(0))).cuda()\n",
    "        codes = torch.from_numpy(np.random.uniform(-1, 1, (imgs.size(0), 2))).float().cuda()\n",
    "        \n",
    "        \n",
    "        ########## G ##########\n",
    "        fake_imgs = G(z, fake_labels, codes)\n",
    "        fake_out, _, _ = D(fake_imgs)\n",
    "        g_loss = adversarial_loss(fake_out, real)\n",
    "        \n",
    "        G_optimezer.zero_grad()\n",
    "        g_loss.backward()\n",
    "        G_optimezer.step()\n",
    "        #######################\n",
    "#         writer.add_graph(G, (z, fake_labels, codes), True)\n",
    "#         writer.add_graph(D, fake_imgs, True)\n",
    "        \n",
    "        ########## D ##########\n",
    "        real_out, _, _ = D(real_imgs)\n",
    "        d_loss_real = adversarial_loss(real_out, real)\n",
    "#         d_loss_real_label = auxiliary_loss(real_out_label, real_labels)\n",
    "        real_scores = real_out\n",
    "        \n",
    "        fake_out, _, _ = D(fake_imgs.detach())\n",
    "        d_loss_fake = adversarial_loss(fake_out, fake)\n",
    "        fake_scores = fake_out\n",
    "        \n",
    "        d_loss = (d_loss_real + d_loss_fake) / 2 # + d_loss_real_label\n",
    "        D_optimezer.zero_grad()\n",
    "        d_loss.backward()\n",
    "        D_optimezer.step()\n",
    "        #######################\n",
    "        \n",
    "        ########## I ##########\n",
    "        z = torch.randn(imgs.size(0), z_dimension).cuda()\n",
    "        fake_labels = torch.from_numpy(np.random.randint(0, 10, imgs.size(0))).cuda()\n",
    "        codes = torch.from_numpy(np.random.normal(-1, 1, (imgs.size(0), 2))).float().cuda()\n",
    "        \n",
    "        i_imgs = G(z, fake_labels, codes)\n",
    "        \n",
    "        _, fake_label, fake_code = D(i_imgs)\n",
    "        \n",
    "        i_loss = lambda_cat * auxiliary_loss(fake_label, fake_labels) + \\\n",
    "                 lambda_con * adversarial_loss(fake_code, codes)\n",
    "\n",
    "        I_optimezer.zero_grad()\n",
    "        i_loss.backward()\n",
    "        I_optimezer.step()\n",
    "        #######################\n",
    "        \n",
    "        d_loss_total += d_loss.item() * imgs.size(0)\n",
    "        g_loss_total += g_loss.item() * imgs.size(0)\n",
    "        i_loss_total += i_loss.item() * imgs.size(0)\n",
    "        \n",
    "        step = _step + i + 1\n",
    "        \n",
    "        if (i + 1) % 100 == 0:\n",
    "            writer.add_scalar('Discriminator Real Loss', d_loss_real.item(), step)\n",
    "            writer.add_scalar('Discriminator Fake Loss', d_loss_fake.item(), step)\n",
    "            writer.add_scalar('Discriminator Loss', d_loss.item(), step)\n",
    "            writer.add_scalar('Generator Loss', g_loss.item(), step)\n",
    "            writer.add_scalar('Info Loss', i_loss.item(), step)\n",
    "        \n",
    "        if (i + 1) % 300 == 0:\n",
    "            tqdm.write('Epoch [{}/{}], Step: {:6d}, d_loss: {:.6f}, g_loss: {:.6f}, i_loss: {:.6f}, real_scores: {:.6f}' \\\n",
    "', fake_scores: {:.6f}'.format(epoch+1, num_epochs, (i+1) * batch_size, d_loss, \n",
    "                                                    g_loss, i_loss, real_scores.mean(), fake_scores.mean()))\n",
    "    \n",
    "    setp = (epoch + 1) * total_count\n",
    "    _d_loss_total = d_loss_total / (total_count * (epoch + 1))\n",
    "    _g_loss_total = g_loss_total / (total_count * (epoch + 1))\n",
    "    _i_loss_total = i_loss_total / (total_count * (epoch + 1))\n",
    "    \n",
    "    writer.add_scalar('Discriminator Total Loss', _d_loss_total, step)\n",
    "    writer.add_scalar('Generator Total Loss', _g_loss_total, step)\n",
    "    writer.add_scalar('Info Total Loss', _i_loss_total, step)\n",
    "    \n",
    "    tqdm.write(\"Finish Epoch [{}/{}], D Loss: {:.6f}, G Loss: {:.6f}, I Loss: {:.6f}\".format(epoch+1, \n",
    "                                                                             num_epochs, \n",
    "                                                                             _d_loss_total,\n",
    "                                                                             _g_loss_total,\n",
    "                                                                             _i_loss_total, ))\n",
    "    \n",
    "    if epoch == 0:\n",
    "        real_images = real_imgs.view(-1, 1, 32, 32).cpu().data\n",
    "        save_image(real_images, os.path.join(img_path, 'real_images.png'))\n",
    "        \n",
    "    noise = torch.randn(10, z_dimension).cuda()\n",
    "    condition_images = G(noise, condition, code)\n",
    "    \n",
    "    writer.add_image('Generator Image', make_grid(fake_imgs.view(-1, 1, 32, 32).cpu().data, normalize=True, scale_each=True), step)\n",
    "    writer.add_image('Condition Generator Image', make_grid(condition_images.view(-1, 1, 32, 32).cpu().data, normalize=True, scale_each=True), step)\n",
    "    \n",
    "    fake_images = fake_imgs.view(-1, 1, 32, 32).cpu().data\n",
    "    save_image(fake_images, os.path.join(img_path, 'fake_images-{}.png'.format(epoch+1)))\n",
    "    save_image(condition_images, os.path.join(img_path, 'condition_images-{}.png'.format(epoch+1)))"
   ]
  },
  {
   "cell_type": "code",
   "execution_count": 18,
   "metadata": {},
   "outputs": [],
   "source": [
    "writer.close()"
   ]
  },
  {
   "cell_type": "code",
   "execution_count": 19,
   "metadata": {},
   "outputs": [],
   "source": [
    "torch.save(D.state_dict(), './ser/info_gan_discriminator.pt')\n",
    "torch.save(G.state_dict(), './ser/info_gan_generator.pt')"
   ]
  },
  {
   "cell_type": "code",
   "execution_count": 20,
   "metadata": {},
   "outputs": [],
   "source": [
    "D.load_state_dict(torch.load('./ser/info_gan_discriminator.pt'))\n",
    "G.load_state_dict(torch.load('./ser/info_gan_generator.pt'))"
   ]
  },
  {
   "cell_type": "code",
   "execution_count": 21,
   "metadata": {},
   "outputs": [
    {
     "data": {
      "image/png": "[encoded data removed]",
      "text/plain": [
       "<Figure size 432x288 with 1 Axes>"
      ]
     },
     "metadata": {
      "needs_background": "dark"
     },
     "output_type": "display_data"
    }
   ],
   "source": [
    "words = np.arange(10)\n",
    "l = torch.from_numpy(np.repeat(words, 8)).cuda()\n",
    "z = torch.randn(l.size(0), z_dimension).to(device)\n",
    "\n",
    "code_x = np.repeat(np.linspace(-1, 1, 10), 8)\n",
    "code_y = np.repeat(np.linspace(-1, 1, 10).reshape(1, 10), 8, axis=0).reshape(-1)\n",
    "code = torch.from_numpy(np.column_stack([code_x, code_y])).float().cuda()\n",
    "\n",
    "images = G(z, l, code)\n",
    "# save_image(images, 'xx.png')\n",
    "plt.imshow(Image.fromarray(make_grid(images).mul(255).clamp(0, 255).byte().permute(1, 2, 0).cpu().numpy()))\n",
    "plt.show()"
   ]
  },
  {
   "cell_type": "code",
   "execution_count": 16,
   "metadata": {},
   "outputs": [
    {
     "data": {
      "image/png": "[encoded data removed]",
      "text/plain": [
       "<Figure size 432x288 with 1 Axes>"
      ]
     },
     "metadata": {
      "needs_background": "dark"
     },
     "output_type": "display_data"
    }
   ],
   "source": [
    "words = np.arange(10)\n",
    "l = torch.from_numpy(words).cuda()\n",
    "z = torch.randn(words.size, z_dimension).to(device)\n",
    "images = G(z, l)\n",
    "# save_image(images, 'xx.png')\n",
    "plt.imshow(Image.fromarray(make_grid(images).mul(255).clamp(0, 255).byte().permute(1, 2, 0).cpu().numpy()))\n",
    "plt.show()"
   ]
  },
  {
   "cell_type": "code",
   "execution_count": null,
   "metadata": {},
   "outputs": [],
   "source": []
  }
 ],
 "metadata": {
  "kernelspec": {
   "display_name": "venv36",
   "language": "python",
   "name": "venv36"
  },
  "language_info": {
   "codemirror_mode": {
    "name": "ipython",
    "version": 3
   },
   "file_extension": ".py",
   "mimetype": "text/x-python",
   "name": "python",
   "nbconvert_exporter": "python",
   "pygments_lexer": "ipython3",
   "version": "3.6.8"
  },
  "varInspector": {
   "cols": {
    "lenName": 16,
    "lenType": 16,
    "lenVar": 40
   },
   "kernels_config": {
    "python": {
     "delete_cmd_postfix": "",
     "delete_cmd_prefix": "del ",
     "library": "var_list.py",
     "varRefreshCmd": "print(var_dic_list())"
    },
    "r": {
     "delete_cmd_postfix": ") ",
     "delete_cmd_prefix": "rm(",
     "library": "var_list.r",
     "varRefreshCmd": "cat(var_dic_list()) "
    }
   },
   "position": {
    "height": "556px",
    "left": "247px",
    "right": "398px",
    "top": "131px",
    "width": "752px"
   },
   "types_to_exclude": [
    "module",
    "function",
    "builtin_function_or_method",
    "instance",
    "_Feature"
   ],
   "window_display": false
  }
 },
 "nbformat": 4,
 "nbformat_minor": 2
}
