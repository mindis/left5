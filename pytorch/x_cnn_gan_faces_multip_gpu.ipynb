{
 "cells": [
  {
   "cell_type": "code",
   "execution_count": 1,
   "metadata": {},
   "outputs": [],
   "source": [
    "import os, time\n",
    "from tqdm import tnrange, tqdm_notebook, tqdm\n",
    "import torch\n",
    "from torch import nn, optim\n",
    "from torch.utils.data import DataLoader\n",
    "from torchvision import transforms, datasets\n",
    "from torchvision.utils import save_image, make_grid\n",
    "import numpy as np\n",
    "from PIL import Image\n",
    "import matplotlib.pyplot as plt\n",
    "from tensorboardX import SummaryWriter"
   ]
  },
  {
   "cell_type": "code",
   "execution_count": 2,
   "metadata": {},
   "outputs": [],
   "source": [
    "now = int(time.time())"
   ]
  },
  {
   "cell_type": "code",
   "execution_count": 3,
   "metadata": {},
   "outputs": [],
   "source": [
    "from matplotlib import rcParams\n",
    "rcParams['figure.figsize'] = (12, 8)\n",
    "\n",
    "%matplotlib inline"
   ]
  },
  {
   "cell_type": "code",
   "execution_count": 4,
   "metadata": {},
   "outputs": [],
   "source": [
    "device = torch.device('cuda' if torch.cuda.is_available() else 'cpu')"
   ]
  },
  {
   "cell_type": "code",
   "execution_count": 5,
   "metadata": {},
   "outputs": [],
   "source": [
    "batch_size = 64\n",
    "num_epochs = 1000\n",
    "\n",
    "z_dimension = 100\n",
    "num_feature_x1 = 192\n",
    "num_feature_x2 = 192"
   ]
  },
  {
   "cell_type": "code",
   "execution_count": 6,
   "metadata": {},
   "outputs": [],
   "source": [
    "device_ids = [0] #, 1]"
   ]
  },
  {
   "cell_type": "code",
   "execution_count": 7,
   "metadata": {},
   "outputs": [],
   "source": [
    "img_transform = transforms.Compose([\n",
    "    transforms.ToTensor(),\n",
    "    transforms.Normalize((.5, .5, .5), (.5, .5, .5))\n",
    "])\n",
    "\n",
    "dataset = datasets.ImageFolder('~/data/anime-faces', transform=img_transform)\n",
    "dataloader = DataLoader(dataset, batch_size=batch_size, shuffle=True, num_workers=4)"
   ]
  },
  {
   "cell_type": "code",
   "execution_count": 8,
   "metadata": {},
   "outputs": [],
   "source": [
    "def normal_init(m, mean, std):\n",
    "    if isinstance(m, nn.ConvTranspose2d) or isinstance(m, nn.Conv2d):\n",
    "        m.weight.data.normal_(mean, std)\n",
    "        m.bias.data.zero_()"
   ]
  },
  {
   "cell_type": "code",
   "execution_count": 9,
   "metadata": {},
   "outputs": [],
   "source": [
    "class Discriminator(nn.Module): # b 3 96 96\n",
    "    def __init__(self):\n",
    "        super(Discriminator, self).__init__()\n",
    "        \n",
    "        self.conv1 = nn.Sequential(\n",
    "            nn.Conv2d(3, 32, 3, padding=1),\n",
    "            nn.LeakyReLU(.2, True),\n",
    "            nn.AvgPool2d(2, 2), \n",
    "        ) # b 32 48 48\n",
    "        \n",
    "        self.conv2 = nn.Sequential(\n",
    "            nn.Conv2d(32, 64, 3, padding=1),\n",
    "            nn.LeakyReLU(.2, True),\n",
    "            nn.AvgPool2d(2, 2),\n",
    "        ) # b 64 24 24\n",
    "        \n",
    "        self.conv3 = nn.Sequential(\n",
    "            nn.Conv2d(64, 64, 3, padding=1),\n",
    "            nn.LeakyReLU(.2, True),\n",
    "            nn.AvgPool2d(4, 4),\n",
    "        ) # b 64 6 6\n",
    "        \n",
    "        self.fc = nn.Sequential(\n",
    "            nn.Linear(64 * 6 * 6, 1024),\n",
    "            nn.LeakyReLU(.2, True),\n",
    "            nn.Linear(1024, 1),\n",
    "            nn.Sigmoid(),\n",
    "        ) # b 1\n",
    "        \n",
    "    def weight_init(self, mean, std):\n",
    "        for m in self._modules:\n",
    "            normal_init(self._modules[m], mean, std)\n",
    "    \n",
    "    def forward(self, x): # b 1 28 28\n",
    "        out = self.conv1(x)\n",
    "        out = self.conv2(out)\n",
    "        out = self.conv3(out)\n",
    "        \n",
    "        out = out.view(x.size(0), -1)\n",
    "        return self.fc(out)"
   ]
  },
  {
   "cell_type": "code",
   "execution_count": 10,
   "metadata": {},
   "outputs": [],
   "source": [
    "class Generator(nn.Module):\n",
    "    def __init__(self, inp_dim, num_feature_x1, num_feature_x2):\n",
    "        super(Generator, self).__init__()\n",
    "        \n",
    "        self.num_feature_x1 = num_feature_x1\n",
    "        self.num_feature_x2 = num_feature_x2\n",
    "        \n",
    "        self.fc = nn.Sequential(\n",
    "            nn.Linear(inp_dim, num_feature_x1 * num_feature_x2),\n",
    "            # todo\n",
    "            #nn.Sig\n",
    "        ) # b h*w\n",
    "        self.br = nn.Sequential(\n",
    "            nn.BatchNorm2d(1),\n",
    "            nn.LeakyReLU(.2, True),\n",
    "        ) # b 1 192 192\n",
    "        \n",
    "        self.downsample1 = nn.Sequential(\n",
    "            nn.Conv2d(1, 64, 3, padding=1),\n",
    "            nn.BatchNorm2d(64),\n",
    "            nn.LeakyReLU(.2, True),\n",
    "        ) # b 64 192 192\n",
    "        \n",
    "        self.downsample2 = nn.Sequential(\n",
    "            nn.Conv2d(64, 32, 3, padding=1),\n",
    "            nn.BatchNorm2d(32),\n",
    "            nn.LeakyReLU(.2, True),\n",
    "        ) # b 32 192 192\n",
    "        \n",
    "        self.downsample3 = nn.Sequential(\n",
    "            nn.Conv2d(32, 3, 3, padding=1, stride=2),\n",
    "            nn.Tanh(),\n",
    "        ) # b 3 96 96\n",
    "        \n",
    "    def weight_init(self, mean, std):\n",
    "        for m in self._modules:\n",
    "            normal_init(self._modules[m], mean, std)\n",
    "            \n",
    "    def forward(self, x):\n",
    "        out = self.fc(x)\n",
    "        out = out.view(x.size(0), 1, self.num_feature_x1, self.num_feature_x2)\n",
    "        out = self.br(out)\n",
    "\n",
    "        out = self.downsample1(out)\n",
    "        out = self.downsample2(out)\n",
    "        out = self.downsample3(out)\n",
    "        return out"
   ]
  },
  {
   "cell_type": "code",
   "execution_count": 11,
   "metadata": {},
   "outputs": [],
   "source": [
    "d = Discriminator()#.cuda(device_ids[0])\n",
    "g = Generator(z_dimension, num_feature_x1, num_feature_x2)#.cuda(device_ids[0])\n",
    "\n",
    "# d.weight_init(0.0, 0.02)\n",
    "# g.weight_init(0.0, 0.02)\n",
    "\n",
    "d = nn.DataParallel(d, device_ids=device_ids).to(device)\n",
    "g = nn.DataParallel(g, device_ids=device_ids).to(device)\n",
    "\n",
    "\n",
    "criterion = nn.BCELoss()\n",
    "\n",
    "d_optimezer = optim.Adam(d.parameters(), lr=2e-4)\n",
    "# d_optimezer = nn.DataParallel(d_optimezer, device_ids=device_ids)\n",
    "g_optimezer = optim.Adam(g.parameters(), lr=2e-4)\n",
    "# g_optimezer = nn.DataParallel(g_optimezer, device_ids=device_ids)"
   ]
  },
  {
   "cell_type": "code",
   "execution_count": 12,
   "metadata": {},
   "outputs": [],
   "source": [
    "writer = SummaryWriter(os.path.join('./log/cnn_gan_faces_multip_gpu', str(now)))"
   ]
  },
  {
   "cell_type": "code",
   "execution_count": 13,
   "metadata": {},
   "outputs": [],
   "source": [
    "img_path = os.path.join(\"save_images/cnn_gan_faces_multip_gpu\", str(now))\n",
    "if not os.path.exists(img_path): os.makedirs(img_path)"
   ]
  },
  {
   "cell_type": "code",
   "execution_count": null,
   "metadata": {
    "scrolled": true
   },
   "outputs": [
    {
     "data": {
      "application/vnd.jupyter.widget-view+json": {
       "model_id": "3cce021206834551a9402f0f4c79cb15",
       "version_major": 2,
       "version_minor": 0
      },
      "text/plain": [
       "HBox(children=(IntProgress(value=0, max=1000), HTML(value='')))"
      ]
     },
     "metadata": {},
     "output_type": "display_data"
    },
    {
     "name": "stdout",
     "output_type": "stream",
     "text": [
      "Epoch [1/1000], Step:  12800, d_loss: 0.714930, g_loss: 2.092250, real_scores: 0.793629, fake_scores: 0.245961\n",
      "Epoch [1/1000], Step:  25600, d_loss: 0.872694, g_loss: 1.638073, real_scores: 0.774833, fake_scores: 0.377789\n",
      "Epoch [1/1000], Step:  38400, d_loss: 0.754581, g_loss: 1.460998, real_scores: 0.774471, fake_scores: 0.309344\n",
      "Epoch [1/1000], Step:  51200, d_loss: 1.392092, g_loss: 0.822981, real_scores: 0.502126, fake_scores: 0.469129\n",
      "Epoch [1/1000], Step:  64000, d_loss: 0.995856, g_loss: 1.132781, real_scores: 0.579445, fake_scores: 0.300265\n",
      "Epoch [1/1000], Step:  76800, d_loss: 0.981001, g_loss: 1.931816, real_scores: 0.684469, fake_scores: 0.222527\n",
      "Epoch [1/1000], Step:  89600, d_loss: 0.737578, g_loss: 1.256760, real_scores: 0.712869, fake_scores: 0.281623\n",
      "Epoch [1/1000], Step: 102400, d_loss: 1.197600, g_loss: 0.733703, real_scores: 0.585896, fake_scores: 0.424487\n",
      "Finish Epoch [1/1000], D Loss: 63.698678, G Loss: 93.384895\n",
      "Epoch [2/1000], Step:  12800, d_loss: 1.437467, g_loss: 0.719781, real_scores: 0.523508, fake_scores: 0.288602\n",
      "Epoch [2/1000], Step:  25600, d_loss: 0.583166, g_loss: 2.050479, real_scores: 0.749647, fake_scores: 0.109394\n",
      "Epoch [2/1000], Step:  38400, d_loss: 0.774912, g_loss: 1.620006, real_scores: 0.620774, fake_scores: 0.166117\n",
      "Epoch [2/1000], Step:  51200, d_loss: 0.967711, g_loss: 1.150606, real_scores: 0.784120, fake_scores: 0.441434\n",
      "Epoch [2/1000], Step:  64000, d_loss: 1.114064, g_loss: 1.163577, real_scores: 0.583926, fake_scores: 0.346073\n",
      "Epoch [2/1000], Step:  76800, d_loss: 0.442049, g_loss: 2.230732, real_scores: 0.844785, fake_scores: 0.150050\n",
      "Epoch [2/1000], Step:  89600, d_loss: 0.856032, g_loss: 1.455840, real_scores: 0.875451, fake_scores: 0.424847\n",
      "Epoch [2/1000], Step: 102400, d_loss: 1.037366, g_loss: 1.335641, real_scores: 0.589939, fake_scores: 0.270472\n",
      "Finish Epoch [2/1000], D Loss: 28.463739, G Loss: 51.696210\n",
      "Epoch [3/1000], Step:  12800, d_loss: 0.871759, g_loss: 2.623335, real_scores: 0.759730, fake_scores: 0.272163\n",
      "Epoch [3/1000], Step:  25600, d_loss: 0.325316, g_loss: 2.328029, real_scores: 0.883919, fake_scores: 0.129711\n",
      "Epoch [3/1000], Step:  38400, d_loss: 1.297193, g_loss: 1.561561, real_scores: 0.756822, fake_scores: 0.255902\n",
      "Epoch [3/1000], Step:  51200, d_loss: 0.778245, g_loss: 1.749741, real_scores: 0.737498, fake_scores: 0.213573\n",
      "Epoch [3/1000], Step:  64000, d_loss: 1.276668, g_loss: 1.468719, real_scores: 0.701091, fake_scores: 0.371088\n",
      "Epoch [3/1000], Step:  76800, d_loss: 0.328994, g_loss: 2.068661, real_scores: 0.864241, fake_scores: 0.108849\n",
      "Epoch [3/1000], Step:  89600, d_loss: 0.325119, g_loss: 3.431216, real_scores: 0.860366, fake_scores: 0.110306\n",
      "Epoch [3/1000], Step: 102400, d_loss: 0.451057, g_loss: 2.018085, real_scores: 0.826740, fake_scores: 0.160111\n",
      "Finish Epoch [3/1000], D Loss: 12.121367, G Loss: 55.222185\n",
      "Epoch [4/1000], Step:  12800, d_loss: 0.254248, g_loss: 3.155927, real_scores: 0.946719, fake_scores: 0.124355\n",
      "Epoch [4/1000], Step:  25600, d_loss: 1.047964, g_loss: 4.979741, real_scores: 0.991526, fake_scores: 0.502691\n",
      "Epoch [4/1000], Step:  38400, d_loss: 0.306501, g_loss: 2.395905, real_scores: 0.929988, fake_scores: 0.166631\n",
      "Epoch [4/1000], Step:  51200, d_loss: 0.423916, g_loss: 3.247980, real_scores: 0.855323, fake_scores: 0.099981\n",
      "Epoch [4/1000], Step:  64000, d_loss: 0.356626, g_loss: 2.593795, real_scores: 0.827388, fake_scores: 0.074812\n",
      "Epoch [4/1000], Step:  76800, d_loss: 0.593499, g_loss: 1.969048, real_scores: 0.755212, fake_scores: 0.177954\n",
      "Epoch [4/1000], Step:  89600, d_loss: 0.942329, g_loss: 1.235895, real_scores: 0.654302, fake_scores: 0.280803\n",
      "Epoch [4/1000], Step: 102400, d_loss: 0.250717, g_loss: 2.785458, real_scores: 0.890194, fake_scores: 0.067118\n",
      "Finish Epoch [4/1000], D Loss: 8.252748, G Loss: 45.479078\n",
      "Epoch [5/1000], Step:  12800, d_loss: 0.514356, g_loss: 2.352137, real_scores: 0.833182, fake_scores: 0.192250\n",
      "Epoch [5/1000], Step:  25600, d_loss: 0.441747, g_loss: 2.799985, real_scores: 0.836153, fake_scores: 0.116828\n",
      "Epoch [5/1000], Step:  38400, d_loss: 0.771586, g_loss: 2.517675, real_scores: 0.849944, fake_scores: 0.215184\n",
      "Epoch [5/1000], Step:  51200, d_loss: 0.529643, g_loss: 2.416885, real_scores: 0.776961, fake_scores: 0.112068\n",
      "Epoch [5/1000], Step:  64000, d_loss: 0.454010, g_loss: 4.111952, real_scores: 0.811573, fake_scores: 0.087687\n",
      "Epoch [5/1000], Step:  76800, d_loss: 1.134342, g_loss: 2.801679, real_scores: 0.926836, fake_scores: 0.396455\n",
      "Epoch [5/1000], Step:  89600, d_loss: 0.538358, g_loss: 2.272656, real_scores: 0.805400, fake_scores: 0.150937\n",
      "Epoch [5/1000], Step: 102400, d_loss: 0.460601, g_loss: 1.941660, real_scores: 0.810909, fake_scores: 0.129228\n",
      "Finish Epoch [5/1000], D Loss: 6.297176, G Loss: 35.769679\n",
      "Epoch [6/1000], Step:  12800, d_loss: 0.480730, g_loss: 2.135299, real_scores: 0.773659, fake_scores: 0.091845\n",
      "Epoch [6/1000], Step:  25600, d_loss: 0.684962, g_loss: 1.830566, real_scores: 0.884016, fake_scores: 0.292209\n",
      "Epoch [6/1000], Step:  38400, d_loss: 0.664452, g_loss: 1.266153, real_scores: 0.875937, fake_scores: 0.334022\n",
      "Epoch [6/1000], Step:  51200, d_loss: 0.728420, g_loss: 3.398669, real_scores: 0.700487, fake_scores: 0.040002\n",
      "Epoch [6/1000], Step:  64000, d_loss: 0.494609, g_loss: 2.562712, real_scores: 0.921358, fake_scores: 0.251183\n",
      "Epoch [6/1000], Step:  76800, d_loss: 0.417820, g_loss: 1.844217, real_scores: 0.858387, fake_scores: 0.156621\n",
      "Epoch [6/1000], Step:  89600, d_loss: 0.474308, g_loss: 1.988126, real_scores: 0.785324, fake_scores: 0.103822\n",
      "Epoch [6/1000], Step: 102400, d_loss: 1.000571, g_loss: 2.737665, real_scores: 0.571988, fake_scores: 0.041401\n",
      "Finish Epoch [6/1000], D Loss: 5.432234, G Loss: 27.423977\n",
      "Epoch [7/1000], Step:  12800, d_loss: 0.611468, g_loss: 2.015690, real_scores: 0.744826, fake_scores: 0.157025\n",
      "Epoch [7/1000], Step:  25600, d_loss: 0.916357, g_loss: 2.012057, real_scores: 0.781030, fake_scores: 0.275685\n",
      "Epoch [7/1000], Step:  38400, d_loss: 0.436868, g_loss: 2.623251, real_scores: 0.872161, fake_scores: 0.198755\n",
      "Epoch [7/1000], Step:  51200, d_loss: 0.679082, g_loss: 2.351395, real_scores: 0.767398, fake_scores: 0.175568\n",
      "Epoch [7/1000], Step:  64000, d_loss: 0.624513, g_loss: 2.225443, real_scores: 0.822975, fake_scores: 0.247330\n",
      "Epoch [7/1000], Step:  76800, d_loss: 0.573524, g_loss: 1.571983, real_scores: 0.855225, fake_scores: 0.236942\n",
      "Epoch [7/1000], Step:  89600, d_loss: 0.558036, g_loss: 2.000335, real_scores: 0.956262, fake_scores: 0.266656\n",
      "Epoch [7/1000], Step: 102400, d_loss: 0.481413, g_loss: 2.187721, real_scores: 0.888830, fake_scores: 0.239077\n",
      "Finish Epoch [7/1000], D Loss: 4.823861, G Loss: 23.679950\n",
      "Epoch [8/1000], Step:  12800, d_loss: 0.317054, g_loss: 3.015964, real_scores: 0.900557, fake_scores: 0.136945\n",
      "Epoch [8/1000], Step:  25600, d_loss: 0.503231, g_loss: 2.002925, real_scores: 0.809529, fake_scores: 0.083867\n",
      "Epoch [8/1000], Step:  38400, d_loss: 0.397421, g_loss: 2.522824, real_scores: 0.898300, fake_scores: 0.211392\n",
      "Epoch [8/1000], Step:  51200, d_loss: 0.594140, g_loss: 2.902008, real_scores: 0.806903, fake_scores: 0.195373\n",
      "Epoch [8/1000], Step:  64000, d_loss: 1.222091, g_loss: 3.026883, real_scores: 0.909753, fake_scores: 0.464155\n",
      "Epoch [8/1000], Step:  76800, d_loss: 0.522774, g_loss: 2.005987, real_scores: 0.814463, fake_scores: 0.161781\n",
      "Epoch [8/1000], Step:  89600, d_loss: 0.732167, g_loss: 3.680192, real_scores: 0.683801, fake_scores: 0.028028\n",
      "Epoch [8/1000], Step: 102400, d_loss: 0.508970, g_loss: 2.940167, real_scores: 0.802896, fake_scores: 0.136147\n",
      "Finish Epoch [8/1000], D Loss: 3.849947, G Loss: 22.822891\n",
      "Epoch [9/1000], Step:  12800, d_loss: 0.408372, g_loss: 2.342187, real_scores: 0.951363, fake_scores: 0.220509\n",
      "Epoch [9/1000], Step:  25600, d_loss: 0.443249, g_loss: 2.531265, real_scores: 0.857571, fake_scores: 0.169957\n",
      "Epoch [9/1000], Step:  38400, d_loss: 0.484911, g_loss: 1.969490, real_scores: 0.801242, fake_scores: 0.088763\n"
     ]
    }
   ],
   "source": [
    "total_count = len(dataloader)\n",
    "for epoch in tqdm_notebook(range(num_epochs)):\n",
    "    \n",
    "    d_loss_total = .0\n",
    "    g_loss_total = .0\n",
    "    _step = epoch * total_count\n",
    "    for i, (img, _) in enumerate(dataloader):\n",
    "        \n",
    "        real_img = img.cuda()\n",
    "        real_labels = torch.ones(img.size(0), 1).cuda()\n",
    "        fake_labels = torch.zeros(img.size(0), 1).cuda()\n",
    "        \n",
    "        real_out = d(real_img)\n",
    "        d_loss_real = criterion(real_out, real_labels)\n",
    "        real_scores = real_out\n",
    "        \n",
    "        z = torch.randn(img.size(0), z_dimension).cuda()\n",
    "        fake_img = g(z)\n",
    "        fake_out = d(fake_img)\n",
    "        d_loss_fake = criterion(fake_out, fake_labels)\n",
    "        fake_scores = fake_out\n",
    "        \n",
    "        d_loss = d_loss_real + d_loss_fake\n",
    "        d_optimezer.zero_grad()\n",
    "        d_loss.backward()\n",
    "        d_optimezer.step()\n",
    "        \n",
    "        z = torch.randn(img.size(0), z_dimension).cuda()\n",
    "        fake_img = g(z)\n",
    "        fake_out = d(fake_img)\n",
    "        g_loss = criterion(fake_out, real_labels)\n",
    "        \n",
    "        g_optimezer.zero_grad()\n",
    "        g_loss.backward()\n",
    "        g_optimezer.step()\n",
    "        \n",
    "        d_loss_total += d_loss.item() * img.size(0)\n",
    "        g_loss_total += g_loss.item() * img.size(0)\n",
    "        \n",
    "        step = _step + i + 1\n",
    "        \n",
    "        if (i + 1) % 100 == 0:\n",
    "            writer.add_scalar('Discriminator Real Loss', d_loss_real.item(), step)\n",
    "            writer.add_scalar('Discriminator Fake Loss', d_loss_fake.item(), step)\n",
    "            writer.add_scalar('Discriminator Loss', d_loss.item(), step)\n",
    "            writer.add_scalar('Generator Loss', g_loss.item(), step)\n",
    "        \n",
    "        \n",
    "        if (i + 1) % 200 == 0:\n",
    "            tqdm.write('Epoch [{}/{}], Step: {:6d}, d_loss: {:.6f}, g_loss: {:.6f}, real_scores: {:.6f}' \\\n",
    "', fake_scores: {:.6f}'.format(epoch+1, num_epochs, (i+1) * batch_size, d_loss, g_loss, real_scores.mean(), fake_scores.mean()))\n",
    "    \n",
    "    _d_loss_total = d_loss_total / (total_count * (epoch + 1))\n",
    "    _g_loss_total = g_loss_total / (total_count * (epoch + 1))\n",
    "    \n",
    "    setp = (epoch + 1) * total_count\n",
    "    writer.add_scalar('Discriminator Total Loss', _d_loss_total, step)\n",
    "    writer.add_scalar('Generator Total Loss', _g_loss_total, step)\n",
    "    tqdm.write(\"Finish Epoch [{}/{}], D Loss: {:.6f}, G Loss: {:.6f}\".format(epoch+1, \n",
    "                                                                             num_epochs, \n",
    "                                                                             _d_loss_total,\n",
    "                                                                             _g_loss_total, ))\n",
    "    if epoch == 0:\n",
    "        real_images = real_img.view(-1, 3, 96, 96).cpu().data\n",
    "        save_image(real_images, os.path.join(img_path, 'real_images.png'))\n",
    "\n",
    "    fake_images = fake_img.view(-1, 3, 96, 96).cpu().data\n",
    "    save_image(fake_images, os.path.join(img_path, 'fake_images-{}.png'.format(epoch+1)))"
   ]
  },
  {
   "cell_type": "code",
   "execution_count": null,
   "metadata": {},
   "outputs": [],
   "source": [
    "writer.close()"
   ]
  },
  {
   "cell_type": "code",
   "execution_count": null,
   "metadata": {},
   "outputs": [],
   "source": [
    "torch.save(d.state_dict(), './ser/faces_discriminator_m_gpu.pkl')\n",
    "torch.save(g.state_dict(), './ser/faces_generator_m_gpu.pkl')"
   ]
  },
  {
   "cell_type": "code",
   "execution_count": null,
   "metadata": {},
   "outputs": [],
   "source": [
    "z = torch.randn(4, z_dimension).to(device)\n",
    "images = g(z)\n",
    "# save_image(images, 'xx.png')\n",
    "plt.imshow(Image.fromarray(make_grid(images).mul(255).clamp(0, 255).byte().permute(1, 2, 0).cpu().numpy()))\n",
    "plt.show()"
   ]
  },
  {
   "cell_type": "code",
   "execution_count": null,
   "metadata": {},
   "outputs": [],
   "source": []
  }
 ],
 "metadata": {
  "kernelspec": {
   "display_name": "venv36",
   "language": "python",
   "name": "venv36"
  },
  "language_info": {
   "codemirror_mode": {
    "name": "ipython",
    "version": 3
   },
   "file_extension": ".py",
   "mimetype": "text/x-python",
   "name": "python",
   "nbconvert_exporter": "python",
   "pygments_lexer": "ipython3",
   "version": "3.6.8"
  },
  "varInspector": {
   "cols": {
    "lenName": 16,
    "lenType": 16,
    "lenVar": 40
   },
   "kernels_config": {
    "python": {
     "delete_cmd_postfix": "",
     "delete_cmd_prefix": "del ",
     "library": "var_list.py",
     "varRefreshCmd": "print(var_dic_list())"
    },
    "r": {
     "delete_cmd_postfix": ") ",
     "delete_cmd_prefix": "rm(",
     "library": "var_list.r",
     "varRefreshCmd": "cat(var_dic_list()) "
    }
   },
   "position": {
    "height": "556px",
    "left": "247px",
    "right": "398px",
    "top": "131px",
    "width": "752px"
   },
   "types_to_exclude": [
    "module",
    "function",
    "builtin_function_or_method",
    "instance",
    "_Feature"
   ],
   "window_display": false
  }
 },
 "nbformat": 4,
 "nbformat_minor": 2
}
