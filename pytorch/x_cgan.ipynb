{
 "cells": [
  {
   "cell_type": "code",
   "execution_count": 1,
   "metadata": {},
   "outputs": [],
   "source": [
    "import os\n",
    "from tqdm import tnrange, tqdm_notebook, tqdm\n",
    "import torch\n",
    "from torch import nn, optim\n",
    "from torch.utils.data import DataLoader\n",
    "from torchvision import transforms, datasets\n",
    "from torchvision.utils import save_image, make_grid\n",
    "import numpy as np\n",
    "from PIL import Image\n",
    "import matplotlib.pyplot as plt\n",
    "from tensorboardX import SummaryWriter"
   ]
  },
  {
   "cell_type": "code",
   "execution_count": 2,
   "metadata": {},
   "outputs": [],
   "source": [
    "# os.environ['CUDA_VISIBLE_DEVICES'] = '1'"
   ]
  },
  {
   "cell_type": "code",
   "execution_count": 3,
   "metadata": {},
   "outputs": [],
   "source": [
    "from matplotlib import rcParams\n",
    "rcParams['figure.figsize'] = (12, 8)\n",
    "\n",
    "%matplotlib inline"
   ]
  },
  {
   "cell_type": "code",
   "execution_count": 4,
   "metadata": {},
   "outputs": [],
   "source": [
    "device = torch.device('cuda' if torch.cuda.is_available() else 'cpu')"
   ]
  },
  {
   "cell_type": "code",
   "execution_count": 5,
   "metadata": {},
   "outputs": [
    {
     "data": {
      "text/plain": [
       "True"
      ]
     },
     "execution_count": 5,
     "metadata": {},
     "output_type": "execute_result"
    }
   ],
   "source": [
    "torch.cuda.is_available()"
   ]
  },
  {
   "cell_type": "code",
   "execution_count": 6,
   "metadata": {},
   "outputs": [],
   "source": [
    "device_ids = [0]"
   ]
  },
  {
   "cell_type": "code",
   "execution_count": 7,
   "metadata": {},
   "outputs": [],
   "source": [
    "batch_size = 128\n",
    "num_epochs = 100\n",
    "\n",
    "z_dimension = 100\n",
    "\n",
    "img_shape = (1, 32, 32)"
   ]
  },
  {
   "cell_type": "code",
   "execution_count": 8,
   "metadata": {},
   "outputs": [],
   "source": [
    "img_transform = transforms.Compose([\n",
    "    transforms.Resize(32),\n",
    "    transforms.ToTensor(),\n",
    "    transforms.Normalize((.5, .5, .5), (.5, .5, .5))\n",
    "])\n",
    "\n",
    "dataset = datasets.MNIST('/home/left5/datas/mnist', transform=img_transform) #, download=True)\n",
    "dataloader = DataLoader(dataset, batch_size=batch_size, shuffle=True, num_workers=4)"
   ]
  },
  {
   "cell_type": "code",
   "execution_count": 9,
   "metadata": {},
   "outputs": [],
   "source": [
    "class Discriminator(nn.Module):\n",
    "    def __init__(self):\n",
    "        super(Discriminator, self).__init__()\n",
    "\n",
    "        self.label_embedding = nn.Embedding(10, 10)\n",
    "\n",
    "        self.model = nn.Sequential(\n",
    "            nn.Linear(10 + int(np.prod(img_shape)), 512),\n",
    "            nn.LeakyReLU(0.2, inplace=True),\n",
    "            nn.Linear(512, 512),\n",
    "            nn.Dropout(0.4),\n",
    "            nn.LeakyReLU(0.2, inplace=True),\n",
    "            nn.Linear(512, 512),\n",
    "            nn.Dropout(0.4),\n",
    "            nn.LeakyReLU(0.2, inplace=True),\n",
    "            nn.Linear(512, 1)\n",
    "        )\n",
    "\n",
    "    def forward(self, img, labels):\n",
    "        # Concatenate label embedding and image to produce input\n",
    "        d_in = torch.cat((img.view(img.size(0), -1), self.label_embedding(labels)), -1)\n",
    "        validity = self.model(d_in)\n",
    "        return validity"
   ]
  },
  {
   "cell_type": "code",
   "execution_count": 10,
   "metadata": {},
   "outputs": [],
   "source": [
    "class Generator(nn.Module):\n",
    "    def __init__(self):\n",
    "        super(Generator, self).__init__()\n",
    "\n",
    "        self.label_emb = nn.Embedding(10, 10)\n",
    "\n",
    "        def block(in_feat, out_feat, normalize=True):\n",
    "            layers = [nn.Linear(in_feat, out_feat)]\n",
    "            if normalize:\n",
    "                layers.append(nn.BatchNorm1d(out_feat, 0.8))\n",
    "            layers.append(nn.LeakyReLU(0.2, inplace=True))\n",
    "            return layers\n",
    "\n",
    "        self.model = nn.Sequential(\n",
    "            *block(z_dimension + 10, 128, normalize=False),\n",
    "            *block(128, 256),\n",
    "            *block(256, 512),\n",
    "            *block(512, 1024),\n",
    "            nn.Linear(1024, int(np.prod(img_shape))),\n",
    "            nn.Tanh()\n",
    "        )\n",
    "\n",
    "    def forward(self, noise, labels):\n",
    "        # Concatenate label embedding and image to produce input\n",
    "        gen_input = torch.cat((self.label_emb(labels), noise), -1)\n",
    "        img = self.model(gen_input)\n",
    "        img = img.view(img.size(0), *img_shape)\n",
    "        return img"
   ]
  },
  {
   "cell_type": "code",
   "execution_count": 23,
   "metadata": {},
   "outputs": [],
   "source": [
    "D = Discriminator().to(device)\n",
    "G = Generator().to(device)\n",
    "\n",
    "D = nn.DataParallel(D, device_ids=device_ids).to(device)\n",
    "G = nn.DataParallel(G, device_ids=device_ids).to(device)\n",
    "\n",
    "adversarial_loss = nn.MSELoss()\n",
    "\n",
    "D_optimezer = optim.Adam(D.parameters(), lr=2e-4, betas=(0, 0.9))\n",
    "G_optimezer = optim.Adam(G.parameters(), lr=2e-4, betas=(0, 0.9))"
   ]
  },
  {
   "cell_type": "code",
   "execution_count": 12,
   "metadata": {},
   "outputs": [],
   "source": [
    "condition = torch.from_numpy(np.arange(10)).cuda()"
   ]
  },
  {
   "cell_type": "code",
   "execution_count": 13,
   "metadata": {},
   "outputs": [],
   "source": [
    "writer = SummaryWriter('./log/cgan')"
   ]
  },
  {
   "cell_type": "code",
   "execution_count": 14,
   "metadata": {},
   "outputs": [],
   "source": [
    "img_path = \"save_images/cgan\"\n",
    "if not os.path.exists(img_path): os.makedirs(img_path)"
   ]
  },
  {
   "cell_type": "code",
   "execution_count": 15,
   "metadata": {
    "scrolled": true
   },
   "outputs": [
    {
     "data": {
      "application/vnd.jupyter.widget-view+json": {
       "model_id": "a3f6846ac2324322a0f83eac9ec1f2bb",
       "version_major": 2,
       "version_minor": 0
      },
      "text/plain": [
       "HBox(children=(IntProgress(value=0), HTML(value='')))"
      ]
     },
     "metadata": {},
     "output_type": "display_data"
    },
    {
     "name": "stdout",
     "output_type": "stream",
     "text": [
      "Epoch [1/100], Step:  38400, d_loss: 5.021608, g_loss: 0.670274, real_scores: 3.313416, fake_scores: 0.195969\n",
      "Finish Epoch [1/100], D Loss: 672.395041, G Loss: 51.382040\n",
      "Epoch [2/100], Step:  38400, d_loss: 4.790895, g_loss: 0.065153, real_scores: 4.175670, fake_scores: 1.029709\n",
      "Finish Epoch [2/100], D Loss: 342.620750, G Loss: 39.549698\n",
      "Epoch [3/100], Step:  38400, d_loss: 4.362248, g_loss: 1.007721, real_scores: 3.595812, fake_scores: 0.067716\n",
      "Finish Epoch [3/100], D Loss: 226.324900, G Loss: 33.955324\n",
      "Epoch [4/100], Step:  38400, d_loss: 6.970471, g_loss: 1.279209, real_scores: 5.280122, fake_scores: 1.892786\n",
      "Finish Epoch [4/100], D Loss: 165.611778, G Loss: 27.759672\n",
      "Epoch [5/100], Step:  38400, d_loss: 4.637150, g_loss: 0.890376, real_scores: 4.299845, fake_scores: 0.224829\n",
      "Finish Epoch [5/100], D Loss: 132.797144, G Loss: 21.267767\n",
      "Epoch [6/100], Step:  38400, d_loss: 4.214018, g_loss: 0.371517, real_scores: 4.159974, fake_scores: 0.589710\n",
      "Finish Epoch [6/100], D Loss: 108.183142, G Loss: 18.184287\n",
      "Epoch [7/100], Step:  38400, d_loss: 4.858406, g_loss: 0.300488, real_scores: 4.638093, fake_scores: 0.824658\n",
      "Finish Epoch [7/100], D Loss: 93.476379, G Loss: 14.973261\n",
      "Epoch [8/100], Step:  38400, d_loss: 5.389986, g_loss: 0.382231, real_scores: 4.735283, fake_scores: 0.740027\n",
      "Finish Epoch [8/100], D Loss: 82.716698, G Loss: 13.461126\n",
      "Epoch [9/100], Step:  38400, d_loss: 5.097352, g_loss: 1.261021, real_scores: 3.757049, fake_scores: 0.047244\n",
      "Finish Epoch [9/100], D Loss: 73.674685, G Loss: 11.712024\n",
      "Epoch [10/100], Step:  38400, d_loss: 5.043761, g_loss: 1.287222, real_scores: 3.666836, fake_scores: -0.024350\n",
      "Finish Epoch [10/100], D Loss: 66.458506, G Loss: 10.748190\n",
      "Epoch [11/100], Step:  38400, d_loss: 5.000081, g_loss: 0.950134, real_scores: 3.871840, fake_scores: 0.119606\n",
      "Finish Epoch [11/100], D Loss: 61.073031, G Loss: 10.330332\n",
      "Epoch [12/100], Step:  38400, d_loss: 6.526676, g_loss: 2.579203, real_scores: 2.713238, fake_scores: -0.491830\n",
      "Finish Epoch [12/100], D Loss: 56.439845, G Loss: 9.367015\n",
      "Epoch [13/100], Step:  38400, d_loss: 5.203270, g_loss: 1.443554, real_scores: 3.302082, fake_scores: -0.077617\n",
      "Finish Epoch [13/100], D Loss: 52.142406, G Loss: 8.969113\n",
      "Epoch [14/100], Step:  38400, d_loss: 4.850909, g_loss: 0.832680, real_scores: 3.769487, fake_scores: 0.266417\n",
      "Finish Epoch [14/100], D Loss: 49.242352, G Loss: 8.247056\n",
      "Epoch [15/100], Step:  38400, d_loss: 5.744674, g_loss: 0.914613, real_scores: 4.456941, fake_scores: 0.969397\n",
      "Finish Epoch [15/100], D Loss: 45.919042, G Loss: 7.758599\n",
      "Epoch [16/100], Step:  38400, d_loss: 5.772382, g_loss: 1.586273, real_scores: 3.358928, fake_scores: -0.106786\n",
      "Finish Epoch [16/100], D Loss: 42.618199, G Loss: 7.394942\n",
      "Epoch [17/100], Step:  38400, d_loss: 5.972592, g_loss: 0.496856, real_scores: 4.193840, fake_scores: 0.793561\n",
      "Finish Epoch [17/100], D Loss: 40.470235, G Loss: 7.042343\n",
      "Epoch [18/100], Step:  38400, d_loss: 5.600861, g_loss: 1.594509, real_scores: 3.203572, fake_scores: -0.077571\n",
      "Finish Epoch [18/100], D Loss: 38.146312, G Loss: 6.920179\n",
      "Epoch [19/100], Step:  38400, d_loss: 6.128700, g_loss: 1.342413, real_scores: 3.348087, fake_scores: 0.008939\n",
      "Finish Epoch [19/100], D Loss: 35.924588, G Loss: 6.361528\n",
      "Epoch [20/100], Step:  38400, d_loss: 4.923807, g_loss: 0.584995, real_scores: 4.159694, fake_scores: 0.761135\n",
      "Finish Epoch [20/100], D Loss: 34.188654, G Loss: 6.262246\n",
      "Epoch [21/100], Step:  38400, d_loss: 5.095085, g_loss: 0.760385, real_scores: 3.800835, fake_scores: 0.451723\n",
      "Finish Epoch [21/100], D Loss: 32.762023, G Loss: 5.869646\n",
      "Epoch [22/100], Step:  38400, d_loss: 6.437932, g_loss: 0.654696, real_scores: 4.363144, fake_scores: 1.395496\n",
      "Finish Epoch [22/100], D Loss: 31.440604, G Loss: 5.547125\n",
      "Epoch [23/100], Step:  38400, d_loss: 6.239906, g_loss: 0.991301, real_scores: 4.996224, fake_scores: 1.680783\n",
      "Finish Epoch [23/100], D Loss: 29.781292, G Loss: 5.475717\n",
      "Epoch [24/100], Step:  38400, d_loss: 5.945845, g_loss: 2.107272, real_scores: 2.909368, fake_scores: -0.431899\n",
      "Finish Epoch [24/100], D Loss: 28.580157, G Loss: 5.140677\n",
      "Epoch [25/100], Step:  38400, d_loss: 5.761526, g_loss: 0.908641, real_scores: 3.885820, fake_scores: 0.292961\n",
      "Finish Epoch [25/100], D Loss: 27.653295, G Loss: 4.991932\n",
      "Epoch [26/100], Step:  38400, d_loss: 5.239007, g_loss: 0.759736, real_scores: 3.895758, fake_scores: 0.680705\n",
      "Finish Epoch [26/100], D Loss: 26.865076, G Loss: 4.902292\n",
      "Epoch [27/100], Step:  38400, d_loss: 5.660382, g_loss: 0.725055, real_scores: 3.935094, fake_scores: 0.926607\n",
      "Finish Epoch [27/100], D Loss: 25.815705, G Loss: 4.656078\n",
      "Epoch [28/100], Step:  38400, d_loss: 5.992291, g_loss: 0.492059, real_scores: 4.158807, fake_scores: 0.925567\n",
      "Finish Epoch [28/100], D Loss: 24.984513, G Loss: 4.411685\n",
      "Epoch [29/100], Step:  38400, d_loss: 5.500825, g_loss: 0.563716, real_scores: 4.112077, fake_scores: 0.855516\n",
      "Finish Epoch [29/100], D Loss: 23.947131, G Loss: 4.343786\n",
      "Epoch [30/100], Step:  38400, d_loss: 4.896835, g_loss: 0.851533, real_scores: 3.737881, fake_scores: 0.435937\n",
      "Finish Epoch [30/100], D Loss: 23.110184, G Loss: 4.168049\n",
      "Epoch [31/100], Step:  38400, d_loss: 4.628901, g_loss: 0.662924, real_scores: 3.880146, fake_scores: 0.577839\n",
      "Finish Epoch [31/100], D Loss: 22.574766, G Loss: 4.089797\n",
      "Epoch [32/100], Step:  38400, d_loss: 5.638588, g_loss: 0.941539, real_scores: 4.245440, fake_scores: 0.792044\n",
      "Finish Epoch [32/100], D Loss: 21.742231, G Loss: 3.908031\n",
      "Epoch [33/100], Step:  38400, d_loss: 6.539706, g_loss: 1.045193, real_scores: 4.666281, fake_scores: 1.530121\n",
      "Finish Epoch [33/100], D Loss: 21.243679, G Loss: 3.899142\n",
      "Epoch [34/100], Step:  38400, d_loss: 5.597992, g_loss: 0.818263, real_scores: 4.018902, fake_scores: 0.750280\n",
      "Finish Epoch [34/100], D Loss: 20.574147, G Loss: 3.712889\n",
      "Epoch [35/100], Step:  38400, d_loss: 4.334636, g_loss: 1.746680, real_scores: 3.581121, fake_scores: -0.108180\n",
      "Finish Epoch [35/100], D Loss: 19.848500, G Loss: 3.701496\n",
      "Epoch [36/100], Step:  38400, d_loss: 5.309632, g_loss: 0.536735, real_scores: 4.156853, fake_scores: 0.701440\n",
      "Finish Epoch [36/100], D Loss: 19.341810, G Loss: 3.544802\n",
      "Epoch [37/100], Step:  38400, d_loss: 4.659650, g_loss: 0.544780, real_scores: 4.053660, fake_scores: 0.834727\n",
      "Finish Epoch [37/100], D Loss: 18.976669, G Loss: 3.381802\n",
      "Epoch [38/100], Step:  38400, d_loss: 5.510409, g_loss: 0.681932, real_scores: 4.058325, fake_scores: 1.068257\n",
      "Finish Epoch [38/100], D Loss: 18.451153, G Loss: 3.370937\n",
      "Epoch [39/100], Step:  38400, d_loss: 5.893801, g_loss: 1.428812, real_scores: 3.583632, fake_scores: 0.106717\n",
      "Finish Epoch [39/100], D Loss: 17.970788, G Loss: 3.240576\n",
      "Epoch [40/100], Step:  38400, d_loss: 5.678731, g_loss: 0.771061, real_scores: 4.117632, fake_scores: 0.803108\n",
      "Finish Epoch [40/100], D Loss: 17.525671, G Loss: 3.125599\n",
      "Epoch [41/100], Step:  38400, d_loss: 5.321207, g_loss: 1.020364, real_scores: 4.162453, fake_scores: 0.619882\n",
      "Finish Epoch [41/100], D Loss: 17.142727, G Loss: 3.042864\n",
      "Epoch [42/100], Step:  38400, d_loss: 5.148285, g_loss: 1.787903, real_scores: 3.146207, fake_scores: -0.112609\n",
      "Finish Epoch [42/100], D Loss: 16.814799, G Loss: 2.896255\n",
      "Epoch [43/100], Step:  38400, d_loss: 4.930608, g_loss: 0.745615, real_scores: 4.028378, fake_scores: 0.565330\n",
      "Finish Epoch [43/100], D Loss: 16.353244, G Loss: 2.857184\n",
      "Epoch [44/100], Step:  38400, d_loss: 6.054427, g_loss: 1.519721, real_scores: 3.076355, fake_scores: -0.195758\n",
      "Finish Epoch [44/100], D Loss: 15.968627, G Loss: 2.832170\n",
      "Epoch [45/100], Step:  38400, d_loss: 5.554780, g_loss: 1.066320, real_scores: 3.651439, fake_scores: 0.130669\n",
      "Finish Epoch [45/100], D Loss: 15.685538, G Loss: 2.777706\n",
      "Epoch [46/100], Step:  38400, d_loss: 5.893764, g_loss: 0.615033, real_scores: 4.246312, fake_scores: 1.167526\n",
      "Finish Epoch [46/100], D Loss: 15.218696, G Loss: 2.716617\n",
      "Epoch [47/100], Step:  38400, d_loss: 5.297652, g_loss: 1.257523, real_scores: 3.727773, fake_scores: 0.212082\n",
      "Finish Epoch [47/100], D Loss: 14.926551, G Loss: 2.653365\n",
      "Epoch [48/100], Step:  38400, d_loss: 5.177195, g_loss: 1.343958, real_scores: 3.380145, fake_scores: 0.100429\n",
      "Finish Epoch [48/100], D Loss: 14.586596, G Loss: 2.592067\n",
      "Epoch [49/100], Step:  38400, d_loss: 5.274441, g_loss: 1.028699, real_scores: 3.889512, fake_scores: 0.247088\n"
     ]
    },
    {
     "name": "stdout",
     "output_type": "stream",
     "text": [
      "Finish Epoch [49/100], D Loss: 14.314531, G Loss: 2.573712\n",
      "Epoch [50/100], Step:  38400, d_loss: 5.808828, g_loss: 1.517761, real_scores: 3.245606, fake_scores: 0.038120\n",
      "Finish Epoch [50/100], D Loss: 14.019360, G Loss: 2.504284\n",
      "Epoch [51/100], Step:  38400, d_loss: 5.199376, g_loss: 1.629941, real_scores: 3.374518, fake_scores: 0.093399\n",
      "Finish Epoch [51/100], D Loss: 13.763196, G Loss: 2.522712\n",
      "Epoch [52/100], Step:  38400, d_loss: 5.076087, g_loss: 0.825231, real_scores: 4.235047, fake_scores: 0.759261\n",
      "Finish Epoch [52/100], D Loss: 13.515750, G Loss: 2.414828\n",
      "Epoch [53/100], Step:  38400, d_loss: 5.735970, g_loss: 0.801699, real_scores: 4.104893, fake_scores: 0.933107\n",
      "Finish Epoch [53/100], D Loss: 13.199323, G Loss: 2.415310\n",
      "Epoch [54/100], Step:  38400, d_loss: 5.281273, g_loss: 0.891698, real_scores: 3.876538, fake_scores: 0.590293\n",
      "Finish Epoch [54/100], D Loss: 13.015031, G Loss: 2.407670\n",
      "Epoch [55/100], Step:  38400, d_loss: 6.839543, g_loss: 2.438994, real_scores: 2.625900, fake_scores: -0.437326\n",
      "Finish Epoch [55/100], D Loss: 12.773107, G Loss: 2.300279\n",
      "Epoch [56/100], Step:  38400, d_loss: 5.232767, g_loss: 0.656305, real_scores: 3.943536, fake_scores: 0.716822\n",
      "Finish Epoch [56/100], D Loss: 12.512207, G Loss: 2.265353\n",
      "Epoch [57/100], Step:  38400, d_loss: 5.026417, g_loss: 0.547826, real_scores: 4.077092, fake_scores: 0.629766\n",
      "Finish Epoch [57/100], D Loss: 12.378164, G Loss: 2.209008\n",
      "Epoch [58/100], Step:  38400, d_loss: 5.429027, g_loss: 1.115051, real_scores: 3.480040, fake_scores: 0.142479\n",
      "Finish Epoch [58/100], D Loss: 12.102892, G Loss: 2.268494\n",
      "Epoch [59/100], Step:  38400, d_loss: 5.143218, g_loss: 0.661134, real_scores: 4.531083, fake_scores: 1.047876\n",
      "Finish Epoch [59/100], D Loss: 11.773759, G Loss: 2.154797\n",
      "Epoch [60/100], Step:  38400, d_loss: 5.140868, g_loss: 1.657127, real_scores: 3.260879, fake_scores: -0.205735\n",
      "Finish Epoch [60/100], D Loss: 11.597855, G Loss: 2.101274\n",
      "Epoch [61/100], Step:  38400, d_loss: 5.158476, g_loss: 0.765522, real_scores: 3.993007, fake_scores: 0.628116\n",
      "Finish Epoch [61/100], D Loss: 11.407937, G Loss: 2.072819\n",
      "Epoch [62/100], Step:  38400, d_loss: 5.361424, g_loss: 1.355948, real_scores: 3.399378, fake_scores: 0.114109\n",
      "Finish Epoch [62/100], D Loss: 11.307595, G Loss: 2.068215\n",
      "Epoch [63/100], Step:  38400, d_loss: 4.729765, g_loss: 0.821761, real_scores: 4.037752, fake_scores: 0.315635\n",
      "Finish Epoch [63/100], D Loss: 11.049541, G Loss: 1.986090\n",
      "Epoch [64/100], Step:  38400, d_loss: 4.926343, g_loss: 0.933556, real_scores: 3.921210, fake_scores: 0.635485\n",
      "Finish Epoch [64/100], D Loss: 10.860596, G Loss: 1.986473\n",
      "Epoch [65/100], Step:  38400, d_loss: 5.456479, g_loss: 0.755386, real_scores: 4.118730, fake_scores: 0.570720\n",
      "Finish Epoch [65/100], D Loss: 10.705626, G Loss: 1.878402\n",
      "Epoch [66/100], Step:  38400, d_loss: 5.528447, g_loss: 0.976497, real_scores: 3.699153, fake_scores: 0.376389\n",
      "Finish Epoch [66/100], D Loss: 10.583787, G Loss: 1.887471\n",
      "Epoch [67/100], Step:  38400, d_loss: 6.594501, g_loss: 0.840742, real_scores: 4.788225, fake_scores: 1.327744\n",
      "Finish Epoch [67/100], D Loss: 10.310521, G Loss: 1.883302\n",
      "Epoch [68/100], Step:  38400, d_loss: 5.498754, g_loss: 0.940292, real_scores: 3.577995, fake_scores: 0.297812\n",
      "Finish Epoch [68/100], D Loss: 10.165111, G Loss: 1.807834\n",
      "Epoch [69/100], Step:  38400, d_loss: 6.713105, g_loss: 1.991935, real_scores: 2.844208, fake_scores: -0.272672\n",
      "Finish Epoch [69/100], D Loss: 10.111567, G Loss: 1.801970\n",
      "Epoch [70/100], Step:  38400, d_loss: 4.913183, g_loss: 0.729765, real_scores: 4.092922, fake_scores: 0.620363\n",
      "Finish Epoch [70/100], D Loss: 9.943317, G Loss: 1.787813\n",
      "Epoch [71/100], Step:  38400, d_loss: 6.275172, g_loss: 1.908294, real_scores: 3.180958, fake_scores: -0.176056\n",
      "Finish Epoch [71/100], D Loss: 9.837543, G Loss: 1.792542\n",
      "Epoch [72/100], Step:  38400, d_loss: 6.072716, g_loss: 0.872888, real_scores: 3.948853, fake_scores: 0.563532\n",
      "Finish Epoch [72/100], D Loss: 9.684261, G Loss: 1.751480\n",
      "Epoch [73/100], Step:  38400, d_loss: 5.047732, g_loss: 1.408072, real_scores: 3.395103, fake_scores: 0.160974\n",
      "Finish Epoch [73/100], D Loss: 9.570979, G Loss: 1.770907\n",
      "Epoch [74/100], Step:  38400, d_loss: 4.692256, g_loss: 0.911037, real_scores: 3.997698, fake_scores: 0.579380\n",
      "Finish Epoch [74/100], D Loss: 9.396877, G Loss: 1.665452\n",
      "Epoch [75/100], Step:  38400, d_loss: 5.076192, g_loss: 0.663602, real_scores: 4.122587, fake_scores: 0.800707\n",
      "Finish Epoch [75/100], D Loss: 9.252812, G Loss: 1.661367\n",
      "Epoch [76/100], Step:  38400, d_loss: 5.921491, g_loss: 1.550325, real_scores: 3.283773, fake_scores: -0.085750\n",
      "Finish Epoch [76/100], D Loss: 9.165205, G Loss: 1.677008\n",
      "Epoch [77/100], Step:  38400, d_loss: 5.052074, g_loss: 1.409961, real_scores: 3.915433, fake_scores: 0.184498\n",
      "Finish Epoch [77/100], D Loss: 9.051233, G Loss: 1.642735\n",
      "Epoch [78/100], Step:  38400, d_loss: 4.665921, g_loss: 1.509771, real_scores: 3.483044, fake_scores: 0.024544\n",
      "Finish Epoch [78/100], D Loss: 8.938689, G Loss: 1.637530\n",
      "Epoch [79/100], Step:  38400, d_loss: 5.188896, g_loss: 0.802893, real_scores: 4.228196, fake_scores: 0.658216\n",
      "Finish Epoch [79/100], D Loss: 8.807867, G Loss: 1.562109\n",
      "Epoch [80/100], Step:  38400, d_loss: 5.570719, g_loss: 0.830755, real_scores: 3.596632, fake_scores: 0.334862\n",
      "Finish Epoch [80/100], D Loss: 8.712116, G Loss: 1.528909\n",
      "Epoch [81/100], Step:  38400, d_loss: 4.932520, g_loss: 0.833695, real_scores: 4.220892, fake_scores: 0.403798\n",
      "Finish Epoch [81/100], D Loss: 8.566748, G Loss: 1.568403\n",
      "Epoch [82/100], Step:  38400, d_loss: 5.246897, g_loss: 0.626992, real_scores: 4.294388, fake_scores: 0.900334\n",
      "Finish Epoch [82/100], D Loss: 8.417218, G Loss: 1.547781\n",
      "Epoch [83/100], Step:  38400, d_loss: 6.266157, g_loss: 0.869716, real_scores: 4.525512, fake_scores: 1.277474\n",
      "Finish Epoch [83/100], D Loss: 8.350588, G Loss: 1.509498\n",
      "Epoch [84/100], Step:  38400, d_loss: 5.734292, g_loss: 0.876702, real_scores: 3.283227, fake_scores: 0.186212\n",
      "Finish Epoch [84/100], D Loss: 8.216940, G Loss: 1.456495\n",
      "Epoch [85/100], Step:  38400, d_loss: 5.146638, g_loss: 0.817590, real_scores: 3.789433, fake_scores: 0.304235\n",
      "Finish Epoch [85/100], D Loss: 8.105656, G Loss: 1.432963\n",
      "Epoch [86/100], Step:  38400, d_loss: 5.747128, g_loss: 1.030287, real_scores: 4.628828, fake_scores: 1.261529\n",
      "Finish Epoch [86/100], D Loss: 7.999833, G Loss: 1.433607\n",
      "Epoch [87/100], Step:  38400, d_loss: 5.333364, g_loss: 1.044422, real_scores: 3.761140, fake_scores: 0.270257\n",
      "Finish Epoch [87/100], D Loss: 7.886964, G Loss: 1.385465\n",
      "Epoch [88/100], Step:  38400, d_loss: 5.302423, g_loss: 0.882394, real_scores: 4.030255, fake_scores: 0.655542\n",
      "Finish Epoch [88/100], D Loss: 7.806425, G Loss: 1.379447\n",
      "Epoch [89/100], Step:  38400, d_loss: 5.022335, g_loss: 0.629957, real_scores: 4.625831, fake_scores: 1.017339\n",
      "Finish Epoch [89/100], D Loss: 7.747782, G Loss: 1.367391\n",
      "Epoch [90/100], Step:  38400, d_loss: 4.923889, g_loss: 1.439170, real_scores: 3.572708, fake_scores: 0.050475\n",
      "Finish Epoch [90/100], D Loss: 7.654863, G Loss: 1.397430\n",
      "Epoch [91/100], Step:  38400, d_loss: 5.094001, g_loss: 1.032764, real_scores: 3.821329, fake_scores: 0.147700\n",
      "Finish Epoch [91/100], D Loss: 7.588122, G Loss: 1.379934\n",
      "Epoch [92/100], Step:  38400, d_loss: 4.883961, g_loss: 1.117097, real_scores: 3.649677, fake_scores: 0.295636\n",
      "Finish Epoch [92/100], D Loss: 7.465762, G Loss: 1.330409\n",
      "Epoch [93/100], Step:  38400, d_loss: 5.419655, g_loss: 0.933220, real_scores: 4.273847, fake_scores: 0.868327\n",
      "Finish Epoch [93/100], D Loss: 7.380429, G Loss: 1.315173\n",
      "Epoch [94/100], Step:  38400, d_loss: 5.161031, g_loss: 1.066248, real_scores: 3.809874, fake_scores: 0.238685\n",
      "Finish Epoch [94/100], D Loss: 7.339810, G Loss: 1.329669\n",
      "Epoch [95/100], Step:  38400, d_loss: 5.206082, g_loss: 0.834822, real_scores: 3.947762, fake_scores: 0.519905\n",
      "Finish Epoch [95/100], D Loss: 7.258450, G Loss: 1.285838\n",
      "Epoch [96/100], Step:  38400, d_loss: 5.615784, g_loss: 1.015945, real_scores: 3.689320, fake_scores: 0.542082\n",
      "Finish Epoch [96/100], D Loss: 7.206215, G Loss: 1.343437\n",
      "Epoch [97/100], Step:  38400, d_loss: 5.359034, g_loss: 1.377292, real_scores: 3.530626, fake_scores: 0.024220\n",
      "Finish Epoch [97/100], D Loss: 7.182367, G Loss: 1.258627\n"
     ]
    },
    {
     "name": "stdout",
     "output_type": "stream",
     "text": [
      "Epoch [98/100], Step:  38400, d_loss: 5.391006, g_loss: 0.733787, real_scores: 3.857824, fake_scores: 0.510969\n",
      "Finish Epoch [98/100], D Loss: 7.090047, G Loss: 1.277989\n",
      "Epoch [99/100], Step:  38400, d_loss: 5.576273, g_loss: 0.820182, real_scores: 4.027280, fake_scores: 0.242472\n",
      "Finish Epoch [99/100], D Loss: 6.985028, G Loss: 1.239300\n",
      "Epoch [100/100], Step:  38400, d_loss: 5.243590, g_loss: 0.840767, real_scores: 4.021846, fake_scores: 0.735124\n",
      "Finish Epoch [100/100], D Loss: 6.894644, G Loss: 1.272844\n",
      "\n"
     ]
    }
   ],
   "source": [
    "total_count = len(dataloader)\n",
    "for epoch in tqdm_notebook(range(num_epochs)):\n",
    "    _step = epoch * total_count\n",
    "    \n",
    "    d_loss_total = .0\n",
    "    g_loss_total = .0\n",
    "    for i, (imgs, labels) in enumerate(dataloader):\n",
    "        \n",
    "        real_imgs = imgs.cuda()\n",
    "        real_labels = labels.float().cuda()\n",
    "        \n",
    "        real = torch.ones(imgs.size(0), 1).cuda()\n",
    "        fake = torch.zeros(imgs.size(0), 1).cuda()\n",
    "        \n",
    "        z = torch.randn(imgs.size(0), z_dimension).cuda()\n",
    "        fake_labels = torch.from_numpy(np.random.randint(0, 10, imgs.size(0))).cuda()\n",
    "        \n",
    "        ########## G ##########\n",
    "        fake_imgs = G(z, fake_labels)\n",
    "        fake_out = D(fake_imgs, fake_labels)\n",
    "        g_loss = adversarial_loss(fake_out, real)\n",
    "        \n",
    "        G_optimezer.zero_grad()\n",
    "        g_loss.backward()\n",
    "        G_optimezer.step()\n",
    "        #######################\n",
    "        \n",
    "        ########## D ##########\n",
    "        real_out = D(real_imgs, labels)\n",
    "        d_loss_real = adversarial_loss(real_out, real_labels)\n",
    "        real_scores = real_out\n",
    "        \n",
    "        fake_out = D(fake_imgs.detach(), fake_labels)\n",
    "        d_loss_fake = adversarial_loss(fake_out, fake)\n",
    "        fake_scores = fake_out\n",
    "        \n",
    "        d_loss = (d_loss_real + d_loss_fake) / 2\n",
    "        D_optimezer.zero_grad()\n",
    "        d_loss.backward()\n",
    "        D_optimezer.step()\n",
    "        #######################\n",
    "        \n",
    "        d_loss_total += d_loss.item() * imgs.size(0)\n",
    "        g_loss_total += g_loss.item() * imgs.size(0)\n",
    "        \n",
    "        step = _step + i + 1\n",
    "        \n",
    "        if (i + 1) % 100 == 0:\n",
    "            writer.add_scalar('Discriminator Real Loss', d_loss_real.item(), step)\n",
    "            writer.add_scalar('Discriminator Fake Loss', d_loss_fake.item(), step)\n",
    "            writer.add_scalar('Discriminator Loss', d_loss.item(), step)\n",
    "            writer.add_scalar('Generator Loss', g_loss.item(), step)\n",
    "        \n",
    "        if (i + 1) % 300 == 0:\n",
    "            tqdm.write('Epoch [{}/{}], Step: {:6d}, d_loss: {:.6f}, g_loss: {:.6f}, real_scores: {:.6f}' \\\n",
    "', fake_scores: {:.6f}'.format(epoch+1, num_epochs, (i+1) * batch_size, d_loss, g_loss, real_scores.mean(), fake_scores.mean()))\n",
    "    \n",
    "    setp = (epoch + 1) * total_count\n",
    "    _d_loss_total = d_loss_total / (total_count * (epoch + 1))\n",
    "    _g_loss_total = g_loss_total / (total_count * (epoch + 1))\n",
    "    \n",
    "    writer.add_scalar('Discriminator Total Loss', _d_loss_total, step)\n",
    "    writer.add_scalar('Generator Total Loss', _g_loss_total, step)\n",
    "    \n",
    "    tqdm.write(\"Finish Epoch [{}/{}], D Loss: {:.6f}, G Loss: {:.6f}\".format(epoch+1, \n",
    "                                                                             num_epochs, \n",
    "                                                                             _d_loss_total,\n",
    "                                                                             _g_loss_total, ))\n",
    "    \n",
    "    if epoch == 0:\n",
    "        real_images = real_imgs.view(-1, 1, 32, 32).cpu().data\n",
    "        save_image(real_images, os.path.join(img_path, 'real_images.png'))\n",
    "        \n",
    "    noise = torch.randn(10, z_dimension).cuda()\n",
    "    condition_images = G(noise, condition)\n",
    "    \n",
    "    writer.add_image('Generator Image', make_grid(fake_imgs.view(-1, 1, 32, 32).cpu().data, normalize=True, scale_each=True), step)\n",
    "    writer.add_image('Condition Generator Image', make_grid(condition_images.view(-1, 1, 32, 32).cpu().data, normalize=True, scale_each=True), step)\n",
    "    \n",
    "    fake_images = fake_imgs.view(-1, 1, 32, 32).cpu().data\n",
    "    save_image(fake_images, os.path.join(img_path, 'fake_images-{}.png'.format(epoch+1)))\n",
    "    save_image(condition_images, os.path.join(img_path, 'condition_images-{}.png'.format(epoch+1)))"
   ]
  },
  {
   "cell_type": "code",
   "execution_count": 16,
   "metadata": {},
   "outputs": [],
   "source": [
    "writer.close()"
   ]
  },
  {
   "cell_type": "code",
   "execution_count": 24,
   "metadata": {},
   "outputs": [],
   "source": [
    "# torch.save(D.state_dict(), './ser/cgan_discriminator.pkl')\n",
    "# torch.save(G.state_dict(), './ser/cgan_generator.pkl')\n",
    "torch.save(D, './ser/cgan_discriminator.pt')\n",
    "torch.save(G, './ser/cgan_generator.pt')"
   ]
  },
  {
   "cell_type": "code",
   "execution_count": 30,
   "metadata": {},
   "outputs": [],
   "source": [
    "# D.load_state_dict(torch.load('./ser/cgan_discriminator.pkl'))\n",
    "# G.load_state_dict(torch.load('./ser/cgan_generator.pkl'))\n",
    "# D.eval()\n",
    "# G.eval()\n",
    "\n",
    "D = torch.load('./ser/cgan_discriminator.pt')\n",
    "G = torch.load('./ser/cgan_generator.pt')"
   ]
  },
  {
   "cell_type": "code",
   "execution_count": 37,
   "metadata": {},
   "outputs": [
    {
     "data": {
      "image/png": "[encoded data removed]",
      "text/plain": [
       "<Figure size 432x288 with 1 Axes>"
      ]
     },
     "metadata": {
      "needs_background": "light"
     },
     "output_type": "display_data"
    }
   ],
   "source": [
    "l = torch.from_numpy(np.array([2,6,1,3,0])).cuda()\n",
    "z = torch.randn(5, z_dimension).to(device)\n",
    "images = G(z, l)\n",
    "# save_image(images, 'xx.png')\n",
    "plt.imshow(Image.fromarray(make_grid(images).mul(255).clamp(0, 255).byte().permute(1, 2, 0).cpu().numpy()))\n",
    "plt.show()"
   ]
  },
  {
   "cell_type": "code",
   "execution_count": null,
   "metadata": {},
   "outputs": [],
   "source": []
  }
 ],
 "metadata": {
  "kernelspec": {
   "display_name": "Python 3",
   "language": "python",
   "name": "python3"
  },
  "language_info": {
   "codemirror_mode": {
    "name": "ipython",
    "version": 3
   },
   "file_extension": ".py",
   "mimetype": "text/x-python",
   "name": "python",
   "nbconvert_exporter": "python",
   "pygments_lexer": "ipython3",
   "version": "3.5.3"
  },
  "varInspector": {
   "cols": {
    "lenName": 16,
    "lenType": 16,
    "lenVar": 40
   },
   "kernels_config": {
    "python": {
     "delete_cmd_postfix": "",
     "delete_cmd_prefix": "del ",
     "library": "var_list.py",
     "varRefreshCmd": "print(var_dic_list())"
    },
    "r": {
     "delete_cmd_postfix": ") ",
     "delete_cmd_prefix": "rm(",
     "library": "var_list.r",
     "varRefreshCmd": "cat(var_dic_list()) "
    }
   },
   "position": {
    "height": "556px",
    "left": "247px",
    "right": "398px",
    "top": "131px",
    "width": "752px"
   },
   "types_to_exclude": [
    "module",
    "function",
    "builtin_function_or_method",
    "instance",
    "_Feature"
   ],
   "window_display": false
  }
 },
 "nbformat": 4,
 "nbformat_minor": 2
}
