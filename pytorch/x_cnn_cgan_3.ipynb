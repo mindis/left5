{
 "cells": [
  {
   "cell_type": "code",
   "execution_count": 1,
   "metadata": {},
   "outputs": [],
   "source": [
    "import os\n",
    "from tqdm import tnrange, tqdm_notebook, tqdm\n",
    "import torch\n",
    "from torch import nn, optim\n",
    "from torch.utils.data import DataLoader\n",
    "from torchvision import transforms, datasets\n",
    "from torchvision.utils import save_image, make_grid\n",
    "from torch.autograd import Variable\n",
    "import numpy as np\n",
    "from PIL import Image\n",
    "import matplotlib.pyplot as plt\n",
    "from tensorboardX import SummaryWriter"
   ]
  },
  {
   "cell_type": "code",
   "execution_count": 2,
   "metadata": {},
   "outputs": [],
   "source": [
    "# os.environ['CUDA_VISIBLE_DEVICES'] = '1'"
   ]
  },
  {
   "cell_type": "code",
   "execution_count": 3,
   "metadata": {},
   "outputs": [],
   "source": [
    "from matplotlib import rcParams\n",
    "rcParams['figure.figsize'] = (12, 8)\n",
    "\n",
    "%matplotlib inline"
   ]
  },
  {
   "cell_type": "code",
   "execution_count": 4,
   "metadata": {},
   "outputs": [],
   "source": [
    "device = torch.device('cuda' if torch.cuda.is_available() else 'cpu')"
   ]
  },
  {
   "cell_type": "code",
   "execution_count": 5,
   "metadata": {},
   "outputs": [
    {
     "data": {
      "text/plain": [
       "True"
      ]
     },
     "execution_count": 5,
     "metadata": {},
     "output_type": "execute_result"
    }
   ],
   "source": [
    "torch.cuda.is_available()"
   ]
  },
  {
   "cell_type": "code",
   "execution_count": 6,
   "metadata": {},
   "outputs": [],
   "source": [
    "device_ids = [0]"
   ]
  },
  {
   "cell_type": "code",
   "execution_count": 7,
   "metadata": {},
   "outputs": [],
   "source": [
    "batch_size = 128\n",
    "num_epochs = 100\n",
    "\n",
    "z_dimension = 100\n",
    "num_feature = (32, 4, 4) # 64 * 64\n",
    "\n",
    "img_shape = (1, 32, 32)"
   ]
  },
  {
   "cell_type": "code",
   "execution_count": 8,
   "metadata": {},
   "outputs": [],
   "source": [
    "img_transform = transforms.Compose([\n",
    "    transforms.Resize(32),\n",
    "    transforms.ToTensor(),\n",
    "#     transforms.Normalize((.5, .5, .5), (.5, .5, .5))\n",
    "    transforms.Normalize((0.1307,), (0.3081,))\n",
    "])\n",
    "\n",
    "dataset = datasets.MNIST('~/data/mnist', transform=img_transform) #, download=True)\n",
    "dataloader = DataLoader(dataset, batch_size=batch_size, shuffle=True, num_workers=4)"
   ]
  },
  {
   "cell_type": "code",
   "execution_count": 9,
   "metadata": {},
   "outputs": [],
   "source": [
    "def gen_noise(batch_size, label):\n",
    "    prefix = np.zeros((batch_size, 10))\n",
    "    prefix[np.arange(batch_size), label.cpu().numpy()] = 1\n",
    "    z = np.random.normal(0, 1, (batch_size, z_dimension))\n",
    "    prefix = prefix / np.linalg.norm(prefix)\n",
    "    z[:, :10] = prefix\n",
    "    return torch.from_numpy(z).float().to(device)"
   ]
  },
  {
   "cell_type": "code",
   "execution_count": 10,
   "metadata": {},
   "outputs": [],
   "source": [
    "def gen_label_one_hot(batch_size, label):\n",
    "    prefix = np.zeros((batch_size, 10))\n",
    "    prefix[np.arange(batch_size), label.cpu().numpy()] = 1\n",
    "    return torch.from_numpy(prefix).float().to(device)"
   ]
  },
  {
   "cell_type": "code",
   "execution_count": 11,
   "metadata": {},
   "outputs": [],
   "source": [
    "class Discriminator(nn.Module):\n",
    "    def __init__(self):\n",
    "        super(Discriminator, self).__init__()\n",
    "        \n",
    "#         self.label_embedding = nn.Linear(10, np.prod(img_shape))\n",
    "        \n",
    "        self.conv1 = nn.Sequential(\n",
    "            nn.Conv2d(1, 16, 3, padding=1, stride=2),\n",
    "            nn.BatchNorm2d(16),\n",
    "            nn.LeakyReLU(.2, True),\n",
    "#             nn.AvgPool2d(2, 2), \n",
    "        ) # b 16 16 16\n",
    "        \n",
    "        self.conv2 = nn.Sequential(\n",
    "            nn.Conv2d(16, 32, 3, padding=1, stride=2),\n",
    "            nn.BatchNorm2d(32),\n",
    "            nn.LeakyReLU(.2, True),\n",
    "#             nn.AvgPool2d(2, 2), \n",
    "        ) # b 32 8 8\n",
    "        \n",
    "        self.conv3 = nn.Sequential(\n",
    "            nn.Conv2d(32, 64, 3, padding=1, stride=2),\n",
    "            nn.BatchNorm2d(64),\n",
    "            nn.LeakyReLU(.2, True),\n",
    "#             nn.AvgPool2d(2, 2), \n",
    "        ) # b 64 4 4\n",
    "        \n",
    "        self.conv4 = nn.Sequential(\n",
    "            nn.Conv2d(64, 128, 3, padding=1, stride=2),\n",
    "            nn.BatchNorm2d(128),\n",
    "            nn.LeakyReLU(.2, True),\n",
    "#             nn.AvgPool2d(2, 2), \n",
    "        ) # b 128 2 2\n",
    "        \n",
    "        self.fc = nn.Sequential(\n",
    "            nn.Linear(128 * 2 * 2, 1024),\n",
    "            nn.LeakyReLU(.2, True),\n",
    "            nn.Linear(1024, 1),\n",
    "            nn.Sigmoid(),\n",
    "        ) # b 1\n",
    "        \n",
    "        self.label = nn.Sequential(\n",
    "            nn.Linear(128 * 2 * 2, 10),\n",
    "            nn.Sigmoid()\n",
    "        )\n",
    "\n",
    "    def forward(self, imgs): # b 1 32 32\n",
    "        \n",
    "#         _imgs = torch.cat((imgs, self.label_embedding(labels.reshape([imgs.size(0), -1])).reshape(imgs.size(0), *img_shape)), 1)\n",
    "\n",
    "        outs = self.conv1(imgs)\n",
    "        outs = self.conv2(outs)\n",
    "        outs = self.conv3(outs)\n",
    "        outs = self.conv4(outs)\n",
    "        outs = outs.view(imgs.size(0), -1)\n",
    "        img = self.fc(outs)\n",
    "        lab = self.label(outs)\n",
    "        \n",
    "        return img, lab # b 1 1 1, b 10"
   ]
  },
  {
   "cell_type": "code",
   "execution_count": 12,
   "metadata": {},
   "outputs": [],
   "source": [
    "class Generator(nn.Module):\n",
    "    def __init__(self, inp_dim, num_feature):\n",
    "        super(Generator, self).__init__()\n",
    "\n",
    "#         self.label_emb = nn.Linear(10, 10)\n",
    "        \n",
    "        self.fc = nn.Sequential(\n",
    "            nn.Linear(inp_dim, np.prod(num_feature)),\n",
    "#             nn.Sigmoid(),\n",
    "        ) # b *num_feature  b 32 4 4\n",
    "        \n",
    "        self.upsample1 = nn.Sequential(\n",
    "#             nn.BatchNorm2d(128),\n",
    "            nn.ConvTranspose2d(32, 16, 4, 2, 1),\n",
    "#             nn.functional.interpolate(scale_factor=2),\n",
    "#             nn.Upsample(scale_factor=2),\n",
    "#             nn.Conv2d(32, 16, 3, padding=1),\n",
    "            nn.BatchNorm2d(16),\n",
    "            nn.LeakyReLU(.2, True),\n",
    "#             nn.ReLU(True),\n",
    "        ) # b 16 8 8\n",
    "        \n",
    "        self.upsample2 = nn.Sequential(\n",
    "#             nn.functional.interpolate(scale_factor=2),\n",
    "            nn.ConvTranspose2d(16, 8, 4, 2, 1),\n",
    "#             nn.Upsample(scale_factor=2),\n",
    "#             nn.Conv2d(16, 8, 3, padding=1),\n",
    "            nn.BatchNorm2d(8),\n",
    "            nn.LeakyReLU(.2, True),\n",
    "#             nn.ReLU(True),\n",
    "        ) # b 8 16 16\n",
    "        \n",
    "        self.upsample3 = nn.Sequential(\n",
    "            nn.ConvTranspose2d(8, 4, 4, 2, 1),\n",
    "#             nn.functional.interpolate(scale_factor=2),\n",
    "#             nn.Upsample(scale_factor=2),\n",
    "#             nn.Conv2d(8, 4, 3, padding=1, stride=1),\n",
    "            nn.BatchNorm2d(4),\n",
    "            nn.LeakyReLU(.2, True),\n",
    "#             nn.ReLU(True),\n",
    "        ) # b 4 32 32\n",
    "        \n",
    "        self.conv = nn.Sequential(\n",
    "#             nn.functional.interpolate(scale_factor=2),\n",
    "            nn.Conv2d(4, 1, 3, padding=1, stride=1),\n",
    "            nn.Tanh(),\n",
    "        ) # b 1 32 32\n",
    "\n",
    "    def forward(self, noise):\n",
    "        \n",
    "#         gen_input = torch.cat((labels.reshape(noise.size(0), -1), noise), -1)\n",
    "#         gen_input = torch.cat((self.label_emb(labels.reshape([noise.size(0), -1])), noise), -1)\n",
    "        \n",
    "        outs = self.fc(noise)\n",
    "        outs = outs.view(noise.size(0), *num_feature)\n",
    "        outs = self.upsample1(outs)\n",
    "        outs = self.upsample2(outs)\n",
    "        outs = self.upsample3(outs)\n",
    "        \n",
    "        outs = self.conv(outs)\n",
    "        \n",
    "        return outs\n"
   ]
  },
  {
   "cell_type": "code",
   "execution_count": 13,
   "metadata": {},
   "outputs": [],
   "source": [
    "D = Discriminator().to(device)\n",
    "G = Generator(z_dimension, num_feature).to(device)\n",
    "\n",
    "D = nn.DataParallel(D, device_ids=device_ids).to(device)\n",
    "G = nn.DataParallel(G, device_ids=device_ids).to(device)\n",
    "\n",
    "adversarial_loss = nn.MSELoss()\n",
    "auxiliary_loss = nn.CrossEntropyLoss()\n",
    "\n",
    "D_optimezer = optim.Adam(D.parameters(), lr=2e-4, betas=(0, 0.9))\n",
    "G_optimezer = optim.Adam(G.parameters(), lr=2e-4, betas=(0, 0.9))"
   ]
  },
  {
   "cell_type": "code",
   "execution_count": 14,
   "metadata": {},
   "outputs": [],
   "source": [
    "condition = torch.from_numpy(np.arange(10)).cuda()"
   ]
  },
  {
   "cell_type": "code",
   "execution_count": 15,
   "metadata": {},
   "outputs": [],
   "source": [
    "writer = SummaryWriter('./log/cnn_cgan')"
   ]
  },
  {
   "cell_type": "code",
   "execution_count": 16,
   "metadata": {},
   "outputs": [],
   "source": [
    "img_path = \"save_images/cnn_cgan\"\n",
    "if not os.path.exists(img_path): os.makedirs(img_path)"
   ]
  },
  {
   "cell_type": "code",
   "execution_count": null,
   "metadata": {
    "scrolled": true
   },
   "outputs": [
    {
     "data": {
      "application/vnd.jupyter.widget-view+json": {
       "model_id": "1b0f430dbdaa4bf4bf498011e4e27239",
       "version_major": 2,
       "version_minor": 0
      },
      "text/plain": [
       "HBox(children=(IntProgress(value=0), HTML(value='')))"
      ]
     },
     "metadata": {},
     "output_type": "display_data"
    },
    {
     "name": "stdout",
     "output_type": "stream",
     "text": [
      "Epoch [1/100], Step:  38400, d_loss: 8.376301, g_loss: 3.159498, real_scores: 0.882334, fake_scores: 0.099836\n",
      "Finish Epoch [1/100], D Loss: 1247.442324, G Loss: 393.590120\n",
      "Epoch [2/100], Step:  38400, d_loss: 10.793493, g_loss: 2.561416, real_scores: 0.910259, fake_scores: 0.749298\n",
      "Finish Epoch [2/100], D Loss: 614.209485, G Loss: 185.656589\n",
      "Epoch [3/100], Step:  38400, d_loss: 9.232170, g_loss: 3.241038, real_scores: 0.910996, fake_scores: 0.037497\n",
      "Finish Epoch [3/100], D Loss: 404.111774, G Loss: 131.205716\n",
      "Epoch [4/100], Step:  38400, d_loss: 9.487730, g_loss: 2.563301, real_scores: 0.920354, fake_scores: 0.721352\n",
      "Finish Epoch [4/100], D Loss: 301.455103, G Loss: 101.374060\n",
      "Epoch [5/100], Step:  38400, d_loss: 9.620341, g_loss: 3.298788, real_scores: 0.926099, fake_scores: 0.002800\n",
      "Finish Epoch [5/100], D Loss: 240.517138, G Loss: 81.943202\n",
      "Epoch [6/100], Step:  38400, d_loss: 10.121376, g_loss: 3.235064, real_scores: 0.897679, fake_scores: 0.003882\n",
      "Finish Epoch [6/100], D Loss: 200.006299, G Loss: 68.686289\n",
      "Epoch [7/100], Step:  38400, d_loss: 10.393238, g_loss: 3.352037, real_scores: 0.877309, fake_scores: 0.016618\n",
      "Finish Epoch [7/100], D Loss: 171.276226, G Loss: 59.031155\n",
      "Epoch [8/100], Step:  38400, d_loss: 9.072133, g_loss: 3.301398, real_scores: 0.906182, fake_scores: 0.000670\n",
      "Finish Epoch [8/100], D Loss: 149.585972, G Loss: 52.298795\n",
      "Epoch [9/100], Step:  38400, d_loss: 9.563396, g_loss: 3.363198, real_scores: 0.898336, fake_scores: 0.000215\n",
      "Finish Epoch [9/100], D Loss: 132.355191, G Loss: 46.998846\n",
      "Epoch [10/100], Step:  38400, d_loss: 8.004724, g_loss: 3.336482, real_scores: 0.902058, fake_scores: 0.005176\n",
      "Finish Epoch [10/100], D Loss: 118.836042, G Loss: 42.496872\n",
      "Epoch [11/100], Step:  38400, d_loss: 9.433873, g_loss: 3.396148, real_scores: 0.889647, fake_scores: 0.000135\n",
      "Finish Epoch [11/100], D Loss: 107.646231, G Loss: 38.961218\n",
      "Epoch [12/100], Step:  38400, d_loss: 8.361115, g_loss: 3.020524, real_scores: 0.946273, fake_scores: 0.303352\n",
      "Finish Epoch [12/100], D Loss: 98.483568, G Loss: 35.849062\n",
      "Epoch [13/100], Step:  38400, d_loss: 9.069099, g_loss: 3.416104, real_scores: 0.913012, fake_scores: 0.000081\n",
      "Finish Epoch [13/100], D Loss: 90.812997, G Loss: 33.219596\n",
      "Epoch [14/100], Step:  38400, d_loss: 9.059823, g_loss: 3.463295, real_scores: 0.863387, fake_scores: 0.000000\n",
      "Finish Epoch [14/100], D Loss: 84.254063, G Loss: 30.933826\n",
      "Epoch [15/100], Step:  38400, d_loss: 8.577770, g_loss: 3.472383, real_scores: 0.854921, fake_scores: 0.006947\n",
      "Finish Epoch [15/100], D Loss: 78.409039, G Loss: 28.941014\n",
      "Epoch [16/100], Step:  38400, d_loss: 7.961683, g_loss: 3.367192, real_scores: 0.921875, fake_scores: 0.000002\n",
      "Finish Epoch [16/100], D Loss: 73.430167, G Loss: 27.198548\n",
      "Epoch [17/100], Step:  38400, d_loss: 10.440291, g_loss: 3.431077, real_scores: 0.916046, fake_scores: 0.000000\n",
      "Finish Epoch [17/100], D Loss: 69.044801, G Loss: 25.667108\n",
      "Epoch [18/100], Step:  38400, d_loss: 9.566824, g_loss: 3.375170, real_scores: 0.919084, fake_scores: 0.000002\n",
      "Finish Epoch [18/100], D Loss: 65.191165, G Loss: 24.235853\n",
      "Epoch [19/100], Step:  38400, d_loss: 9.782514, g_loss: 3.420348, real_scores: 0.929355, fake_scores: 0.000104\n",
      "Finish Epoch [19/100], D Loss: 61.719298, G Loss: 22.968538\n",
      "Epoch [20/100], Step:  38400, d_loss: 9.630228, g_loss: 3.365320, real_scores: 0.897703, fake_scores: 0.004856\n",
      "Finish Epoch [20/100], D Loss: 58.728904, G Loss: 21.787450\n",
      "Epoch [21/100], Step:  38400, d_loss: 11.448157, g_loss: 3.408291, real_scores: 0.882892, fake_scores: 0.000251\n",
      "Finish Epoch [21/100], D Loss: 55.905075, G Loss: 20.755483\n",
      "Epoch [22/100], Step:  38400, d_loss: 8.802651, g_loss: 3.497288, real_scores: 0.905776, fake_scores: 0.000001\n",
      "Finish Epoch [22/100], D Loss: 53.265724, G Loss: 19.840493\n",
      "Epoch [23/100], Step:  38400, d_loss: 8.293001, g_loss: 3.408514, real_scores: 0.883836, fake_scores: 0.000676\n",
      "Finish Epoch [23/100], D Loss: 51.000601, G Loss: 18.992201\n",
      "Epoch [24/100], Step:  38400, d_loss: 9.817436, g_loss: 3.417890, real_scores: 0.906250, fake_scores: 0.000000\n",
      "Finish Epoch [24/100], D Loss: 48.816717, G Loss: 18.206101\n",
      "Epoch [25/100], Step:  38400, d_loss: 8.685954, g_loss: 3.450810, real_scores: 0.875004, fake_scores: 0.000000\n",
      "Finish Epoch [25/100], D Loss: 46.840573, G Loss: 17.494561\n",
      "Epoch [26/100], Step:  38400, d_loss: 8.200358, g_loss: 3.417914, real_scores: 0.882812, fake_scores: 0.000000\n",
      "Finish Epoch [26/100], D Loss: 45.100814, G Loss: 16.743280\n",
      "Epoch [27/100], Step:  38400, d_loss: 9.722827, g_loss: 3.447535, real_scores: 0.928025, fake_scores: 0.000290\n",
      "Finish Epoch [27/100], D Loss: 43.352177, G Loss: 16.195856\n",
      "Epoch [28/100], Step:  38400, d_loss: 7.792854, g_loss: 3.372118, real_scores: 0.898035, fake_scores: 0.000000\n",
      "Finish Epoch [28/100], D Loss: 41.896843, G Loss: 15.578838\n",
      "Epoch [29/100], Step:  38400, d_loss: 9.055248, g_loss: 3.316109, real_scores: 0.906362, fake_scores: 0.000001\n",
      "Finish Epoch [29/100], D Loss: 40.415126, G Loss: 15.063685\n",
      "Epoch [30/100], Step:  38400, d_loss: 8.154958, g_loss: 3.380234, real_scores: 0.906248, fake_scores: 0.000000\n",
      "Finish Epoch [30/100], D Loss: 39.076872, G Loss: 14.574436\n",
      "Epoch [31/100], Step:  38400, d_loss: 9.999407, g_loss: 3.497605, real_scores: 0.187109, fake_scores: 0.000000\n",
      "Finish Epoch [31/100], D Loss: 37.855504, G Loss: 14.040044\n",
      "Epoch [32/100], Step:  38400, d_loss: 7.448720, g_loss: 3.401742, real_scores: 0.859513, fake_scores: 0.000000\n",
      "Finish Epoch [32/100], D Loss: 36.609645, G Loss: 13.637685\n",
      "Epoch [33/100], Step:  38400, d_loss: 8.664751, g_loss: 3.489764, real_scores: 0.945186, fake_scores: 0.000000\n",
      "Finish Epoch [33/100], D Loss: 35.492532, G Loss: 13.223849\n",
      "Epoch [34/100], Step:  38400, d_loss: 7.380070, g_loss: 3.348310, real_scores: 0.899409, fake_scores: 0.000000\n",
      "Finish Epoch [34/100], D Loss: 34.444505, G Loss: 12.840258\n",
      "Epoch [35/100], Step:  38400, d_loss: 8.536961, g_loss: 3.400958, real_scores: 0.898438, fake_scores: 0.000005\n",
      "Finish Epoch [35/100], D Loss: 33.443165, G Loss: 12.495649\n",
      "Epoch [36/100], Step:  38400, d_loss: 9.040375, g_loss: 3.450482, real_scores: 0.945312, fake_scores: 0.000000\n",
      "Finish Epoch [36/100], D Loss: 32.508639, G Loss: 12.145603\n",
      "Epoch [37/100], Step:  38400, d_loss: 8.725206, g_loss: 3.434912, real_scores: 0.906250, fake_scores: 0.000011\n",
      "Finish Epoch [37/100], D Loss: 31.637839, G Loss: 11.823861\n",
      "Epoch [38/100], Step:  38400, d_loss: 7.743381, g_loss: 3.364992, real_scores: 0.914063, fake_scores: 0.001070\n",
      "Finish Epoch [38/100], D Loss: 30.798269, G Loss: 11.522674\n",
      "Epoch [39/100], Step:  38400, d_loss: 10.858467, g_loss: 3.355787, real_scores: 0.909619, fake_scores: 0.022990\n",
      "Finish Epoch [39/100], D Loss: 30.002237, G Loss: 11.221979\n",
      "Epoch [40/100], Step:  38400, d_loss: 8.254477, g_loss: 3.424852, real_scores: 0.882813, fake_scores: 0.000086\n",
      "Finish Epoch [40/100], D Loss: 29.291100, G Loss: 10.914799\n",
      "Epoch [41/100], Step:  38400, d_loss: 9.619345, g_loss: 3.420068, real_scores: 0.937499, fake_scores: 0.000005\n",
      "Finish Epoch [41/100], D Loss: 28.532286, G Loss: 10.660253\n",
      "Epoch [42/100], Step:  38400, d_loss: 10.554937, g_loss: 3.434878, real_scores: 0.890625, fake_scores: 0.000000\n",
      "Finish Epoch [42/100], D Loss: 27.861577, G Loss: 10.404561\n",
      "Epoch [43/100], Step:  38400, d_loss: 7.544873, g_loss: 3.458738, real_scores: 0.914064, fake_scores: 0.000000\n",
      "Finish Epoch [43/100], D Loss: 27.219806, G Loss: 10.151384\n",
      "Epoch [44/100], Step:  38400, d_loss: 8.043007, g_loss: 3.377205, real_scores: 0.883660, fake_scores: 0.000063\n",
      "Finish Epoch [44/100], D Loss: 26.607526, G Loss: 9.919722\n",
      "Epoch [45/100], Step:  38400, d_loss: 8.084351, g_loss: 3.473196, real_scores: 0.890603, fake_scores: 0.000000\n",
      "Finish Epoch [45/100], D Loss: 26.018416, G Loss: 9.719247\n",
      "Epoch [46/100], Step:  38400, d_loss: 7.605519, g_loss: 3.356973, real_scores: 0.875000, fake_scores: 0.000000\n",
      "Finish Epoch [46/100], D Loss: 25.442240, G Loss: 9.514492\n",
      "Epoch [47/100], Step:  38400, d_loss: 9.400182, g_loss: 3.419473, real_scores: 0.914099, fake_scores: 0.000000\n",
      "Finish Epoch [47/100], D Loss: 24.890141, G Loss: 9.307208\n",
      "Epoch [48/100], Step:  38400, d_loss: 8.086878, g_loss: 3.451066, real_scores: 0.882813, fake_scores: 0.000000\n",
      "Finish Epoch [48/100], D Loss: 24.366581, G Loss: 9.103629\n"
     ]
    },
    {
     "name": "stdout",
     "output_type": "stream",
     "text": [
      "Epoch [49/100], Step:  38400, d_loss: 8.536404, g_loss: 3.419439, real_scores: 0.921875, fake_scores: 0.000000\n",
      "Finish Epoch [49/100], D Loss: 23.869181, G Loss: 8.927305\n",
      "Epoch [50/100], Step:  38400, d_loss: 7.146324, g_loss: 3.426618, real_scores: 0.882813, fake_scores: 0.000000\n",
      "Finish Epoch [50/100], D Loss: 23.370331, G Loss: 8.765880\n",
      "Epoch [51/100], Step:  38400, d_loss: 8.223483, g_loss: 3.378652, real_scores: 0.882817, fake_scores: 0.000000\n",
      "Finish Epoch [51/100], D Loss: 22.927195, G Loss: 8.582668\n",
      "Epoch [52/100], Step:  38400, d_loss: 9.393880, g_loss: 3.333652, real_scores: 0.914063, fake_scores: 0.000000\n",
      "Finish Epoch [52/100], D Loss: 22.509776, G Loss: 8.396940\n",
      "Epoch [53/100], Step:  38400, d_loss: 8.729127, g_loss: 3.497557, real_scores: 0.921876, fake_scores: 0.000000\n",
      "Finish Epoch [53/100], D Loss: 22.058468, G Loss: 8.270372\n",
      "Epoch [54/100], Step:  38400, d_loss: 9.273617, g_loss: 3.364847, real_scores: 0.890626, fake_scores: 0.000000\n",
      "Finish Epoch [54/100], D Loss: 21.665734, G Loss: 8.080910\n",
      "Epoch [55/100], Step:  38400, d_loss: 8.659716, g_loss: 3.308415, real_scores: 0.921875, fake_scores: 0.000000\n",
      "Finish Epoch [55/100], D Loss: 21.285765, G Loss: 7.957567\n",
      "Epoch [56/100], Step:  38400, d_loss: 10.794771, g_loss: 3.365721, real_scores: 0.921938, fake_scores: 0.000000\n",
      "Finish Epoch [56/100], D Loss: 20.870897, G Loss: 7.817028\n",
      "Epoch [57/100], Step:  38400, d_loss: 8.705701, g_loss: 3.425882, real_scores: 0.914062, fake_scores: 0.000013\n",
      "Finish Epoch [57/100], D Loss: 20.515096, G Loss: 7.681735\n",
      "Epoch [58/100], Step:  38400, d_loss: 7.074714, g_loss: 3.466310, real_scores: 0.874404, fake_scores: 0.000000\n",
      "Finish Epoch [58/100], D Loss: 20.152421, G Loss: 7.544570\n",
      "Epoch [59/100], Step:  38400, d_loss: 7.566735, g_loss: 3.474406, real_scores: 0.875087, fake_scores: 0.000028\n",
      "Finish Epoch [59/100], D Loss: 19.810760, G Loss: 7.421687\n",
      "Epoch [60/100], Step:  38400, d_loss: 9.412040, g_loss: 3.419046, real_scores: 0.922069, fake_scores: 0.000000\n",
      "Finish Epoch [60/100], D Loss: 19.475776, G Loss: 7.298350\n",
      "Epoch [61/100], Step:  38400, d_loss: 10.402236, g_loss: 3.513221, real_scores: 0.906250, fake_scores: 0.000000\n",
      "Finish Epoch [61/100], D Loss: 19.176700, G Loss: 7.177918\n",
      "Epoch [62/100], Step:  38400, d_loss: 11.159162, g_loss: 3.434932, real_scores: 0.955947, fake_scores: 0.000000\n",
      "Finish Epoch [62/100], D Loss: 18.859375, G Loss: 7.053610\n",
      "Epoch [63/100], Step:  38400, d_loss: 10.238304, g_loss: 3.474159, real_scores: 0.890626, fake_scores: 0.000000\n",
      "Finish Epoch [63/100], D Loss: 18.563041, G Loss: 6.951800\n",
      "Epoch [64/100], Step:  38400, d_loss: 10.839987, g_loss: 3.450708, real_scores: 0.929688, fake_scores: 0.000000\n",
      "Finish Epoch [64/100], D Loss: 18.264414, G Loss: 6.836087\n",
      "Epoch [65/100], Step:  38400, d_loss: 8.011213, g_loss: 3.497726, real_scores: 0.898438, fake_scores: 0.000000\n",
      "Finish Epoch [65/100], D Loss: 17.977233, G Loss: 6.738143\n",
      "Epoch [66/100], Step:  38400, d_loss: 10.031641, g_loss: 3.419472, real_scores: 0.929688, fake_scores: 0.000000\n",
      "Finish Epoch [66/100], D Loss: 17.712852, G Loss: 6.630635\n",
      "Epoch [67/100], Step:  38400, d_loss: 10.299866, g_loss: 3.474125, real_scores: 0.898438, fake_scores: 0.000000\n",
      "Finish Epoch [67/100], D Loss: 17.448923, G Loss: 6.539177\n",
      "Epoch [68/100], Step:  38400, d_loss: 9.973350, g_loss: 3.408025, real_scores: 0.898438, fake_scores: 0.000000\n",
      "Finish Epoch [68/100], D Loss: 17.177898, G Loss: 6.442906\n",
      "Epoch [69/100], Step:  38400, d_loss: 8.078883, g_loss: 3.427311, real_scores: 0.890625, fake_scores: 0.000000\n",
      "Finish Epoch [69/100], D Loss: 16.931673, G Loss: 6.351881\n",
      "Epoch [70/100], Step:  38400, d_loss: 10.985215, g_loss: 3.427242, real_scores: 0.937373, fake_scores: 0.000000\n",
      "Finish Epoch [70/100], D Loss: 16.691881, G Loss: 6.251860\n",
      "Epoch [71/100], Step:  38400, d_loss: 9.062143, g_loss: 3.356985, real_scores: 0.921875, fake_scores: 0.000000\n",
      "Finish Epoch [71/100], D Loss: 16.459089, G Loss: 6.168446\n",
      "Epoch [72/100], Step:  38400, d_loss: 9.901901, g_loss: 3.427288, real_scores: 0.929688, fake_scores: 0.000000\n",
      "Finish Epoch [72/100], D Loss: 16.222986, G Loss: 6.087898\n",
      "Epoch [73/100], Step:  38400, d_loss: 7.744948, g_loss: 3.443201, real_scores: 0.898438, fake_scores: 0.000000\n",
      "Finish Epoch [73/100], D Loss: 15.997876, G Loss: 6.005986\n",
      "Epoch [74/100], Step:  38400, d_loss: 10.125141, g_loss: 3.435098, real_scores: 0.921875, fake_scores: 0.000000\n",
      "Finish Epoch [74/100], D Loss: 15.781362, G Loss: 5.926002\n",
      "Epoch [75/100], Step:  38400, d_loss: 8.405447, g_loss: 3.481972, real_scores: 0.875000, fake_scores: 0.000000\n",
      "Finish Epoch [75/100], D Loss: 15.574076, G Loss: 5.841771\n",
      "Epoch [76/100], Step:  38400, d_loss: 8.571699, g_loss: 3.435097, real_scores: 0.898438, fake_scores: 0.000000\n",
      "Finish Epoch [76/100], D Loss: 15.365348, G Loss: 5.768311\n",
      "Epoch [77/100], Step:  38400, d_loss: 9.002089, g_loss: 3.451499, real_scores: 0.898438, fake_scores: 0.000000\n",
      "Finish Epoch [77/100], D Loss: 15.167910, G Loss: 5.691730\n",
      "Epoch [78/100], Step:  38400, d_loss: 7.462240, g_loss: 3.411660, real_scores: 0.890625, fake_scores: 0.000000\n",
      "Finish Epoch [78/100], D Loss: 14.973097, G Loss: 5.618364\n",
      "Epoch [79/100], Step:  38400, d_loss: 7.549791, g_loss: 3.372597, real_scores: 0.890623, fake_scores: 0.000000\n",
      "Finish Epoch [79/100], D Loss: 14.784078, G Loss: 5.545964\n",
      "Epoch [80/100], Step:  38400, d_loss: 8.497436, g_loss: 3.513221, real_scores: 0.921875, fake_scores: 0.000000\n",
      "Finish Epoch [80/100], D Loss: 14.596891, G Loss: 5.478808\n",
      "Epoch [81/100], Step:  38400, d_loss: 9.421711, g_loss: 3.474159, real_scores: 0.929688, fake_scores: 0.000000\n",
      "Finish Epoch [81/100], D Loss: 14.418981, G Loss: 5.408647\n",
      "Epoch [82/100], Step:  38400, d_loss: 8.627847, g_loss: 3.450722, real_scores: 0.890625, fake_scores: 0.000000\n",
      "Finish Epoch [82/100], D Loss: 14.238215, G Loss: 5.347444\n",
      "Epoch [83/100], Step:  38400, d_loss: 9.495001, g_loss: 3.481969, real_scores: 0.890625, fake_scores: 0.000000\n",
      "Finish Epoch [83/100], D Loss: 14.074561, G Loss: 5.274977\n"
     ]
    }
   ],
   "source": [
    "total_count = len(dataloader)\n",
    "for epoch in tqdm_notebook(range(num_epochs)):\n",
    "    _step = epoch * total_count\n",
    "    \n",
    "    d_loss_total = .0\n",
    "    g_loss_total = .0\n",
    "    for i, (imgs, labels) in enumerate(dataloader):\n",
    "        \n",
    "        real_imgs = imgs.cuda()\n",
    "        real_labels = labels.cuda()\n",
    "        \n",
    "        real = torch.ones(imgs.size(0), 1).cuda()\n",
    "        fake = torch.zeros(imgs.size(0), 1).cuda()\n",
    "        \n",
    "        fake_labels = torch.from_numpy(np.random.randint(0, 10, imgs.size(0))).cuda()\n",
    "        z = gen_noise(imgs.size(0), fake_labels)\n",
    "        \n",
    "        ########## G ##########\n",
    "        fake_imgs = G(z)\n",
    "        fake_out, fake_out_labels = D(fake_imgs)\n",
    "        g_loss = adversarial_loss(fake_out, real) + auxiliary_loss(fake_out_labels, fake_labels)\n",
    "        \n",
    "        G_optimezer.zero_grad()\n",
    "        g_loss.backward()\n",
    "        G_optimezer.step()\n",
    "        #######################\n",
    "        \n",
    "        ########## D ##########\n",
    "        real_out, real_out_label = D(real_imgs)\n",
    "        d_loss_real = adversarial_loss(real_out.view(imgs.size(0)), real_labels.float())\n",
    "        d_loss_real_label = auxiliary_loss(real_out_label, real_labels)\n",
    "        real_scores = real_out\n",
    "        \n",
    "        fake_out, fake_out_labels = D(fake_imgs.detach())\n",
    "        d_loss_fake = adversarial_loss(fake_out, fake)\n",
    "        d_loss_fake_label = auxiliary_loss(fake_out_labels, fake_labels)\n",
    "        fake_scores = fake_out\n",
    "        \n",
    "        d_loss = (d_loss_real + d_loss_fake) / 2 + d_loss_real_label - d_loss_fake_label\n",
    "        D_optimezer.zero_grad()\n",
    "        d_loss.backward()\n",
    "        D_optimezer.step()\n",
    "        #######################\n",
    "        \n",
    "        d_loss_total += d_loss.item() * imgs.size(0)\n",
    "        g_loss_total += g_loss.item() * imgs.size(0)\n",
    "        \n",
    "        step = _step + i + 1\n",
    "        \n",
    "        if (i + 1) % 100 == 0:\n",
    "            writer.add_scalar('Discriminator Real Loss', d_loss_real.item(), step)\n",
    "            writer.add_scalar('Discriminator Fake Loss', d_loss_fake.item(), step)\n",
    "            writer.add_scalar('Discriminator Loss', d_loss.item(), step)\n",
    "            writer.add_scalar('Generator Loss', g_loss.item(), step)\n",
    "        \n",
    "        if (i + 1) % 300 == 0:\n",
    "            tqdm.write('Epoch [{}/{}], Step: {:6d}, d_loss: {:.6f}, g_loss: {:.6f}, real_scores: {:.6f}' \\\n",
    "', fake_scores: {:.6f}'.format(epoch+1, num_epochs, (i+1) * batch_size, d_loss, g_loss, real_scores.mean(), fake_scores.mean()))\n",
    "    \n",
    "    setp = (epoch + 1) * total_count\n",
    "    _d_loss_total = d_loss_total / (total_count * (epoch + 1))\n",
    "    _g_loss_total = g_loss_total / (total_count * (epoch + 1))\n",
    "    \n",
    "    writer.add_scalar('Discriminator Total Loss', _d_loss_total, step)\n",
    "    writer.add_scalar('Generator Total Loss', _g_loss_total, step)\n",
    "    \n",
    "    tqdm.write(\"Finish Epoch [{}/{}], D Loss: {:.6f}, G Loss: {:.6f}\".format(epoch+1, \n",
    "                                                                             num_epochs, \n",
    "                                                                             _d_loss_total,\n",
    "                                                                             _g_loss_total, ))\n",
    "    \n",
    "    if epoch == 0:\n",
    "        real_images = real_imgs.view(-1, 1, 32, 32).cpu().data\n",
    "        save_image(real_images, os.path.join(img_path, 'real_images.png'))\n",
    "    \n",
    "    condition_noise = gen_noise(condition.shape[0], condition)\n",
    "    condition_images = G(condition_noise)\n",
    "    \n",
    "    writer.add_image('Generator Image', make_grid(fake_imgs.view(-1, 1, 32, 32).cpu().data, normalize=True, scale_each=True), step)\n",
    "    writer.add_image('Condition Generator Image', make_grid(condition_images.view(-1, 1, 32, 32).cpu().data, normalize=True, scale_each=True), step)\n",
    "    \n",
    "    fake_images = fake_imgs.view(-1, 1, 32, 32).cpu().data\n",
    "    save_image(fake_images, os.path.join(img_path, 'fake_images-{}.png'.format(epoch+1)))\n",
    "    save_image(condition_images, os.path.join(img_path, 'condition_images-{}.png'.format(epoch+1)))"
   ]
  },
  {
   "cell_type": "code",
   "execution_count": 22,
   "metadata": {},
   "outputs": [],
   "source": [
    "writer.close()"
   ]
  },
  {
   "cell_type": "code",
   "execution_count": 23,
   "metadata": {},
   "outputs": [],
   "source": [
    "torch.save(D.state_dict(), './ser/cgan_discriminator_3.pt')\n",
    "torch.save(G.state_dict(), './ser/cgan_generator_3.pt')"
   ]
  },
  {
   "cell_type": "code",
   "execution_count": 24,
   "metadata": {},
   "outputs": [],
   "source": [
    "D.load_state_dict(torch.load('./ser/cgan_discriminator_3.pt'))\n",
    "G.load_state_dict(torch.load('./ser/cgan_generator_3.pt'))"
   ]
  },
  {
   "cell_type": "code",
   "execution_count": 32,
   "metadata": {},
   "outputs": [
    {
     "data": {
      "image/png": "[encoded data removed]",
      "text/plain": [
       "<Figure size 432x288 with 1 Axes>"
      ]
     },
     "metadata": {
      "needs_background": "dark"
     },
     "output_type": "display_data"
    }
   ],
   "source": [
    "words = torch.from_numpy(np.arange(10)).to(device)\n",
    "words = gen_label_one_hot(words.shape[0], words)\n",
    "z = torch.randn(words.size(0), z_dimension).to(device)\n",
    "images = G(z, words)\n",
    "# save_image(images, 'xx.png')\n",
    "plt.imshow(Image.fromarray(make_grid(images).mul(255).clamp(0, 255).byte().permute(1, 2, 0).cpu().numpy()))\n",
    "plt.show()"
   ]
  },
  {
   "cell_type": "code",
   "execution_count": null,
   "metadata": {},
   "outputs": [],
   "source": []
  }
 ],
 "metadata": {
  "kernelspec": {
   "display_name": "venv36",
   "language": "python",
   "name": "venv36"
  },
  "language_info": {
   "codemirror_mode": {
    "name": "ipython",
    "version": 3
   },
   "file_extension": ".py",
   "mimetype": "text/x-python",
   "name": "python",
   "nbconvert_exporter": "python",
   "pygments_lexer": "ipython3",
   "version": "3.6.8"
  },
  "varInspector": {
   "cols": {
    "lenName": 16,
    "lenType": 16,
    "lenVar": 40
   },
   "kernels_config": {
    "python": {
     "delete_cmd_postfix": "",
     "delete_cmd_prefix": "del ",
     "library": "var_list.py",
     "varRefreshCmd": "print(var_dic_list())"
    },
    "r": {
     "delete_cmd_postfix": ") ",
     "delete_cmd_prefix": "rm(",
     "library": "var_list.r",
     "varRefreshCmd": "cat(var_dic_list()) "
    }
   },
   "position": {
    "height": "556px",
    "left": "247px",
    "right": "398px",
    "top": "131px",
    "width": "752px"
   },
   "types_to_exclude": [
    "module",
    "function",
    "builtin_function_or_method",
    "instance",
    "_Feature"
   ],
   "window_display": false
  }
 },
 "nbformat": 4,
 "nbformat_minor": 2
}
