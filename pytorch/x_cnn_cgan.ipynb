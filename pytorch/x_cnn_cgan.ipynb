{
 "cells": [
  {
   "cell_type": "code",
   "execution_count": 1,
   "metadata": {},
   "outputs": [],
   "source": [
    "import os\n",
    "from tqdm import tnrange, tqdm_notebook, tqdm\n",
    "import torch\n",
    "from torch import nn, optim\n",
    "from torch.utils.data import DataLoader\n",
    "from torchvision import transforms, datasets\n",
    "from torchvision.utils import save_image, make_grid\n",
    "from torch.autograd import Variable\n",
    "import numpy as np\n",
    "from PIL import Image\n",
    "import matplotlib.pyplot as plt\n",
    "from tensorboardX import SummaryWriter"
   ]
  },
  {
   "cell_type": "code",
   "execution_count": 2,
   "metadata": {},
   "outputs": [],
   "source": [
    "# os.environ['CUDA_VISIBLE_DEVICES'] = '1'"
   ]
  },
  {
   "cell_type": "code",
   "execution_count": 3,
   "metadata": {},
   "outputs": [],
   "source": [
    "from matplotlib import rcParams\n",
    "rcParams['figure.figsize'] = (12, 8)\n",
    "\n",
    "%matplotlib inline"
   ]
  },
  {
   "cell_type": "code",
   "execution_count": 4,
   "metadata": {},
   "outputs": [],
   "source": [
    "device = torch.device('cuda' if torch.cuda.is_available() else 'cpu')"
   ]
  },
  {
   "cell_type": "code",
   "execution_count": 5,
   "metadata": {},
   "outputs": [
    {
     "data": {
      "text/plain": [
       "True"
      ]
     },
     "execution_count": 5,
     "metadata": {},
     "output_type": "execute_result"
    }
   ],
   "source": [
    "torch.cuda.is_available()"
   ]
  },
  {
   "cell_type": "code",
   "execution_count": 6,
   "metadata": {},
   "outputs": [],
   "source": [
    "device_ids = [0]"
   ]
  },
  {
   "cell_type": "code",
   "execution_count": 7,
   "metadata": {},
   "outputs": [],
   "source": [
    "batch_size = 128\n",
    "num_epochs = 30\n",
    "\n",
    "z_dimension = 100\n",
    "num_feature = (32, 4, 4) # 64 * 64\n",
    "\n",
    "img_shape = (1, 32, 32)"
   ]
  },
  {
   "cell_type": "code",
   "execution_count": 8,
   "metadata": {},
   "outputs": [],
   "source": [
    "img_transform = transforms.Compose([\n",
    "    transforms.Resize(32),\n",
    "    transforms.ToTensor(),\n",
    "    transforms.Normalize((.5, .5, .5), (.5, .5, .5))\n",
    "])\n",
    "\n",
    "dataset = datasets.MNIST('/home/left5/datas/mnist', transform=img_transform) #, download=True)\n",
    "dataloader = DataLoader(dataset, batch_size=batch_size, shuffle=True, num_workers=4)"
   ]
  },
  {
   "cell_type": "code",
   "execution_count": 9,
   "metadata": {},
   "outputs": [],
   "source": [
    "class Discriminator(nn.Module):\n",
    "    def __init__(self):\n",
    "        super(Discriminator, self).__init__()\n",
    "        \n",
    "        self.label_embedding = nn.Embedding(10, np.prod(img_shape))\n",
    "        \n",
    "        self.conv1 = nn.Sequential(\n",
    "            nn.Conv2d(2, 16, 3, padding=1, stride=2),\n",
    "            nn.BatchNorm2d(16),\n",
    "            nn.LeakyReLU(.2, True),\n",
    "#             nn.AvgPool2d(2, 2), \n",
    "        ) # b 16 16 16\n",
    "        \n",
    "        self.conv2 = nn.Sequential(\n",
    "            nn.Conv2d(16, 32, 3, padding=1, stride=2),\n",
    "            nn.BatchNorm2d(32),\n",
    "            nn.LeakyReLU(.2, True),\n",
    "#             nn.AvgPool2d(2, 2), \n",
    "        ) # b 32 8 8\n",
    "        \n",
    "        self.conv3 = nn.Sequential(\n",
    "            nn.Conv2d(32, 64, 3, padding=1, stride=2),\n",
    "            nn.BatchNorm2d(64),\n",
    "            nn.LeakyReLU(.2, True),\n",
    "#             nn.AvgPool2d(2, 2), \n",
    "        ) # b 64 4 4\n",
    "        \n",
    "        self.conv4 = nn.Sequential(\n",
    "            nn.Conv2d(64, 128, 3, padding=1, stride=2),\n",
    "            nn.BatchNorm2d(128),\n",
    "            nn.LeakyReLU(.2, True),\n",
    "#             nn.AvgPool2d(2, 2), \n",
    "        ) # b 128 2 2\n",
    "        \n",
    "        self.fc = nn.Sequential(\n",
    "            nn.Linear(128 * 2 * 2, 1024),\n",
    "            nn.LeakyReLU(.2, True),\n",
    "            nn.Linear(1024, 1),\n",
    "            nn.Sigmoid(),\n",
    "        ) # b 1\n",
    "        \n",
    "        self.label = nn.Sequential(\n",
    "            nn.Linear(128 * 2 * 2, 10),\n",
    "            nn.Sigmoid()\n",
    "        )\n",
    "\n",
    "    def forward(self, imgs, labels): # b 1 32 32\n",
    "        \n",
    "        _imgs = torch.cat((imgs, self.label_embedding(labels).reshape(imgs.size(0), *img_shape)), 1)\n",
    "\n",
    "        outs = self.conv1(_imgs)\n",
    "        outs = self.conv2(outs)\n",
    "        outs = self.conv3(outs)\n",
    "        outs = self.conv4(outs)\n",
    "        outs = outs.view(imgs.size(0), -1)\n",
    "        img = self.fc(outs)\n",
    "        lab = self.label(outs)\n",
    "        \n",
    "        return img, lab # b 1 1 1, b 10"
   ]
  },
  {
   "cell_type": "code",
   "execution_count": 10,
   "metadata": {},
   "outputs": [],
   "source": [
    "class Generator(nn.Module):\n",
    "    def __init__(self, inp_dim, num_feature):\n",
    "        super(Generator, self).__init__()\n",
    "\n",
    "        self.label_emb = nn.Embedding(10, 10)\n",
    "        \n",
    "        self.fc = nn.Sequential(\n",
    "            nn.Linear(inp_dim, np.prod(num_feature)),\n",
    "#             nn.Sigmoid(),\n",
    "        ) # b *num_feature  b 32 4 4\n",
    "        \n",
    "        self.upsample1 = nn.Sequential(\n",
    "#             nn.BatchNorm2d(128),\n",
    "            nn.ConvTranspose2d(32, 16, 4, 2, 1),\n",
    "#             nn.functional.interpolate(scale_factor=2),\n",
    "#             nn.Upsample(scale_factor=2),\n",
    "#             nn.Conv2d(32, 16, 3, padding=1),\n",
    "            nn.BatchNorm2d(16),\n",
    "            nn.LeakyReLU(.2, True),\n",
    "#             nn.ReLU(True),\n",
    "        ) # b 16 8 8\n",
    "        \n",
    "        self.upsample2 = nn.Sequential(\n",
    "#             nn.functional.interpolate(scale_factor=2),\n",
    "            nn.ConvTranspose2d(16, 8, 4, 2, 1),\n",
    "#             nn.Upsample(scale_factor=2),\n",
    "#             nn.Conv2d(16, 8, 3, padding=1),\n",
    "            nn.BatchNorm2d(8),\n",
    "            nn.LeakyReLU(.2, True),\n",
    "#             nn.ReLU(True),\n",
    "        ) # b 8 16 16\n",
    "        \n",
    "        self.upsample3 = nn.Sequential(\n",
    "            nn.ConvTranspose2d(8, 4, 4, 2, 1),\n",
    "#             nn.functional.interpolate(scale_factor=2),\n",
    "#             nn.Upsample(scale_factor=2),\n",
    "#             nn.Conv2d(8, 4, 3, padding=1, stride=1),\n",
    "            nn.BatchNorm2d(4),\n",
    "            nn.LeakyReLU(.2, True),\n",
    "#             nn.ReLU(True),\n",
    "        ) # b 4 32 32\n",
    "        \n",
    "        self.conv = nn.Sequential(\n",
    "#             nn.functional.interpolate(scale_factor=2),\n",
    "            nn.Conv2d(4, 1, 3, padding=1, stride=1),\n",
    "            nn.Tanh(),\n",
    "        ) # b 1 32 32\n",
    "\n",
    "    def forward(self, noise, labels):\n",
    "        \n",
    "#         gen_input = torch.cat((labels.reshape(noise.size(0), -1), noise), -1)\n",
    "        gen_input = torch.cat((self.label_emb(labels), noise), -1)\n",
    "        \n",
    "        outs = self.fc(gen_input)\n",
    "        outs = outs.view(noise.size(0), *num_feature)\n",
    "        outs = self.upsample1(outs)\n",
    "        outs = self.upsample2(outs)\n",
    "        outs = self.upsample3(outs)\n",
    "        outs = self.conv(outs)\n",
    "        \n",
    "        return outs\n"
   ]
  },
  {
   "cell_type": "code",
   "execution_count": 11,
   "metadata": {},
   "outputs": [],
   "source": [
    "D = Discriminator().to(device)\n",
    "G = Generator(z_dimension + 10, num_feature).to(device)\n",
    "\n",
    "D = nn.DataParallel(D, device_ids=device_ids).to(device)\n",
    "G = nn.DataParallel(G, device_ids=device_ids).to(device)\n",
    "\n",
    "adversarial_loss = nn.MSELoss()\n",
    "auxiliary_loss = torch.nn.CrossEntropyLoss()\n",
    "\n",
    "D_optimezer = optim.Adam(D.parameters(), lr=2e-4, betas=(0, 0.9))\n",
    "G_optimezer = optim.Adam(G.parameters(), lr=2e-4, betas=(0, 0.9))"
   ]
  },
  {
   "cell_type": "code",
   "execution_count": 12,
   "metadata": {},
   "outputs": [],
   "source": [
    "condition = torch.from_numpy(np.arange(10)).cuda()"
   ]
  },
  {
   "cell_type": "code",
   "execution_count": 13,
   "metadata": {},
   "outputs": [],
   "source": [
    "writer = SummaryWriter('./log/cnn_cgan')"
   ]
  },
  {
   "cell_type": "code",
   "execution_count": 14,
   "metadata": {},
   "outputs": [],
   "source": [
    "img_path = \"save_images/cnn_cgan\"\n",
    "if not os.path.exists(img_path): os.makedirs(img_path)"
   ]
  },
  {
   "cell_type": "code",
   "execution_count": 15,
   "metadata": {
    "scrolled": true
   },
   "outputs": [
    {
     "data": {
      "application/vnd.jupyter.widget-view+json": {
       "model_id": "70a316891fd6405e87031fc27b89a1ce",
       "version_major": 2,
       "version_minor": 0
      },
      "text/plain": [
       "HBox(children=(IntProgress(value=0, max=30), HTML(value='')))"
      ]
     },
     "metadata": {},
     "output_type": "display_data"
    },
    {
     "name": "stdout",
     "output_type": "stream",
     "text": [
      "Epoch [1/30], Step:  38400, d_loss: 9.700836, g_loss: 0.925431, real_scores: 0.999940, fake_scores: 0.050423\n",
      "Finish Epoch [1/30], D Loss: 1307.575957, G Loss: 108.921435\n",
      "Epoch [2/30], Step:  38400, d_loss: 9.869413, g_loss: 0.149900, real_scores: 0.999552, fake_scores: 0.796861\n",
      "Finish Epoch [2/30], D Loss: 667.709325, G Loss: 25.345365\n",
      "Epoch [3/30], Step:  38400, d_loss: 8.996090, g_loss: 0.000000, real_scores: 1.000000, fake_scores: 0.999996\n",
      "Finish Epoch [3/30], D Loss: 453.756656, G Loss: 0.346564\n",
      "Epoch [4/30], Step:  38400, d_loss: 10.941385, g_loss: 0.000000, real_scores: 1.000000, fake_scores: 0.999979\n",
      "Finish Epoch [4/30], D Loss: 340.231746, G Loss: 0.786314\n",
      "Epoch [5/30], Step:  38400, d_loss: 11.917888, g_loss: 0.000000, real_scores: 0.999999, fake_scores: 0.999915\n",
      "Finish Epoch [5/30], D Loss: 272.224393, G Loss: 0.217321\n",
      "Epoch [6/30], Step:  38400, d_loss: 10.166119, g_loss: 0.004852, real_scores: 0.997653, fake_scores: 0.979546\n",
      "Finish Epoch [6/30], D Loss: 226.762099, G Loss: 0.414708\n",
      "Epoch [7/30], Step:  38400, d_loss: 10.329415, g_loss: 0.070443, real_scores: 0.998812, fake_scores: 0.915013\n",
      "Finish Epoch [7/30], D Loss: 194.351579, G Loss: 0.385282\n",
      "Epoch [8/30], Step:  38400, d_loss: 11.351201, g_loss: 0.106161, real_scores: 0.993304, fake_scores: 0.874436\n",
      "Finish Epoch [8/30], D Loss: 169.406579, G Loss: 1.403223\n",
      "Epoch [9/30], Step:  38400, d_loss: 11.429358, g_loss: 0.116780, real_scores: 0.990752, fake_scores: 0.811442\n",
      "Finish Epoch [9/30], D Loss: 149.993353, G Loss: 2.366384\n",
      "Epoch [10/30], Step:  38400, d_loss: 10.367471, g_loss: 0.580568, real_scores: 0.979153, fake_scores: 0.359018\n",
      "Finish Epoch [10/30], D Loss: 134.044301, G Loss: 3.843527\n",
      "Epoch [11/30], Step:  38400, d_loss: 11.086356, g_loss: 0.011544, real_scores: 0.999999, fake_scores: 0.982926\n",
      "Finish Epoch [11/30], D Loss: 121.885184, G Loss: 3.521385\n",
      "Epoch [12/30], Step:  38400, d_loss: 11.558646, g_loss: 0.457226, real_scores: 0.994486, fake_scores: 0.496556\n",
      "Finish Epoch [12/30], D Loss: 111.881759, G Loss: 2.973704\n",
      "Epoch [13/30], Step:  38400, d_loss: 11.400305, g_loss: 0.584874, real_scores: 0.997788, fake_scores: 0.392537\n",
      "Finish Epoch [13/30], D Loss: 103.174547, G Loss: 2.920590\n",
      "Epoch [14/30], Step:  38400, d_loss: 11.229321, g_loss: 0.252193, real_scores: 0.998095, fake_scores: 0.662483\n",
      "Finish Epoch [14/30], D Loss: 96.168579, G Loss: 2.144335\n",
      "Epoch [15/30], Step:  38400, d_loss: 11.561972, g_loss: 0.233466, real_scores: 0.999134, fake_scores: 0.703812\n",
      "Finish Epoch [15/30], D Loss: 89.731247, G Loss: 2.004583\n",
      "Epoch [16/30], Step:  38400, d_loss: 11.168265, g_loss: 0.736528, real_scores: 0.894164, fake_scores: 0.242842\n",
      "Finish Epoch [16/30], D Loss: 84.303230, G Loss: 1.637488\n",
      "Epoch [17/30], Step:  38400, d_loss: 9.849257, g_loss: 0.364396, real_scores: 0.981073, fake_scores: 0.580654\n",
      "Finish Epoch [17/30], D Loss: 79.195847, G Loss: 1.741381\n",
      "Epoch [18/30], Step:  38400, d_loss: 9.781956, g_loss: 0.240440, real_scores: 0.997652, fake_scores: 0.685528\n",
      "Finish Epoch [18/30], D Loss: 74.764061, G Loss: 1.734917\n",
      "Epoch [19/30], Step:  38400, d_loss: 11.563212, g_loss: 0.002050, real_scores: 1.000000, fake_scores: 0.991874\n",
      "Finish Epoch [19/30], D Loss: 70.844593, G Loss: 1.608934\n",
      "Epoch [20/30], Step:  38400, d_loss: 10.258683, g_loss: 0.034786, real_scores: 0.999764, fake_scores: 0.928015\n",
      "Finish Epoch [20/30], D Loss: 67.194550, G Loss: 1.733999\n",
      "Epoch [21/30], Step:  38400, d_loss: 11.668336, g_loss: 0.003710, real_scores: 1.000000, fake_scores: 0.990698\n",
      "Finish Epoch [21/30], D Loss: 63.944115, G Loss: 1.742302\n",
      "Epoch [22/30], Step:  38400, d_loss: 10.588936, g_loss: 0.366342, real_scores: 0.995357, fake_scores: 0.537700\n",
      "Finish Epoch [22/30], D Loss: 61.028427, G Loss: 1.728515\n",
      "Epoch [23/30], Step:  38400, d_loss: 9.172277, g_loss: 0.659915, real_scores: 0.981483, fake_scores: 0.296753\n",
      "Finish Epoch [23/30], D Loss: 58.212765, G Loss: 1.907517\n",
      "Epoch [24/30], Step:  38400, d_loss: 10.735636, g_loss: 0.862978, real_scores: 0.931462, fake_scores: 0.093673\n",
      "Finish Epoch [24/30], D Loss: 55.758901, G Loss: 1.871470\n",
      "Epoch [25/30], Step:  38400, d_loss: 9.997872, g_loss: 0.186752, real_scores: 0.999987, fake_scores: 0.709138\n",
      "Finish Epoch [25/30], D Loss: 53.260432, G Loss: 2.282242\n",
      "Epoch [26/30], Step:  38400, d_loss: 10.551756, g_loss: 0.881168, real_scores: 0.999151, fake_scores: 0.084575\n",
      "Finish Epoch [26/30], D Loss: 51.343624, G Loss: 1.980463\n",
      "Epoch [27/30], Step:  38400, d_loss: 9.929264, g_loss: 0.606278, real_scores: 0.999813, fake_scores: 0.313007\n",
      "Finish Epoch [27/30], D Loss: 49.254458, G Loss: 2.227784\n",
      "Epoch [28/30], Step:  38400, d_loss: 11.541739, g_loss: 0.943252, real_scores: 0.951332, fake_scores: 0.039629\n",
      "Finish Epoch [28/30], D Loss: 47.342810, G Loss: 2.484151\n",
      "Epoch [29/30], Step:  38400, d_loss: 11.680548, g_loss: 0.923398, real_scores: 0.996312, fake_scores: 0.045160\n",
      "Finish Epoch [29/30], D Loss: 45.540248, G Loss: 2.761742\n",
      "Epoch [30/30], Step:  38400, d_loss: 10.169505, g_loss: 0.971264, real_scores: 0.989945, fake_scores: 0.019405\n",
      "Finish Epoch [30/30], D Loss: 43.809329, G Loss: 3.052121\n",
      "\n"
     ]
    }
   ],
   "source": [
    "total_count = len(dataloader)\n",
    "for epoch in tqdm_notebook(range(num_epochs)):\n",
    "    _step = epoch * total_count\n",
    "    \n",
    "    d_loss_total = .0\n",
    "    g_loss_total = .0\n",
    "    for i, (imgs, labels) in enumerate(dataloader):\n",
    "        \n",
    "        real_imgs = imgs.cuda()\n",
    "        real_labels = labels.cuda()\n",
    "        \n",
    "        real = torch.ones(imgs.size(0), 1).cuda()\n",
    "        fake = torch.zeros(imgs.size(0), 1).cuda()\n",
    "        \n",
    "        z = torch.randn(imgs.size(0), z_dimension).cuda()\n",
    "        fake_labels = torch.from_numpy(np.random.randint(0, 10, imgs.size(0))).cuda()\n",
    "        \n",
    "        ########## G ##########\n",
    "        fake_imgs = G(z, fake_labels)\n",
    "        fake_out, fake_out_labels = D(fake_imgs, fake_labels)\n",
    "        g_loss = adversarial_loss(fake_out, real)\n",
    "        \n",
    "        G_optimezer.zero_grad()\n",
    "        g_loss.backward()\n",
    "        G_optimezer.step()\n",
    "        #######################\n",
    "        \n",
    "        ########## D ##########\n",
    "        real_out, real_out_label = D(real_imgs, real_labels)\n",
    "        d_loss_real = adversarial_loss(real_out, real_labels.float())\n",
    "#         d_loss_real_label = auxiliary_loss(real_out_label, real_labels)\n",
    "        real_scores = real_out\n",
    "        \n",
    "        fake_out, fake_out_label = D(fake_imgs.detach(), fake_labels)\n",
    "        d_loss_fake = adversarial_loss(fake_out, fake)\n",
    "        fake_scores = fake_out\n",
    "        \n",
    "        d_loss = (d_loss_real + d_loss_fake) / 2 # + d_loss_real_label\n",
    "        D_optimezer.zero_grad()\n",
    "        d_loss.backward()\n",
    "        D_optimezer.step()\n",
    "        #######################\n",
    "        \n",
    "        d_loss_total += d_loss.item() * imgs.size(0)\n",
    "        g_loss_total += g_loss.item() * imgs.size(0)\n",
    "        \n",
    "        step = _step + i + 1\n",
    "        \n",
    "        if (i + 1) % 100 == 0:\n",
    "            writer.add_scalar('Discriminator Real Loss', d_loss_real.item(), step)\n",
    "            writer.add_scalar('Discriminator Fake Loss', d_loss_fake.item(), step)\n",
    "            writer.add_scalar('Discriminator Loss', d_loss.item(), step)\n",
    "            writer.add_scalar('Generator Loss', g_loss.item(), step)\n",
    "        \n",
    "        if (i + 1) % 300 == 0:\n",
    "            tqdm.write('Epoch [{}/{}], Step: {:6d}, d_loss: {:.6f}, g_loss: {:.6f}, real_scores: {:.6f}' \\\n",
    "', fake_scores: {:.6f}'.format(epoch+1, num_epochs, (i+1) * batch_size, d_loss, g_loss, real_scores.mean(), fake_scores.mean()))\n",
    "    \n",
    "    setp = (epoch + 1) * total_count\n",
    "    _d_loss_total = d_loss_total / (total_count * (epoch + 1))\n",
    "    _g_loss_total = g_loss_total / (total_count * (epoch + 1))\n",
    "    \n",
    "    writer.add_scalar('Discriminator Total Loss', _d_loss_total, step)\n",
    "    writer.add_scalar('Generator Total Loss', _g_loss_total, step)\n",
    "    \n",
    "    tqdm.write(\"Finish Epoch [{}/{}], D Loss: {:.6f}, G Loss: {:.6f}\".format(epoch+1, \n",
    "                                                                             num_epochs, \n",
    "                                                                             _d_loss_total,\n",
    "                                                                             _g_loss_total, ))\n",
    "    \n",
    "    if epoch == 0:\n",
    "        real_images = real_imgs.view(-1, 1, 32, 32).cpu().data\n",
    "        save_image(real_images, os.path.join(img_path, 'real_images.png'))\n",
    "        \n",
    "    noise = torch.randn(10, z_dimension).cuda()\n",
    "    condition_images = G(noise, condition)\n",
    "    \n",
    "    writer.add_image('Generator Image', make_grid(fake_imgs.view(-1, 1, 32, 32).cpu().data, normalize=True, scale_each=True), step)\n",
    "    writer.add_image('Condition Generator Image', make_grid(condition_images.view(-1, 1, 32, 32).cpu().data, normalize=True, scale_each=True), step)\n",
    "    \n",
    "    fake_images = fake_imgs.view(-1, 1, 32, 32).cpu().data\n",
    "    save_image(fake_images, os.path.join(img_path, 'fake_images-{}.png'.format(epoch+1)))\n",
    "    save_image(condition_images, os.path.join(img_path, 'condition_images-{}.png'.format(epoch+1)))"
   ]
  },
  {
   "cell_type": "code",
   "execution_count": 46,
   "metadata": {},
   "outputs": [],
   "source": [
    "writer.close()"
   ]
  },
  {
   "cell_type": "code",
   "execution_count": 47,
   "metadata": {},
   "outputs": [],
   "source": [
    "torch.save(D.state_dict(), './ser/cgan_discriminator.pt')\n",
    "torch.save(G.state_dict(), './ser/cgan_generator.pt')"
   ]
  },
  {
   "cell_type": "code",
   "execution_count": 48,
   "metadata": {},
   "outputs": [
    {
     "data": {
      "image/png": "[encoded data removed]",
      "text/plain": [
       "<Figure size 432x288 with 1 Axes>"
      ]
     },
     "metadata": {
      "needs_background": "light"
     },
     "output_type": "display_data"
    }
   ],
   "source": [
    "words = np.arange(10)\n",
    "l = torch.from_numpy(words).cuda()\n",
    "z = torch.randn(words.size, z_dimension).to(device)\n",
    "images = G(z, l)\n",
    "# save_image(images, 'xx.png')\n",
    "plt.imshow(Image.fromarray(make_grid(images).mul(255).clamp(0, 255).byte().permute(1, 2, 0).cpu().numpy()))\n",
    "plt.show()"
   ]
  },
  {
   "cell_type": "code",
   "execution_count": null,
   "metadata": {},
   "outputs": [],
   "source": []
  }
 ],
 "metadata": {
  "kernelspec": {
   "display_name": "Python 3",
   "language": "python",
   "name": "python3"
  },
  "language_info": {
   "codemirror_mode": {
    "name": "ipython",
    "version": 3
   },
   "file_extension": ".py",
   "mimetype": "text/x-python",
   "name": "python",
   "nbconvert_exporter": "python",
   "pygments_lexer": "ipython3",
   "version": "3.5.3"
  },
  "varInspector": {
   "cols": {
    "lenName": 16,
    "lenType": 16,
    "lenVar": 40
   },
   "kernels_config": {
    "python": {
     "delete_cmd_postfix": "",
     "delete_cmd_prefix": "del ",
     "library": "var_list.py",
     "varRefreshCmd": "print(var_dic_list())"
    },
    "r": {
     "delete_cmd_postfix": ") ",
     "delete_cmd_prefix": "rm(",
     "library": "var_list.r",
     "varRefreshCmd": "cat(var_dic_list()) "
    }
   },
   "position": {
    "height": "556px",
    "left": "247px",
    "right": "398px",
    "top": "131px",
    "width": "752px"
   },
   "types_to_exclude": [
    "module",
    "function",
    "builtin_function_or_method",
    "instance",
    "_Feature"
   ],
   "window_display": false
  }
 },
 "nbformat": 4,
 "nbformat_minor": 2
}
