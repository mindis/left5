{
 "cells": [
  {
   "cell_type": "code",
   "execution_count": 1,
   "metadata": {},
   "outputs": [],
   "source": [
    "import os\n",
    "from tqdm import tnrange, tqdm_notebook, tqdm\n",
    "import torch\n",
    "from torch import nn, optim\n",
    "from torch.utils.data import DataLoader\n",
    "from torchvision import transforms, datasets\n",
    "from torchvision.utils import save_image, make_grid\n",
    "from torch.autograd import Variable\n",
    "import numpy as np\n",
    "from PIL import Image\n",
    "import matplotlib.pyplot as plt\n",
    "from tensorboardX import SummaryWriter"
   ]
  },
  {
   "cell_type": "code",
   "execution_count": 2,
   "metadata": {},
   "outputs": [],
   "source": [
    "# os.environ['CUDA_VISIBLE_DEVICES'] = '1'"
   ]
  },
  {
   "cell_type": "code",
   "execution_count": 3,
   "metadata": {},
   "outputs": [],
   "source": [
    "from matplotlib import rcParams\n",
    "rcParams['figure.figsize'] = (12, 8)\n",
    "\n",
    "%matplotlib inline"
   ]
  },
  {
   "cell_type": "code",
   "execution_count": 4,
   "metadata": {},
   "outputs": [],
   "source": [
    "device = torch.device('cuda' if torch.cuda.is_available() else 'cpu')"
   ]
  },
  {
   "cell_type": "code",
   "execution_count": 5,
   "metadata": {},
   "outputs": [
    {
     "data": {
      "text/plain": [
       "True"
      ]
     },
     "execution_count": 5,
     "metadata": {},
     "output_type": "execute_result"
    }
   ],
   "source": [
    "torch.cuda.is_available()"
   ]
  },
  {
   "cell_type": "code",
   "execution_count": 6,
   "metadata": {},
   "outputs": [],
   "source": [
    "device_ids = [0]"
   ]
  },
  {
   "cell_type": "code",
   "execution_count": 7,
   "metadata": {},
   "outputs": [],
   "source": [
    "batch_size = 128\n",
    "num_epochs = 30\n",
    "\n",
    "z_dimension = 100\n",
    "num_feature = (32, 4, 4) # 64 * 64\n",
    "\n",
    "img_shape = (1, 32, 32)"
   ]
  },
  {
   "cell_type": "code",
   "execution_count": 8,
   "metadata": {},
   "outputs": [],
   "source": [
    "img_transform = transforms.Compose([\n",
    "    transforms.Resize(32),\n",
    "    transforms.ToTensor(),\n",
    "    transforms.Normalize((.5, .5, .5), (.5, .5, .5))\n",
    "])\n",
    "\n",
    "dataset = datasets.MNIST('/home/left5/datas/mnist', transform=img_transform) #, download=True)\n",
    "dataloader = DataLoader(dataset, batch_size=batch_size, shuffle=True, num_workers=4)"
   ]
  },
  {
   "cell_type": "code",
   "execution_count": 9,
   "metadata": {},
   "outputs": [],
   "source": [
    "class Discriminator(nn.Module):\n",
    "    def __init__(self):\n",
    "        super(Discriminator, self).__init__()\n",
    "        \n",
    "        self.label_embedding = nn.Embedding(10, np.prod(img_shape))\n",
    "        \n",
    "        self.conv1 = nn.Sequential(\n",
    "            nn.Conv2d(2, 16, 3, padding=1, stride=2),\n",
    "            nn.BatchNorm2d(16),\n",
    "            nn.LeakyReLU(.2, True),\n",
    "#             nn.AvgPool2d(2, 2), \n",
    "        ) # b 16 16 16\n",
    "        \n",
    "        self.conv2 = nn.Sequential(\n",
    "            nn.Conv2d(16, 32, 3, padding=1, stride=2),\n",
    "            nn.BatchNorm2d(32),\n",
    "            nn.LeakyReLU(.2, True),\n",
    "#             nn.AvgPool2d(2, 2), \n",
    "        ) # b 32 8 8\n",
    "        \n",
    "        self.conv3 = nn.Sequential(\n",
    "            nn.Conv2d(32, 64, 3, padding=1, stride=2),\n",
    "            nn.BatchNorm2d(64),\n",
    "            nn.LeakyReLU(.2, True),\n",
    "#             nn.AvgPool2d(2, 2), \n",
    "        ) # b 64 4 4\n",
    "        \n",
    "        self.conv4 = nn.Sequential(\n",
    "            nn.Conv2d(64, 128, 3, padding=1, stride=2),\n",
    "            nn.BatchNorm2d(128),\n",
    "            nn.LeakyReLU(.2, True),\n",
    "#             nn.AvgPool2d(2, 2), \n",
    "        ) # b 128 2 2\n",
    "        \n",
    "        self.fc = nn.Sequential(\n",
    "            nn.Linear(128 * 2 * 2, 1024),\n",
    "            nn.LeakyReLU(.2, True),\n",
    "            nn.Linear(1024, 1),\n",
    "            nn.Sigmoid(),\n",
    "        ) # b 1\n",
    "        \n",
    "        self.label = nn.Sequential(\n",
    "            nn.Linear(128 * 2 * 2, 10),\n",
    "            nn.Sigmoid()\n",
    "        )\n",
    "\n",
    "    def forward(self, imgs, labels): # b 1 32 32\n",
    "        \n",
    "        _imgs = torch.cat((imgs, self.label_embedding(labels).reshape(imgs.size(0), *img_shape)), 1)\n",
    "\n",
    "        outs = self.conv1(_imgs)\n",
    "        outs = self.conv2(outs)\n",
    "        outs = self.conv3(outs)\n",
    "        outs = self.conv4(outs)\n",
    "        outs = outs.view(imgs.size(0), -1)\n",
    "        img = self.fc(outs)\n",
    "        lab = self.label(outs)\n",
    "        \n",
    "        return img, lab # b 1 1 1, b 10"
   ]
  },
  {
   "cell_type": "code",
   "execution_count": 10,
   "metadata": {},
   "outputs": [],
   "source": [
    "class Generator(nn.Module):\n",
    "    def __init__(self, inp_dim, num_feature):\n",
    "        super(Generator, self).__init__()\n",
    "\n",
    "        self.label_emb = nn.Embedding(10, 10)\n",
    "        \n",
    "        self.fc = nn.Sequential(\n",
    "            nn.Linear(inp_dim, np.prod(num_feature)),\n",
    "#             nn.Sigmoid(),\n",
    "        ) # b *num_feature  b 32 4 4\n",
    "        \n",
    "        self.upsample1 = nn.Sequential(\n",
    "#             nn.BatchNorm2d(128),\n",
    "            nn.ConvTranspose2d(32, 16, 4, 2, 1),\n",
    "#             nn.functional.interpolate(scale_factor=2),\n",
    "#             nn.Upsample(scale_factor=2),\n",
    "#             nn.Conv2d(32, 16, 3, padding=1),\n",
    "            nn.BatchNorm2d(16),\n",
    "            nn.LeakyReLU(.2, True),\n",
    "#             nn.ReLU(True),\n",
    "        ) # b 16 8 8\n",
    "        \n",
    "        self.upsample2 = nn.Sequential(\n",
    "#             nn.functional.interpolate(scale_factor=2),\n",
    "            nn.ConvTranspose2d(16, 8, 4, 2, 1),\n",
    "#             nn.Upsample(scale_factor=2),\n",
    "#             nn.Conv2d(16, 8, 3, padding=1),\n",
    "            nn.BatchNorm2d(8),\n",
    "            nn.LeakyReLU(.2, True),\n",
    "#             nn.ReLU(True),\n",
    "        ) # b 8 16 16\n",
    "        \n",
    "        self.upsample3 = nn.Sequential(\n",
    "            nn.ConvTranspose2d(8, 4, 4, 2, 1),\n",
    "#             nn.functional.interpolate(scale_factor=2),\n",
    "#             nn.Upsample(scale_factor=2),\n",
    "#             nn.Conv2d(8, 4, 3, padding=1, stride=1),\n",
    "            nn.BatchNorm2d(4),\n",
    "            nn.LeakyReLU(.2, True),\n",
    "#             nn.ReLU(True),\n",
    "        ) # b 4 32 32\n",
    "        \n",
    "        self.conv = nn.Sequential(\n",
    "#             nn.functional.interpolate(scale_factor=2),\n",
    "            nn.Conv2d(4, 1, 3, padding=1, stride=1),\n",
    "            nn.Tanh(),\n",
    "        ) # b 1 32 32\n",
    "\n",
    "    def forward(self, noise, labels):\n",
    "        \n",
    "#         gen_input = torch.cat((labels.reshape(noise.size(0), -1), noise), -1)\n",
    "        gen_input = torch.cat((self.label_emb(labels), noise), -1)\n",
    "        \n",
    "        outs = self.fc(gen_input)\n",
    "        outs = outs.view(noise.size(0), *num_feature)\n",
    "        outs = self.upsample1(outs)\n",
    "        outs = self.upsample2(outs)\n",
    "        outs = self.upsample3(outs)\n",
    "        \n",
    "        outs = self.conv(outs)\n",
    "        \n",
    "        return outs\n"
   ]
  },
  {
   "cell_type": "code",
   "execution_count": 11,
   "metadata": {},
   "outputs": [],
   "source": [
    "D = Discriminator().to(device)\n",
    "G = Generator(z_dimension + 10, num_feature).to(device)\n",
    "\n",
    "D = nn.DataParallel(D, device_ids=device_ids).to(device)\n",
    "G = nn.DataParallel(G, device_ids=device_ids).to(device)\n",
    "\n",
    "adversarial_loss = nn.MSELoss()\n",
    "auxiliary_loss = torch.nn.CrossEntropyLoss()\n",
    "\n",
    "D_optimezer = optim.Adam(D.parameters(), lr=2e-4, betas=(0, 0.9))\n",
    "G_optimezer = optim.Adam(G.parameters(), lr=2e-4, betas=(0, 0.9))"
   ]
  },
  {
   "cell_type": "code",
   "execution_count": 28,
   "metadata": {},
   "outputs": [],
   "source": [
    "condition = torch.from_numpy(np.arange(10)).cuda()"
   ]
  },
  {
   "cell_type": "code",
   "execution_count": 29,
   "metadata": {},
   "outputs": [],
   "source": [
    "writer = SummaryWriter('./log/cnn_cgan')"
   ]
  },
  {
   "cell_type": "code",
   "execution_count": 30,
   "metadata": {},
   "outputs": [],
   "source": [
    "img_path = \"save_images/cnn_cgan\"\n",
    "if not os.path.exists(img_path): os.makedirs(img_path)"
   ]
  },
  {
   "cell_type": "code",
   "execution_count": 31,
   "metadata": {
    "scrolled": true
   },
   "outputs": [
    {
     "data": {
      "application/vnd.jupyter.widget-view+json": {
       "model_id": "f8106cfd879442ccb1f61cce4369de7a",
       "version_major": 2,
       "version_minor": 0
      },
      "text/plain": [
       "HBox(children=(IntProgress(value=0, max=30), HTML(value='')))"
      ]
     },
     "metadata": {},
     "output_type": "display_data"
    },
    {
     "name": "stdout",
     "output_type": "stream",
     "text": [
      "Epoch [1/30], Step:  38400, d_loss: 0.000296, g_loss: 0.975898, real_scores: 0.990060, fake_scores: 0.012225\n",
      "Finish Epoch [1/30], D Loss: 1.999303, G Loss: 117.364577\n",
      "Epoch [2/30], Step:  38400, d_loss: 0.001040, g_loss: 0.969322, real_scores: 0.983569, fake_scores: 0.016019\n",
      "Finish Epoch [2/30], D Loss: 1.520596, G Loss: 59.583866\n",
      "Epoch [3/30], Step:  38400, d_loss: 0.015447, g_loss: 0.807057, real_scores: 0.974437, fake_scores: 0.111198\n",
      "Finish Epoch [3/30], D Loss: 2.441598, G Loss: 35.742803\n",
      "Epoch [4/30], Step:  38400, d_loss: 0.171148, g_loss: 0.248473, real_scores: 0.955051, fake_scores: 0.544807\n",
      "Finish Epoch [4/30], D Loss: 4.062549, G Loss: 20.292917\n",
      "Epoch [5/30], Step:  38400, d_loss: 0.195313, g_loss: 0.943517, real_scores: 0.412412, fake_scores: 0.029115\n",
      "Finish Epoch [5/30], D Loss: 3.116807, G Loss: 15.339024\n",
      "Epoch [6/30], Step:  38400, d_loss: 0.085771, g_loss: 0.472512, real_scores: 0.965180, fake_scores: 0.348320\n",
      "Finish Epoch [6/30], D Loss: 1.653095, G Loss: 15.036713\n",
      "Epoch [7/30], Step:  38400, d_loss: 0.060662, g_loss: 0.910266, real_scores: 0.744867, fake_scores: 0.048106\n",
      "Finish Epoch [7/30], D Loss: 1.407761, G Loss: 13.227908\n",
      "Epoch [8/30], Step:  38400, d_loss: 0.061368, g_loss: 0.914386, real_scores: 0.715493, fake_scores: 0.045107\n",
      "Finish Epoch [8/30], D Loss: 1.254856, G Loss: 11.539002\n",
      "Epoch [9/30], Step:  38400, d_loss: 0.137915, g_loss: 0.351726, real_scores: 0.955371, fake_scores: 0.459411\n",
      "Finish Epoch [9/30], D Loss: 1.060590, G Loss: 10.441533\n",
      "Epoch [10/30], Step:  38400, d_loss: 0.034987, g_loss: 0.672289, real_scores: 0.962334, fake_scores: 0.195823\n",
      "Finish Epoch [10/30], D Loss: 1.004536, G Loss: 9.352011\n",
      "Epoch [11/30], Step:  38400, d_loss: 0.130844, g_loss: 0.373423, real_scores: 0.992077, fake_scores: 0.444025\n",
      "Finish Epoch [11/30], D Loss: 0.874377, G Loss: 8.582049\n",
      "Epoch [12/30], Step:  38400, d_loss: 0.019146, g_loss: 0.788234, real_scores: 0.943026, fake_scores: 0.121288\n",
      "Finish Epoch [12/30], D Loss: 0.767472, G Loss: 7.973148\n",
      "Epoch [13/30], Step:  38400, d_loss: 0.007026, g_loss: 0.873761, real_scores: 0.960188, fake_scores: 0.068203\n",
      "Finish Epoch [13/30], D Loss: 0.691502, G Loss: 7.448435\n",
      "Epoch [14/30], Step:  38400, d_loss: 0.101181, g_loss: 0.490189, real_scores: 0.959947, fake_scores: 0.351593\n",
      "Finish Epoch [14/30], D Loss: 0.591022, G Loss: 7.064462\n",
      "Epoch [15/30], Step:  38400, d_loss: 0.021801, g_loss: 0.801193, real_scores: 0.900633, fake_scores: 0.112264\n",
      "Finish Epoch [15/30], D Loss: 0.500835, G Loss: 6.765235\n",
      "Epoch [16/30], Step:  38400, d_loss: 0.263239, g_loss: 0.142392, real_scores: 0.994025, fake_scores: 0.691960\n",
      "Finish Epoch [16/30], D Loss: 0.429942, G Loss: 6.468477\n",
      "Epoch [17/30], Step:  38400, d_loss: 0.009205, g_loss: 0.853269, real_scores: 0.940425, fake_scores: 0.079174\n",
      "Finish Epoch [17/30], D Loss: 0.354179, G Loss: 6.260261\n",
      "Epoch [18/30], Step:  38400, d_loss: 0.145187, g_loss: 0.992224, real_scores: 0.541283, fake_scores: 0.003924\n",
      "Finish Epoch [18/30], D Loss: 0.295787, G Loss: 6.064424\n",
      "Epoch [19/30], Step:  38400, d_loss: 0.001625, g_loss: 0.985332, real_scores: 0.970649, fake_scores: 0.007410\n",
      "Finish Epoch [19/30], D Loss: 0.248228, G Loss: 5.876839\n",
      "Epoch [20/30], Step:  38400, d_loss: 0.000788, g_loss: 0.964839, real_scores: 0.983758, fake_scores: 0.018028\n",
      "Finish Epoch [20/30], D Loss: 0.204113, G Loss: 5.696967\n",
      "Epoch [21/30], Step:  38400, d_loss: 0.193977, g_loss: 0.999457, real_scores: 0.460949, fake_scores: 0.000272\n",
      "Finish Epoch [21/30], D Loss: 0.162862, G Loss: 5.578299\n",
      "Epoch [22/30], Step:  38400, d_loss: 0.000905, g_loss: 0.955680, real_scores: 0.987980, fake_scores: 0.022809\n",
      "Finish Epoch [22/30], D Loss: 0.144721, G Loss: 5.341890\n",
      "Epoch [23/30], Step:  38400, d_loss: 0.067361, g_loss: 0.998075, real_scores: 0.756876, fake_scores: 0.000964\n",
      "Finish Epoch [23/30], D Loss: 0.120643, G Loss: 5.223550\n",
      "Epoch [24/30], Step:  38400, d_loss: 0.003687, g_loss: 0.998695, real_scores: 0.974278, fake_scores: 0.000653\n",
      "Finish Epoch [24/30], D Loss: 0.092206, G Loss: 5.057560\n",
      "Epoch [25/30], Step:  38400, d_loss: 0.041295, g_loss: 0.999362, real_scores: 0.861830, fake_scores: 0.000320\n",
      "Finish Epoch [25/30], D Loss: 0.089576, G Loss: 4.863800\n",
      "Epoch [26/30], Step:  38400, d_loss: 0.271879, g_loss: 0.999493, real_scores: 0.321591, fake_scores: 0.000254\n",
      "Finish Epoch [26/30], D Loss: 0.074252, G Loss: 4.739258\n",
      "Epoch [27/30], Step:  38400, d_loss: 0.000863, g_loss: 0.968771, real_scores: 0.995323, fake_scores: 0.016426\n",
      "Finish Epoch [27/30], D Loss: 0.063971, G Loss: 4.580525\n",
      "Epoch [28/30], Step:  38400, d_loss: 0.000101, g_loss: 0.996065, real_scores: 0.995308, fake_scores: 0.001997\n",
      "Finish Epoch [28/30], D Loss: 0.051565, G Loss: 4.453082\n",
      "Epoch [29/30], Step:  38400, d_loss: 0.000237, g_loss: 0.981639, real_scores: 0.995894, fake_scores: 0.009364\n",
      "Finish Epoch [29/30], D Loss: 0.050944, G Loss: 4.296620\n",
      "Epoch [30/30], Step:  38400, d_loss: 0.000002, g_loss: 0.998699, real_scores: 0.999715, fake_scores: 0.000652\n",
      "Finish Epoch [30/30], D Loss: 0.036390, G Loss: 4.176848\n",
      "\n"
     ]
    }
   ],
   "source": [
    "total_count = len(dataloader)\n",
    "for epoch in tqdm_notebook(range(num_epochs)):\n",
    "    _step = epoch * total_count\n",
    "    \n",
    "    d_loss_total = .0\n",
    "    g_loss_total = .0\n",
    "    for i, (imgs, labels) in enumerate(dataloader):\n",
    "        \n",
    "        real_imgs = imgs.cuda()\n",
    "        real_labels = labels.cuda()\n",
    "        \n",
    "        real = torch.ones(imgs.size(0), 1).cuda()\n",
    "        fake = torch.zeros(imgs.size(0), 1).cuda()\n",
    "        \n",
    "        z = torch.randn(imgs.size(0), z_dimension).cuda()\n",
    "        fake_labels = torch.from_numpy(np.random.randint(0, 10, imgs.size(0))).cuda()\n",
    "        \n",
    "        ########## G ##########\n",
    "        fake_imgs = G(z, fake_labels)\n",
    "        fake_out, fake_out_labels = D(fake_imgs, fake_labels)\n",
    "        g_loss = adversarial_loss(fake_out, real)\n",
    "        \n",
    "        G_optimezer.zero_grad()\n",
    "        g_loss.backward()\n",
    "        G_optimezer.step()\n",
    "        #######################\n",
    "        \n",
    "        ########## D ##########\n",
    "        real_out, real_out_label = D(real_imgs, real_labels)\n",
    "        d_loss_real = adversarial_loss(real_out, real) # real_labels.float()\n",
    "#         d_loss_real_label = auxiliary_loss(real_out_label, real_labels)\n",
    "        real_scores = real_out\n",
    "        \n",
    "        fake_out, fake_out_labels = D(fake_imgs.detach(), fake_labels)\n",
    "        d_loss_fake = adversarial_loss(fake_out, fake)\n",
    "        fake_scores = fake_out\n",
    "        \n",
    "        d_loss = (d_loss_real + d_loss_fake) / 2 # + d_loss_real_label\n",
    "        D_optimezer.zero_grad()\n",
    "        d_loss.backward()\n",
    "        D_optimezer.step()\n",
    "        #######################\n",
    "        \n",
    "        d_loss_total += d_loss.item() * imgs.size(0)\n",
    "        g_loss_total += g_loss.item() * imgs.size(0)\n",
    "        \n",
    "        step = _step + i + 1\n",
    "        \n",
    "        if (i + 1) % 100 == 0:\n",
    "            writer.add_scalar('Discriminator Real Loss', d_loss_real.item(), step)\n",
    "            writer.add_scalar('Discriminator Fake Loss', d_loss_fake.item(), step)\n",
    "            writer.add_scalar('Discriminator Loss', d_loss.item(), step)\n",
    "            writer.add_scalar('Generator Loss', g_loss.item(), step)\n",
    "        \n",
    "        if (i + 1) % 300 == 0:\n",
    "            tqdm.write('Epoch [{}/{}], Step: {:6d}, d_loss: {:.6f}, g_loss: {:.6f}, real_scores: {:.6f}' \\\n",
    "', fake_scores: {:.6f}'.format(epoch+1, num_epochs, (i+1) * batch_size, d_loss, g_loss, real_scores.mean(), fake_scores.mean()))\n",
    "    \n",
    "    setp = (epoch + 1) * total_count\n",
    "    _d_loss_total = d_loss_total / (total_count * (epoch + 1))\n",
    "    _g_loss_total = g_loss_total / (total_count * (epoch + 1))\n",
    "    \n",
    "    writer.add_scalar('Discriminator Total Loss', _d_loss_total, step)\n",
    "    writer.add_scalar('Generator Total Loss', _g_loss_total, step)\n",
    "    \n",
    "    tqdm.write(\"Finish Epoch [{}/{}], D Loss: {:.6f}, G Loss: {:.6f}\".format(epoch+1, \n",
    "                                                                             num_epochs, \n",
    "                                                                             _d_loss_total,\n",
    "                                                                             _g_loss_total, ))\n",
    "    \n",
    "    if epoch == 0:\n",
    "        real_images = real_imgs.view(-1, 1, 32, 32).cpu().data\n",
    "        save_image(real_images, os.path.join(img_path, 'real_images.png'))\n",
    "        \n",
    "    noise = torch.randn(10, z_dimension).cuda()\n",
    "    condition_images = G(noise, condition)\n",
    "    \n",
    "    writer.add_image('Generator Image', make_grid(fake_imgs.view(-1, 1, 32, 32).cpu().data, normalize=True, scale_each=True), step)\n",
    "    writer.add_image('Condition Generator Image', make_grid(condition_images.view(-1, 1, 32, 32).cpu().data, normalize=True, scale_each=True), step)\n",
    "    \n",
    "    fake_images = fake_imgs.view(-1, 1, 32, 32).cpu().data\n",
    "    save_image(fake_images, os.path.join(img_path, 'fake_images-{}.png'.format(epoch+1)))\n",
    "    save_image(condition_images, os.path.join(img_path, 'condition_images-{}.png'.format(epoch+1)))"
   ]
  },
  {
   "cell_type": "code",
   "execution_count": 32,
   "metadata": {},
   "outputs": [],
   "source": [
    "writer.close()"
   ]
  },
  {
   "cell_type": "code",
   "execution_count": 33,
   "metadata": {},
   "outputs": [],
   "source": [
    "torch.save(D.state_dict(), './ser/cgan_discriminator.pt')\n",
    "torch.save(G.state_dict(), './ser/cgan_generator.pt')"
   ]
  },
  {
   "cell_type": "code",
   "execution_count": 12,
   "metadata": {},
   "outputs": [],
   "source": [
    "D.load_state_dict(torch.load('./ser/cgan_discriminator.pt'))\n",
    "G.load_state_dict(torch.load('./ser/cgan_generator.pt'))"
   ]
  },
  {
   "cell_type": "code",
   "execution_count": 14,
   "metadata": {},
   "outputs": [
    {
     "data": {
      "image/png": "[encoded data removed]",
      "text/plain": [
       "<Figure size 432x288 with 1 Axes>"
      ]
     },
     "metadata": {
      "needs_background": "dark"
     },
     "output_type": "display_data"
    }
   ],
   "source": [
    "words = np.arange(10)\n",
    "l = torch.from_numpy(words).cuda()\n",
    "z = torch.randn(words.size, z_dimension).to(device)\n",
    "images = G(z, l)\n",
    "# save_image(images, 'xx.png')\n",
    "plt.imshow(Image.fromarray(make_grid(images).mul(255).clamp(0, 255).byte().permute(1, 2, 0).cpu().numpy()))\n",
    "plt.show()"
   ]
  },
  {
   "cell_type": "code",
   "execution_count": 16,
   "metadata": {},
   "outputs": [
    {
     "data": {
      "image/png": "[encoded data removed]",
      "text/plain": [
       "<Figure size 432x288 with 1 Axes>"
      ]
     },
     "metadata": {
      "needs_background": "dark"
     },
     "output_type": "display_data"
    }
   ],
   "source": [
    "words = np.arange(10)\n",
    "l = torch.from_numpy(words).cuda()\n",
    "z = torch.randn(words.size, z_dimension).to(device)\n",
    "images = G(z, l)\n",
    "# save_image(images, 'xx.png')\n",
    "plt.imshow(Image.fromarray(make_grid(images).mul(255).clamp(0, 255).byte().permute(1, 2, 0).cpu().numpy()))\n",
    "plt.show()"
   ]
  },
  {
   "cell_type": "code",
   "execution_count": null,
   "metadata": {},
   "outputs": [],
   "source": []
  }
 ],
 "metadata": {
  "kernelspec": {
   "display_name": "Python 3",
   "language": "python",
   "name": "python3"
  },
  "language_info": {
   "codemirror_mode": {
    "name": "ipython",
    "version": 3
   },
   "file_extension": ".py",
   "mimetype": "text/x-python",
   "name": "python",
   "nbconvert_exporter": "python",
   "pygments_lexer": "ipython3",
   "version": "3.5.3"
  },
  "varInspector": {
   "cols": {
    "lenName": 16,
    "lenType": 16,
    "lenVar": 40
   },
   "kernels_config": {
    "python": {
     "delete_cmd_postfix": "",
     "delete_cmd_prefix": "del ",
     "library": "var_list.py",
     "varRefreshCmd": "print(var_dic_list())"
    },
    "r": {
     "delete_cmd_postfix": ") ",
     "delete_cmd_prefix": "rm(",
     "library": "var_list.r",
     "varRefreshCmd": "cat(var_dic_list()) "
    }
   },
   "position": {
    "height": "556px",
    "left": "247px",
    "right": "398px",
    "top": "131px",
    "width": "752px"
   },
   "types_to_exclude": [
    "module",
    "function",
    "builtin_function_or_method",
    "instance",
    "_Feature"
   ],
   "window_display": false
  }
 },
 "nbformat": 4,
 "nbformat_minor": 2
}
