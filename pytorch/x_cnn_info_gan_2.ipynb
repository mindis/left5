{
 "cells": [
  {
   "cell_type": "code",
   "execution_count": 1,
   "metadata": {},
   "outputs": [],
   "source": [
    "import os\n",
    "from tqdm import tnrange, tqdm_notebook, tqdm\n",
    "import itertools\n",
    "import torch\n",
    "from torch import nn, optim\n",
    "from torch.utils.data import DataLoader\n",
    "from torchvision import transforms, datasets\n",
    "from torchvision.utils import save_image, make_grid\n",
    "from torch.autograd import Variable\n",
    "import numpy as np\n",
    "from PIL import Image\n",
    "import matplotlib.pyplot as plt\n",
    "from tensorboardX import SummaryWriter"
   ]
  },
  {
   "cell_type": "code",
   "execution_count": 2,
   "metadata": {},
   "outputs": [],
   "source": [
    "# os.environ['CUDA_VISIBLE_DEVICES'] = '1'"
   ]
  },
  {
   "cell_type": "code",
   "execution_count": 3,
   "metadata": {},
   "outputs": [],
   "source": [
    "from matplotlib import rcParams\n",
    "rcParams['figure.figsize'] = (12, 8)\n",
    "\n",
    "%matplotlib inline"
   ]
  },
  {
   "cell_type": "code",
   "execution_count": 4,
   "metadata": {},
   "outputs": [],
   "source": [
    "device = torch.device('cuda' if torch.cuda.is_available() else 'cpu')"
   ]
  },
  {
   "cell_type": "code",
   "execution_count": 5,
   "metadata": {},
   "outputs": [
    {
     "data": {
      "text/plain": [
       "True"
      ]
     },
     "execution_count": 5,
     "metadata": {},
     "output_type": "execute_result"
    }
   ],
   "source": [
    "torch.cuda.is_available()"
   ]
  },
  {
   "cell_type": "code",
   "execution_count": 6,
   "metadata": {},
   "outputs": [],
   "source": [
    "device_ids = [0]"
   ]
  },
  {
   "cell_type": "code",
   "execution_count": 7,
   "metadata": {},
   "outputs": [],
   "source": [
    "batch_size = 128\n",
    "num_epochs = 100\n",
    "\n",
    "z_dimension = 100\n",
    "num_feature = (32, 4, 4) # 64 * 64\n",
    "\n",
    "img_shape = (1, 32, 32)"
   ]
  },
  {
   "cell_type": "code",
   "execution_count": 8,
   "metadata": {},
   "outputs": [],
   "source": [
    "img_transform = transforms.Compose([\n",
    "    transforms.Resize(32),\n",
    "    transforms.ToTensor(),\n",
    "#     transforms.Normalize((.5, .5, .5), (.5, .5, .5))\n",
    "    transforms.Normalize((.5, ), (.5, ))\n",
    "])\n",
    "\n",
    "dataset = datasets.MNIST('/home/left5/datas/mnist', transform=img_transform) #, download=True)\n",
    "dataloader = DataLoader(dataset, batch_size=batch_size, shuffle=True, num_workers=4)"
   ]
  },
  {
   "cell_type": "code",
   "execution_count": 9,
   "metadata": {},
   "outputs": [],
   "source": [
    "def to_categorical(y, num_columns):\n",
    "    y_cat = np.zeros((y.shape[0], num_columns))\n",
    "    y_cat[range(y.shape[0]), y] = 1.\n",
    "\n",
    "#     return Variable(FloatTensor(y_cat))\n",
    "    return torch.from_numpy(y_cat).float().cuda()"
   ]
  },
  {
   "cell_type": "code",
   "execution_count": 10,
   "metadata": {},
   "outputs": [],
   "source": [
    "class Discriminator(nn.Module):\n",
    "    def __init__(self):\n",
    "        super(Discriminator, self).__init__()\n",
    "\n",
    "        def discriminator_block(in_filters, out_filters, bn=True):\n",
    "            \"\"\"Returns layers of each discriminator block\"\"\"\n",
    "            block = [nn.Conv2d(in_filters, out_filters, 3, 2, 1),\n",
    "                     nn.LeakyReLU(0.2, inplace=True),\n",
    "                     nn.Dropout2d(0.25)]\n",
    "            if bn:\n",
    "                block.append(nn.BatchNorm2d(out_filters, 0.8))\n",
    "            return block\n",
    "\n",
    "        self.conv_blocks = nn.Sequential(\n",
    "            *discriminator_block(1, 16, bn=False),\n",
    "            *discriminator_block(16, 32),\n",
    "            *discriminator_block(32, 64),\n",
    "            *discriminator_block(64, 128),\n",
    "        )\n",
    "\n",
    "        # The height and width of downsampled image\n",
    "        ds_size = 32 // 2**4\n",
    "\n",
    "        # Output layers\n",
    "        self.adv_layer = nn.Sequential(nn.Linear(128*ds_size**2, 1))\n",
    "        self.aux_layer = nn.Sequential(\n",
    "            nn.Linear(128*ds_size**2, 10),\n",
    "            nn.Softmax()\n",
    "        )\n",
    "        self.latent_layer = nn.Sequential(nn.Linear(128*ds_size**2, 2))\n",
    "\n",
    "    def forward(self, img):\n",
    "        out = self.conv_blocks(img)\n",
    "        out = out.view(out.shape[0], -1)\n",
    "        validity = self.adv_layer(out)\n",
    "        label = self.aux_layer(out)\n",
    "        latent_code = self.latent_layer(out)\n",
    "\n",
    "        return validity, label, latent_code"
   ]
  },
  {
   "cell_type": "code",
   "execution_count": 11,
   "metadata": {},
   "outputs": [],
   "source": [
    "class Generator(nn.Module):\n",
    "    def __init__(self):\n",
    "        super(Generator, self).__init__()\n",
    "        input_dim = 100 + 10 + 2\n",
    "\n",
    "        self.init_size = 32 // 4 # Initial size before upsampling\n",
    "        self.l1 = nn.Sequential(nn.Linear(input_dim, 128*self.init_size**2))\n",
    "\n",
    "        self.conv_blocks = nn.Sequential(\n",
    "            nn.BatchNorm2d(128),\n",
    "            nn.Upsample(scale_factor=2),\n",
    "            nn.Conv2d(128, 128, 3, stride=1, padding=1),\n",
    "            nn.BatchNorm2d(128, 0.8),\n",
    "            nn.LeakyReLU(0.2, inplace=True),\n",
    "            nn.Upsample(scale_factor=2),\n",
    "            nn.Conv2d(128, 64, 3, stride=1, padding=1),\n",
    "            nn.BatchNorm2d(64, 0.8),\n",
    "            nn.LeakyReLU(0.2, inplace=True),\n",
    "            nn.Conv2d(64, 1, 3, stride=1, padding=1),\n",
    "            nn.Tanh()\n",
    "        )\n",
    "\n",
    "    def forward(self, noise, labels, code):\n",
    "        gen_input = torch.cat((noise, labels, code), -1)\n",
    "        out = self.l1(gen_input)\n",
    "        out = out.view(out.shape[0], 128, self.init_size, self.init_size)\n",
    "        img = self.conv_blocks(out)\n",
    "        return img"
   ]
  },
  {
   "cell_type": "code",
   "execution_count": 12,
   "metadata": {},
   "outputs": [],
   "source": [
    "D = Discriminator().to(device)\n",
    "G = Generator().to(device)\n",
    "\n",
    "D = nn.DataParallel(D, device_ids=device_ids).to(device)\n",
    "G = nn.DataParallel(G, device_ids=device_ids).to(device)\n",
    "\n",
    "adversarial_loss = nn.MSELoss()\n",
    "auxiliary_loss = torch.nn.CrossEntropyLoss()\n",
    "\n",
    "D_optimezer = optim.Adam(D.parameters(), lr=2e-4, betas=(.5, .999))\n",
    "G_optimezer = optim.Adam(G.parameters(), lr=2e-4, betas=(.5, .999))\n",
    "I_optimezer = optim.Adam(itertools.chain(G.parameters(), D.parameters()), lr=2e-4, betas=(.5, .999))"
   ]
  },
  {
   "cell_type": "code",
   "execution_count": 13,
   "metadata": {},
   "outputs": [],
   "source": [
    "lambda_cat = 1\n",
    "lambda_con = 0.1"
   ]
  },
  {
   "cell_type": "code",
   "execution_count": 14,
   "metadata": {},
   "outputs": [],
   "source": [
    "# condition = torch.from_numpy(np.arange(10)).cuda()\n",
    "condition_labels = to_categorical(np.arange(10), num_columns=10)\n",
    "code_x = np.linspace(-1, 1, 10)\n",
    "code_y = np.linspace(-1, 1, 10)\n",
    "code = torch.from_numpy(np.column_stack([code_x, code_y])).float().cuda()"
   ]
  },
  {
   "cell_type": "code",
   "execution_count": 15,
   "metadata": {},
   "outputs": [],
   "source": [
    "writer = SummaryWriter('./log/cnn_info_cgan')"
   ]
  },
  {
   "cell_type": "code",
   "execution_count": 16,
   "metadata": {},
   "outputs": [],
   "source": [
    "img_path = \"save_images/cnn_info_cgan\"\n",
    "if not os.path.exists(img_path): os.makedirs(img_path)"
   ]
  },
  {
   "cell_type": "code",
   "execution_count": 17,
   "metadata": {
    "scrolled": true
   },
   "outputs": [
    {
     "data": {
      "application/vnd.jupyter.widget-view+json": {
       "model_id": "43814eef20574d6db9cfdebc72070970",
       "version_major": 2,
       "version_minor": 0
      },
      "text/plain": [
       "HBox(children=(IntProgress(value=0), HTML(value='')))"
      ]
     },
     "metadata": {},
     "output_type": "display_data"
    },
    {
     "name": "stderr",
     "output_type": "stream",
     "text": [
      "/usr/local/lib/python3.5/dist-packages/torch/nn/modules/upsampling.py:129: UserWarning: nn.Upsample is deprecated. Use nn.functional.interpolate instead.\n",
      "  warnings.warn(\"nn.{} is deprecated. Use nn.functional.interpolate instead.\".format(self.name))\n",
      "/usr/local/lib/python3.5/dist-packages/torch/nn/modules/container.py:92: UserWarning: Implicit dimension choice for softmax has been deprecated. Change the call to include dim=X as an argument.\n",
      "  input = module(input)\n"
     ]
    },
    {
     "name": "stdout",
     "output_type": "stream",
     "text": [
      "Epoch [1/100], Step:  38400, d_loss: 0.190093, g_loss: 0.529750, i_loss: 1.583915, real_scores: 0.591322, fake_scores: 0.335110\n",
      "Finish Epoch [1/100], D Loss: 22.831437, G Loss: 59.019726, I Loss: 230.989387\n",
      "Epoch [2/100], Step:  38400, d_loss: 0.233322, g_loss: 0.337672, i_loss: 1.496437, real_scores: 0.586618, fake_scores: 0.473738\n",
      "Finish Epoch [2/100], D Loss: 13.906967, G Loss: 23.189371, I Loss: 96.334559\n",
      "Epoch [3/100], Step:  38400, d_loss: 0.191589, g_loss: 0.412224, i_loss: 1.498961, real_scores: 0.605530, fake_scores: 0.408792\n",
      "Finish Epoch [3/100], D Loss: 9.270016, G Loss: 14.871326, I Loss: 63.472008\n",
      "Epoch [4/100], Step:  38400, d_loss: 0.229570, g_loss: 0.353529, i_loss: 1.487073, real_scores: 0.489962, fake_scores: 0.385714\n",
      "Finish Epoch [4/100], D Loss: 7.031193, G Loss: 11.057346, I Loss: 47.431484\n",
      "Epoch [5/100], Step:  38400, d_loss: 0.200504, g_loss: 0.370777, i_loss: 1.477864, real_scores: 0.591022, fake_scores: 0.429560\n",
      "Finish Epoch [5/100], D Loss: 5.510159, G Loss: 8.898134, I Loss: 37.841009\n",
      "Epoch [6/100], Step:  38400, d_loss: 0.198264, g_loss: 0.375098, i_loss: 1.474020, real_scores: 0.577776, fake_scores: 0.412922\n",
      "Finish Epoch [6/100], D Loss: 4.733274, G Loss: 7.030212, I Loss: 31.472053\n",
      "Epoch [7/100], Step:  38400, d_loss: 0.232477, g_loss: 0.316172, i_loss: 1.469748, real_scores: 0.567753, fake_scores: 0.493109\n",
      "Finish Epoch [7/100], D Loss: 4.147726, G Loss: 5.848943, I Loss: 26.911050\n",
      "Epoch [8/100], Step:  38400, d_loss: 0.261496, g_loss: 0.277987, i_loss: 1.472006, real_scores: 0.613007, fake_scores: 0.575972\n",
      "Finish Epoch [8/100], D Loss: 3.628284, G Loss: 5.052823, I Loss: 23.518907\n",
      "Epoch [9/100], Step:  38400, d_loss: 0.232668, g_loss: 0.352318, i_loss: 1.469706, real_scores: 0.477000, fake_scores: 0.398398\n",
      "Finish Epoch [9/100], D Loss: 3.191580, G Loss: 4.519844, I Loss: 20.882794\n",
      "Epoch [10/100], Step:  38400, d_loss: 0.222672, g_loss: 0.291990, i_loss: 1.467999, real_scores: 0.565931, fake_scores: 0.476418\n",
      "Finish Epoch [10/100], D Loss: 2.901177, G Loss: 4.014733, I Loss: 18.783334\n",
      "Epoch [11/100], Step:  38400, d_loss: 0.218666, g_loss: 0.317417, i_loss: 1.467045, real_scores: 0.563109, fake_scores: 0.451144\n",
      "Finish Epoch [11/100], D Loss: 2.615987, G Loss: 3.633934, I Loss: 17.064732\n",
      "Epoch [12/100], Step:  38400, d_loss: 0.214177, g_loss: 0.345218, i_loss: 1.466537, real_scores: 0.538913, fake_scores: 0.430481\n",
      "Finish Epoch [12/100], D Loss: 2.418062, G Loss: 3.328656, I Loss: 15.635848\n",
      "Epoch [13/100], Step:  38400, d_loss: 0.220132, g_loss: 0.282638, i_loss: 1.466459, real_scores: 0.623641, fake_scores: 0.522355\n",
      "Finish Epoch [13/100], D Loss: 2.235519, G Loss: 3.066790, I Loss: 14.427023\n",
      "Epoch [14/100], Step:  38400, d_loss: 0.215694, g_loss: 0.411497, i_loss: 1.465575, real_scores: 0.457683, fake_scores: 0.326224\n",
      "Finish Epoch [14/100], D Loss: 2.069485, G Loss: 2.827199, I Loss: 13.392395\n",
      "Epoch [15/100], Step:  38400, d_loss: 0.172305, g_loss: 0.251444, i_loss: 1.465483, real_scores: 0.636774, fake_scores: 0.431890\n",
      "Finish Epoch [15/100], D Loss: 1.924594, G Loss: 2.629855, I Loss: 12.496174\n",
      "Epoch [16/100], Step:  38400, d_loss: 0.236063, g_loss: 0.312452, i_loss: 1.464358, real_scores: 0.488123, fake_scores: 0.430794\n",
      "Finish Epoch [16/100], D Loss: 1.830014, G Loss: 2.455102, I Loss: 11.713393\n",
      "Epoch [17/100], Step:  38400, d_loss: 0.238440, g_loss: 0.211462, i_loss: 1.464253, real_scores: 0.623617, fake_scores: 0.556535\n",
      "Finish Epoch [17/100], D Loss: 1.710950, G Loss: 2.309421, I Loss: 11.021978\n",
      "Epoch [18/100], Step:  38400, d_loss: 0.222484, g_loss: 0.263436, i_loss: 1.466148, real_scores: 0.598437, fake_scores: 0.507725\n",
      "Finish Epoch [18/100], D Loss: 1.616710, G Loss: 2.176615, I Loss: 10.408395\n",
      "Epoch [19/100], Step:  38400, d_loss: 0.280740, g_loss: 0.301059, i_loss: 1.464316, real_scores: 0.478278, fake_scores: 0.512535\n",
      "Finish Epoch [19/100], D Loss: 1.517168, G Loss: 2.083628, I Loss: 9.860710\n",
      "Epoch [20/100], Step:  38400, d_loss: 0.196600, g_loss: 0.369016, i_loss: 1.464052, real_scores: 0.498833, fake_scores: 0.341416\n",
      "Finish Epoch [20/100], D Loss: 1.454253, G Loss: 1.970403, I Loss: 9.365437\n",
      "Epoch [21/100], Step:  38400, d_loss: 0.253177, g_loss: 0.308670, i_loss: 1.464283, real_scores: 0.521224, fake_scores: 0.500185\n",
      "Finish Epoch [21/100], D Loss: 1.386235, G Loss: 1.864079, I Loss: 8.917634\n",
      "Epoch [22/100], Step:  38400, d_loss: 0.172809, g_loss: 0.355775, i_loss: 1.463690, real_scores: 0.576905, fake_scores: 0.374722\n",
      "Finish Epoch [22/100], D Loss: 1.324380, G Loss: 1.793274, I Loss: 8.511485\n",
      "Epoch [23/100], Step:  38400, d_loss: 0.236211, g_loss: 0.256018, i_loss: 1.463322, real_scores: 0.621390, fake_scores: 0.551224\n",
      "Finish Epoch [23/100], D Loss: 1.257899, G Loss: 1.709318, I Loss: 8.142584\n",
      "Epoch [24/100], Step:  38400, d_loss: 0.249968, g_loss: 0.319880, i_loss: 1.463323, real_scores: 0.520619, fake_scores: 0.493443\n",
      "Finish Epoch [24/100], D Loss: 1.203828, G Loss: 1.664994, I Loss: 7.802831\n",
      "Epoch [25/100], Step:  38400, d_loss: 0.297463, g_loss: 0.339290, i_loss: 1.463429, real_scores: 0.363530, fake_scores: 0.408666\n",
      "Finish Epoch [25/100], D Loss: 1.167403, G Loss: 1.558629, I Loss: 7.488556\n",
      "Epoch [26/100], Step:  38400, d_loss: 0.226571, g_loss: 0.392845, i_loss: 1.462919, real_scores: 0.481715, fake_scores: 0.401904\n",
      "Finish Epoch [26/100], D Loss: 1.131900, G Loss: 1.498713, I Loss: 7.200161\n",
      "Epoch [27/100], Step:  38400, d_loss: 0.216427, g_loss: 0.278599, i_loss: 1.463334, real_scores: 0.641452, fake_scores: 0.533479\n",
      "Finish Epoch [27/100], D Loss: 1.079271, G Loss: 1.460605, I Loss: 6.934390\n",
      "Epoch [28/100], Step:  38400, d_loss: 0.215923, g_loss: 0.341926, i_loss: 1.463331, real_scores: 0.491212, fake_scores: 0.385617\n",
      "Finish Epoch [28/100], D Loss: 1.030710, G Loss: 1.441651, I Loss: 6.686640\n",
      "Epoch [29/100], Step:  38400, d_loss: 0.199068, g_loss: 0.409261, i_loss: 1.463515, real_scores: 0.538071, fake_scores: 0.400582\n",
      "Finish Epoch [29/100], D Loss: 1.005749, G Loss: 1.335045, I Loss: 6.455245\n",
      "Epoch [30/100], Step:  38400, d_loss: 0.187297, g_loss: 0.337337, i_loss: 1.464144, real_scores: 0.540084, fake_scores: 0.374831\n",
      "Finish Epoch [30/100], D Loss: 0.982682, G Loss: 1.297808, I Loss: 6.239403\n",
      "Epoch [31/100], Step:  38400, d_loss: 0.175994, g_loss: 0.360478, i_loss: 1.462922, real_scores: 0.546121, fake_scores: 0.349793\n",
      "Finish Epoch [31/100], D Loss: 0.953268, G Loss: 1.255977, I Loss: 6.037778\n",
      "Epoch [32/100], Step:  38400, d_loss: 0.227051, g_loss: 0.227983, i_loss: 1.463731, real_scores: 0.621444, fake_scores: 0.536560\n",
      "Finish Epoch [32/100], D Loss: 0.922432, G Loss: 1.210786, I Loss: 5.849119\n",
      "Epoch [33/100], Step:  38400, d_loss: 0.283047, g_loss: 0.361856, i_loss: 1.462759, real_scores: 0.406342, fake_scores: 0.434629\n",
      "Finish Epoch [33/100], D Loss: 0.896984, G Loss: 1.164302, I Loss: 5.671281\n",
      "Epoch [34/100], Step:  38400, d_loss: 0.219474, g_loss: 0.201913, i_loss: 1.462638, real_scores: 0.639083, fake_scores: 0.538055\n",
      "Finish Epoch [34/100], D Loss: 0.871348, G Loss: 1.131305, I Loss: 5.504270\n",
      "Epoch [35/100], Step:  38400, d_loss: 0.183532, g_loss: 0.423975, i_loss: 1.462715, real_scores: 0.585738, fake_scores: 0.413695\n",
      "Finish Epoch [35/100], D Loss: 0.815711, G Loss: 1.143730, I Loss: 5.349032\n",
      "Epoch [36/100], Step:  38400, d_loss: 0.265055, g_loss: 0.357042, i_loss: 1.462868, real_scores: 0.571698, fake_scores: 0.570504\n",
      "Finish Epoch [36/100], D Loss: 0.809524, G Loss: 1.092578, I Loss: 5.198379\n",
      "Epoch [37/100], Step:  38400, d_loss: 0.272414, g_loss: 0.433569, i_loss: 1.462833, real_scores: 0.385348, fake_scores: 0.383673\n",
      "Finish Epoch [37/100], D Loss: 0.798470, G Loss: 1.048670, I Loss: 5.057832\n",
      "Epoch [38/100], Step:  38400, d_loss: 0.221623, g_loss: 0.333608, i_loss: 1.463096, real_scores: 0.515799, fake_scores: 0.437986\n",
      "Finish Epoch [38/100], D Loss: 0.769356, G Loss: 1.026373, I Loss: 4.924718\n",
      "Epoch [39/100], Step:  38400, d_loss: 0.211267, g_loss: 0.317238, i_loss: 1.462959, real_scores: 0.527773, fake_scores: 0.424502\n",
      "Finish Epoch [39/100], D Loss: 0.748436, G Loss: 1.009018, I Loss: 4.798977\n",
      "Epoch [40/100], Step:  38400, d_loss: 0.287408, g_loss: 0.350715, i_loss: 1.462278, real_scores: 0.437718, fake_scores: 0.489857\n",
      "Finish Epoch [40/100], D Loss: 0.738941, G Loss: 0.993264, I Loss: 4.678191\n"
     ]
    },
    {
     "name": "stdout",
     "output_type": "stream",
     "text": [
      "Epoch [41/100], Step:  38400, d_loss: 0.217086, g_loss: 0.249173, i_loss: 1.462517, real_scores: 0.467326, fake_scores: 0.358280\n",
      "Finish Epoch [41/100], D Loss: 0.724384, G Loss: 0.928508, I Loss: 4.563832\n",
      "Epoch [42/100], Step:  38400, d_loss: 0.240959, g_loss: 0.276725, i_loss: 1.462538, real_scores: 0.480397, fake_scores: 0.438339\n",
      "Finish Epoch [42/100], D Loss: 0.710398, G Loss: 0.942137, I Loss: 4.455057\n",
      "Epoch [43/100], Step:  38400, d_loss: 0.293921, g_loss: 0.190140, i_loss: 1.462659, real_scores: 0.566965, fake_scores: 0.617601\n",
      "Finish Epoch [43/100], D Loss: 0.689750, G Loss: 0.891843, I Loss: 4.351592\n",
      "Epoch [44/100], Step:  38400, d_loss: 0.199302, g_loss: 0.488514, i_loss: 1.462894, real_scores: 0.596406, fake_scores: 0.462005\n",
      "Finish Epoch [44/100], D Loss: 0.656692, G Loss: 0.905897, I Loss: 4.253514\n",
      "Epoch [45/100], Step:  38400, d_loss: 0.263852, g_loss: 0.330237, i_loss: 1.462430, real_scores: 0.574082, fake_scores: 0.570597\n",
      "Finish Epoch [45/100], D Loss: 0.643340, G Loss: 0.882628, I Loss: 4.158658\n",
      "Epoch [46/100], Step:  38400, d_loss: 0.218577, g_loss: 0.301650, i_loss: 1.462835, real_scores: 0.623552, fake_scores: 0.525449\n",
      "Finish Epoch [46/100], D Loss: 0.633532, G Loss: 0.857186, I Loss: 4.067716\n",
      "Epoch [47/100], Step:  38400, d_loss: 0.263233, g_loss: 0.358848, i_loss: 1.462236, real_scores: 0.476877, fake_scores: 0.486045\n",
      "Finish Epoch [47/100], D Loss: 0.625630, G Loss: 0.803800, I Loss: 3.981092\n",
      "Epoch [48/100], Step:  38400, d_loss: 0.210060, g_loss: 0.261516, i_loss: 1.462443, real_scores: 0.577364, fake_scores: 0.474889\n",
      "Finish Epoch [48/100], D Loss: 0.612529, G Loss: 0.803557, I Loss: 3.897945\n",
      "Epoch [49/100], Step:  38400, d_loss: 0.205601, g_loss: 0.232925, i_loss: 1.462287, real_scores: 0.537811, fake_scores: 0.424430\n",
      "Finish Epoch [49/100], D Loss: 0.607537, G Loss: 0.801100, I Loss: 3.818401\n",
      "Epoch [50/100], Step:  38400, d_loss: 0.212302, g_loss: 0.248670, i_loss: 1.462966, real_scores: 0.633486, fake_scores: 0.515162\n",
      "Finish Epoch [50/100], D Loss: 0.592876, G Loss: 0.769370, I Loss: 3.741973\n",
      "Epoch [51/100], Step:  38400, d_loss: 0.259253, g_loss: 0.403189, i_loss: 1.462084, real_scores: 0.430539, fake_scores: 0.419002\n",
      "Finish Epoch [51/100], D Loss: 0.577709, G Loss: 0.752870, I Loss: 3.668612\n",
      "Epoch [52/100], Step:  38400, d_loss: 0.249435, g_loss: 0.368987, i_loss: 1.462751, real_scores: 0.425510, fake_scores: 0.385695\n",
      "Finish Epoch [52/100], D Loss: 0.578798, G Loss: 0.732290, I Loss: 3.597869\n",
      "Epoch [53/100], Step:  38400, d_loss: 0.220805, g_loss: 0.191960, i_loss: 1.462012, real_scores: 0.580281, fake_scores: 0.496732\n",
      "Finish Epoch [53/100], D Loss: 0.555467, G Loss: 0.724586, I Loss: 3.530186\n",
      "Epoch [54/100], Step:  38400, d_loss: 0.230405, g_loss: 0.391243, i_loss: 1.462469, real_scores: 0.546301, fake_scores: 0.488316\n",
      "Finish Epoch [54/100], D Loss: 0.554021, G Loss: 0.711983, I Loss: 3.464522\n",
      "Epoch [55/100], Step:  38400, d_loss: 0.248688, g_loss: 0.211762, i_loss: 1.462386, real_scores: 0.630366, fake_scores: 0.584923\n",
      "Finish Epoch [55/100], D Loss: 0.511043, G Loss: 0.740236, I Loss: 3.402953\n",
      "Epoch [56/100], Step:  38400, d_loss: 0.186943, g_loss: 0.248350, i_loss: 1.462284, real_scores: 0.577246, fake_scores: 0.417229\n",
      "Finish Epoch [56/100], D Loss: 0.528279, G Loss: 0.696956, I Loss: 3.341196\n",
      "Epoch [57/100], Step:  38400, d_loss: 0.247542, g_loss: 0.206797, i_loss: 1.462482, real_scores: 0.626630, fake_scores: 0.578953\n",
      "Finish Epoch [57/100], D Loss: 0.518885, G Loss: 0.671887, I Loss: 3.282301\n",
      "Epoch [58/100], Step:  38400, d_loss: 0.308267, g_loss: 0.301501, i_loss: 1.462257, real_scores: 0.441373, fake_scores: 0.536297\n",
      "Finish Epoch [58/100], D Loss: 0.517640, G Loss: 0.670486, I Loss: 3.225714\n",
      "Epoch [59/100], Step:  38400, d_loss: 0.276486, g_loss: 0.237714, i_loss: 1.462359, real_scores: 0.444299, fake_scores: 0.476259\n",
      "Finish Epoch [59/100], D Loss: 0.505979, G Loss: 0.647570, I Loss: 3.170977\n",
      "Epoch [60/100], Step:  38400, d_loss: 0.253365, g_loss: 0.198754, i_loss: 1.462545, real_scores: 0.590691, fake_scores: 0.567451\n",
      "Finish Epoch [60/100], D Loss: 0.494994, G Loss: 0.643090, I Loss: 3.118118\n",
      "Epoch [61/100], Step:  38400, d_loss: 0.204478, g_loss: 0.275415, i_loss: 1.462398, real_scores: 0.534986, fake_scores: 0.419116\n",
      "Finish Epoch [61/100], D Loss: 0.484561, G Loss: 0.634023, I Loss: 3.066946\n",
      "Epoch [62/100], Step:  38400, d_loss: 0.199423, g_loss: 0.420177, i_loss: 1.462334, real_scores: 0.480385, fake_scores: 0.329163\n",
      "Finish Epoch [62/100], D Loss: 0.458518, G Loss: 0.635407, I Loss: 3.018047\n",
      "Epoch [63/100], Step:  38400, d_loss: 0.303559, g_loss: 0.483847, i_loss: 1.462326, real_scores: 0.338665, fake_scores: 0.388758\n",
      "Finish Epoch [63/100], D Loss: 0.462238, G Loss: 0.615878, I Loss: 2.969695\n",
      "Epoch [64/100], Step:  38400, d_loss: 0.262463, g_loss: 0.232563, i_loss: 1.462210, real_scores: 0.552901, fake_scores: 0.554405\n",
      "Finish Epoch [64/100], D Loss: 0.467385, G Loss: 0.603743, I Loss: 2.923245\n",
      "Epoch [65/100], Step:  38400, d_loss: 0.216266, g_loss: 0.202148, i_loss: 1.462756, real_scores: 0.707310, fake_scores: 0.568457\n",
      "Finish Epoch [65/100], D Loss: 0.456229, G Loss: 0.589853, I Loss: 2.878144\n",
      "Epoch [66/100], Step:  38400, d_loss: 0.228597, g_loss: 0.271021, i_loss: 1.462972, real_scores: 0.557532, fake_scores: 0.486917\n",
      "Finish Epoch [66/100], D Loss: 0.433956, G Loss: 0.595409, I Loss: 2.834945\n",
      "Epoch [67/100], Step:  38400, d_loss: 0.205497, g_loss: 0.423285, i_loss: 1.462699, real_scores: 0.467419, fake_scores: 0.330613\n",
      "Finish Epoch [67/100], D Loss: 0.433367, G Loss: 0.588656, I Loss: 2.792343\n",
      "Epoch [68/100], Step:  38400, d_loss: 0.241637, g_loss: 0.356224, i_loss: 1.462391, real_scores: 0.477421, fake_scores: 0.434535\n",
      "Finish Epoch [68/100], D Loss: 0.422926, G Loss: 0.577507, I Loss: 2.751154\n",
      "Epoch [69/100], Step:  38400, d_loss: 0.201698, g_loss: 0.263662, i_loss: 1.462257, real_scores: 0.582935, fake_scores: 0.455895\n",
      "Finish Epoch [69/100], D Loss: 0.429368, G Loss: 0.584070, I Loss: 2.711229\n",
      "Epoch [70/100], Step:  38400, d_loss: 0.199924, g_loss: 0.292906, i_loss: 1.462209, real_scores: 0.640792, fake_scores: 0.501152\n",
      "Finish Epoch [70/100], D Loss: 0.431676, G Loss: 0.556376, I Loss: 2.672575\n",
      "Epoch [71/100], Step:  38400, d_loss: 0.192070, g_loss: 0.331249, i_loss: 1.462097, real_scores: 0.684047, fake_scores: 0.513258\n",
      "Finish Epoch [71/100], D Loss: 0.410215, G Loss: 0.562048, I Loss: 2.635284\n",
      "Epoch [72/100], Step:  38400, d_loss: 0.167572, g_loss: 0.243710, i_loss: 1.462350, real_scores: 0.701740, fake_scores: 0.472209\n",
      "Finish Epoch [72/100], D Loss: 0.411438, G Loss: 0.546032, I Loss: 2.598453\n",
      "Epoch [73/100], Step:  38400, d_loss: 0.244667, g_loss: 0.156305, i_loss: 1.462293, real_scores: 0.683561, fake_scores: 0.609388\n",
      "Finish Epoch [73/100], D Loss: 0.406702, G Loss: 0.528347, I Loss: 2.562732\n",
      "Epoch [74/100], Step:  38400, d_loss: 0.319651, g_loss: 0.383274, i_loss: 1.462100, real_scores: 0.377984, fake_scores: 0.484907\n",
      "Finish Epoch [74/100], D Loss: 0.397980, G Loss: 0.536391, I Loss: 2.528091\n",
      "Epoch [75/100], Step:  38400, d_loss: 0.245259, g_loss: 0.223091, i_loss: 1.462345, real_scores: 0.519170, fake_scores: 0.490297\n",
      "Finish Epoch [75/100], D Loss: 0.392923, G Loss: 0.519942, I Loss: 2.494269\n",
      "Epoch [76/100], Step:  38400, d_loss: 0.205478, g_loss: 0.338539, i_loss: 1.462517, real_scores: 0.539713, fake_scores: 0.416370\n",
      "Finish Epoch [76/100], D Loss: 0.384924, G Loss: 0.506590, I Loss: 2.461466\n",
      "Epoch [77/100], Step:  38400, d_loss: 0.238984, g_loss: 0.290635, i_loss: 1.462215, real_scores: 0.576078, fake_scores: 0.532204\n",
      "Finish Epoch [77/100], D Loss: 0.385174, G Loss: 0.505660, I Loss: 2.429416\n",
      "Epoch [78/100], Step:  38400, d_loss: 0.185819, g_loss: 0.203875, i_loss: 1.462282, real_scores: 0.605235, fake_scores: 0.441133\n",
      "Finish Epoch [78/100], D Loss: 0.378579, G Loss: 0.493071, I Loss: 2.398408\n",
      "Epoch [79/100], Step:  38400, d_loss: 0.280781, g_loss: 0.258010, i_loss: 1.462073, real_scores: 0.433393, fake_scores: 0.469335\n",
      "Finish Epoch [79/100], D Loss: 0.375781, G Loss: 0.495866, I Loss: 2.367923\n",
      "Epoch [80/100], Step:  38400, d_loss: 0.290456, g_loss: 0.228029, i_loss: 1.462020, real_scores: 0.640809, fake_scores: 0.656051\n",
      "Finish Epoch [80/100], D Loss: 0.355089, G Loss: 0.511684, I Loss: 2.338837\n"
     ]
    },
    {
     "name": "stdout",
     "output_type": "stream",
     "text": [
      "Epoch [81/100], Step:  38400, d_loss: 0.199335, g_loss: 0.246535, i_loss: 1.462042, real_scores: 0.497799, fake_scores: 0.357262\n",
      "Finish Epoch [81/100], D Loss: 0.365660, G Loss: 0.480476, I Loss: 2.309493\n",
      "Epoch [82/100], Step:  38400, d_loss: 0.243653, g_loss: 0.436384, i_loss: 1.461987, real_scores: 0.504726, fake_scores: 0.471999\n",
      "Finish Epoch [82/100], D Loss: 0.357580, G Loss: 0.473150, I Loss: 2.281329\n",
      "Epoch [83/100], Step:  38400, d_loss: 0.238222, g_loss: 0.423317, i_loss: 1.462167, real_scores: 0.565531, fake_scores: 0.519286\n",
      "Finish Epoch [83/100], D Loss: 0.350549, G Loss: 0.474229, I Loss: 2.253847\n",
      "Epoch [84/100], Step:  38400, d_loss: 0.198726, g_loss: 0.397731, i_loss: 1.462226, real_scores: 0.542207, fake_scores: 0.405998\n",
      "Finish Epoch [84/100], D Loss: 0.345265, G Loss: 0.473069, I Loss: 2.227220\n",
      "Epoch [85/100], Step:  38400, d_loss: 0.268994, g_loss: 0.201559, i_loss: 1.462355, real_scores: 0.533771, fake_scores: 0.551548\n",
      "Finish Epoch [85/100], D Loss: 0.345703, G Loss: 0.459373, I Loss: 2.200904\n",
      "Epoch [86/100], Step:  38400, d_loss: 0.200497, g_loss: 0.351435, i_loss: 1.462155, real_scores: 0.591225, fake_scores: 0.463305\n",
      "Finish Epoch [86/100], D Loss: 0.334068, G Loss: 0.454769, I Loss: 2.175175\n",
      "Epoch [87/100], Step:  38400, d_loss: 0.296185, g_loss: 0.444535, i_loss: 1.462518, real_scores: 0.323991, fake_scores: 0.340919\n",
      "Finish Epoch [87/100], D Loss: 0.338979, G Loss: 0.450726, I Loss: 2.150174\n",
      "Epoch [88/100], Step:  38400, d_loss: 0.277235, g_loss: 0.336026, i_loss: 1.462900, real_scores: 0.417248, fake_scores: 0.444344\n",
      "Finish Epoch [88/100], D Loss: 0.326619, G Loss: 0.453965, I Loss: 2.125738\n",
      "Epoch [89/100], Step:  38400, d_loss: 0.164445, g_loss: 0.309776, i_loss: 1.462304, real_scores: 0.569528, fake_scores: 0.352873\n",
      "Finish Epoch [89/100], D Loss: 0.324754, G Loss: 0.446145, I Loss: 2.101825\n",
      "Epoch [90/100], Step:  38400, d_loss: 0.245566, g_loss: 0.573704, i_loss: 1.462079, real_scores: 0.498127, fake_scores: 0.468213\n",
      "Finish Epoch [90/100], D Loss: 0.327768, G Loss: 0.443517, I Loss: 2.078400\n",
      "Epoch [91/100], Step:  38400, d_loss: 0.209025, g_loss: 0.262212, i_loss: 1.462111, real_scores: 0.605481, fake_scores: 0.491451\n",
      "Finish Epoch [91/100], D Loss: 0.320368, G Loss: 0.440190, I Loss: 2.055685\n",
      "Epoch [92/100], Step:  38400, d_loss: 0.265527, g_loss: 0.431282, i_loss: 1.462068, real_scores: 0.596901, fake_scores: 0.591067\n",
      "Finish Epoch [92/100], D Loss: 0.310294, G Loss: 0.446537, I Loss: 2.033458\n",
      "Epoch [93/100], Step:  38400, d_loss: 0.219929, g_loss: 0.319994, i_loss: 1.462284, real_scores: 0.601140, fake_scores: 0.512301\n",
      "Finish Epoch [93/100], D Loss: 0.311453, G Loss: 0.428683, I Loss: 2.011495\n",
      "Epoch [94/100], Step:  38400, d_loss: 0.285390, g_loss: 0.335984, i_loss: 1.462205, real_scores: 0.366329, fake_scores: 0.386361\n",
      "Finish Epoch [94/100], D Loss: 0.307708, G Loss: 0.426618, I Loss: 1.989978\n",
      "Epoch [95/100], Step:  38400, d_loss: 0.195076, g_loss: 0.447059, i_loss: 1.462099, real_scores: 0.664892, fake_scores: 0.507610\n",
      "Finish Epoch [95/100], D Loss: 0.300988, G Loss: 0.421569, I Loss: 1.969019\n",
      "Epoch [96/100], Step:  38400, d_loss: 0.277270, g_loss: 0.377230, i_loss: 1.462347, real_scores: 0.500167, fake_scores: 0.535949\n",
      "Finish Epoch [96/100], D Loss: 0.300701, G Loss: 0.430211, I Loss: 1.948608\n",
      "Epoch [97/100], Step:  38400, d_loss: 0.215667, g_loss: 0.294317, i_loss: 1.462322, real_scores: 0.529714, fake_scores: 0.439303\n",
      "Finish Epoch [97/100], D Loss: 0.299217, G Loss: 0.407069, I Loss: 1.928446\n",
      "Epoch [98/100], Step:  38400, d_loss: 0.196578, g_loss: 0.401965, i_loss: 1.462246, real_scores: 0.481307, fake_scores: 0.319189\n",
      "Finish Epoch [98/100], D Loss: 0.293601, G Loss: 0.418387, I Loss: 1.908779\n",
      "Epoch [99/100], Step:  38400, d_loss: 0.197142, g_loss: 0.254757, i_loss: 1.462096, real_scores: 0.667887, fake_scores: 0.510192\n",
      "Finish Epoch [99/100], D Loss: 0.283267, G Loss: 0.419556, I Loss: 1.889511\n",
      "Epoch [100/100], Step:  38400, d_loss: 0.266929, g_loss: 0.433005, i_loss: 1.462002, real_scores: 0.631688, fake_scores: 0.613112\n",
      "Finish Epoch [100/100], D Loss: 0.284505, G Loss: 0.417259, I Loss: 1.870597\n",
      "\n"
     ]
    }
   ],
   "source": [
    "total_count = len(dataloader)\n",
    "for epoch in tqdm_notebook(range(num_epochs)):\n",
    "    _step = epoch * total_count\n",
    "    \n",
    "    d_loss_total = .0\n",
    "    g_loss_total = .0\n",
    "    i_loss_total = .0\n",
    "    for i, (imgs, labels) in enumerate(dataloader):\n",
    "        \n",
    "        real_imgs = imgs.cuda()\n",
    "        real_labels = labels.cuda()\n",
    "        \n",
    "        real = torch.ones(imgs.size(0), 1).cuda()\n",
    "        fake = torch.zeros(imgs.size(0), 1).cuda()\n",
    "        \n",
    "        z = torch.randn(imgs.size(0), z_dimension).cuda()\n",
    "#         fake_labels = torch.from_numpy(np.random.randint(0, 10, imgs.size(0))).cuda()\n",
    "        fake_labels = to_categorical(np.random.randint(0, 10, imgs.size(0)), 10).cuda()\n",
    "        codes = torch.from_numpy(np.random.uniform(-1, 1, (imgs.size(0), 2))).float().cuda()\n",
    "        \n",
    "        ########## G ##########\n",
    "        fake_imgs = G(z, fake_labels, codes)\n",
    "        fake_out, _, _ = D(fake_imgs)\n",
    "        g_loss = adversarial_loss(fake_out, real)\n",
    "        \n",
    "        G_optimezer.zero_grad()\n",
    "        g_loss.backward()\n",
    "        G_optimezer.step()\n",
    "        #######################\n",
    "        \n",
    "        ########## D ##########\n",
    "        real_out, _, _ = D(real_imgs)\n",
    "        d_loss_real = adversarial_loss(real_out, real)\n",
    "#         d_loss_real_label = auxiliary_loss(real_out_label, real_labels)\n",
    "        real_scores = real_out\n",
    "        \n",
    "        fake_out, _, _ = D(fake_imgs.detach())\n",
    "        d_loss_fake = adversarial_loss(fake_out, fake)\n",
    "        fake_scores = fake_out\n",
    "        \n",
    "        d_loss = (d_loss_real + d_loss_fake) / 2 # + d_loss_real_label\n",
    "        D_optimezer.zero_grad()\n",
    "        d_loss.backward()\n",
    "        D_optimezer.step()\n",
    "        #######################\n",
    "        \n",
    "        \n",
    "        sampled_labels = np.random.randint(0, 10, imgs.size(0))\n",
    "        gt_labels = torch.from_numpy(sampled_labels).cuda()\n",
    "        ########## I ##########\n",
    "        z = torch.randn(imgs.size(0), z_dimension).cuda()\n",
    "#         fake_labels = torch.from_numpy(np.random.randint(0, 10, imgs.size(0))).cuda()\n",
    "        fake_labels = to_categorical(sampled_labels, num_columns=10)\n",
    "        codes = torch.from_numpy(np.random.normal(-1, 1, (imgs.size(0), 2))).float().cuda()\n",
    "        \n",
    "        i_imgs = G(z, fake_labels, codes)\n",
    "                                 \n",
    "        _, fake_label, fake_code = D(i_imgs)\n",
    "        \n",
    "        i_loss = lambda_cat * auxiliary_loss(fake_label, gt_labels) + \\\n",
    "                 lambda_con * adversarial_loss(fake_code, codes)\n",
    "\n",
    "        I_optimezer.zero_grad()\n",
    "        i_loss.backward()\n",
    "        I_optimezer.step()\n",
    "        #######################\n",
    "        \n",
    "        d_loss_total += d_loss.item() * imgs.size(0)\n",
    "        g_loss_total += g_loss.item() * imgs.size(0)\n",
    "        i_loss_total += i_loss.item() * imgs.size(0)\n",
    "        \n",
    "        step = _step + i + 1\n",
    "        \n",
    "        if (i + 1) % 100 == 0:\n",
    "            writer.add_scalar('Discriminator Real Loss', d_loss_real.item(), step)\n",
    "            writer.add_scalar('Discriminator Fake Loss', d_loss_fake.item(), step)\n",
    "            writer.add_scalar('Discriminator Loss', d_loss.item(), step)\n",
    "            writer.add_scalar('Generator Loss', g_loss.item(), step)\n",
    "            writer.add_scalar('Info Loss', i_loss.item(), step)\n",
    "        \n",
    "        if (i + 1) % 300 == 0:\n",
    "            tqdm.write('Epoch [{}/{}], Step: {:6d}, d_loss: {:.6f}, g_loss: {:.6f}, i_loss: {:.6f}, real_scores: {:.6f}' \\\n",
    "', fake_scores: {:.6f}'.format(epoch+1, num_epochs, (i+1) * batch_size, d_loss, \n",
    "                                                    g_loss, i_loss, real_scores.mean(), fake_scores.mean()))\n",
    "    \n",
    "    setp = (epoch + 1) * total_count\n",
    "    _d_loss_total = d_loss_total / (total_count * (epoch + 1))\n",
    "    _g_loss_total = g_loss_total / (total_count * (epoch + 1))\n",
    "    _i_loss_total = i_loss_total / (total_count * (epoch + 1))\n",
    "    \n",
    "    writer.add_scalar('Discriminator Total Loss', _d_loss_total, step)\n",
    "    writer.add_scalar('Generator Total Loss', _g_loss_total, step)\n",
    "    writer.add_scalar('Info Total Loss', _i_loss_total, step)\n",
    "    \n",
    "    tqdm.write(\"Finish Epoch [{}/{}], D Loss: {:.6f}, G Loss: {:.6f}, I Loss: {:.6f}\".format(epoch+1, \n",
    "                                                                             num_epochs, \n",
    "                                                                             _d_loss_total,\n",
    "                                                                             _g_loss_total,\n",
    "                                                                             _i_loss_total, ))\n",
    "    \n",
    "    if epoch == 0:\n",
    "        real_images = real_imgs.view(-1, 1, 32, 32).cpu().data\n",
    "        save_image(real_images, os.path.join(img_path, 'real_images.png'))\n",
    "        \n",
    "    noise = torch.randn(10, z_dimension).cuda()\n",
    "    condition_images = G(noise, condition_labels, code)\n",
    "    \n",
    "    writer.add_image('Generator Image', make_grid(fake_imgs.view(-1, 1, 32, 32).cpu().data, normalize=True, scale_each=True), step)\n",
    "    writer.add_image('Condition Generator Image', make_grid(condition_images.view(-1, 1, 32, 32).cpu().data, normalize=True, scale_each=True), step)\n",
    "    \n",
    "    fake_images = fake_imgs.view(-1, 1, 32, 32).cpu().data\n",
    "    save_image(fake_images, os.path.join(img_path, 'fake_images-{}.png'.format(epoch+1)))\n",
    "    save_image(condition_images, os.path.join(img_path, 'condition_images-{}.png'.format(epoch+1)))"
   ]
  },
  {
   "cell_type": "code",
   "execution_count": 19,
   "metadata": {},
   "outputs": [],
   "source": [
    "writer.close()"
   ]
  },
  {
   "cell_type": "code",
   "execution_count": 20,
   "metadata": {},
   "outputs": [],
   "source": [
    "torch.save(D.state_dict(), './ser/info_gan_2_discriminator.pt')\n",
    "torch.save(G.state_dict(), './ser/info_gan_2_generator.pt')"
   ]
  },
  {
   "cell_type": "code",
   "execution_count": 21,
   "metadata": {},
   "outputs": [],
   "source": [
    "D.load_state_dict(torch.load('./ser/info_gan_2_discriminator.pt'))\n",
    "G.load_state_dict(torch.load('./ser/info_gan_2_generator.pt'))"
   ]
  },
  {
   "cell_type": "code",
   "execution_count": 30,
   "metadata": {},
   "outputs": [
    {
     "data": {
      "image/png": "[encoded data removed]",
      "text/plain": [
       "<Figure size 432x288 with 1 Axes>"
      ]
     },
     "metadata": {
      "needs_background": "dark"
     },
     "output_type": "display_data"
    }
   ],
   "source": [
    "# words = np.arange(10)\n",
    "# l = torch.from_numpy(words).cuda()\n",
    "\n",
    "\n",
    "l = to_categorical(np.repeat(np.arange(10), 8), num_columns=10)\n",
    "z = torch.randn(l.size(0), z_dimension).to(device)\n",
    "\n",
    "code_x = np.repeat(np.linspace(-1, 1, 10), 8)\n",
    "code_y = np.repeat(np.linspace(-1, 1, 10).reshape(1, 10), 8, axis=0).reshape(-1)\n",
    "code = torch.from_numpy(np.column_stack([code_x, code_y])).float().cuda()\n",
    "\n",
    "images = G(z, l, code)\n",
    "# save_image(images, 'xx.png')\n",
    "plt.imshow(Image.fromarray(make_grid(images).mul(255).clamp(0, 255).byte().permute(1, 2, 0).cpu().numpy()))\n",
    "plt.show()"
   ]
  },
  {
   "cell_type": "code",
   "execution_count": 18,
   "metadata": {},
   "outputs": [
    {
     "data": {
      "image/png": "[encoded data removed]",
      "text/plain": [
       "<Figure size 432x288 with 1 Axes>"
      ]
     },
     "metadata": {
      "needs_background": "dark"
     },
     "output_type": "display_data"
    }
   ],
   "source": [
    "l = to_categorical(np.repeat(np.arange(10), 8), num_columns=10)\n",
    "z = torch.randn(l.size(0), z_dimension).to(device)\n",
    "\n",
    "code_x = np.repeat(np.linspace(-1, 1, 10), 8)\n",
    "code_y = np.repeat(np.linspace(-1, 1, 10).reshape(1, 10), 8, axis=0).reshape(-1)\n",
    "code = torch.from_numpy(np.column_stack([code_x, code_y])).float().cuda()\n",
    "\n",
    "images = G(z, l, code)\n",
    "# save_image(images, 'xx.png')\n",
    "plt.imshow(Image.fromarray(make_grid(images).mul(255).clamp(0, 255).byte().permute(1, 2, 0).cpu().numpy()))\n",
    "plt.show()"
   ]
  },
  {
   "cell_type": "code",
   "execution_count": null,
   "metadata": {},
   "outputs": [],
   "source": []
  }
 ],
 "metadata": {
  "kernelspec": {
   "display_name": "Python 3",
   "language": "python",
   "name": "python3"
  },
  "language_info": {
   "codemirror_mode": {
    "name": "ipython",
    "version": 3
   },
   "file_extension": ".py",
   "mimetype": "text/x-python",
   "name": "python",
   "nbconvert_exporter": "python",
   "pygments_lexer": "ipython3",
   "version": "3.5.3"
  },
  "varInspector": {
   "cols": {
    "lenName": 16,
    "lenType": 16,
    "lenVar": 40
   },
   "kernels_config": {
    "python": {
     "delete_cmd_postfix": "",
     "delete_cmd_prefix": "del ",
     "library": "var_list.py",
     "varRefreshCmd": "print(var_dic_list())"
    },
    "r": {
     "delete_cmd_postfix": ") ",
     "delete_cmd_prefix": "rm(",
     "library": "var_list.r",
     "varRefreshCmd": "cat(var_dic_list()) "
    }
   },
   "position": {
    "height": "556px",
    "left": "247px",
    "right": "398px",
    "top": "131px",
    "width": "752px"
   },
   "types_to_exclude": [
    "module",
    "function",
    "builtin_function_or_method",
    "instance",
    "_Feature"
   ],
   "window_display": false
  }
 },
 "nbformat": 4,
 "nbformat_minor": 2
}
