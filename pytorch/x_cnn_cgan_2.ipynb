{
 "cells": [
  {
   "cell_type": "code",
   "execution_count": 1,
   "metadata": {},
   "outputs": [],
   "source": [
    "import os\n",
    "from tqdm import tnrange, tqdm_notebook, tqdm\n",
    "import torch\n",
    "from torch import nn, optim\n",
    "from torch.utils.data import DataLoader\n",
    "from torchvision import transforms, datasets\n",
    "from torchvision.utils import save_image, make_grid\n",
    "from torch.autograd import Variable\n",
    "import numpy as np\n",
    "from PIL import Image\n",
    "import matplotlib.pyplot as plt\n",
    "from tensorboardX import SummaryWriter"
   ]
  },
  {
   "cell_type": "code",
   "execution_count": 2,
   "metadata": {},
   "outputs": [],
   "source": [
    "# os.environ['CUDA_VISIBLE_DEVICES'] = '1'"
   ]
  },
  {
   "cell_type": "code",
   "execution_count": 3,
   "metadata": {},
   "outputs": [],
   "source": [
    "from matplotlib import rcParams\n",
    "rcParams['figure.figsize'] = (12, 8)\n",
    "\n",
    "%matplotlib inline"
   ]
  },
  {
   "cell_type": "code",
   "execution_count": 4,
   "metadata": {},
   "outputs": [],
   "source": [
    "device = torch.device('cuda' if torch.cuda.is_available() else 'cpu')"
   ]
  },
  {
   "cell_type": "code",
   "execution_count": 5,
   "metadata": {},
   "outputs": [
    {
     "data": {
      "text/plain": [
       "True"
      ]
     },
     "execution_count": 5,
     "metadata": {},
     "output_type": "execute_result"
    }
   ],
   "source": [
    "torch.cuda.is_available()"
   ]
  },
  {
   "cell_type": "code",
   "execution_count": 6,
   "metadata": {},
   "outputs": [],
   "source": [
    "device_ids = [0]"
   ]
  },
  {
   "cell_type": "code",
   "execution_count": 7,
   "metadata": {},
   "outputs": [],
   "source": [
    "batch_size = 128\n",
    "num_epochs = 100\n",
    "\n",
    "z_dimension = 100\n",
    "num_feature = (32, 4, 4) # 64 * 64\n",
    "\n",
    "img_shape = (1, 32, 32)"
   ]
  },
  {
   "cell_type": "code",
   "execution_count": 8,
   "metadata": {},
   "outputs": [],
   "source": [
    "img_transform = transforms.Compose([\n",
    "    transforms.Resize(32),\n",
    "    transforms.ToTensor(),\n",
    "    transforms.Normalize((.5, .5, .5), (.5, .5, .5))\n",
    "])\n",
    "\n",
    "dataset = datasets.MNIST('~/data/mnist', transform=img_transform) #, download=True)\n",
    "dataloader = DataLoader(dataset, batch_size=batch_size, shuffle=True, num_workers=4)"
   ]
  },
  {
   "cell_type": "code",
   "execution_count": 9,
   "metadata": {},
   "outputs": [],
   "source": [
    "def gen_noise(batch_size, label):\n",
    "    prefix = np.zeros((batch_size, 10))\n",
    "    prefix[np.arange(batch_size), label.cpu().numpy()] = 1\n",
    "    z = np.random.normal(0, 1, (batch_size, z_dimension))\n",
    "    prefix = prefix / np.linalg.norm(prefix)\n",
    "    z[:, :10] = prefix\n",
    "    return torch.from_numpy(z).float().to(device)"
   ]
  },
  {
   "cell_type": "code",
   "execution_count": 10,
   "metadata": {},
   "outputs": [],
   "source": [
    "def gen_label_one_hot(batch_size, label):\n",
    "    prefix = np.zeros((batch_size, 10))\n",
    "    prefix[np.arange(batch_size), label.cpu().numpy()] = 1\n",
    "    return torch.from_numpy(prefix).float().to(device)"
   ]
  },
  {
   "cell_type": "code",
   "execution_count": 11,
   "metadata": {},
   "outputs": [],
   "source": [
    "class Discriminator(nn.Module):\n",
    "    def __init__(self):\n",
    "        super(Discriminator, self).__init__()\n",
    "        \n",
    "        self.label_embedding = nn.Linear(10, np.prod(img_shape))\n",
    "        \n",
    "        self.conv1 = nn.Sequential(\n",
    "            nn.Conv2d(2, 16, 3, padding=1, stride=2),\n",
    "            nn.BatchNorm2d(16),\n",
    "            nn.LeakyReLU(.2, True),\n",
    "#             nn.AvgPool2d(2, 2), \n",
    "        ) # b 16 16 16\n",
    "        \n",
    "        self.conv2 = nn.Sequential(\n",
    "            nn.Conv2d(16, 32, 3, padding=1, stride=2),\n",
    "            nn.BatchNorm2d(32),\n",
    "            nn.LeakyReLU(.2, True),\n",
    "#             nn.AvgPool2d(2, 2), \n",
    "        ) # b 32 8 8\n",
    "        \n",
    "        self.conv3 = nn.Sequential(\n",
    "            nn.Conv2d(32, 64, 3, padding=1, stride=2),\n",
    "            nn.BatchNorm2d(64),\n",
    "            nn.LeakyReLU(.2, True),\n",
    "#             nn.AvgPool2d(2, 2), \n",
    "        ) # b 64 4 4\n",
    "        \n",
    "        self.conv4 = nn.Sequential(\n",
    "            nn.Conv2d(64, 128, 3, padding=1, stride=2),\n",
    "            nn.BatchNorm2d(128),\n",
    "            nn.LeakyReLU(.2, True),\n",
    "#             nn.AvgPool2d(2, 2), \n",
    "        ) # b 128 2 2\n",
    "        \n",
    "        self.fc = nn.Sequential(\n",
    "            nn.Linear(128 * 2 * 2, 1024),\n",
    "            nn.LeakyReLU(.2, True),\n",
    "            nn.Linear(1024, 1),\n",
    "            nn.Sigmoid(),\n",
    "        ) # b 1\n",
    "        \n",
    "        self.label = nn.Sequential(\n",
    "            nn.Linear(128 * 2 * 2, 10),\n",
    "            nn.Sigmoid()\n",
    "        )\n",
    "\n",
    "    def forward(self, imgs, labels): # b 1 32 32\n",
    "        \n",
    "        _imgs = torch.cat((imgs, self.label_embedding(labels.reshape([imgs.size(0), -1])).reshape(imgs.size(0), *img_shape)), 1)\n",
    "\n",
    "        outs = self.conv1(_imgs)\n",
    "        outs = self.conv2(outs)\n",
    "        outs = self.conv3(outs)\n",
    "        outs = self.conv4(outs)\n",
    "        outs = outs.view(imgs.size(0), -1)\n",
    "        img = self.fc(outs)\n",
    "        lab = self.label(outs)\n",
    "        \n",
    "        return img, lab # b 1 1 1, b 10"
   ]
  },
  {
   "cell_type": "code",
   "execution_count": 12,
   "metadata": {},
   "outputs": [],
   "source": [
    "class Generator(nn.Module):\n",
    "    def __init__(self, inp_dim, num_feature):\n",
    "        super(Generator, self).__init__()\n",
    "\n",
    "        self.label_emb = nn.Linear(10, 10)\n",
    "        \n",
    "        self.fc = nn.Sequential(\n",
    "            nn.Linear(inp_dim, np.prod(num_feature)),\n",
    "#             nn.Sigmoid(),\n",
    "        ) # b *num_feature  b 32 4 4\n",
    "        \n",
    "        self.upsample1 = nn.Sequential(\n",
    "#             nn.BatchNorm2d(128),\n",
    "            nn.ConvTranspose2d(32, 16, 4, 2, 1),\n",
    "#             nn.functional.interpolate(scale_factor=2),\n",
    "#             nn.Upsample(scale_factor=2),\n",
    "#             nn.Conv2d(32, 16, 3, padding=1),\n",
    "            nn.BatchNorm2d(16),\n",
    "            nn.LeakyReLU(.2, True),\n",
    "#             nn.ReLU(True),\n",
    "        ) # b 16 8 8\n",
    "        \n",
    "        self.upsample2 = nn.Sequential(\n",
    "#             nn.functional.interpolate(scale_factor=2),\n",
    "            nn.ConvTranspose2d(16, 8, 4, 2, 1),\n",
    "#             nn.Upsample(scale_factor=2),\n",
    "#             nn.Conv2d(16, 8, 3, padding=1),\n",
    "            nn.BatchNorm2d(8),\n",
    "            nn.LeakyReLU(.2, True),\n",
    "#             nn.ReLU(True),\n",
    "        ) # b 8 16 16\n",
    "        \n",
    "        self.upsample3 = nn.Sequential(\n",
    "            nn.ConvTranspose2d(8, 4, 4, 2, 1),\n",
    "#             nn.functional.interpolate(scale_factor=2),\n",
    "#             nn.Upsample(scale_factor=2),\n",
    "#             nn.Conv2d(8, 4, 3, padding=1, stride=1),\n",
    "            nn.BatchNorm2d(4),\n",
    "            nn.LeakyReLU(.2, True),\n",
    "#             nn.ReLU(True),\n",
    "        ) # b 4 32 32\n",
    "        \n",
    "        self.conv = nn.Sequential(\n",
    "#             nn.functional.interpolate(scale_factor=2),\n",
    "            nn.Conv2d(4, 1, 3, padding=1, stride=1),\n",
    "            nn.Tanh(),\n",
    "        ) # b 1 32 32\n",
    "\n",
    "    def forward(self, noise, labels):\n",
    "        \n",
    "#         gen_input = torch.cat((labels.reshape(noise.size(0), -1), noise), -1)\n",
    "        gen_input = torch.cat((self.label_emb(labels.reshape([noise.size(0), -1])), noise), -1)\n",
    "        \n",
    "        outs = self.fc(gen_input)\n",
    "        outs = outs.view(noise.size(0), *num_feature)\n",
    "        outs = self.upsample1(outs)\n",
    "        outs = self.upsample2(outs)\n",
    "        outs = self.upsample3(outs)\n",
    "        \n",
    "        outs = self.conv(outs)\n",
    "        \n",
    "        return outs\n"
   ]
  },
  {
   "cell_type": "code",
   "execution_count": 13,
   "metadata": {},
   "outputs": [],
   "source": [
    "D = Discriminator().to(device)\n",
    "G = Generator(z_dimension + 10, num_feature).to(device)\n",
    "\n",
    "D = nn.DataParallel(D, device_ids=device_ids).to(device)\n",
    "G = nn.DataParallel(G, device_ids=device_ids).to(device)\n",
    "\n",
    "adversarial_loss = nn.MSELoss()\n",
    "auxiliary_loss = torch.nn.CrossEntropyLoss()\n",
    "\n",
    "D_optimezer = optim.Adam(D.parameters(), lr=2e-4, betas=(0, 0.9))\n",
    "G_optimezer = optim.Adam(G.parameters(), lr=2e-4, betas=(0, 0.9))"
   ]
  },
  {
   "cell_type": "code",
   "execution_count": 14,
   "metadata": {},
   "outputs": [],
   "source": [
    "condition = torch.from_numpy(np.arange(10)).cuda()\n",
    "condition_one_hot = gen_label_one_hot(condition.shape[0], condition)"
   ]
  },
  {
   "cell_type": "code",
   "execution_count": 15,
   "metadata": {},
   "outputs": [],
   "source": [
    "writer = SummaryWriter('./log/cnn_cgan')"
   ]
  },
  {
   "cell_type": "code",
   "execution_count": 16,
   "metadata": {},
   "outputs": [],
   "source": [
    "img_path = \"save_images/cnn_cgan\"\n",
    "if not os.path.exists(img_path): os.makedirs(img_path)"
   ]
  },
  {
   "cell_type": "code",
   "execution_count": null,
   "metadata": {
    "scrolled": true
   },
   "outputs": [
    {
     "data": {
      "application/vnd.jupyter.widget-view+json": {
       "model_id": "992979b596a64fd399d02dcb0df755a1",
       "version_major": 2,
       "version_minor": 0
      },
      "text/plain": [
       "HBox(children=(IntProgress(value=0), HTML(value='')))"
      ]
     },
     "metadata": {},
     "output_type": "display_data"
    },
    {
     "name": "stdout",
     "output_type": "stream",
     "text": [
      "Epoch [1/100], Step:  38400, d_loss: 10.222656, g_loss: 0.999921, real_scores: 1.000000, fake_scores: 0.000039\n",
      "Finish Epoch [1/100], D Loss: 1302.027661, G Loss: 120.423487\n",
      "Epoch [2/100], Step:  38400, d_loss: 9.753906, g_loss: 0.999999, real_scores: 1.000000, fake_scores: 0.000001\n",
      "Finish Epoch [2/100], D Loss: 648.530917, G Loss: 63.965434\n",
      "Epoch [3/100], Step:  38400, d_loss: 9.847656, g_loss: 1.000000, real_scores: 1.000000, fake_scores: 0.000000\n",
      "Finish Epoch [3/100], D Loss: 432.353948, G Loss: 42.643627\n",
      "Epoch [4/100], Step:  38400, d_loss: 10.183594, g_loss: 1.000000, real_scores: 1.000000, fake_scores: 0.000000\n",
      "Finish Epoch [4/100], D Loss: 324.265538, G Loss: 31.982702\n",
      "Epoch [5/100], Step:  38400, d_loss: 9.242188, g_loss: 1.000000, real_scores: 1.000000, fake_scores: 0.000000\n",
      "Finish Epoch [5/100], D Loss: 259.422244, G Loss: 25.574780\n",
      "Epoch [6/100], Step:  38400, d_loss: 9.011719, g_loss: 0.999957, real_scores: 1.000000, fake_scores: 0.000022\n",
      "Finish Epoch [6/100], D Loss: 216.781921, G Loss: 20.939838\n",
      "Epoch [7/100], Step:  38400, d_loss: 10.526551, g_loss: 0.862083, real_scores: 0.999362, fake_scores: 0.100989\n",
      "Finish Epoch [7/100], D Loss: 188.758876, G Loss: 11.970920\n",
      "Epoch [8/100], Step:  38400, d_loss: 11.445296, g_loss: 0.037737, real_scores: 1.000000, fake_scores: 0.926428\n",
      "Finish Epoch [8/100], D Loss: 165.399903, G Loss: 9.266336\n",
      "Epoch [9/100], Step:  38400, d_loss: 11.878397, g_loss: 0.995929, real_scores: 0.984137, fake_scores: 0.002058\n",
      "Finish Epoch [9/100], D Loss: 145.329429, G Loss: 11.590510\n",
      "Epoch [10/100], Step:  38400, d_loss: 10.892228, g_loss: 0.789536, real_scores: 0.999528, fake_scores: 0.124695\n",
      "Finish Epoch [10/100], D Loss: 130.612076, G Loss: 10.876362\n",
      "Epoch [11/100], Step:  38400, d_loss: 8.909778, g_loss: 0.897821, real_scores: 0.999420, fake_scores: 0.056650\n",
      "Finish Epoch [11/100], D Loss: 119.094291, G Loss: 9.027098\n",
      "Epoch [12/100], Step:  38400, d_loss: 9.865557, g_loss: 0.968660, real_scores: 0.997286, fake_scores: 0.016263\n",
      "Finish Epoch [12/100], D Loss: 108.937875, G Loss: 8.787106\n",
      "Epoch [13/100], Step:  38400, d_loss: 9.126389, g_loss: 0.991908, real_scores: 0.999589, fake_scores: 0.004111\n",
      "Finish Epoch [13/100], D Loss: 100.525707, G Loss: 8.382988\n",
      "Epoch [14/100], Step:  38400, d_loss: 9.614274, g_loss: 0.976368, real_scores: 0.999884, fake_scores: 0.012440\n",
      "Finish Epoch [14/100], D Loss: 93.138536, G Loss: 8.143870\n",
      "Epoch [15/100], Step:  38400, d_loss: 9.344014, g_loss: 0.953127, real_scores: 0.999714, fake_scores: 0.026706\n",
      "Finish Epoch [15/100], D Loss: 87.054050, G Loss: 7.544617\n",
      "Epoch [16/100], Step:  38400, d_loss: 9.786741, g_loss: 0.911863, real_scores: 0.990106, fake_scores: 0.057080\n",
      "Finish Epoch [16/100], D Loss: 81.928712, G Loss: 6.254947\n",
      "Epoch [17/100], Step:  38400, d_loss: 9.071042, g_loss: 0.976191, real_scores: 0.998611, fake_scores: 0.012117\n",
      "Finish Epoch [17/100], D Loss: 77.321156, G Loss: 5.625672\n",
      "Epoch [18/100], Step:  38400, d_loss: 9.856789, g_loss: 0.977523, real_scores: 0.999704, fake_scores: 0.011576\n",
      "Finish Epoch [18/100], D Loss: 73.294669, G Loss: 4.797310\n",
      "Epoch [19/100], Step:  38400, d_loss: 12.259448, g_loss: 0.977557, real_scores: 0.999892, fake_scores: 0.012438\n",
      "Finish Epoch [19/100], D Loss: 69.401961, G Loss: 4.477314\n",
      "Epoch [20/100], Step:  38400, d_loss: 10.469316, g_loss: 0.985813, real_scores: 0.999864, fake_scores: 0.007185\n",
      "Finish Epoch [20/100], D Loss: 65.657594, G Loss: 4.973283\n",
      "Epoch [21/100], Step:  38400, d_loss: 8.417435, g_loss: 0.663558, real_scores: 0.993207, fake_scores: 0.283247\n",
      "Finish Epoch [21/100], D Loss: 62.522370, G Loss: 4.660020\n",
      "Epoch [22/100], Step:  38400, d_loss: 10.683943, g_loss: 0.999278, real_scores: 0.997700, fake_scores: 0.000362\n",
      "Finish Epoch [22/100], D Loss: 59.906209, G Loss: 4.028719\n",
      "Epoch [23/100], Step:  38400, d_loss: 11.453989, g_loss: 0.994720, real_scores: 0.999783, fake_scores: 0.002668\n",
      "Finish Epoch [23/100], D Loss: 57.066323, G Loss: 4.385389\n",
      "Epoch [24/100], Step:  38400, d_loss: 9.978675, g_loss: 0.962444, real_scores: 0.999902, fake_scores: 0.020558\n",
      "Finish Epoch [24/100], D Loss: 54.698227, G Loss: 4.190611\n",
      "Epoch [25/100], Step:  38400, d_loss: 9.874086, g_loss: 0.819094, real_scores: 0.999792, fake_scores: 0.112252\n",
      "Finish Epoch [25/100], D Loss: 52.471156, G Loss: 4.072550\n",
      "Epoch [26/100], Step:  38400, d_loss: 9.965770, g_loss: 0.732049, real_scores: 0.999990, fake_scores: 0.162211\n",
      "Finish Epoch [26/100], D Loss: 50.410991, G Loss: 3.959910\n",
      "Epoch [27/100], Step:  38400, d_loss: 11.444220, g_loss: 0.999904, real_scores: 0.996037, fake_scores: 0.000048\n",
      "Finish Epoch [27/100], D Loss: 48.501613, G Loss: 4.040475\n",
      "Epoch [28/100], Step:  38400, d_loss: 10.893718, g_loss: 0.000012, real_scores: 1.000000, fake_scores: 0.999180\n",
      "Finish Epoch [28/100], D Loss: 46.776452, G Loss: 3.787881\n",
      "Epoch [29/100], Step:  38400, d_loss: 10.070266, g_loss: 0.415677, real_scores: 1.000000, fake_scores: 0.471803\n",
      "Finish Epoch [29/100], D Loss: 45.039032, G Loss: 3.992100\n",
      "Epoch [30/100], Step:  38400, d_loss: 8.883545, g_loss: 0.991662, real_scores: 0.999802, fake_scores: 0.004290\n",
      "Finish Epoch [30/100], D Loss: 43.513740, G Loss: 3.853135\n",
      "Epoch [31/100], Step:  38400, d_loss: 12.520598, g_loss: 0.925454, real_scores: 0.999929, fake_scores: 0.041941\n",
      "Finish Epoch [31/100], D Loss: 42.061775, G Loss: 3.752184\n",
      "Epoch [32/100], Step:  38400, d_loss: 11.393674, g_loss: 0.958579, real_scores: 0.999944, fake_scores: 0.023553\n",
      "Finish Epoch [32/100], D Loss: 40.809916, G Loss: 3.645170\n",
      "Epoch [33/100], Step:  38400, d_loss: 12.983243, g_loss: 0.088157, real_scores: 1.000000, fake_scores: 0.853227\n",
      "Finish Epoch [33/100], D Loss: 39.499771, G Loss: 3.534751\n",
      "Epoch [34/100], Step:  38400, d_loss: 9.202271, g_loss: 0.948694, real_scores: 0.999992, fake_scores: 0.032588\n",
      "Finish Epoch [34/100], D Loss: 38.360414, G Loss: 3.595519\n",
      "Epoch [35/100], Step:  38400, d_loss: 10.522114, g_loss: 0.978946, real_scores: 0.999507, fake_scores: 0.011299\n",
      "Finish Epoch [35/100], D Loss: 37.242398, G Loss: 3.457035\n",
      "Epoch [36/100], Step:  38400, d_loss: 9.675798, g_loss: 0.999966, real_scores: 0.999995, fake_scores: 0.000017\n",
      "Finish Epoch [36/100], D Loss: 36.159391, G Loss: 3.386101\n",
      "Epoch [37/100], Step:  38400, d_loss: 13.721924, g_loss: 1.000000, real_scores: 0.024531, fake_scores: 0.000000\n",
      "Finish Epoch [37/100], D Loss: 35.197252, G Loss: 3.278518\n"
     ]
    }
   ],
   "source": [
    "total_count = len(dataloader)\n",
    "for epoch in tqdm_notebook(range(num_epochs)):\n",
    "    _step = epoch * total_count\n",
    "    \n",
    "    d_loss_total = .0\n",
    "    g_loss_total = .0\n",
    "    for i, (imgs, labels) in enumerate(dataloader):\n",
    "        \n",
    "        real_imgs = imgs.cuda()\n",
    "        real_labels = labels.cuda()\n",
    "        real_labels_one_hot = gen_label_one_hot(imgs.size(0), real_labels)\n",
    "        \n",
    "        real = torch.ones(imgs.size(0), 1).cuda()\n",
    "        fake = torch.zeros(imgs.size(0), 1).cuda()\n",
    "        \n",
    "        z = torch.randn(imgs.size(0), z_dimension).cuda()\n",
    "        fake_labels = torch.from_numpy(np.random.randint(0, 10, imgs.size(0))).cuda()\n",
    "        fake_labels_one_hot = gen_label_one_hot(imgs.size(0), fake_labels)\n",
    "        \n",
    "        ########## G ##########\n",
    "        fake_imgs = G(z, fake_labels_one_hot)\n",
    "        fake_out, fake_out_labels = D(fake_imgs, fake_labels_one_hot)\n",
    "        g_loss = adversarial_loss(fake_out, real)\n",
    "        \n",
    "        G_optimezer.zero_grad()\n",
    "        g_loss.backward()\n",
    "        G_optimezer.step()\n",
    "        #######################\n",
    "        \n",
    "        ########## D ##########\n",
    "        real_out, real_out_label = D(real_imgs, real_labels_one_hot)\n",
    "        d_loss_real = adversarial_loss(real_out, real_labels.float()) # real\n",
    "#         d_loss_real_label = auxiliary_loss(real_out_label, real_labels)\n",
    "        real_scores = real_out\n",
    "        \n",
    "        fake_out, fake_out_labels = D(fake_imgs.detach(), fake_labels_one_hot)\n",
    "        d_loss_fake = adversarial_loss(fake_out, fake)\n",
    "        fake_scores = fake_out\n",
    "        \n",
    "        d_loss = (d_loss_real + d_loss_fake) / 2 # + d_loss_real_label\n",
    "        D_optimezer.zero_grad()\n",
    "        d_loss.backward()\n",
    "        D_optimezer.step()\n",
    "        #######################\n",
    "        \n",
    "        d_loss_total += d_loss.item() * imgs.size(0)\n",
    "        g_loss_total += g_loss.item() * imgs.size(0)\n",
    "        \n",
    "        step = _step + i + 1\n",
    "        \n",
    "        if (i + 1) % 100 == 0:\n",
    "            writer.add_scalar('Discriminator Real Loss', d_loss_real.item(), step)\n",
    "            writer.add_scalar('Discriminator Fake Loss', d_loss_fake.item(), step)\n",
    "            writer.add_scalar('Discriminator Loss', d_loss.item(), step)\n",
    "            writer.add_scalar('Generator Loss', g_loss.item(), step)\n",
    "        \n",
    "        if (i + 1) % 300 == 0:\n",
    "            tqdm.write('Epoch [{}/{}], Step: {:6d}, d_loss: {:.6f}, g_loss: {:.6f}, real_scores: {:.6f}' \\\n",
    "', fake_scores: {:.6f}'.format(epoch+1, num_epochs, (i+1) * batch_size, d_loss, g_loss, real_scores.mean(), fake_scores.mean()))\n",
    "    \n",
    "    setp = (epoch + 1) * total_count\n",
    "    _d_loss_total = d_loss_total / (total_count * (epoch + 1))\n",
    "    _g_loss_total = g_loss_total / (total_count * (epoch + 1))\n",
    "    \n",
    "    writer.add_scalar('Discriminator Total Loss', _d_loss_total, step)\n",
    "    writer.add_scalar('Generator Total Loss', _g_loss_total, step)\n",
    "    \n",
    "    tqdm.write(\"Finish Epoch [{}/{}], D Loss: {:.6f}, G Loss: {:.6f}\".format(epoch+1, \n",
    "                                                                             num_epochs, \n",
    "                                                                             _d_loss_total,\n",
    "                                                                             _g_loss_total, ))\n",
    "    \n",
    "    if epoch == 0:\n",
    "        real_images = real_imgs.view(-1, 1, 32, 32).cpu().data\n",
    "        save_image(real_images, os.path.join(img_path, 'real_images.png'))\n",
    "        \n",
    "    noise = torch.randn(10, z_dimension).cuda()\n",
    "    condition_images = G(noise, condition_one_hot)\n",
    "    \n",
    "    writer.add_image('Generator Image', make_grid(fake_imgs.view(-1, 1, 32, 32).cpu().data, normalize=True, scale_each=True), step)\n",
    "    writer.add_image('Condition Generator Image', make_grid(condition_images.view(-1, 1, 32, 32).cpu().data, normalize=True, scale_each=True), step)\n",
    "    \n",
    "    fake_images = fake_imgs.view(-1, 1, 32, 32).cpu().data\n",
    "    save_image(fake_images, os.path.join(img_path, 'fake_images-{}.png'.format(epoch+1)))\n",
    "    save_image(condition_images, os.path.join(img_path, 'condition_images-{}.png'.format(epoch+1)))"
   ]
  },
  {
   "cell_type": "code",
   "execution_count": 22,
   "metadata": {},
   "outputs": [],
   "source": [
    "writer.close()"
   ]
  },
  {
   "cell_type": "code",
   "execution_count": 23,
   "metadata": {},
   "outputs": [],
   "source": [
    "torch.save(D.state_dict(), './ser/cgan_discriminator_2.pt')\n",
    "torch.save(G.state_dict(), './ser/cgan_generator_2.pt')"
   ]
  },
  {
   "cell_type": "code",
   "execution_count": 24,
   "metadata": {},
   "outputs": [],
   "source": [
    "D.load_state_dict(torch.load('./ser/cgan_discriminator_2.pt'))\n",
    "G.load_state_dict(torch.load('./ser/cgan_generator_2.pt'))"
   ]
  },
  {
   "cell_type": "code",
   "execution_count": 19,
   "metadata": {},
   "outputs": [
    {
     "data": {
      "image/png": "[encoded data removed]",
      "text/plain": [
       "<Figure size 432x288 with 1 Axes>"
      ]
     },
     "metadata": {
      "needs_background": "dark"
     },
     "output_type": "display_data"
    }
   ],
   "source": [
    "words = torch.from_numpy(np.arange(10)).to(device)\n",
    "words = gen_label_one_hot(words.shape[0], words)\n",
    "z = torch.randn(words.size(0), z_dimension).to(device)\n",
    "images = G(z, words)\n",
    "# save_image(images, 'xx.png')\n",
    "plt.imshow(Image.fromarray(make_grid(images).mul(255).clamp(0, 255).byte().permute(1, 2, 0).cpu().numpy()))\n",
    "plt.show()"
   ]
  },
  {
   "cell_type": "code",
   "execution_count": 34,
   "metadata": {},
   "outputs": [
    {
     "data": {
      "image/png": "[encoded data removed]",
      "text/plain": [
       "<Figure size 432x288 with 1 Axes>"
      ]
     },
     "metadata": {
      "needs_background": "dark"
     },
     "output_type": "display_data"
    }
   ],
   "source": [
    "words = torch.from_numpy(np.arange(10)).to(device)\n",
    "words = gen_label_one_hot(words.shape[0], words)\n",
    "z = torch.randn(words.size(0), z_dimension).to(device)\n",
    "images = G(z, words)\n",
    "# save_image(images, 'xx.png')\n",
    "plt.imshow(Image.fromarray(make_grid(images).mul(255).clamp(0, 255).byte().permute(1, 2, 0).cpu().numpy()))\n",
    "plt.show()"
   ]
  },
  {
   "cell_type": "code",
   "execution_count": null,
   "metadata": {},
   "outputs": [],
   "source": []
  }
 ],
 "metadata": {
  "kernelspec": {
   "display_name": "Python 3",
   "language": "python",
   "name": "python3"
  },
  "language_info": {
   "codemirror_mode": {
    "name": "ipython",
    "version": 2
   },
   "file_extension": ".py",
   "mimetype": "text/x-python",
   "name": "python",
   "nbconvert_exporter": "python",
   "pygments_lexer": "ipython2",
   "version": "2.7.15+"
  },
  "varInspector": {
   "cols": {
    "lenName": 16,
    "lenType": 16,
    "lenVar": 40
   },
   "kernels_config": {
    "python": {
     "delete_cmd_postfix": "",
     "delete_cmd_prefix": "del ",
     "library": "var_list.py",
     "varRefreshCmd": "print(var_dic_list())"
    },
    "r": {
     "delete_cmd_postfix": ") ",
     "delete_cmd_prefix": "rm(",
     "library": "var_list.r",
     "varRefreshCmd": "cat(var_dic_list()) "
    }
   },
   "position": {
    "height": "556px",
    "left": "247px",
    "right": "398px",
    "top": "131px",
    "width": "752px"
   },
   "types_to_exclude": [
    "module",
    "function",
    "builtin_function_or_method",
    "instance",
    "_Feature"
   ],
   "window_display": false
  }
 },
 "nbformat": 4,
 "nbformat_minor": 2
}
