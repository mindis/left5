{
 "cells": [
  {
   "cell_type": "code",
   "execution_count": 3,
   "metadata": {},
   "outputs": [],
   "source": [
    "import torch\n",
    "from torch import nn, optim\n",
    "from torch.utils.data import DataLoader\n",
    "from torchvision import transforms\n",
    "from torchvision import datasets\n",
    "import numpy as np\n",
    "import matplotlib.pyplot as plt"
   ]
  },
  {
   "cell_type": "code",
   "execution_count": 4,
   "metadata": {},
   "outputs": [],
   "source": [
    "%matplotlib inline"
   ]
  },
  {
   "cell_type": "code",
   "execution_count": 31,
   "metadata": {},
   "outputs": [],
   "source": [
    "batch_size = 32\n",
    "learning_rate = 1e-3\n",
    "num_epochs = 100"
   ]
  },
  {
   "cell_type": "code",
   "execution_count": 28,
   "metadata": {},
   "outputs": [],
   "source": [
    "train_dataset = datasets.MNIST('./datas', train=True, transform=transforms.ToTensor()) #, download=True)\n",
    "test_dataset = datasets.MNIST('./datas', train=False, transform=transforms.ToTensor())\n",
    "\n",
    "train_dataload = DataLoader(train_dataset, batch_size=batch_size, shuffle=True)\n",
    "test_dataload = DataLoader(test_dataset, batch_size=batch_size, shuffle=False)"
   ]
  },
  {
   "cell_type": "code",
   "execution_count": 20,
   "metadata": {},
   "outputs": [],
   "source": [
    "class LogsticRegression(nn.Module):\n",
    "    def __init__(self, in_dim, out_dim):\n",
    "        super(LogsticRegression, self).__init__()\n",
    "        \n",
    "        self.logstic = nn.Linear(in_dim, out_dim)\n",
    "    \n",
    "    def forward(self, x):\n",
    "        return self.logstic(x)"
   ]
  },
  {
   "cell_type": "code",
   "execution_count": 45,
   "metadata": {},
   "outputs": [],
   "source": [
    "model  = LogsticRegression(28*28, 10).cuda()\n",
    "\n",
    "criterion = nn.CrossEntropyLoss()\n",
    "optimizer = optim.Adam(model.parameters(), lr=learning_rate)\n",
    "\n",
    "train_losses = []\n",
    "train_accs = []\n",
    "\n",
    "eval_losses = []\n",
    "eval_accs = []"
   ]
  },
  {
   "cell_type": "code",
   "execution_count": 46,
   "metadata": {},
   "outputs": [
    {
     "name": "stdout",
     "output_type": "stream",
     "text": [
      "Epoch:[1/5], loss: 0.732518, acc: 0.835187\n",
      "Epoch:[1/5], loss: 0.567356, acc: 0.864281\n",
      "Epoch:[1/5], loss: 0.491923, acc: 0.877979\n",
      "Finish 1 epoch, loss: 0.459475, acc: 0.884017\n",
      "Test Loss: 0.305856, Test Acc: 0.915300\n",
      "Epoch:[2/5], loss: 0.312288, acc: 0.915063\n",
      "Epoch:[2/5], loss: 0.305222, acc: 0.916469\n",
      "Epoch:[2/5], loss: 0.301730, acc: 0.916646\n",
      "Finish 2 epoch, loss: 0.302398, acc: 0.915633\n",
      "Test Loss: 0.281567, Test Acc: 0.920300\n",
      "Epoch:[3/5], loss: 0.288861, acc: 0.917875\n",
      "Epoch:[3/5], loss: 0.283855, acc: 0.920562\n",
      "Epoch:[3/5], loss: 0.283753, acc: 0.920438\n",
      "Finish 3 epoch, loss: 0.282969, acc: 0.920900\n",
      "Test Loss: 0.272401, Test Acc: 0.923900\n",
      "Epoch:[4/5], loss: 0.277531, acc: 0.923125\n",
      "Epoch:[4/5], loss: 0.274984, acc: 0.924438\n",
      "Epoch:[4/5], loss: 0.271718, acc: 0.924500\n",
      "Finish 4 epoch, loss: 0.272725, acc: 0.924400\n",
      "Test Loss: 0.266591, Test Acc: 0.926600\n",
      "Epoch:[5/5], loss: 0.273222, acc: 0.926375\n",
      "Epoch:[5/5], loss: 0.264238, acc: 0.927312\n",
      "Epoch:[5/5], loss: 0.265480, acc: 0.926417\n",
      "Finish 5 epoch, loss: 0.266406, acc: 0.925300\n",
      "Test Loss: 0.269983, Test Acc: 0.924300\n"
     ]
    }
   ],
   "source": [
    "for epoch in range(num_epochs):\n",
    "    running_loss = .0\n",
    "    running_acc = .0\n",
    "    for i, data in enumerate(train_dataload, 1):\n",
    "        img, label = data\n",
    "\n",
    "        img = img.view(img.size(0), -1).cuda()\n",
    "        label = label.cuda()\n",
    "\n",
    "        out = model(img)\n",
    "        loss = criterion(out, label)\n",
    "        running_loss += loss.item() * batch_size\n",
    "        \n",
    "        _, pred = torch.max(out, 1)\n",
    "        running_acc += (pred == label).sum().item()\n",
    "        \n",
    "        optimizer.zero_grad()\n",
    "        loss.backward()\n",
    "        optimizer.step()\n",
    "        \n",
    "        if i % 500 == 0:\n",
    "            print 'Epoch:[{}/{}], loss: {:.6f}, acc: {:.6f}'.format(epoch+1, \\\n",
    "                                                                    num_epochs, \\\n",
    "                                                                    running_loss/(batch_size*i), \\\n",
    "                                                                    running_acc/(batch_size*i))\n",
    "    print 'Finish {} epoch, loss: {:.6f}, acc: {:.6f}'.format(epoch+1, \\\n",
    "                                                             running_loss/len(train_dataset), \\\n",
    "                                                             running_acc/len(train_dataset))\n",
    "    \n",
    "    train_losses.append(running_loss/len(train_dataset))\n",
    "    train_accs.append(running_acc/len(train_dataset))\n",
    "    \n",
    "#     model.eval()\n",
    "    eval_loss = .0\n",
    "    eval_acc = .0\n",
    "    for data in test_dataload:\n",
    "        img, label = data\n",
    "        img = img.view(img.size(0), -1).cuda()\n",
    "        label = label.cuda()\n",
    "        \n",
    "        out = model(img)\n",
    "        loss = criterion(out, label)\n",
    "        eval_loss += loss.item() * batch_size\n",
    "        _, pred = torch.max(out, 1)\n",
    "        eval_acc += (pred == label).sum().item()\n",
    "        \n",
    "    print 'Test Loss: {:.6f}, Test Acc: {:.6f}'.format(eval_loss/len(test_dataset), \\\n",
    "                                                      eval_acc/len(test_dataset))\n",
    "    eval_losses.append(eval_loss/len(test_dataset))\n",
    "    eval_accs.append(eval_acc/len(test_dataset))\n",
    "\n"
   ]
  },
  {
   "cell_type": "code",
   "execution_count": 48,
   "metadata": {},
   "outputs": [
    {
     "data": {
      "image/png": "[encoded data removed]",
      "text/plain": [
       "<matplotlib.figure.Figure at 0x7fcfbef88610>"
      ]
     },
     "metadata": {},
     "output_type": "display_data"
    }
   ],
   "source": [
    "plt.plot(train_losses, label='Train Loss')\n",
    "plt.plot(train_accs, label='Train Acc')\n",
    "plt.legend()\n",
    "plt.show()"
   ]
  },
  {
   "cell_type": "code",
   "execution_count": 50,
   "metadata": {},
   "outputs": [
    {
     "data": {
      "image/png": "[encoded data removed]",
      "text/plain": [
       "<matplotlib.figure.Figure at 0x7fcfb003d690>"
      ]
     },
     "metadata": {},
     "output_type": "display_data"
    }
   ],
   "source": [
    "plt.plot(eval_losses, label='Eval Loss')\n",
    "plt.plot(eval_accs, label='Eval Acc')\n",
    "plt.legend()\n",
    "plt.show()"
   ]
  },
  {
   "cell_type": "code",
   "execution_count": 41,
   "metadata": {},
   "outputs": [],
   "source": [
    "torch.save(model.state_dict(), './ser/logstic.pth')"
   ]
  },
  {
   "cell_type": "code",
   "execution_count": null,
   "metadata": {},
   "outputs": [],
   "source": []
  }
 ],
 "metadata": {
  "kernelspec": {
   "display_name": "Python 2",
   "language": "python",
   "name": "python2"
  },
  "language_info": {
   "codemirror_mode": {
    "name": "ipython",
    "version": 2
   },
   "file_extension": ".py",
   "mimetype": "text/x-python",
   "name": "python",
   "nbconvert_exporter": "python",
   "pygments_lexer": "ipython2",
   "version": "2.7.12"
  },
  "varInspector": {
   "cols": {
    "lenName": 16,
    "lenType": 16,
    "lenVar": 40
   },
   "kernels_config": {
    "python": {
     "delete_cmd_postfix": "",
     "delete_cmd_prefix": "del ",
     "library": "var_list.py",
     "varRefreshCmd": "print(var_dic_list())"
    },
    "r": {
     "delete_cmd_postfix": ") ",
     "delete_cmd_prefix": "rm(",
     "library": "var_list.r",
     "varRefreshCmd": "cat(var_dic_list()) "
    }
   },
   "types_to_exclude": [
    "module",
    "function",
    "builtin_function_or_method",
    "instance",
    "_Feature"
   ],
   "window_display": false
  }
 },
 "nbformat": 4,
 "nbformat_minor": 2
}
