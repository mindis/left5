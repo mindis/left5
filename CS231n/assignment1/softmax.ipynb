{
 "cells": [
  {
   "cell_type": "markdown",
   "metadata": {},
   "source": [
    "# Softmax exercise\n",
    "\n",
    "*Complete and hand in this completed worksheet (including its outputs and any supporting code outside of the worksheet) with your assignment submission. For more details see the [assignments page](http://vision.stanford.edu/teaching/cs231n/assignments.html) on the course website.*\n",
    "\n",
    "This exercise is analogous to the SVM exercise. You will:\n",
    "\n",
    "- implement a fully-vectorized **loss function** for the Softmax classifier\n",
    "- implement the fully-vectorized expression for its **analytic gradient**\n",
    "- **check your implementation** with numerical gradient\n",
    "- use a validation set to **tune the learning rate and regularization** strength\n",
    "- **optimize** the loss function with **SGD**\n",
    "- **visualize** the final learned weights\n"
   ]
  },
  {
   "cell_type": "code",
   "execution_count": 1,
   "metadata": {},
   "outputs": [],
   "source": [
    "import random\n",
    "import numpy as np\n",
    "from cs231n.data_utils import load_CIFAR10\n",
    "import matplotlib.pyplot as plt\n",
    "%matplotlib inline\n",
    "plt.rcParams['figure.figsize'] = (10.0, 8.0) # set default size of plots\n",
    "plt.rcParams['image.interpolation'] = 'nearest'\n",
    "plt.rcParams['image.cmap'] = 'gray'\n",
    "\n",
    "# for auto-reloading extenrnal modules\n",
    "# see http://stackoverflow.com/questions/1907993/autoreload-of-modules-in-ipython\n",
    "%load_ext autoreload\n",
    "%autoreload 2"
   ]
  },
  {
   "cell_type": "code",
   "execution_count": 2,
   "metadata": {},
   "outputs": [
    {
     "name": "stdout",
     "output_type": "stream",
     "text": [
      "Train data shape:  (49000, 3073)\n",
      "Train labels shape:  (49000,)\n",
      "Validation data shape:  (1000, 3073)\n",
      "Validation labels shape:  (1000,)\n",
      "Test data shape:  (1000, 3073)\n",
      "Test labels shape:  (1000,)\n",
      "dev data shape:  (500, 3073)\n",
      "dev labels shape:  (500,)\n"
     ]
    }
   ],
   "source": [
    "def get_CIFAR10_data(num_training=49000, num_validation=1000, num_test=1000, num_dev=500):\n",
    "  \"\"\"\n",
    "  Load the CIFAR-10 dataset from disk and perform preprocessing to prepare\n",
    "  it for the linear classifier. These are the same steps as we used for the\n",
    "  SVM, but condensed to a single function.  \n",
    "  \"\"\"\n",
    "  # Load the raw CIFAR-10 data\n",
    "  cifar10_dir = 'cs231n/datasets/cifar-10-batches-py'\n",
    "  X_train, y_train, X_test, y_test = load_CIFAR10(cifar10_dir)\n",
    "  \n",
    "  # subsample the data\n",
    "  mask = range(num_training, num_training + num_validation)\n",
    "  X_val = X_train[mask]\n",
    "  y_val = y_train[mask]\n",
    "  mask = range(num_training)\n",
    "  X_train = X_train[mask]\n",
    "  y_train = y_train[mask]\n",
    "  mask = range(num_test)\n",
    "  X_test = X_test[mask]\n",
    "  y_test = y_test[mask]\n",
    "  mask = np.random.choice(num_training, num_dev, replace=False)\n",
    "  X_dev = X_train[mask]\n",
    "  y_dev = y_train[mask]\n",
    "  \n",
    "  # Preprocessing: reshape the image data into rows\n",
    "  X_train = np.reshape(X_train, (X_train.shape[0], -1))\n",
    "  X_val = np.reshape(X_val, (X_val.shape[0], -1))\n",
    "  X_test = np.reshape(X_test, (X_test.shape[0], -1))\n",
    "  X_dev = np.reshape(X_dev, (X_dev.shape[0], -1))\n",
    "  \n",
    "  # Normalize the data: subtract the mean image\n",
    "  mean_image = np.mean(X_train, axis = 0)\n",
    "  X_train -= mean_image\n",
    "  X_val -= mean_image\n",
    "  X_test -= mean_image\n",
    "  X_dev -= mean_image\n",
    "  \n",
    "  # add bias dimension and transform into columns\n",
    "  X_train = np.hstack([X_train, np.ones((X_train.shape[0], 1))])\n",
    "  X_val = np.hstack([X_val, np.ones((X_val.shape[0], 1))])\n",
    "  X_test = np.hstack([X_test, np.ones((X_test.shape[0], 1))])\n",
    "  X_dev = np.hstack([X_dev, np.ones((X_dev.shape[0], 1))])\n",
    "  \n",
    "  return X_train, y_train, X_val, y_val, X_test, y_test, X_dev, y_dev\n",
    "\n",
    "\n",
    "# Invoke the above function to get our data.\n",
    "X_train, y_train, X_val, y_val, X_test, y_test, X_dev, y_dev = get_CIFAR10_data()\n",
    "print 'Train data shape: ', X_train.shape\n",
    "print 'Train labels shape: ', y_train.shape\n",
    "print 'Validation data shape: ', X_val.shape\n",
    "print 'Validation labels shape: ', y_val.shape\n",
    "print 'Test data shape: ', X_test.shape\n",
    "print 'Test labels shape: ', y_test.shape\n",
    "print 'dev data shape: ', X_dev.shape\n",
    "print 'dev labels shape: ', y_dev.shape"
   ]
  },
  {
   "cell_type": "markdown",
   "metadata": {},
   "source": [
    "## Softmax Classifier\n",
    "\n",
    "Your code for this section will all be written inside **cs231n/classifiers/softmax.py**. \n"
   ]
  },
  {
   "cell_type": "code",
   "execution_count": 3,
   "metadata": {},
   "outputs": [
    {
     "name": "stdout",
     "output_type": "stream",
     "text": [
      "loss: 2.357812\n",
      "sanity check: 2.302585\n"
     ]
    }
   ],
   "source": [
    "# First implement the naive softmax loss function with nested loops.\n",
    "# Open the file cs231n/classifiers/softmax.py and implement the\n",
    "# softmax_loss_naive function.\n",
    "\n",
    "from cs231n.classifiers.softmax import softmax_loss_naive\n",
    "import time\n",
    "\n",
    "# Generate a random softmax weight matrix and use it to compute the loss.\n",
    "W = np.random.randn(3073, 10) * 0.0001\n",
    "loss, grad = softmax_loss_naive(W, X_dev, y_dev, 0.0)\n",
    "\n",
    "# As a rough sanity check, our loss should be something close to -log(0.1).\n",
    "print 'loss: %f' % loss\n",
    "print 'sanity check: %f' % (-np.log(0.1))"
   ]
  },
  {
   "cell_type": "markdown",
   "metadata": {},
   "source": [
    "## Inline Question 1:\n",
    "Why do we expect our loss to be close to -log(0.1)? Explain briefly.**\n",
    "\n",
    "**Your answer:** *Fill this in*\n"
   ]
  },
  {
   "cell_type": "code",
   "execution_count": 4,
   "metadata": {},
   "outputs": [
    {
     "name": "stdout",
     "output_type": "stream",
     "text": [
      "numerical: 2.353585 analytic: 2.353585, relative error: 1.659613e-08\n",
      "numerical: -4.523084 analytic: -4.523084, relative error: 1.115829e-08\n",
      "numerical: 2.812312 analytic: 2.812312, relative error: 1.370846e-08\n",
      "numerical: -2.961487 analytic: -2.961487, relative error: 9.584726e-09\n",
      "numerical: 1.737860 analytic: 1.737860, relative error: 1.682886e-08\n",
      "numerical: -0.229745 analytic: -0.229745, relative error: 1.916015e-07\n",
      "numerical: -1.474195 analytic: -1.474195, relative error: 3.007064e-09\n",
      "numerical: 2.528698 analytic: 2.528698, relative error: 2.668216e-08\n",
      "numerical: 1.120615 analytic: 1.120615, relative error: 1.920778e-08\n",
      "numerical: 1.857967 analytic: 1.857967, relative error: 2.822377e-08\n",
      "numerical: -3.356946 analytic: -3.356946, relative error: 6.927559e-09\n",
      "numerical: 0.859511 analytic: 0.859511, relative error: 2.196218e-09\n",
      "numerical: 1.909901 analytic: 1.909901, relative error: 2.398411e-08\n",
      "numerical: -4.591765 analytic: -4.591765, relative error: 3.076826e-09\n",
      "numerical: 1.284131 analytic: 1.284131, relative error: 1.453985e-08\n",
      "numerical: -0.197876 analytic: -0.197876, relative error: 1.574056e-07\n",
      "numerical: 2.755107 analytic: 2.755107, relative error: 2.383874e-08\n",
      "numerical: 1.279078 analytic: 1.279078, relative error: 1.711721e-08\n",
      "numerical: 0.280299 analytic: 0.280299, relative error: 9.102170e-08\n",
      "numerical: -0.253048 analytic: -0.253048, relative error: 3.531695e-07\n"
     ]
    }
   ],
   "source": [
    "# Complete the implementation of softmax_loss_naive and implement a (naive)\n",
    "# version of the gradient that uses nested loops.\n",
    "loss, grad = softmax_loss_naive(W, X_dev, y_dev, 0.0)\n",
    "\n",
    "# As we did for the SVM, use numeric gradient checking as a debugging tool.\n",
    "# The numeric gradient should be close to the analytic gradient.\n",
    "from cs231n.gradient_check import grad_check_sparse\n",
    "f = lambda w: softmax_loss_naive(w, X_dev, y_dev, 0.0)[0]\n",
    "grad_numerical = grad_check_sparse(f, W, grad, 10)\n",
    "\n",
    "# similar to SVM case, do another gradient check with regularization\n",
    "loss, grad = softmax_loss_naive(W, X_dev, y_dev, 1e2)\n",
    "f = lambda w: softmax_loss_naive(w, X_dev, y_dev, 1e2)[0]\n",
    "grad_numerical = grad_check_sparse(f, W, grad, 10)"
   ]
  },
  {
   "cell_type": "code",
   "execution_count": 5,
   "metadata": {},
   "outputs": [
    {
     "name": "stdout",
     "output_type": "stream",
     "text": [
      "naive loss: 2.357812e+00 computed in 0.150183s\n",
      "vectorized loss: 2.357812e+00 computed in 0.008225s\n",
      "Loss difference: 0.000000\n",
      "Gradient difference: 0.000000\n"
     ]
    }
   ],
   "source": [
    "# Now that we have a naive implementation of the softmax loss function and its gradient,\n",
    "# implement a vectorized version in softmax_loss_vectorized.\n",
    "# The two versions should compute the same results, but the vectorized version should be\n",
    "# much faster.\n",
    "tic = time.time()\n",
    "loss_naive, grad_naive = softmax_loss_naive(W, X_dev, y_dev, 0.00001)\n",
    "toc = time.time()\n",
    "print 'naive loss: %e computed in %fs' % (loss_naive, toc - tic)\n",
    "\n",
    "from cs231n.classifiers.softmax import softmax_loss_vectorized\n",
    "tic = time.time()\n",
    "loss_vectorized, grad_vectorized = softmax_loss_vectorized(W, X_dev, y_dev, 0.00001)\n",
    "toc = time.time()\n",
    "print 'vectorized loss: %e computed in %fs' % (loss_vectorized, toc - tic)\n",
    "\n",
    "# As we did for the SVM, we use the Frobenius norm to compare the two versions\n",
    "# of the gradient.\n",
    "grad_difference = np.linalg.norm(grad_naive - grad_vectorized, ord='fro')\n",
    "print 'Loss difference: %f' % np.abs(loss_naive - loss_vectorized)\n",
    "print 'Gradient difference: %f' % grad_difference"
   ]
  },
  {
   "cell_type": "code",
   "execution_count": 6,
   "metadata": {},
   "outputs": [
    {
     "name": "stdout",
     "output_type": "stream",
     "text": [
      "iteration 0 / 1500: loss 768.984001\n",
      "iteration 100 / 1500: loss 282.229781\n",
      "iteration 200 / 1500: loss 104.730340\n",
      "iteration 300 / 1500: loss 39.668013\n",
      "iteration 400 / 1500: loss 15.898794\n",
      "iteration 500 / 1500: loss 7.135813\n",
      "iteration 600 / 1500: loss 3.945871\n",
      "iteration 700 / 1500: loss 2.782009\n",
      "iteration 800 / 1500: loss 2.316577\n",
      "iteration 900 / 1500: loss 2.213749\n",
      "iteration 1000 / 1500: loss 2.069456\n",
      "iteration 1100 / 1500: loss 2.091671\n",
      "iteration 1200 / 1500: loss 2.120128\n",
      "iteration 1300 / 1500: loss 2.112443\n",
      "iteration 1400 / 1500: loss 2.134655\n",
      "That took 4.721467s\n"
     ]
    }
   ],
   "source": [
    "# In the file linear_classifier.py, implement SGD in the function\n",
    "# LinearClassifier.train() and then run it with the code below.\n",
    "from cs231n.classifiers import Softmax\n",
    "softmax = Softmax()\n",
    "tic = time.time()\n",
    "loss_hist = softmax.train(X_train, y_train, learning_rate=1e-7, reg=5e4,\n",
    "                      num_iters=1500, verbose=True)\n",
    "toc = time.time()\n",
    "print 'That took %fs' % (toc - tic)"
   ]
  },
  {
   "cell_type": "code",
   "execution_count": 7,
   "metadata": {},
   "outputs": [
    {
     "data": {
      "image/png": "[encoded data removed]",
      "text/plain": [
       "<matplotlib.figure.Figure at 0x7f080a656450>"
      ]
     },
     "metadata": {},
     "output_type": "display_data"
    }
   ],
   "source": [
    "# A useful debugging strategy is to plot the loss as a function of\n",
    "# iteration number:\n",
    "plt.plot(loss_hist)\n",
    "plt.xlabel('Iteration number')\n",
    "plt.ylabel('Loss value')\n",
    "plt.show()"
   ]
  },
  {
   "cell_type": "code",
   "execution_count": 8,
   "metadata": {
    "scrolled": true
   },
   "outputs": [
    {
     "name": "stderr",
     "output_type": "stream",
     "text": [
      "cs231n/classifiers/softmax.py:86: RuntimeWarning: divide by zero encountered in log\n",
      "  loss = np.sum(-np.log(p[np.arange(num_train), y]))\n",
      "cs231n/classifiers/softmax.py:93: RuntimeWarning: overflow encountered in double_scalars\n",
      "  loss += 0.5 * reg * np.sum(W * W)\n",
      "cs231n/classifiers/softmax.py:93: RuntimeWarning: overflow encountered in multiply\n",
      "  loss += 0.5 * reg * np.sum(W * W)\n",
      "cs231n/classifiers/softmax.py:82: RuntimeWarning: overflow encountered in subtract\n",
      "  f -= np.max(f, axis=1, keepdims=True) # max of every sample\n",
      "cs231n/classifiers/softmax.py:82: RuntimeWarning: invalid value encountered in subtract\n",
      "  f -= np.max(f, axis=1, keepdims=True) # max of every sample\n",
      "cs231n/classifiers/softmax.py:95: RuntimeWarning: overflow encountered in multiply\n",
      "  dW += reg*W\n",
      "cs231n/classifiers/linear_classifier.py:68: RuntimeWarning: overflow encountered in multiply\n",
      "  self.W += -learning_rate * grad\n"
     ]
    },
    {
     "name": "stdout",
     "output_type": "stream",
     "text": [
      "lr 1.000000e-10 reg 1.000000e-03 train accuracy: 0.111469 val accuracy: 0.113000\n",
      "lr 1.000000e-10 reg 1.000000e-02 train accuracy: 0.110000 val accuracy: 0.109000\n",
      "lr 1.000000e-10 reg 1.000000e-01 train accuracy: 0.069653 val accuracy: 0.064000\n",
      "lr 1.000000e-10 reg 1.000000e+00 train accuracy: 0.137020 val accuracy: 0.144000\n",
      "lr 1.000000e-10 reg 1.000000e+01 train accuracy: 0.093143 val accuracy: 0.088000\n",
      "lr 1.000000e-10 reg 1.000000e+02 train accuracy: 0.098082 val accuracy: 0.098000\n",
      "lr 1.000000e-10 reg 1.000000e+03 train accuracy: 0.120612 val accuracy: 0.123000\n",
      "lr 1.000000e-10 reg 1.000000e+04 train accuracy: 0.095082 val accuracy: 0.091000\n",
      "lr 1.000000e-10 reg 1.000000e+05 train accuracy: 0.121510 val accuracy: 0.110000\n",
      "lr 1.000000e-10 reg 1.000000e+06 train accuracy: 0.108531 val accuracy: 0.113000\n",
      "lr 1.668101e-08 reg 1.000000e-03 train accuracy: 0.099245 val accuracy: 0.110000\n",
      "lr 1.668101e-08 reg 1.000000e-02 train accuracy: 0.096714 val accuracy: 0.100000\n",
      "lr 1.668101e-08 reg 1.000000e-01 train accuracy: 0.102714 val accuracy: 0.087000\n",
      "lr 1.668101e-08 reg 1.000000e+00 train accuracy: 0.117020 val accuracy: 0.124000\n",
      "lr 1.668101e-08 reg 1.000000e+01 train accuracy: 0.087714 val accuracy: 0.083000\n",
      "lr 1.668101e-08 reg 1.000000e+02 train accuracy: 0.087551 val accuracy: 0.082000\n",
      "lr 1.668101e-08 reg 1.000000e+03 train accuracy: 0.124714 val accuracy: 0.131000\n",
      "lr 1.668101e-08 reg 1.000000e+04 train accuracy: 0.098204 val accuracy: 0.111000\n",
      "lr 1.668101e-08 reg 1.000000e+05 train accuracy: 0.100776 val accuracy: 0.090000\n",
      "lr 1.668101e-08 reg 1.000000e+06 train accuracy: 0.125531 val accuracy: 0.117000\n",
      "lr 2.782559e-06 reg 1.000000e-03 train accuracy: 0.270510 val accuracy: 0.256000\n",
      "lr 2.782559e-06 reg 1.000000e-02 train accuracy: 0.275102 val accuracy: 0.294000\n",
      "lr 2.782559e-06 reg 1.000000e-01 train accuracy: 0.270918 val accuracy: 0.243000\n",
      "lr 2.782559e-06 reg 1.000000e+00 train accuracy: 0.260918 val accuracy: 0.256000\n",
      "lr 2.782559e-06 reg 1.000000e+01 train accuracy: 0.264122 val accuracy: 0.244000\n",
      "lr 2.782559e-06 reg 1.000000e+02 train accuracy: 0.273286 val accuracy: 0.294000\n",
      "lr 2.782559e-06 reg 1.000000e+03 train accuracy: 0.284510 val accuracy: 0.275000\n",
      "lr 2.782559e-06 reg 1.000000e+04 train accuracy: 0.336796 val accuracy: 0.341000\n",
      "lr 2.782559e-06 reg 1.000000e+05 train accuracy: 0.242837 val accuracy: 0.238000\n",
      "lr 2.782559e-06 reg 1.000000e+06 train accuracy: 0.072571 val accuracy: 0.074000\n",
      "lr 4.641589e-04 reg 1.000000e-03 train accuracy: 0.255796 val accuracy: 0.255000\n",
      "lr 4.641589e-04 reg 1.000000e-02 train accuracy: 0.285061 val accuracy: 0.291000\n",
      "lr 4.641589e-04 reg 1.000000e-01 train accuracy: 0.242735 val accuracy: 0.268000\n",
      "lr 4.641589e-04 reg 1.000000e+00 train accuracy: 0.273653 val accuracy: 0.265000\n",
      "lr 4.641589e-04 reg 1.000000e+01 train accuracy: 0.294286 val accuracy: 0.288000\n",
      "lr 4.641589e-04 reg 1.000000e+02 train accuracy: 0.217163 val accuracy: 0.224000\n",
      "lr 4.641589e-04 reg 1.000000e+03 train accuracy: 0.132714 val accuracy: 0.123000\n",
      "lr 4.641589e-04 reg 1.000000e+04 train accuracy: 0.087163 val accuracy: 0.078000\n",
      "lr 4.641589e-04 reg 1.000000e+05 train accuracy: 0.081265 val accuracy: 0.082000\n",
      "lr 4.641589e-04 reg 1.000000e+06 train accuracy: 0.085265 val accuracy: 0.073000\n",
      "lr 7.742637e-02 reg 1.000000e-03 train accuracy: 0.265653 val accuracy: 0.254000\n",
      "lr 7.742637e-02 reg 1.000000e-02 train accuracy: 0.303531 val accuracy: 0.301000\n",
      "lr 7.742637e-02 reg 1.000000e-01 train accuracy: 0.240898 val accuracy: 0.242000\n",
      "lr 7.742637e-02 reg 1.000000e+00 train accuracy: 0.234204 val accuracy: 0.240000\n",
      "lr 7.742637e-02 reg 1.000000e+01 train accuracy: 0.124653 val accuracy: 0.116000\n",
      "lr 7.742637e-02 reg 1.000000e+02 train accuracy: 0.070306 val accuracy: 0.053000\n",
      "lr 7.742637e-02 reg 1.000000e+03 train accuracy: 0.052041 val accuracy: 0.042000\n",
      "lr 7.742637e-02 reg 1.000000e+04 train accuracy: 0.072592 val accuracy: 0.059000\n",
      "lr 7.742637e-02 reg 1.000000e+05 train accuracy: 0.100265 val accuracy: 0.087000\n",
      "lr 7.742637e-02 reg 1.000000e+06 train accuracy: 0.100265 val accuracy: 0.087000\n",
      "lr 1.291550e+01 reg 1.000000e-03 train accuracy: 0.238388 val accuracy: 0.265000\n",
      "lr 1.291550e+01 reg 1.000000e-02 train accuracy: 0.188878 val accuracy: 0.197000\n",
      "lr 1.291550e+01 reg 1.000000e-01 train accuracy: 0.074531 val accuracy: 0.094000\n",
      "lr 1.291550e+01 reg 1.000000e+00 train accuracy: 0.078347 val accuracy: 0.070000\n",
      "lr 1.291550e+01 reg 1.000000e+01 train accuracy: 0.049224 val accuracy: 0.054000\n",
      "lr 1.291550e+01 reg 1.000000e+02 train accuracy: 0.100265 val accuracy: 0.087000\n",
      "lr 1.291550e+01 reg 1.000000e+03 train accuracy: 0.100265 val accuracy: 0.087000\n",
      "lr 1.291550e+01 reg 1.000000e+04 train accuracy: 0.100265 val accuracy: 0.087000\n",
      "lr 1.291550e+01 reg 1.000000e+05 train accuracy: 0.100265 val accuracy: 0.087000\n",
      "lr 1.291550e+01 reg 1.000000e+06 train accuracy: 0.100265 val accuracy: 0.087000\n",
      "lr 2.154435e+03 reg 1.000000e-03 train accuracy: 0.114653 val accuracy: 0.107000\n",
      "lr 2.154435e+03 reg 1.000000e-02 train accuracy: 0.075612 val accuracy: 0.083000\n",
      "lr 2.154435e+03 reg 1.000000e-01 train accuracy: 0.052653 val accuracy: 0.056000\n",
      "lr 2.154435e+03 reg 1.000000e+00 train accuracy: 0.100265 val accuracy: 0.087000\n",
      "lr 2.154435e+03 reg 1.000000e+01 train accuracy: 0.100265 val accuracy: 0.087000\n",
      "lr 2.154435e+03 reg 1.000000e+02 train accuracy: 0.100265 val accuracy: 0.087000\n",
      "lr 2.154435e+03 reg 1.000000e+03 train accuracy: 0.100265 val accuracy: 0.087000\n",
      "lr 2.154435e+03 reg 1.000000e+04 train accuracy: 0.100265 val accuracy: 0.087000\n",
      "lr 2.154435e+03 reg 1.000000e+05 train accuracy: 0.100265 val accuracy: 0.087000\n",
      "lr 2.154435e+03 reg 1.000000e+06 train accuracy: 0.100265 val accuracy: 0.087000\n",
      "lr 3.593814e+05 reg 1.000000e-03 train accuracy: 0.074510 val accuracy: 0.079000\n",
      "lr 3.593814e+05 reg 1.000000e-02 train accuracy: 0.100265 val accuracy: 0.087000\n",
      "lr 3.593814e+05 reg 1.000000e-01 train accuracy: 0.100265 val accuracy: 0.087000\n",
      "lr 3.593814e+05 reg 1.000000e+00 train accuracy: 0.100265 val accuracy: 0.087000\n",
      "lr 3.593814e+05 reg 1.000000e+01 train accuracy: 0.100265 val accuracy: 0.087000\n",
      "lr 3.593814e+05 reg 1.000000e+02 train accuracy: 0.100265 val accuracy: 0.087000\n",
      "lr 3.593814e+05 reg 1.000000e+03 train accuracy: 0.100265 val accuracy: 0.087000\n",
      "lr 3.593814e+05 reg 1.000000e+04 train accuracy: 0.100265 val accuracy: 0.087000\n",
      "lr 3.593814e+05 reg 1.000000e+05 train accuracy: 0.100265 val accuracy: 0.087000\n",
      "lr 3.593814e+05 reg 1.000000e+06 train accuracy: 0.100265 val accuracy: 0.087000\n",
      "lr 5.994843e+07 reg 1.000000e-03 train accuracy: 0.100265 val accuracy: 0.087000\n",
      "lr 5.994843e+07 reg 1.000000e-02 train accuracy: 0.100265 val accuracy: 0.087000\n",
      "lr 5.994843e+07 reg 1.000000e-01 train accuracy: 0.100265 val accuracy: 0.087000\n",
      "lr 5.994843e+07 reg 1.000000e+00 train accuracy: 0.100265 val accuracy: 0.087000\n",
      "lr 5.994843e+07 reg 1.000000e+01 train accuracy: 0.100265 val accuracy: 0.087000\n",
      "lr 5.994843e+07 reg 1.000000e+02 train accuracy: 0.100265 val accuracy: 0.087000\n",
      "lr 5.994843e+07 reg 1.000000e+03 train accuracy: 0.100265 val accuracy: 0.087000\n",
      "lr 5.994843e+07 reg 1.000000e+04 train accuracy: 0.100265 val accuracy: 0.087000\n",
      "lr 5.994843e+07 reg 1.000000e+05 train accuracy: 0.100265 val accuracy: 0.087000\n",
      "lr 5.994843e+07 reg 1.000000e+06 train accuracy: 0.100265 val accuracy: 0.087000\n",
      "lr 1.000000e+10 reg 1.000000e-03 train accuracy: 0.100265 val accuracy: 0.087000\n",
      "lr 1.000000e+10 reg 1.000000e-02 train accuracy: 0.100265 val accuracy: 0.087000\n",
      "lr 1.000000e+10 reg 1.000000e-01 train accuracy: 0.100265 val accuracy: 0.087000\n",
      "lr 1.000000e+10 reg 1.000000e+00 train accuracy: 0.100265 val accuracy: 0.087000\n",
      "lr 1.000000e+10 reg 1.000000e+01 train accuracy: 0.100265 val accuracy: 0.087000\n",
      "lr 1.000000e+10 reg 1.000000e+02 train accuracy: 0.100265 val accuracy: 0.087000\n",
      "lr 1.000000e+10 reg 1.000000e+03 train accuracy: 0.100265 val accuracy: 0.087000\n",
      "lr 1.000000e+10 reg 1.000000e+04 train accuracy: 0.100265 val accuracy: 0.087000\n",
      "lr 1.000000e+10 reg 1.000000e+05 train accuracy: 0.100265 val accuracy: 0.087000\n",
      "lr 1.000000e+10 reg 1.000000e+06 train accuracy: 0.100265 val accuracy: 0.087000\n",
      "best validation accuracy achieved during cross-validation: 0.341000\n"
     ]
    }
   ],
   "source": [
    "# Use the validation set to tune hyperparameters (regularization strength and\n",
    "# learning rate). You should experiment with different ranges for the learning\n",
    "# rates and regularization strengths; if you are careful you should be able to\n",
    "# get a classification accuracy of over 0.35 on the validation set.\n",
    "from cs231n.classifiers import Softmax\n",
    "results = {}\n",
    "best_val = -1\n",
    "best_softmax = None\n",
    "learning_rates = [1e-7, 5e-7]\n",
    "regularization_strengths = [5e4, 1e8]\n",
    "learning_rates = np.logspace(-10, 10, 10) # np.logspace(-10, 10, 8) #-10, -9, -8, -7, -6, -5, -4\n",
    "regularization_strengths = np.logspace(-3, 6, 10) # causes numeric issues: np.logspace(-5, 5, 8) #[-4, -3, -2, -1, 1, 2, 3, 4, 5, 6]\n",
    "\n",
    "################################################################################\n",
    "# TODO:                                                                        #\n",
    "# Use the validation set to set the learning rate and regularization strength. #\n",
    "# This should be identical to the validation that you did for the SVM; save    #\n",
    "# the best trained softmax classifer in best_softmax.                          #\n",
    "################################################################################\n",
    "iters = 100\n",
    "for lr in learning_rates:\n",
    "    for rs in regularization_strengths:\n",
    "        softmax = Softmax()\n",
    "        softmax.train(X_train, y_train, learning_rate=lr, reg=rs, num_iters=iters)\n",
    "        \n",
    "        y_train_pred = softmax.predict(X_train)\n",
    "        acc_train = np.mean(y_train == y_train_pred)\n",
    "        y_val_pred = softmax.predict(X_val)\n",
    "        acc_val = np.mean(y_val == y_val_pred)\n",
    "        \n",
    "        results[(lr, rs)] = (acc_train, acc_val)\n",
    "        \n",
    "        if best_val < acc_val:\n",
    "            best_val = acc_val\n",
    "            best_softmax = softmax\n",
    "################################################################################\n",
    "#                              END OF YOUR CODE                                #\n",
    "################################################################################\n",
    "    \n",
    "# Print out results.\n",
    "for lr, reg in sorted(results):\n",
    "    train_accuracy, val_accuracy = results[(lr, reg)]\n",
    "    print 'lr %e reg %e train accuracy: %f val accuracy: %f' % (\n",
    "                lr, reg, train_accuracy, val_accuracy)\n",
    "    \n",
    "print 'best validation accuracy achieved during cross-validation: %f' % best_val"
   ]
  },
  {
   "cell_type": "code",
   "execution_count": 9,
   "metadata": {},
   "outputs": [
    {
     "name": "stdout",
     "output_type": "stream",
     "text": [
      "softmax on raw pixels final test set accuracy: 0.338000\n"
     ]
    }
   ],
   "source": [
    "# evaluate on test set\n",
    "# Evaluate the best softmax on test set\n",
    "y_test_pred = best_softmax.predict(X_test)\n",
    "test_accuracy = np.mean(y_test == y_test_pred)\n",
    "print 'softmax on raw pixels final test set accuracy: %f' % (test_accuracy, )"
   ]
  },
  {
   "cell_type": "code",
   "execution_count": 10,
   "metadata": {},
   "outputs": [
    {
     "data": {
      "image/png": "[encoded data removed]",
      "text/plain": [
       "<matplotlib.figure.Figure at 0x7f07fa844190>"
      ]
     },
     "metadata": {},
     "output_type": "display_data"
    }
   ],
   "source": [
    "# Visualize the learned weights for each class\n",
    "w = best_softmax.W[:-1,:] # strip out the bias\n",
    "w = w.reshape(32, 32, 3, 10)\n",
    "\n",
    "w_min, w_max = np.min(w), np.max(w)\n",
    "\n",
    "classes = ['plane', 'car', 'bird', 'cat', 'deer', 'dog', 'frog', 'horse', 'ship', 'truck']\n",
    "for i in xrange(10):\n",
    "  plt.subplot(2, 5, i + 1)\n",
    "  \n",
    "  # Rescale the weights to be between 0 and 255\n",
    "  wimg = 255.0 * (w[:, :, :, i].squeeze() - w_min) / (w_max - w_min)\n",
    "  plt.imshow(wimg.astype('uint8'))\n",
    "  plt.axis('off')\n",
    "  plt.title(classes[i])"
   ]
  },
  {
   "cell_type": "code",
   "execution_count": null,
   "metadata": {},
   "outputs": [],
   "source": []
  }
 ],
 "metadata": {
  "kernelspec": {
   "display_name": "Python 2",
   "language": "python",
   "name": "python2"
  },
  "language_info": {
   "codemirror_mode": {
    "name": "ipython",
    "version": 2
   },
   "file_extension": ".py",
   "mimetype": "text/x-python",
   "name": "python",
   "nbconvert_exporter": "python",
   "pygments_lexer": "ipython2",
   "version": "2.7.12"
  },
  "varInspector": {
   "cols": {
    "lenName": 16,
    "lenType": 16,
    "lenVar": 40
   },
   "kernels_config": {
    "python": {
     "delete_cmd_postfix": "",
     "delete_cmd_prefix": "del ",
     "library": "var_list.py",
     "varRefreshCmd": "print(var_dic_list())"
    },
    "r": {
     "delete_cmd_postfix": ") ",
     "delete_cmd_prefix": "rm(",
     "library": "var_list.r",
     "varRefreshCmd": "cat(var_dic_list()) "
    }
   },
   "types_to_exclude": [
    "module",
    "function",
    "builtin_function_or_method",
    "instance",
    "_Feature"
   ],
   "window_display": false
  }
 },
 "nbformat": 4,
 "nbformat_minor": 1
}
