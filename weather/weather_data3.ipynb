{
 "cells": [
  {
   "cell_type": "code",
   "execution_count": 1,
   "metadata": {},
   "outputs": [],
   "source": [
    "import numpy as np\n",
    "import pandas as pd\n",
    "import matplotlib.pyplot as plt"
   ]
  },
  {
   "cell_type": "code",
   "execution_count": 2,
   "metadata": {},
   "outputs": [],
   "source": [
    "import os\n",
    "import codecs\n",
    "import string\n",
    "import datetime\n",
    "import pickle\n",
    "from concurrent.futures import ThreadPoolExecutor, wait, as_completed, ProcessPoolExecutor"
   ]
  },
  {
   "cell_type": "code",
   "execution_count": 52,
   "metadata": {},
   "outputs": [],
   "source": [
    "class WeatherData(object):\n",
    "    \n",
    "    def __init__(self, path):\n",
    "        if not os.path.exists(path):\n",
    "            raise RuntimeError('File Not Exists: %s' % path)\n",
    "        \n",
    "        self._data = None\n",
    "        self.head = ''\n",
    "        self.meta = []\n",
    "        \n",
    "        self.year, self.month, self.day, self.hour = 0, 0, 0, 0\n",
    "        self.longitude_interval, self.latitude_interval = .0, .0\n",
    "        self.latitude_start, self.latitude_end, self.longitude_start, self.longitude_end = .0, .0, .0, .0\n",
    "        self.shape = 0\n",
    "        \n",
    "        self.load_data(path)\n",
    "    \n",
    "    @property\n",
    "    def data(self):\n",
    "        return self._data\n",
    "\n",
    "    @data.setter\n",
    "    def data(self, value):\n",
    "        self._data = value\n",
    "    \n",
    "    # 16 01 01 08 000 200   0.250000  -0.250000  80.000000 150.000000  60.000000 -10.000000 281 281\n",
    "    #\n",
    "    # 2016 01 01 08 0 400 \n",
    "    # 0.250000 -0.250000 80.000000 140.000000 50.000000 -10.000000 241 241 2.000000 0.000000 100.000000 1.000000 0.000000\n",
    "    #\n",
    "    def load_data(self, path):\n",
    "        \n",
    "        try:\n",
    "            with codecs.open(path, 'r') as f:\n",
    "                self.head = f.readline().strip()\n",
    "\n",
    "                for i in range(3):\n",
    "                    self.meta.extend(f.readline().split())\n",
    "                    if len(self.meta) == 19:\n",
    "                        break\n",
    "                if len(self.meta) != 19:\n",
    "                    raise RuntimeError('File Meta Error')\n",
    "                \n",
    "                self.year, self.month, self.day, self.hour = self.meta[:4]\n",
    "                self.latitude_interval, self.longitude_interval = map(float, self.meta[6:8])\n",
    "                self.latitude_start, self.latitude_end, self.longitude_start, self.longitude_end = map(float, self.meta[8:12])\n",
    "                self.shape = map(int, self.meta[12:14])\n",
    "\n",
    "                _shape = self.shape\n",
    "                _shape.reverse()\n",
    "                self.data = np.transpose(np.array(f.read().split()).astype(np.float).reshape(_shape))\n",
    "\n",
    "                self.latitudes = np.arange(self.latitude_start, self.latitude_end + self.latitude_interval, self.latitude_interval)\n",
    "                self.longitudes = np.arange(self.longitude_start, self.longitude_end + self.longitude_interval, self.longitude_interval)\n",
    "\n",
    "                latv, longv = np.meshgrid(self.latitudes, self.longitudes[::-1])\n",
    "                self.grid = np.stack([latv, longv], axis=2).reshape(-1, 2)\n",
    "\n",
    "                self.df = pd.DataFrame(self.data, index=self.latitudes, columns=self.longitudes)\n",
    "        except Exception as e:\n",
    "            print 'Error: %s, %s' % (e, path)\n",
    "            raise"
   ]
  },
  {
   "cell_type": "code",
   "execution_count": 4,
   "metadata": {},
   "outputs": [],
   "source": [
    "#more /mnt/disk/weather_project/data/160101/2D-999/16010108.000"
   ]
  },
  {
   "cell_type": "code",
   "execution_count": 5,
   "metadata": {},
   "outputs": [],
   "source": [
    "wd = WeatherData('/mnt/disk/weather_project/data/160101/2D-999/16010108.000')"
   ]
  },
  {
   "cell_type": "code",
   "execution_count": 6,
   "metadata": {},
   "outputs": [
    {
     "data": {
      "text/html": [
       "<div>\n",
       "<style scoped>\n",
       "    .dataframe tbody tr th:only-of-type {\n",
       "        vertical-align: middle;\n",
       "    }\n",
       "\n",
       "    .dataframe tbody tr th {\n",
       "        vertical-align: top;\n",
       "    }\n",
       "\n",
       "    .dataframe thead th {\n",
       "        text-align: right;\n",
       "    }\n",
       "</style>\n",
       "<table border=\"1\" class=\"dataframe\">\n",
       "  <thead>\n",
       "    <tr style=\"text-align: right;\">\n",
       "      <th></th>\n",
       "      <th>40.0</th>\n",
       "      <th>39.875</th>\n",
       "      <th>39.75</th>\n",
       "      <th>39.625</th>\n",
       "      <th>39.5</th>\n",
       "      <th>39.375</th>\n",
       "      <th>39.25</th>\n",
       "      <th>39.125</th>\n",
       "      <th>39.0</th>\n",
       "      <th>38.875</th>\n",
       "      <th>...</th>\n",
       "      <th>11.125</th>\n",
       "      <th>11.0</th>\n",
       "      <th>10.875</th>\n",
       "      <th>10.75</th>\n",
       "      <th>10.625</th>\n",
       "      <th>10.5</th>\n",
       "      <th>10.375</th>\n",
       "      <th>10.25</th>\n",
       "      <th>10.125</th>\n",
       "      <th>10.0</th>\n",
       "    </tr>\n",
       "  </thead>\n",
       "  <tbody>\n",
       "    <tr>\n",
       "      <th>100.000</th>\n",
       "      <td>-18.08</td>\n",
       "      <td>-18.89</td>\n",
       "      <td>-19.71</td>\n",
       "      <td>-19.68</td>\n",
       "      <td>-19.02</td>\n",
       "      <td>-19.64</td>\n",
       "      <td>-22.05</td>\n",
       "      <td>-24.11</td>\n",
       "      <td>-25.08</td>\n",
       "      <td>-24.02</td>\n",
       "      <td>...</td>\n",
       "      <td>23.36</td>\n",
       "      <td>23.32</td>\n",
       "      <td>23.29</td>\n",
       "      <td>23.29</td>\n",
       "      <td>23.39</td>\n",
       "      <td>23.54</td>\n",
       "      <td>23.67</td>\n",
       "      <td>23.70</td>\n",
       "      <td>23.76</td>\n",
       "      <td>23.82</td>\n",
       "    </tr>\n",
       "    <tr>\n",
       "      <th>100.125</th>\n",
       "      <td>-17.99</td>\n",
       "      <td>-18.68</td>\n",
       "      <td>-19.36</td>\n",
       "      <td>-19.49</td>\n",
       "      <td>-19.02</td>\n",
       "      <td>-19.21</td>\n",
       "      <td>-20.64</td>\n",
       "      <td>-22.24</td>\n",
       "      <td>-23.33</td>\n",
       "      <td>-24.77</td>\n",
       "      <td>...</td>\n",
       "      <td>23.32</td>\n",
       "      <td>23.32</td>\n",
       "      <td>23.29</td>\n",
       "      <td>23.26</td>\n",
       "      <td>23.32</td>\n",
       "      <td>23.48</td>\n",
       "      <td>23.61</td>\n",
       "      <td>23.64</td>\n",
       "      <td>23.67</td>\n",
       "      <td>23.76</td>\n",
       "    </tr>\n",
       "    <tr>\n",
       "      <th>100.250</th>\n",
       "      <td>-17.83</td>\n",
       "      <td>-17.96</td>\n",
       "      <td>-18.49</td>\n",
       "      <td>-18.83</td>\n",
       "      <td>-18.71</td>\n",
       "      <td>-19.11</td>\n",
       "      <td>-20.27</td>\n",
       "      <td>-20.96</td>\n",
       "      <td>-22.61</td>\n",
       "      <td>-23.64</td>\n",
       "      <td>...</td>\n",
       "      <td>23.26</td>\n",
       "      <td>23.29</td>\n",
       "      <td>23.29</td>\n",
       "      <td>23.23</td>\n",
       "      <td>23.26</td>\n",
       "      <td>23.45</td>\n",
       "      <td>23.54</td>\n",
       "      <td>23.57</td>\n",
       "      <td>23.67</td>\n",
       "      <td>23.82</td>\n",
       "    </tr>\n",
       "    <tr>\n",
       "      <th>100.375</th>\n",
       "      <td>-17.71</td>\n",
       "      <td>-18.39</td>\n",
       "      <td>-19.55</td>\n",
       "      <td>-20.27</td>\n",
       "      <td>-20.55</td>\n",
       "      <td>-20.58</td>\n",
       "      <td>-20.52</td>\n",
       "      <td>-20.46</td>\n",
       "      <td>-20.68</td>\n",
       "      <td>-20.93</td>\n",
       "      <td>...</td>\n",
       "      <td>23.20</td>\n",
       "      <td>23.26</td>\n",
       "      <td>23.29</td>\n",
       "      <td>23.32</td>\n",
       "      <td>23.29</td>\n",
       "      <td>23.39</td>\n",
       "      <td>23.54</td>\n",
       "      <td>23.57</td>\n",
       "      <td>23.64</td>\n",
       "      <td>23.82</td>\n",
       "    </tr>\n",
       "    <tr>\n",
       "      <th>100.500</th>\n",
       "      <td>-17.61</td>\n",
       "      <td>-18.80</td>\n",
       "      <td>-20.24</td>\n",
       "      <td>-21.08</td>\n",
       "      <td>-21.68</td>\n",
       "      <td>-21.74</td>\n",
       "      <td>-21.14</td>\n",
       "      <td>-20.71</td>\n",
       "      <td>-20.49</td>\n",
       "      <td>-19.93</td>\n",
       "      <td>...</td>\n",
       "      <td>23.20</td>\n",
       "      <td>23.26</td>\n",
       "      <td>23.32</td>\n",
       "      <td>23.39</td>\n",
       "      <td>23.39</td>\n",
       "      <td>23.39</td>\n",
       "      <td>23.51</td>\n",
       "      <td>23.54</td>\n",
       "      <td>23.64</td>\n",
       "      <td>23.79</td>\n",
       "    </tr>\n",
       "  </tbody>\n",
       "</table>\n",
       "<p>5 rows × 241 columns</p>\n",
       "</div>"
      ],
      "text/plain": [
       "         40.000  39.875  39.750  39.625  39.500  39.375  39.250  39.125  \\\n",
       "100.000  -18.08  -18.89  -19.71  -19.68  -19.02  -19.64  -22.05  -24.11   \n",
       "100.125  -17.99  -18.68  -19.36  -19.49  -19.02  -19.21  -20.64  -22.24   \n",
       "100.250  -17.83  -17.96  -18.49  -18.83  -18.71  -19.11  -20.27  -20.96   \n",
       "100.375  -17.71  -18.39  -19.55  -20.27  -20.55  -20.58  -20.52  -20.46   \n",
       "100.500  -17.61  -18.80  -20.24  -21.08  -21.68  -21.74  -21.14  -20.71   \n",
       "\n",
       "         39.000  38.875   ...    11.125  11.000  10.875  10.750  10.625  \\\n",
       "100.000  -25.08  -24.02   ...     23.36   23.32   23.29   23.29   23.39   \n",
       "100.125  -23.33  -24.77   ...     23.32   23.32   23.29   23.26   23.32   \n",
       "100.250  -22.61  -23.64   ...     23.26   23.29   23.29   23.23   23.26   \n",
       "100.375  -20.68  -20.93   ...     23.20   23.26   23.29   23.32   23.29   \n",
       "100.500  -20.49  -19.93   ...     23.20   23.26   23.32   23.39   23.39   \n",
       "\n",
       "         10.500  10.375  10.250  10.125  10.000  \n",
       "100.000   23.54   23.67   23.70   23.76   23.82  \n",
       "100.125   23.48   23.61   23.64   23.67   23.76  \n",
       "100.250   23.45   23.54   23.57   23.67   23.82  \n",
       "100.375   23.39   23.54   23.57   23.64   23.82  \n",
       "100.500   23.39   23.51   23.54   23.64   23.79  \n",
       "\n",
       "[5 rows x 241 columns]"
      ]
     },
     "execution_count": 6,
     "metadata": {},
     "output_type": "execute_result"
    }
   ],
   "source": [
    "wd.df.iloc[:5]"
   ]
  },
  {
   "cell_type": "code",
   "execution_count": 7,
   "metadata": {},
   "outputs": [
    {
     "data": {
      "text/plain": [
       "array([[ 100.   ,   10.   ],\n",
       "       [ 100.125,   10.   ],\n",
       "       [ 100.25 ,   10.   ],\n",
       "       ..., \n",
       "       [ 129.75 ,   40.   ],\n",
       "       [ 129.875,   40.   ],\n",
       "       [ 130.   ,   40.   ]])"
      ]
     },
     "execution_count": 7,
     "metadata": {},
     "output_type": "execute_result"
    }
   ],
   "source": [
    "wd.grid"
   ]
  },
  {
   "cell_type": "code",
   "execution_count": 8,
   "metadata": {},
   "outputs": [],
   "source": [
    "# more /mnt/disk/weather_project/data1/161126/GH-850/16112608.006"
   ]
  },
  {
   "cell_type": "code",
   "execution_count": 9,
   "metadata": {},
   "outputs": [],
   "source": [
    "# more /mnt/disk/weather_project/data1/160515/windshear-speed-700-sfc/16051508.006"
   ]
  },
  {
   "cell_type": "code",
   "execution_count": 10,
   "metadata": {},
   "outputs": [],
   "source": [
    "# WeatherData('/mnt/disk/weather_project/data1/160515/windshear-speed-700-sfc/16051508.006')"
   ]
  },
  {
   "cell_type": "code",
   "execution_count": 11,
   "metadata": {},
   "outputs": [],
   "source": [
    "# xx = '/mnt/disk/weather_project/data'\n",
    "# for root, dirs, files in os.walk(xx):\n",
    "#     for f in files:\n",
    "#         filename = os.path.join(root, f)\n",
    "#         print filename\n",
    "#         wd = WeatherData(filename)\n",
    "        \n",
    "#         print wd.latitude_start, wd.latitude_end, wd.latitude_interval, wd.longitude_start, wd.longitude_end, wd.longitude_interval"
   ]
  },
  {
   "cell_type": "markdown",
   "metadata": {},
   "source": [
    "# hehehe"
   ]
  },
  {
   "cell_type": "code",
   "execution_count": 12,
   "metadata": {},
   "outputs": [],
   "source": [
    "def read_meta(meta_path='feature_meta2'):\n",
    "\n",
    "    metas = []\n",
    "    _first_path = ''\n",
    "    for line in open(meta_path):\n",
    "        _meta = map(string.strip, line.split('\\t'))\n",
    "        if len(_meta) > 1 and _meta[0]:\n",
    "            _first_path = _meta[0]\n",
    "        \n",
    "        _meta[0] = _meta[0] if _meta[0] else _first_path\n",
    "        if len(_meta) > 1 and not _meta[1]:\n",
    "            continue\n",
    "        metas.append(_meta)\n",
    "    \n",
    "    return metas"
   ]
  },
  {
   "cell_type": "code",
   "execution_count": 13,
   "metadata": {},
   "outputs": [],
   "source": [
    "meta = read_meta()"
   ]
  },
  {
   "cell_type": "code",
   "execution_count": 14,
   "metadata": {},
   "outputs": [],
   "source": [
    "# def closest_node(node, nodes):\n",
    "#     if np.all(nodes[0] < node) and np.all(node < nodes[-1]):\n",
    "#         nodes = np.asarray(nodes)\n",
    "#         dist_2 = np.sum((nodes - node)**2, axis=1)\n",
    "\n",
    "#         return nodes[np.argsort(dist_2)[:4]]\n",
    "#     return None\n",
    "\n",
    "# def closest_point(node, nodes):\n",
    "#     # todo check node in nodes or pass\n",
    "\n",
    "#     if np.all(nodes[0] < node) and np.all(node < nodes[-1]):\n",
    "#         nodes = np.asarray(nodes)\n",
    "#         dist = np.sum((nodes - node)**2, axis=1)\n",
    "\n",
    "#         return nodes[np.argsort(dist)[:4]]\n",
    "#     return None\n",
    "\n",
    "def closest_point(node, nodes, start):\n",
    "    # todo check node in nodes or pass\n",
    "\n",
    "    if np.all(nodes[0] < node) and np.all(node < nodes[-1]):\n",
    "        nodes = np.asarray(nodes)\n",
    "        dist = np.sum((nodes - node)**2, axis=1)\n",
    "\n",
    "        around_points = nodes[np.argsort(dist)[:4]]\n",
    "        \n",
    "        dist = np.sum((start - around_points)**2, axis=1)\n",
    "        return around_points[np.argsort(dist)[0]]\n",
    "    \n",
    "    return None"
   ]
  },
  {
   "cell_type": "code",
   "execution_count": 15,
   "metadata": {},
   "outputs": [],
   "source": [
    "def closest_points(nodes, points, start):\n",
    "    ic = []\n",
    "    for node in nodes:\n",
    "        index, column = closest_point(node, points, start)\n",
    "        ic.append([index, column])\n",
    "        \n",
    "    return np.asarray(ic)"
   ]
  },
  {
   "cell_type": "code",
   "execution_count": 16,
   "metadata": {},
   "outputs": [],
   "source": [
    "# more /mnt/disk/weather2016/rain3/r3/16010120.000"
   ]
  },
  {
   "cell_type": "code",
   "execution_count": 17,
   "metadata": {},
   "outputs": [],
   "source": [
    "class ActualData(object):\n",
    "    \n",
    "    def __init__(self, path):\n",
    "        \n",
    "        self.actual_date = os.path.split(path)[-1].split('.', 1)[0]\n",
    "        \n",
    "        str_data = open(path, 'r').read().replace('TESTB', '999999')\n",
    "        self.actual_data = np.asarray([line.split()[0:5] for line in str_data.splitlines()[4:]], dtype=np.float32)\n",
    "        \n"
   ]
  },
  {
   "cell_type": "code",
   "execution_count": 18,
   "metadata": {},
   "outputs": [
    {
     "data": {
      "text/plain": [
       "array([ 121.58499908,   29.80699921], dtype=float32)"
      ]
     },
     "execution_count": 18,
     "metadata": {},
     "output_type": "execute_result"
    }
   ],
   "source": [
    "ad = ActualData('/mnt/disk/weather2016/rain3/r3/16010108.000')\n",
    "\n",
    "ad.actual_data[0, 1:3]"
   ]
  },
  {
   "cell_type": "code",
   "execution_count": 19,
   "metadata": {},
   "outputs": [
    {
     "data": {
      "text/plain": [
       "array([[  9.99999000e+05,   1.21584999e+02,   2.98069992e+01,\n",
       "          0.00000000e+00,   0.00000000e+00],\n",
       "       [  4.66860000e+04,   1.21222000e+02,   2.50750008e+01,\n",
       "          2.57000008e+01,   0.00000000e+00],\n",
       "       [  4.66880000e+04,   1.21433998e+02,   2.49930000e+01,\n",
       "          9.69999981e+00,   0.00000000e+00],\n",
       "       ..., \n",
       "       [  7.99160000e+04,   1.18300003e+02,   2.74389992e+01,\n",
       "          1.67199997e+02,   0.00000000e+00],\n",
       "       [  7.99170000e+04,   1.17754997e+02,   2.73759995e+01,\n",
       "          2.37000000e+02,   0.00000000e+00],\n",
       "       [  7.99180000e+04,   1.18124001e+02,   2.75240002e+01,\n",
       "          1.87000000e+02,   1.00000001e-01]], dtype=float32)"
      ]
     },
     "execution_count": 19,
     "metadata": {},
     "output_type": "execute_result"
    }
   ],
   "source": [
    "ad.actual_data"
   ]
  },
  {
   "cell_type": "code",
   "execution_count": 20,
   "metadata": {},
   "outputs": [
    {
     "data": {
      "text/plain": [
       "array([ 121.5  ,   29.875])"
      ]
     },
     "execution_count": 20,
     "metadata": {},
     "output_type": "execute_result"
    }
   ],
   "source": [
    "closest_point(ad.actual_data[0, 1:3], wd.grid, [wd.latitude_start, wd.longitude_start])"
   ]
  },
  {
   "cell_type": "code",
   "execution_count": 21,
   "metadata": {},
   "outputs": [],
   "source": [
    "index, column = closest_point(ad.actual_data[0, 1:3], wd.grid, [wd.latitude_end, wd.longitude_start])"
   ]
  },
  {
   "cell_type": "code",
   "execution_count": 22,
   "metadata": {},
   "outputs": [
    {
     "data": {
      "text/plain": [
       "1.1699999999999999"
      ]
     },
     "execution_count": 22,
     "metadata": {},
     "output_type": "execute_result"
    }
   ],
   "source": [
    "wd.df[column][index]"
   ]
  },
  {
   "cell_type": "code",
   "execution_count": 23,
   "metadata": {},
   "outputs": [
    {
     "data": {
      "text/plain": [
       "array([  9.99999000e+05,   1.21584999e+02,   2.98069992e+01,\n",
       "         0.00000000e+00,   0.00000000e+00], dtype=float32)"
      ]
     },
     "execution_count": 23,
     "metadata": {},
     "output_type": "execute_result"
    }
   ],
   "source": [
    "ad.actual_data[0]"
   ]
  },
  {
   "cell_type": "code",
   "execution_count": 43,
   "metadata": {},
   "outputs": [],
   "source": [
    "actual_root = '/mnt/disk/weather2016/rain3/r3' # 16010108.000\n",
    "feature_root = '/mnt/disk/weather_project/data' # 16010108.003\n",
    "clear_root = '/mnt/disk/weather_project/data_clear'"
   ]
  },
  {
   "cell_type": "code",
   "execution_count": 25,
   "metadata": {},
   "outputs": [],
   "source": [
    "feature_names = ['-'.join(m) for m in meta]"
   ]
  },
  {
   "cell_type": "code",
   "execution_count": 26,
   "metadata": {},
   "outputs": [],
   "source": [
    "id_ic = pickle.load(open('id_ic.pkl'))id_ic = pickle.load(open('id_ic.pkl'))"
   ]
  },
  {
   "cell_type": "code",
   "execution_count": 27,
   "metadata": {
    "scrolled": true
   },
   "outputs": [],
   "source": [
    "# index column\n",
    "\n",
    "# for f in os.listdir(actual_root):\n",
    "#     print f\n",
    "#     fp = os.path.join(actual_root, f)\n",
    "#     ad = ActualData(fp)\n",
    "    \n",
    "#     # latitude, longitude\n",
    "    \n",
    "#     for _id, latitude, longitude in ad.actual_data[:, 0:3]:\n",
    "#         for fn in feature_names:\n",
    "#             _key = '%s_%s' % (_id, fn)\n",
    "#             if _key not in id_ic:\n",
    "#                 fp = os.path.join('/mnt/disk/weather_project/data/160101', fn)\n",
    "#                 pred_data_files = os.listdir(fp)\n",
    "#                 pred_data_files.sort()\n",
    "#                 pred_data_file = os.path.join(fp, pred_data_files[0])\n",
    "#                 wd = WeatherData(pred_data_file)\n",
    "\n",
    "#                 r = closest_point([latitude, longitude], wd.grid, [wd.latitude_end, wd.longitude_start])\n",
    "#                 if r is not None:\n",
    "#                     index, column = r\n",
    "#                     id_ic[_key] = [index, column]\n",
    "#                 else:\n",
    "#                     id_ic[_key] = [None, None]"
   ]
  },
  {
   "cell_type": "code",
   "execution_count": 28,
   "metadata": {},
   "outputs": [],
   "source": [
    "# pickle.dump(id_ic, open('id_ic.pkl', 'wb')) # id + feature_name"
   ]
  },
  {
   "cell_type": "code",
   "execution_count": 29,
   "metadata": {
    "scrolled": true
   },
   "outputs": [],
   "source": [
    "def doo(actual_file):\n",
    "    try:\n",
    "        print 'Start: %s' % actual_file\n",
    "\n",
    "        actual_path = os.path.join(actual_root, actual_file)\n",
    "        ad = ActualData(actual_path)\n",
    "\n",
    "        columns = ['id', 'datetime', 'actual_data']\n",
    "        columns.extend(['-'.join(m) for m in meta])\n",
    "        feature_data = pd.DataFrame(np.zeros([ad.actual_data.shape[0], 129]), index=ad.actual_data[:, 0].astype(np.int), columns=columns)\n",
    "    #     feature_data.index = feature_data.index.map(np.float32)\n",
    "        feature_data['id'] = ad.actual_data[:, 0]\n",
    "        feature_data['datetime'] = ad.actual_date\n",
    "        feature_data['actual_data'] = ad.actual_data[:, 4]\n",
    "\n",
    "\n",
    "        actual_date = datetime.datetime.strptime(actual_file.split('.', 1)[0], '%y%m%d%H')\n",
    "        if actual_date.hour >= 8 and actual_date.hour < 20:\n",
    "            _pred_date = actual_date - datetime.timedelta(hours=8)\n",
    "            pred_date = datetime.datetime(year=_pred_date.year, month=_pred_date.month, day=_pred_date.day, hour=8)\n",
    "\n",
    "        else:\n",
    "            _pred_date = actual_date - datetime.timedelta(hours=20)\n",
    "            pred_date = datetime.datetime(year=_pred_date.year, month=_pred_date.month, day=_pred_date.day, hour=20)\n",
    "\n",
    "        pred_file = '%s.00%s' % (pred_date.strftime('%y%m%d%H'), _pred_date.hour)\n",
    "        pred_date = pred_file[:6]\n",
    "        \n",
    "        \n",
    "#         pred_date = actual_file[:6]\n",
    "        date_path = os.path.join(feature_root, pred_date)\n",
    "\n",
    "        feature_paths = [os.path.join(date_path, '-'.join(m)) for m in meta]\n",
    "\n",
    "        del_index = []\n",
    "        for feature_path in feature_paths:\n",
    "\n",
    "            feature_name = os.path.split(feature_path)[-1]\n",
    "            \n",
    "            file_path = os.path.join(feature_path, pred_file)\n",
    "\n",
    "            wd = WeatherData(file_path)\n",
    "\n",
    "            fea_column = []\n",
    "            fea_index = []\n",
    "            fea_data = []\n",
    "            for node in ad.actual_data[:, 0:3]:\n",
    "#                     index, column = closest_point(node[1:3], wd.grid, [wd.latitude_end, wd.longitude_start])\n",
    "\n",
    "                _key = '%s_%s' % (node[0], feature_name)\n",
    "                if _key in id_ic:\n",
    "                    index, column = id_ic[_key]\n",
    "                else:\n",
    "                    print _key\n",
    "\n",
    "                    ii = node[0].astype(np.int)\n",
    "                    if ii not in del_index:\n",
    "                        del_index.append(ii)\n",
    "                    continue\n",
    "\n",
    "                point_data = wd.df[column][index]\n",
    "\n",
    "                feature_data.iloc[feature_data.index.get_loc(node[0].astype(np.int)), feature_data.columns.get_loc(feature_name)] = point_data\n",
    "\n",
    "        for inx in del_index:\n",
    "            if inx in feature_data.index:\n",
    "                feature_data.drop(inx, inplace=True)\n",
    "\n",
    "        f = os.path.join(clear_root, '%s.csv' % actual_file)\n",
    "        feature_data.to_csv(open(f, 'wb'), index=False)\n",
    "        print 'Over: %s' % f\n",
    "    except Exception as e:\n",
    "        print e\n",
    "        raise"
   ]
  },
  {
   "cell_type": "code",
   "execution_count": 54,
   "metadata": {},
   "outputs": [],
   "source": [
    "# pool = ThreadPoolExecutor(20)\n",
    "pool = ProcessPoolExecutor(16)"
   ]
  },
  {
   "cell_type": "code",
   "execution_count": null,
   "metadata": {
    "scrolled": true
   },
   "outputs": [],
   "source": [
    "actual_files = os.listdir(actual_root)\n",
    "actual_files.sort()\n",
    "\n",
    "i = 0\n",
    "futures = []\n",
    "for actual_file in actual_files:\n",
    "    f = os.path.join(clear_root, '%s.csv' % actual_file)\n",
    "    if os.path.exists(f):\n",
    "        print 'Pass: %s' % actual_file\n",
    "        continue\n",
    "    \n",
    "    futures.append(pool.submit(doo, actual_file))\n",
    "    \n",
    "#     doo(actual_file)\n",
    "#     i += 1\n",
    "#     if i > 10: break\n",
    "\n",
    "# as_completed(futures)\n",
    "# results = [r.done() for r in as_completed(futures)]\n",
    "wait(futures)\n",
    "pool.shutdown()\n",
    "del pool\n",
    "\n",
    "print 'Done.'\n",
    "\n"
   ]
  },
  {
   "cell_type": "code",
   "execution_count": null,
   "metadata": {},
   "outputs": [],
   "source": []
  }
 ],
 "metadata": {
  "kernelspec": {
   "display_name": "Python 2",
   "language": "python",
   "name": "python2"
  },
  "language_info": {
   "codemirror_mode": {
    "name": "ipython",
    "version": 2
   },
   "file_extension": ".py",
   "mimetype": "text/x-python",
   "name": "python",
   "nbconvert_exporter": "python",
   "pygments_lexer": "ipython2",
   "version": "2.7.12"
  },
  "varInspector": {
   "cols": {
    "lenName": 16,
    "lenType": 16,
    "lenVar": 40
   },
   "kernels_config": {
    "python": {
     "delete_cmd_postfix": "",
     "delete_cmd_prefix": "del ",
     "library": "var_list.py",
     "varRefreshCmd": "print(var_dic_list())"
    },
    "r": {
     "delete_cmd_postfix": ") ",
     "delete_cmd_prefix": "rm(",
     "library": "var_list.r",
     "varRefreshCmd": "cat(var_dic_list()) "
    }
   },
   "types_to_exclude": [
    "module",
    "function",
    "builtin_function_or_method",
    "instance",
    "_Feature"
   ],
   "window_display": false
  }
 },
 "nbformat": 4,
 "nbformat_minor": 2
}
