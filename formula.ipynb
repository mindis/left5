{
 "cells": [
  {
   "cell_type": "markdown",
   "metadata": {},
   "source": [
    "nn.Conv2d\n",
    "\\begin{equation}\n",
    "H_{out} = \\left\\lfloor\\frac{H_{in}  + 2 \\times \\text{padding}_{i}- \\text{dilation}_{i}\n",
    "                    \\times (\\text{kernel_size}_{i} - 1) - 1}{\\text{stride}_{i}} + 1\\right\\rfloor\n",
    "\\end{equation}"
   ]
  },
  {
   "cell_type": "markdown",
   "metadata": {},
   "source": [
    "nn.ConvTranspose2d\n",
    "\\begin{equation}\n",
    "H_{out} = (H_{in} - 1) \\times \\text{stride}_{i} - 2 \\times \\text{padding}_{i} + \\text{kernel_size}_{i} + \\text{output_padding}_{i}\n",
    "\\end{equation}"
   ]
  },
  {
   "cell_type": "code",
   "execution_count": 3,
   "metadata": {},
   "outputs": [
    {
     "data": {
      "text/latex": [
       "\\begin{array}\n",
       "{ll}H_{out} = (H_{in} - 1) \\times \\text{stride}[0] - 2 \\times \\text{padding}[0] + \\text{dilation}[0]\n",
       "                    \\times (\\text{kernel_size}[0] - 1) + \\text{output_padding}[0] + 1\n",
       "\\end{array}\n",
       "\\begin{array}\n",
       "{ll}W_{out} = (W_{in} - 1) \\times \\text{stride}[1] - 2 \\times \\text{padding}[1] + \\text{dilation}[1]\n",
       "                    \\times (\\text{kernel_size}[1] - 1) + \\text{output_padding}[1] + 1\n",
       "\\end{array}\n"
      ],
      "text/plain": [
       "<IPython.core.display.Latex object>"
      ]
     },
     "metadata": {},
     "output_type": "display_data"
    }
   ],
   "source": [
    "%%latex\n",
    "\\begin{array}\n",
    "{ll}H_{out} = (H_{in} - 1) \\times \\text{stride}[0] - 2 \\times \\text{padding}[0] + \\text{dilation}[0]\n",
    "                    \\times (\\text{kernel_size}[0] - 1) + \\text{output_padding}[0] + 1\n",
    "\\end{array}\n",
    "\\begin{array}\n",
    "{ll}W_{out} = (W_{in} - 1) \\times \\text{stride}[1] - 2 \\times \\text{padding}[1] + \\text{dilation}[1]\n",
    "                    \\times (\\text{kernel_size}[1] - 1) + \\text{output_padding}[1] + 1\n",
    "\\end{array}"
   ]
  },
  {
   "cell_type": "markdown",
   "metadata": {},
   "source": []
  },
  {
   "cell_type": "code",
   "execution_count": null,
   "metadata": {},
   "outputs": [],
   "source": []
  },
  {
   "cell_type": "markdown",
   "metadata": {},
   "source": [
    "GAN\n",
    "\\begin{equation}\n",
    "L_{D} = E[log(D(x))] + E[log(1-D(G(z)))]\n",
    "\\end{equation}\n",
    "\\begin{equation}\n",
    "L_{G} = E[log(D(G(z)))]\n",
    "\\end{equation}"
   ]
  },
  {
   "cell_type": "markdown",
   "metadata": {},
   "source": [
    "LSGAN\n",
    "\\begin{equation}\n",
    "L_{D} = E[((Dx) - )^{2}] + E[D(G(z))^{2}]\n",
    "\\end{equation}\n",
    "\\begin{equation}\n",
    "L_{G} = E[(D(G(z)) - 1)^2]\n",
    "\\end{equation}"
   ]
  },
  {
   "cell_type": "markdown",
   "metadata": {},
   "source": [
    "WGAN\n",
    "\\begin{equation}\n",
    "L_{D} = E[D(x)] - E[D(G(z))]\n",
    "\\end{equation}\n",
    "\\begin{equation}\n",
    "L_{G} = E[D(G(z))]\n",
    "\\end{equation}\n",
    "\\begin{equation}\n",
    "W_{D} \\text{ <- clip_by_value}(W_{D}, -0.01, 0.01)\n",
    "\\end{equation}"
   ]
  },
  {
   "cell_type": "markdown",
   "metadata": {},
   "source": [
    "WGAN_GP\n",
    "\\begin{equation}\n",
    "L^{\\text{WGAN_GP}}_{D} = L^{WGAN}_{D} + \\lambda E[(|\\Delta D(\\alpha x-(1-\\alpha G(z)))| - 1)^{2}]\n",
    "\\end{equation}\n",
    "\\begin{equation}\n",
    "L^{\\text{WGAN_GP}}_{G} = L^{WGAN}_{G}\n",
    "\\end{equation}"
   ]
  },
  {
   "cell_type": "markdown",
   "metadata": {},
   "source": [
    "DRAGAN\n",
    "\\begin{equation}\n",
    "L_{D} = L^{GAM}_{D} + \\lambda E[(|\\Delta D(\\alpha x - (1 - \\alpha G(z)))| - 1)^{2}]\n",
    "\\end{equation}\n",
    "\\begin{equation}\n",
    "L_{G} = L^{GAN}_{G}\n",
    "\\end{equation}"
   ]
  },
  {
   "cell_type": "markdown",
   "metadata": {},
   "source": [
    "CGAN (condtional gan ?)\n",
    "\\begin{equation}\n",
    "L_{D} = E[log(D(x, c))] + E[log(1 - D(G(z), c))]\n",
    "\\end{equation}\n",
    "\\begin{equation}\n",
    "L_{G} = E[log(D(G(z), c))]\n",
    "\\end{equation}"
   ]
  },
  {
   "cell_type": "markdown",
   "metadata": {},
   "source": [
    "infoGAN\n",
    "\\begin{equation}\n",
    "L_{D,Q} = L^{GAN}_{D} - \\lambda L_{1}(c, \\acute{c})\n",
    "\\end{equation}\n",
    "\\begin{equation}\n",
    "L_{G} = L_{G} - \\lambda L_{1}(c, \\acute{c})\n",
    "\\end{equation}"
   ]
  },
  {
   "cell_type": "markdown",
   "metadata": {},
   "source": [
    "ACGAN\n",
    "\\begin{equation}\n",
    "L_{D,Q} = L^{GAN}_{D} + E[P(class = c|x)] + E[P(class = c|G(z))]\n",
    "\\end{equation}\n",
    "\\begin{equation}\n",
    "L_{G} = L^{GAN}_{G} + E[P(class = c|G(z))]\n",
    "\\end{equation}"
   ]
  },
  {
   "cell_type": "markdown",
   "metadata": {},
   "source": [
    "EBGAN\n",
    "\\begin{equation}\n",
    "L_D = D_{AE}(x) + max(0, m - D_{AE}(G(z)))\n",
    "\\end{equation}\n",
    "\\begin{equation}\n",
    "L_G = D_{AE}(G(z)) + \\lambda \\cdot PT\n",
    "\\end{equation}"
   ]
  },
  {
   "cell_type": "markdown",
   "metadata": {},
   "source": [
    "BEGAM\n",
    "\\begin{equation}\n",
    "L_{D} = D_{AE}(x) - k_t d_{AE}(G(z))\n",
    "\\end{equation}\n",
    "\\begin{equation}\n",
    "L_G = D_{AE}(G(z))\n",
    "\\end{equation}\n",
    "\\begin{equation}\n",
    "k_{t + 1} = k_{t} + \\lambda (\\gamma D_{AE}(x) - D_{AE}(G(z)))\n",
    "\\end{equation}"
   ]
  },
  {
   "cell_type": "markdown",
   "metadata": {},
   "source": []
  },
  {
   "cell_type": "markdown",
   "metadata": {},
   "source": []
  }
 ],
 "metadata": {
  "kernelspec": {
   "display_name": "venv36",
   "language": "python",
   "name": "venv36"
  },
  "language_info": {
   "codemirror_mode": {
    "name": "ipython",
    "version": 3
   },
   "file_extension": ".py",
   "mimetype": "text/x-python",
   "name": "python",
   "nbconvert_exporter": "python",
   "pygments_lexer": "ipython3",
   "version": "3.6.8"
  }
 },
 "nbformat": 4,
 "nbformat_minor": 2
}
