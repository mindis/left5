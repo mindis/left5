{
 "cells": [
  {
   "cell_type": "markdown",
   "metadata": {},
   "source": [
    "nn.Conv2d\n",
    "\\begin{equation}\n",
    "H_{out} = \\left\\lfloor\\frac{H_{in}  + 2 \\times \\text{padding}_{i}- \\text{dilation}_{i}\n",
    "                    \\times (\\text{kernel_size}_{i} - 1) - 1}{\\text{stride}_{i}} + 1\\right\\rfloor\n",
    "\\end{equation}"
   ]
  },
  {
   "cell_type": "markdown",
   "metadata": {},
   "source": [
    "nn.ConvTranspose2d\n",
    "\\begin{equation}\n",
    "H_{out} = (H_{in} - 1) \\times \\text{stride}_{i} - 2 \\times \\text{padding}_{i} + \\text{kernel_size}_{i} + \\text{output_padding}_{i}\n",
    "\\end{equation}"
   ]
  },
  {
   "cell_type": "code",
   "execution_count": 6,
   "metadata": {},
   "outputs": [
    {
     "data": {
      "text/latex": [
       "\\begin{array}\n",
       "{ll}H_{out} = (H_{in} - 1) \\times \\text{stride}[0] - 2 \\times \\text{padding}[0] + \\text{dilation}[0]\n",
       "                    \\times (\\text{kernel_size}[0] - 1) + \\text{output_padding}[0] + 1\n",
       "\\end{array}\n",
       "\\begin{array}\n",
       "{ll}W_{out} = (W_{in} - 1) \\times \\text{stride}[1] - 2 \\times \\text{padding}[1] + \\text{dilation}[1]\n",
       "                    \\times (\\text{kernel_size}[1] - 1) + \\text{output_padding}[1] + 1\n",
       "\\end{array}\n"
      ],
      "text/plain": [
       "<IPython.core.display.Latex object>"
      ]
     },
     "metadata": {},
     "output_type": "display_data"
    }
   ],
   "source": [
    "%%latex\n",
    "\\begin{array}\n",
    "{ll}H_{out} = (H_{in} - 1) \\times \\text{stride}[0] - 2 \\times \\text{padding}[0] + \\text{dilation}[0]\n",
    "                    \\times (\\text{kernel_size}[0] - 1) + \\text{output_padding}[0] + 1\n",
    "\\end{array}\n",
    "\\begin{array}\n",
    "{ll}W_{out} = (W_{in} - 1) \\times \\text{stride}[1] - 2 \\times \\text{padding}[1] + \\text{dilation}[1]\n",
    "                    \\times (\\text{kernel_size}[1] - 1) + \\text{output_padding}[1] + 1\n",
    "\\end{array}"
   ]
  },
  {
   "cell_type": "markdown",
   "metadata": {},
   "source": []
  }
 ],
 "metadata": {
  "kernelspec": {
   "display_name": "venv36",
   "language": "python",
   "name": "venv36"
  },
  "language_info": {
   "codemirror_mode": {
    "name": "ipython",
    "version": 3
   },
   "file_extension": ".py",
   "mimetype": "text/x-python",
   "name": "python",
   "nbconvert_exporter": "python",
   "pygments_lexer": "ipython3",
   "version": "3.6.8"
  }
 },
 "nbformat": 4,
 "nbformat_minor": 2
}
